{
 "cells": [
  {
   "cell_type": "markdown",
   "metadata": {},
   "source": [
    "# Tokyo Olympics 2020 Tweets Using BerTopic Modeling "
   ]
  },
  {
   "cell_type": "code",
   "execution_count": 4,
   "metadata": {},
   "outputs": [],
   "source": [
    "#import packages\n",
    "\n",
    "import pandas as pd \n",
    "import numpy as np\n",
    "from bertopic import BERTopic"
   ]
  },
  {
   "cell_type": "code",
   "execution_count": 57,
   "metadata": {},
   "outputs": [
    {
     "name": "stderr",
     "output_type": "stream",
     "text": [
      "<ipython-input-57-74dae55b3537>:1: DtypeWarning:\n",
      "\n",
      "Columns (0,1,2,3,4,5,6,7,8,9,10,11,12,15) have mixed types. Specify dtype option on import or set low_memory=False.\n",
      "\n"
     ]
    }
   ],
   "source": [
    "df = pd.read_csv(\"C:/Users/USER/Downloads/Data Science/Tokyo Olympic Tweets/tokyo_2020_tweets.csv\")"
   ]
  },
  {
   "cell_type": "code",
   "execution_count": 60,
   "metadata": {},
   "outputs": [
    {
     "data": {
      "text/html": [
       "<div>\n",
       "<style scoped>\n",
       "    .dataframe tbody tr th:only-of-type {\n",
       "        vertical-align: middle;\n",
       "    }\n",
       "\n",
       "    .dataframe tbody tr th {\n",
       "        vertical-align: top;\n",
       "    }\n",
       "\n",
       "    .dataframe thead th {\n",
       "        text-align: right;\n",
       "    }\n",
       "</style>\n",
       "<table border=\"1\" class=\"dataframe\">\n",
       "  <thead>\n",
       "    <tr style=\"text-align: right;\">\n",
       "      <th></th>\n",
       "      <th>id</th>\n",
       "      <th>user_name</th>\n",
       "      <th>user_location</th>\n",
       "      <th>user_description</th>\n",
       "      <th>user_created</th>\n",
       "      <th>user_followers</th>\n",
       "      <th>user_friends</th>\n",
       "      <th>user_favourites</th>\n",
       "      <th>user_verified</th>\n",
       "      <th>date</th>\n",
       "      <th>text</th>\n",
       "      <th>hashtags</th>\n",
       "      <th>source</th>\n",
       "      <th>retweets</th>\n",
       "      <th>favorites</th>\n",
       "      <th>is_retweet</th>\n",
       "    </tr>\n",
       "  </thead>\n",
       "  <tbody>\n",
       "    <tr>\n",
       "      <th>0</th>\n",
       "      <td>1418888645105356803</td>\n",
       "      <td>Abhishek Srivastav</td>\n",
       "      <td>Udupi, India</td>\n",
       "      <td>Trying to be mediocre in many things</td>\n",
       "      <td>2021-02-01 06:33:51</td>\n",
       "      <td>45.0</td>\n",
       "      <td>39.0</td>\n",
       "      <td>293.0</td>\n",
       "      <td>False</td>\n",
       "      <td>2021-07-24 10:59:49</td>\n",
       "      <td>Let the party begin\\n#Tokyo2020</td>\n",
       "      <td>['Tokyo2020']</td>\n",
       "      <td>Twitter for Android</td>\n",
       "      <td>0.0</td>\n",
       "      <td>0.0</td>\n",
       "      <td>False</td>\n",
       "    </tr>\n",
       "    <tr>\n",
       "      <th>1</th>\n",
       "      <td>1418888377680678918</td>\n",
       "      <td>Saikhom Mirabai Channu🇮🇳</td>\n",
       "      <td>Manipur, India</td>\n",
       "      <td>Indian weightlifter 48 kg category. Champion🏆</td>\n",
       "      <td>2018-04-07 10:10:22</td>\n",
       "      <td>5235.0</td>\n",
       "      <td>5.0</td>\n",
       "      <td>2969.0</td>\n",
       "      <td>False</td>\n",
       "      <td>2021-07-24 10:58:45</td>\n",
       "      <td>Congratulations #Tokyo2020 https://t.co/8OFKMs...</td>\n",
       "      <td>['Tokyo2020']</td>\n",
       "      <td>Twitter for Android</td>\n",
       "      <td>0.0</td>\n",
       "      <td>0.0</td>\n",
       "      <td>False</td>\n",
       "    </tr>\n",
       "    <tr>\n",
       "      <th>2</th>\n",
       "      <td>1418888260886073345</td>\n",
       "      <td>Big Breaking</td>\n",
       "      <td>Global</td>\n",
       "      <td>All breaking news related to Financial Market....</td>\n",
       "      <td>2021-05-29 08:51:25</td>\n",
       "      <td>3646.0</td>\n",
       "      <td>3.0</td>\n",
       "      <td>5.0</td>\n",
       "      <td>False</td>\n",
       "      <td>2021-07-24 10:58:17</td>\n",
       "      <td>Big Breaking Now \\n\\nTokyo Olympic Update \\n\\n...</td>\n",
       "      <td>NaN</td>\n",
       "      <td>Twitter for Android</td>\n",
       "      <td>0.0</td>\n",
       "      <td>1.0</td>\n",
       "      <td>False</td>\n",
       "    </tr>\n",
       "    <tr>\n",
       "      <th>3</th>\n",
       "      <td>1418888172864299008</td>\n",
       "      <td>International Hockey Federation</td>\n",
       "      <td>Lausanne</td>\n",
       "      <td>Official International Hockey Federation Twitt...</td>\n",
       "      <td>2010-10-20 10:45:59</td>\n",
       "      <td>103975.0</td>\n",
       "      <td>2724.0</td>\n",
       "      <td>36554.0</td>\n",
       "      <td>True</td>\n",
       "      <td>2021-07-24 10:57:56</td>\n",
       "      <td>Q4: 🇬🇧3-1🇿🇦\\n\\nGreat Britain finally find a wa...</td>\n",
       "      <td>NaN</td>\n",
       "      <td>Twitter Web App</td>\n",
       "      <td>1.0</td>\n",
       "      <td>0.0</td>\n",
       "      <td>False</td>\n",
       "    </tr>\n",
       "    <tr>\n",
       "      <th>4</th>\n",
       "      <td>1418886894478270464</td>\n",
       "      <td>Cameron Hart</td>\n",
       "      <td>Australia</td>\n",
       "      <td>Football &amp; Tennis Coach</td>\n",
       "      <td>2020-10-31 08:46:17</td>\n",
       "      <td>6.0</td>\n",
       "      <td>37.0</td>\n",
       "      <td>31.0</td>\n",
       "      <td>False</td>\n",
       "      <td>2021-07-24 10:52:51</td>\n",
       "      <td>All I can think of every time I watch the ring...</td>\n",
       "      <td>['Tokyo2020', 'ArtisticGymnastics', '7Olympics...</td>\n",
       "      <td>Twitter for iPhone</td>\n",
       "      <td>0.0</td>\n",
       "      <td>0.0</td>\n",
       "      <td>False</td>\n",
       "    </tr>\n",
       "  </tbody>\n",
       "</table>\n",
       "</div>"
      ],
      "text/plain": [
       "                    id                        user_name   user_location  \\\n",
       "0  1418888645105356803               Abhishek Srivastav    Udupi, India   \n",
       "1  1418888377680678918         Saikhom Mirabai Channu🇮🇳  Manipur, India   \n",
       "2  1418888260886073345                     Big Breaking          Global   \n",
       "3  1418888172864299008  International Hockey Federation        Lausanne   \n",
       "4  1418886894478270464                     Cameron Hart       Australia   \n",
       "\n",
       "                                    user_description         user_created  \\\n",
       "0               Trying to be mediocre in many things  2021-02-01 06:33:51   \n",
       "1      Indian weightlifter 48 kg category. Champion🏆  2018-04-07 10:10:22   \n",
       "2  All breaking news related to Financial Market....  2021-05-29 08:51:25   \n",
       "3  Official International Hockey Federation Twitt...  2010-10-20 10:45:59   \n",
       "4                            Football & Tennis Coach  2020-10-31 08:46:17   \n",
       "\n",
       "  user_followers user_friends user_favourites user_verified  \\\n",
       "0           45.0         39.0           293.0         False   \n",
       "1         5235.0          5.0          2969.0         False   \n",
       "2         3646.0          3.0             5.0         False   \n",
       "3       103975.0       2724.0         36554.0          True   \n",
       "4            6.0         37.0            31.0         False   \n",
       "\n",
       "                  date                                               text  \\\n",
       "0  2021-07-24 10:59:49                    Let the party begin\\n#Tokyo2020   \n",
       "1  2021-07-24 10:58:45  Congratulations #Tokyo2020 https://t.co/8OFKMs...   \n",
       "2  2021-07-24 10:58:17  Big Breaking Now \\n\\nTokyo Olympic Update \\n\\n...   \n",
       "3  2021-07-24 10:57:56  Q4: 🇬🇧3-1🇿🇦\\n\\nGreat Britain finally find a wa...   \n",
       "4  2021-07-24 10:52:51  All I can think of every time I watch the ring...   \n",
       "\n",
       "                                            hashtags               source  \\\n",
       "0                                      ['Tokyo2020']  Twitter for Android   \n",
       "1                                      ['Tokyo2020']  Twitter for Android   \n",
       "2                                                NaN  Twitter for Android   \n",
       "3                                                NaN      Twitter Web App   \n",
       "4  ['Tokyo2020', 'ArtisticGymnastics', '7Olympics...   Twitter for iPhone   \n",
       "\n",
       "   retweets  favorites is_retweet  \n",
       "0       0.0        0.0      False  \n",
       "1       0.0        0.0      False  \n",
       "2       0.0        1.0      False  \n",
       "3       1.0        0.0      False  \n",
       "4       0.0        0.0      False  "
      ]
     },
     "execution_count": 60,
     "metadata": {},
     "output_type": "execute_result"
    }
   ],
   "source": [
    "df.head()"
   ]
  },
  {
   "cell_type": "code",
   "execution_count": 61,
   "metadata": {},
   "outputs": [
    {
     "data": {
      "text/html": [
       "<div>\n",
       "<style scoped>\n",
       "    .dataframe tbody tr th:only-of-type {\n",
       "        vertical-align: middle;\n",
       "    }\n",
       "\n",
       "    .dataframe tbody tr th {\n",
       "        vertical-align: top;\n",
       "    }\n",
       "\n",
       "    .dataframe thead th {\n",
       "        text-align: right;\n",
       "    }\n",
       "</style>\n",
       "<table border=\"1\" class=\"dataframe\">\n",
       "  <thead>\n",
       "    <tr style=\"text-align: right;\">\n",
       "      <th></th>\n",
       "      <th>id</th>\n",
       "      <th>user_name</th>\n",
       "      <th>user_location</th>\n",
       "      <th>user_description</th>\n",
       "      <th>user_created</th>\n",
       "      <th>user_followers</th>\n",
       "      <th>user_friends</th>\n",
       "      <th>user_favourites</th>\n",
       "      <th>user_verified</th>\n",
       "      <th>date</th>\n",
       "      <th>text</th>\n",
       "      <th>hashtags</th>\n",
       "      <th>source</th>\n",
       "      <th>retweets</th>\n",
       "      <th>favorites</th>\n",
       "      <th>is_retweet</th>\n",
       "    </tr>\n",
       "  </thead>\n",
       "  <tbody>\n",
       "    <tr>\n",
       "      <th>0</th>\n",
       "      <td>1418888645105356803</td>\n",
       "      <td>Abhishek Srivastav</td>\n",
       "      <td>Udupi, India</td>\n",
       "      <td>Trying to be mediocre in many things</td>\n",
       "      <td>2021-02-01 06:33:51</td>\n",
       "      <td>45.0</td>\n",
       "      <td>39.0</td>\n",
       "      <td>293.0</td>\n",
       "      <td>False</td>\n",
       "      <td>2021-07-24 10:59:49</td>\n",
       "      <td>Let the party begin\\n#Tokyo2020</td>\n",
       "      <td>['Tokyo2020']</td>\n",
       "      <td>Twitter for Android</td>\n",
       "      <td>0.0</td>\n",
       "      <td>0.0</td>\n",
       "      <td>False</td>\n",
       "    </tr>\n",
       "    <tr>\n",
       "      <th>1</th>\n",
       "      <td>1418888377680678918</td>\n",
       "      <td>Saikhom Mirabai Channu🇮🇳</td>\n",
       "      <td>Manipur, India</td>\n",
       "      <td>Indian weightlifter 48 kg category. Champion🏆</td>\n",
       "      <td>2018-04-07 10:10:22</td>\n",
       "      <td>5235.0</td>\n",
       "      <td>5.0</td>\n",
       "      <td>2969.0</td>\n",
       "      <td>False</td>\n",
       "      <td>2021-07-24 10:58:45</td>\n",
       "      <td>Congratulations #Tokyo2020 https://t.co/8OFKMs...</td>\n",
       "      <td>['Tokyo2020']</td>\n",
       "      <td>Twitter for Android</td>\n",
       "      <td>0.0</td>\n",
       "      <td>0.0</td>\n",
       "      <td>False</td>\n",
       "    </tr>\n",
       "    <tr>\n",
       "      <th>2</th>\n",
       "      <td>1418888260886073345</td>\n",
       "      <td>Big Breaking</td>\n",
       "      <td>Global</td>\n",
       "      <td>All breaking news related to Financial Market....</td>\n",
       "      <td>2021-05-29 08:51:25</td>\n",
       "      <td>3646.0</td>\n",
       "      <td>3.0</td>\n",
       "      <td>5.0</td>\n",
       "      <td>False</td>\n",
       "      <td>2021-07-24 10:58:17</td>\n",
       "      <td>Big Breaking Now \\n\\nTokyo Olympic Update \\n\\n...</td>\n",
       "      <td>NaN</td>\n",
       "      <td>Twitter for Android</td>\n",
       "      <td>0.0</td>\n",
       "      <td>1.0</td>\n",
       "      <td>False</td>\n",
       "    </tr>\n",
       "    <tr>\n",
       "      <th>3</th>\n",
       "      <td>1418888172864299008</td>\n",
       "      <td>International Hockey Federation</td>\n",
       "      <td>Lausanne</td>\n",
       "      <td>Official International Hockey Federation Twitt...</td>\n",
       "      <td>2010-10-20 10:45:59</td>\n",
       "      <td>103975.0</td>\n",
       "      <td>2724.0</td>\n",
       "      <td>36554.0</td>\n",
       "      <td>True</td>\n",
       "      <td>2021-07-24 10:57:56</td>\n",
       "      <td>Q4: 🇬🇧3-1🇿🇦\\n\\nGreat Britain finally find a wa...</td>\n",
       "      <td>NaN</td>\n",
       "      <td>Twitter Web App</td>\n",
       "      <td>1.0</td>\n",
       "      <td>0.0</td>\n",
       "      <td>False</td>\n",
       "    </tr>\n",
       "    <tr>\n",
       "      <th>4</th>\n",
       "      <td>1418886894478270464</td>\n",
       "      <td>Cameron Hart</td>\n",
       "      <td>Australia</td>\n",
       "      <td>Football &amp; Tennis Coach</td>\n",
       "      <td>2020-10-31 08:46:17</td>\n",
       "      <td>6.0</td>\n",
       "      <td>37.0</td>\n",
       "      <td>31.0</td>\n",
       "      <td>False</td>\n",
       "      <td>2021-07-24 10:52:51</td>\n",
       "      <td>All I can think of every time I watch the ring...</td>\n",
       "      <td>['Tokyo2020', 'ArtisticGymnastics', '7Olympics...</td>\n",
       "      <td>Twitter for iPhone</td>\n",
       "      <td>0.0</td>\n",
       "      <td>0.0</td>\n",
       "      <td>False</td>\n",
       "    </tr>\n",
       "    <tr>\n",
       "      <th>...</th>\n",
       "      <td>...</td>\n",
       "      <td>...</td>\n",
       "      <td>...</td>\n",
       "      <td>...</td>\n",
       "      <td>...</td>\n",
       "      <td>...</td>\n",
       "      <td>...</td>\n",
       "      <td>...</td>\n",
       "      <td>...</td>\n",
       "      <td>...</td>\n",
       "      <td>...</td>\n",
       "      <td>...</td>\n",
       "      <td>...</td>\n",
       "      <td>...</td>\n",
       "      <td>...</td>\n",
       "      <td>...</td>\n",
       "    </tr>\n",
       "    <tr>\n",
       "      <th>5995</th>\n",
       "      <td>1418869439651631110</td>\n",
       "      <td>Abfall Person</td>\n",
       "      <td>India</td>\n",
       "      <td>Add me on Snapchat - @abfallperson\\nSelling on...</td>\n",
       "      <td>2020-09-04 15:42:28</td>\n",
       "      <td>5.0</td>\n",
       "      <td>3.0</td>\n",
       "      <td>47.0</td>\n",
       "      <td>False</td>\n",
       "      <td>2021-07-24 09:43:30</td>\n",
       "      <td>https://t.co/R4FLGUP5i8\\nClick on the link abo...</td>\n",
       "      <td>['quotes', 'quoteoftheday', 'womenpower', 'Wea...</td>\n",
       "      <td>Twitter for Android</td>\n",
       "      <td>1.0</td>\n",
       "      <td>3.0</td>\n",
       "      <td>False</td>\n",
       "    </tr>\n",
       "    <tr>\n",
       "      <th>5996</th>\n",
       "      <td>1418869438099644422</td>\n",
       "      <td>Abul Kalam Azad 🇮🇳</td>\n",
       "      <td>English Bazar, India</td>\n",
       "      <td>Big fan of football team India.\\nlove sports, ...</td>\n",
       "      <td>2016-09-13 08:30:21</td>\n",
       "      <td>1317.0</td>\n",
       "      <td>1195.0</td>\n",
       "      <td>19872.0</td>\n",
       "      <td>False</td>\n",
       "      <td>2021-07-24 09:43:30</td>\n",
       "      <td>Congratulations to #MirabaiChanu \\n\\nWe are pr...</td>\n",
       "      <td>['MirabaiChanu', 'Tokyo2020']</td>\n",
       "      <td>Twitter for Android</td>\n",
       "      <td>0.0</td>\n",
       "      <td>0.0</td>\n",
       "      <td>False</td>\n",
       "    </tr>\n",
       "    <tr>\n",
       "      <th>5997</th>\n",
       "      <td>1418869436111458304</td>\n",
       "      <td>#Tokyo2020</td>\n",
       "      <td>Tokyo, Japan</td>\n",
       "      <td>The official account of The Tokyo Organising C...</td>\n",
       "      <td>2013-12-17 03:43:22</td>\n",
       "      <td>374495.0</td>\n",
       "      <td>436.0</td>\n",
       "      <td>2339.0</td>\n",
       "      <td>True</td>\n",
       "      <td>2021-07-24 09:43:29</td>\n",
       "      <td>With TONAKI Funa🇯🇵 and TAKATO Naohisa🇯🇵 advanc...</td>\n",
       "      <td>NaN</td>\n",
       "      <td>Twitter Web App</td>\n",
       "      <td>68.0</td>\n",
       "      <td>413.0</td>\n",
       "      <td>False</td>\n",
       "    </tr>\n",
       "    <tr>\n",
       "      <th>5998</th>\n",
       "      <td>1418869429643927552</td>\n",
       "      <td>Boss_here⚡</td>\n",
       "      <td>Mysore, India</td>\n",
       "      <td>Prk cult</td>\n",
       "      <td>2021-07-13 16:27:47</td>\n",
       "      <td>32.0</td>\n",
       "      <td>59.0</td>\n",
       "      <td>580.0</td>\n",
       "      <td>False</td>\n",
       "      <td>2021-07-24 09:43:28</td>\n",
       "      <td>@PuneethRajkumar @mirabai_chanu Boss\\n\\n#Dvitv...</td>\n",
       "      <td>['Dvitva', 'James', 'TokyoOlympics', 'Cheer4In...</td>\n",
       "      <td>Twitter for Android</td>\n",
       "      <td>0.0</td>\n",
       "      <td>0.0</td>\n",
       "      <td>False</td>\n",
       "    </tr>\n",
       "    <tr>\n",
       "      <th>5999</th>\n",
       "      <td>1418869425294413827</td>\n",
       "      <td>OLUWADEMILADE</td>\n",
       "      <td>annoying MUWFC fans</td>\n",
       "      <td>Random Nigerian who loves #CFCW and tweets a l...</td>\n",
       "      <td>2020-04-17 21:11:20</td>\n",
       "      <td>1348.0</td>\n",
       "      <td>1927.0</td>\n",
       "      <td>56387.0</td>\n",
       "      <td>False</td>\n",
       "      <td>2021-07-24 09:43:26</td>\n",
       "      <td>4 goals for Shuang Wang, might as have well st...</td>\n",
       "      <td>['Tokyo2020']</td>\n",
       "      <td>Twitter Web App</td>\n",
       "      <td>0.0</td>\n",
       "      <td>1.0</td>\n",
       "      <td>False</td>\n",
       "    </tr>\n",
       "  </tbody>\n",
       "</table>\n",
       "<p>6000 rows × 16 columns</p>\n",
       "</div>"
      ],
      "text/plain": [
       "                       id                        user_name  \\\n",
       "0     1418888645105356803               Abhishek Srivastav   \n",
       "1     1418888377680678918         Saikhom Mirabai Channu🇮🇳   \n",
       "2     1418888260886073345                     Big Breaking   \n",
       "3     1418888172864299008  International Hockey Federation   \n",
       "4     1418886894478270464                     Cameron Hart   \n",
       "...                   ...                              ...   \n",
       "5995  1418869439651631110                    Abfall Person   \n",
       "5996  1418869438099644422               Abul Kalam Azad 🇮🇳   \n",
       "5997  1418869436111458304                       #Tokyo2020   \n",
       "5998  1418869429643927552                       Boss_here⚡   \n",
       "5999  1418869425294413827                    OLUWADEMILADE   \n",
       "\n",
       "             user_location                                   user_description  \\\n",
       "0             Udupi, India               Trying to be mediocre in many things   \n",
       "1           Manipur, India      Indian weightlifter 48 kg category. Champion🏆   \n",
       "2                   Global  All breaking news related to Financial Market....   \n",
       "3                 Lausanne  Official International Hockey Federation Twitt...   \n",
       "4                Australia                            Football & Tennis Coach   \n",
       "...                    ...                                                ...   \n",
       "5995                 India  Add me on Snapchat - @abfallperson\\nSelling on...   \n",
       "5996  English Bazar, India  Big fan of football team India.\\nlove sports, ...   \n",
       "5997          Tokyo, Japan  The official account of The Tokyo Organising C...   \n",
       "5998         Mysore, India                                           Prk cult   \n",
       "5999   annoying MUWFC fans  Random Nigerian who loves #CFCW and tweets a l...   \n",
       "\n",
       "             user_created user_followers user_friends user_favourites  \\\n",
       "0     2021-02-01 06:33:51           45.0         39.0           293.0   \n",
       "1     2018-04-07 10:10:22         5235.0          5.0          2969.0   \n",
       "2     2021-05-29 08:51:25         3646.0          3.0             5.0   \n",
       "3     2010-10-20 10:45:59       103975.0       2724.0         36554.0   \n",
       "4     2020-10-31 08:46:17            6.0         37.0            31.0   \n",
       "...                   ...            ...          ...             ...   \n",
       "5995  2020-09-04 15:42:28            5.0          3.0            47.0   \n",
       "5996  2016-09-13 08:30:21         1317.0       1195.0         19872.0   \n",
       "5997  2013-12-17 03:43:22       374495.0        436.0          2339.0   \n",
       "5998  2021-07-13 16:27:47           32.0         59.0           580.0   \n",
       "5999  2020-04-17 21:11:20         1348.0       1927.0         56387.0   \n",
       "\n",
       "     user_verified                 date  \\\n",
       "0            False  2021-07-24 10:59:49   \n",
       "1            False  2021-07-24 10:58:45   \n",
       "2            False  2021-07-24 10:58:17   \n",
       "3             True  2021-07-24 10:57:56   \n",
       "4            False  2021-07-24 10:52:51   \n",
       "...            ...                  ...   \n",
       "5995         False  2021-07-24 09:43:30   \n",
       "5996         False  2021-07-24 09:43:30   \n",
       "5997          True  2021-07-24 09:43:29   \n",
       "5998         False  2021-07-24 09:43:28   \n",
       "5999         False  2021-07-24 09:43:26   \n",
       "\n",
       "                                                   text  \\\n",
       "0                       Let the party begin\\n#Tokyo2020   \n",
       "1     Congratulations #Tokyo2020 https://t.co/8OFKMs...   \n",
       "2     Big Breaking Now \\n\\nTokyo Olympic Update \\n\\n...   \n",
       "3     Q4: 🇬🇧3-1🇿🇦\\n\\nGreat Britain finally find a wa...   \n",
       "4     All I can think of every time I watch the ring...   \n",
       "...                                                 ...   \n",
       "5995  https://t.co/R4FLGUP5i8\\nClick on the link abo...   \n",
       "5996  Congratulations to #MirabaiChanu \\n\\nWe are pr...   \n",
       "5997  With TONAKI Funa🇯🇵 and TAKATO Naohisa🇯🇵 advanc...   \n",
       "5998  @PuneethRajkumar @mirabai_chanu Boss\\n\\n#Dvitv...   \n",
       "5999  4 goals for Shuang Wang, might as have well st...   \n",
       "\n",
       "                                               hashtags               source  \\\n",
       "0                                         ['Tokyo2020']  Twitter for Android   \n",
       "1                                         ['Tokyo2020']  Twitter for Android   \n",
       "2                                                   NaN  Twitter for Android   \n",
       "3                                                   NaN      Twitter Web App   \n",
       "4     ['Tokyo2020', 'ArtisticGymnastics', '7Olympics...   Twitter for iPhone   \n",
       "...                                                 ...                  ...   \n",
       "5995  ['quotes', 'quoteoftheday', 'womenpower', 'Wea...  Twitter for Android   \n",
       "5996                      ['MirabaiChanu', 'Tokyo2020']  Twitter for Android   \n",
       "5997                                                NaN      Twitter Web App   \n",
       "5998  ['Dvitva', 'James', 'TokyoOlympics', 'Cheer4In...  Twitter for Android   \n",
       "5999                                      ['Tokyo2020']      Twitter Web App   \n",
       "\n",
       "      retweets  favorites is_retweet  \n",
       "0          0.0        0.0      False  \n",
       "1          0.0        0.0      False  \n",
       "2          0.0        1.0      False  \n",
       "3          1.0        0.0      False  \n",
       "4          0.0        0.0      False  \n",
       "...        ...        ...        ...  \n",
       "5995       1.0        3.0      False  \n",
       "5996       0.0        0.0      False  \n",
       "5997      68.0      413.0      False  \n",
       "5998       0.0        0.0      False  \n",
       "5999       0.0        1.0      False  \n",
       "\n",
       "[6000 rows x 16 columns]"
      ]
     },
     "execution_count": 61,
     "metadata": {},
     "output_type": "execute_result"
    }
   ],
   "source": [
    "df_new = df[0:6000]\n",
    "df_new"
   ]
  },
  {
   "cell_type": "code",
   "execution_count": 62,
   "metadata": {},
   "outputs": [
    {
     "data": {
      "application/vnd.jupyter.widget-view+json": {
       "model_id": "85356b39ac3e4668a88c696f6fc3f497",
       "version_major": 2,
       "version_minor": 0
      },
      "text/plain": [
       "HBox(children=(HTML(value='Batches'), FloatProgress(value=0.0, max=188.0), HTML(value='')))"
      ]
     },
     "metadata": {},
     "output_type": "display_data"
    },
    {
     "name": "stderr",
     "output_type": "stream",
     "text": [
      "2022-06-21 18:57:58,532 - BERTopic - Transformed documents to Embeddings\n"
     ]
    },
    {
     "name": "stdout",
     "output_type": "stream",
     "text": [
      "\n"
     ]
    },
    {
     "name": "stderr",
     "output_type": "stream",
     "text": [
      "2022-06-21 18:58:14,748 - BERTopic - Reduced dimensionality\n",
      "2022-06-21 18:58:15,260 - BERTopic - Clustered reduced embeddings\n",
      "2022-06-21 18:58:20,160 - BERTopic - Reduced number of topics from 105 to 31\n"
     ]
    }
   ],
   "source": [
    "# create model \n",
    " \n",
    "model = BERTopic(nr_topics=30, verbose=True)\n",
    " \n",
    "#convert to list \n",
    "docs = df_new.text.to_list()\n",
    " \n",
    "topics, probabilities = model.fit_transform(docs)"
   ]
  },
  {
   "cell_type": "code",
   "execution_count": 66,
   "metadata": {},
   "outputs": [
    {
     "data": {
      "text/html": [
       "<div>\n",
       "<style scoped>\n",
       "    .dataframe tbody tr th:only-of-type {\n",
       "        vertical-align: middle;\n",
       "    }\n",
       "\n",
       "    .dataframe tbody tr th {\n",
       "        vertical-align: top;\n",
       "    }\n",
       "\n",
       "    .dataframe thead th {\n",
       "        text-align: right;\n",
       "    }\n",
       "</style>\n",
       "<table border=\"1\" class=\"dataframe\">\n",
       "  <thead>\n",
       "    <tr style=\"text-align: right;\">\n",
       "      <th></th>\n",
       "      <th>Topic</th>\n",
       "      <th>Count</th>\n",
       "    </tr>\n",
       "  </thead>\n",
       "  <tbody>\n",
       "    <tr>\n",
       "      <th>0</th>\n",
       "      <td>-1</td>\n",
       "      <td>2098</td>\n",
       "    </tr>\n",
       "    <tr>\n",
       "      <th>1</th>\n",
       "      <td>0</td>\n",
       "      <td>534</td>\n",
       "    </tr>\n",
       "    <tr>\n",
       "      <th>2</th>\n",
       "      <td>1</td>\n",
       "      <td>258</td>\n",
       "    </tr>\n",
       "    <tr>\n",
       "      <th>3</th>\n",
       "      <td>2</td>\n",
       "      <td>248</td>\n",
       "    </tr>\n",
       "    <tr>\n",
       "      <th>4</th>\n",
       "      <td>3</td>\n",
       "      <td>227</td>\n",
       "    </tr>\n",
       "  </tbody>\n",
       "</table>\n",
       "</div>"
      ],
      "text/plain": [
       "   Topic  Count\n",
       "0     -1   2098\n",
       "1      0    534\n",
       "2      1    258\n",
       "3      2    248\n",
       "4      3    227"
      ]
     },
     "execution_count": 66,
     "metadata": {},
     "output_type": "execute_result"
    }
   ],
   "source": [
    "model.get_topic_freq().head()"
   ]
  },
  {
   "cell_type": "code",
   "execution_count": 67,
   "metadata": {},
   "outputs": [
    {
     "data": {
      "text/plain": [
       "[('vikas', 0.1120329092184678),\n",
       " ('boxing', 0.10923608762399553),\n",
       " ('krishan', 0.07239200345365533),\n",
       " ('round', 0.05339586006365394),\n",
       " ('okazawa', 0.048173283886876334),\n",
       " ('loses', 0.03964927495633499),\n",
       " ('boxer', 0.036455853963413845),\n",
       " ('krishnan', 0.033562069928356475),\n",
       " ('he', 0.031443408886716095),\n",
       " ('his', 0.030723693438677372)]"
      ]
     },
     "execution_count": 67,
     "metadata": {},
     "output_type": "execute_result"
    }
   ],
   "source": [
    "model.get_topic(3)"
   ]
  },
  {
   "cell_type": "code",
   "execution_count": 68,
   "metadata": {},
   "outputs": [
    {
     "data": {
      "application/vnd.plotly.v1+json": {
       "config": {
        "plotlyServerURL": "https://plot.ly"
       },
       "data": [
        {
         "customdata": [
          [
           1,
           "puneethrajkumar | hearty | lifting | 49kg | mirabaichanu",
           258
          ],
          [
           2,
           "olympics | tokyo2020 | ceremony | the | olympicgames",
           248
          ],
          [
           3,
           "vikas | boxing | krishan | round | okazawa",
           227
          ],
          [
           4,
           "tokyo2020 | to | you | this | im",
           222
          ],
          [
           5,
           "medal | chanu | mirabai | wins | weightlifter",
           219
          ],
          [
           6,
           "swevaus | matildas | kerr | penalty | sam",
           201
          ],
          [
           7,
           "banda | zambia | barbra | china | 44",
           168
          ],
          [
           8,
           "smith | clareburt | 400m | brendon | swimming",
           154
          ],
          [
           9,
           "weightlifting | silver | winning | congratulations | mirabaichanu",
           147
          ],
          [
           10,
           "badminton | doubles | peng | ying | chan",
           120
          ],
          [
           11,
           "swimming | tokyo2020 | is | the | and",
           109
          ],
          [
           12,
           "road | race | carapaz | richard | cyclingroad",
           98
          ],
          [
           13,
           "saikhom | mirabai | chanu | elated | asked",
           90
          ],
          [
           14,
           "sweden | rolfo | australia | swevaus | goal",
           85
          ],
          [
           15,
           "ongoing | indias | many | medal | congratulations",
           82
          ],
          [
           16,
           "weightlifting | mirabaichanu | winning | silver | congratulations",
           79
          ],
          [
           17,
           "football | japan | netherlands | team | women",
           76
          ],
          [
           18,
           "gold | kosovo | distria | krasniqi | judo",
           75
          ],
          [
           19,
           "live | q2 | 11 | updates | ger",
           75
          ],
          [
           20,
           "judo | takato | gold | japans | naohisa",
           74
          ],
          [
           21,
           "hockey | south | africa | spain | rsa",
           73
          ],
          [
           22,
           "silver | winning | congratulated | mirabaichanu | spoke",
           70
          ],
          [
           23,
           "sutirtha | mukherjee | tabletennis | manika | batra",
           64
          ],
          [
           24,
           "100m | butterfly | heat | walshe | ellen",
           63
          ],
          [
           25,
           "tennis | singles | nagalsumit | nagal | sumit",
           62
          ],
          [
           26,
           "teamgb | japan | football | gb | team",
           61
          ],
          [
           27,
           "mediasai | railminindia | imrahultrehan | virenrasquinha | iosindiaoff",
           58
          ],
          [
           28,
           "rule | remedy | butterfly | 100m | heat",
           56
          ],
          [
           29,
           "yulo | rings | caloy | carlos | 14000",
           54
          ]
         ],
         "hovertemplate": "<b>Topic %{customdata[0]}</b><br>Words: %{customdata[1]}<br>Size: %{customdata[2]}",
         "legendgroup": "",
         "marker": {
          "color": "#B0BEC5",
          "line": {
           "color": "DarkSlateGrey",
           "width": 2
          },
          "size": [
           258,
           248,
           227,
           222,
           219,
           201,
           168,
           154,
           147,
           120,
           109,
           98,
           90,
           85,
           82,
           79,
           76,
           75,
           75,
           74,
           73,
           70,
           64,
           63,
           62,
           61,
           58,
           56,
           54
          ],
          "sizemode": "area",
          "sizeref": 0.16125,
          "symbol": "circle"
         },
         "mode": "markers",
         "name": "",
         "orientation": "v",
         "showlegend": false,
         "type": "scatter",
         "x": [
          15.197347640991211,
          -3.4331674575805664,
          -4.732769966125488,
          -3.569054126739502,
          14.9030179977417,
          -5.13947868347168,
          -4.917210578918457,
          -3.0728836059570312,
          14.767848014831543,
          -5.334594249725342,
          -3.204984664916992,
          -2.909397602081299,
          13.80413818359375,
          -5.085577487945557,
          13.987595558166504,
          14.954851150512695,
          -4.533043384552002,
          0.8689743876457214,
          -5.179394721984863,
          0.8514715433120728,
          -5.030686855316162,
          15.69420051574707,
          9.008257865905762,
          11.731794357299805,
          9.007695198059082,
          -4.458379745483398,
          15.822957038879395,
          11.488645553588867,
          11.390451431274414
         ],
         "xaxis": "x",
         "y": [
          -8.257346153259277,
          7.059952259063721,
          7.722854137420654,
          6.791921615600586,
          -7.962189197540283,
          -10.1937837600708,
          -10.374655723571777,
          6.8066935539245605,
          -8.451445579528809,
          8.427643775939941,
          6.661086559295654,
          7.104366302490234,
          -7.834364891052246,
          -10.252717018127441,
          -7.9637532234191895,
          -8.277767181396484,
          8.086773872375488,
          -6.881152153015137,
          8.72220230102539,
          -6.8819899559021,
          8.514697074890137,
          -7.67407751083374,
          16.699398040771484,
          4.505494117736816,
          16.697608947753906,
          8.265727996826172,
          -7.571526527404785,
          4.2620439529418945,
          4.163863182067871
         ],
         "yaxis": "y"
        }
       ],
       "layout": {
        "annotations": [
         {
          "showarrow": false,
          "text": "D1",
          "x": -6.134783387184143,
          "y": 3.636726832389831,
          "yshift": 10
         },
         {
          "showarrow": false,
          "text": "D2",
          "x": 6.03080860376358,
          "xshift": 10,
          "y": 19.204307746887206
         }
        ],
        "height": 650,
        "hoverlabel": {
         "bgcolor": "white",
         "font": {
          "family": "Rockwell",
          "size": 16
         }
        },
        "legend": {
         "itemsizing": "constant",
         "tracegroupgap": 0
        },
        "margin": {
         "t": 60
        },
        "shapes": [
         {
          "line": {
           "color": "#CFD8DC",
           "width": 2
          },
          "type": "line",
          "x0": 6.03080860376358,
          "x1": 6.03080860376358,
          "y0": -11.930854082107544,
          "y1": 19.204307746887206
         },
         {
          "line": {
           "color": "#9E9E9E",
           "width": 2
          },
          "type": "line",
          "x0": -6.134783387184143,
          "x1": 18.196400594711303,
          "y0": 3.636726832389831,
          "y1": 3.636726832389831
         }
        ],
        "sliders": [
         {
          "active": 0,
          "pad": {
           "t": 50
          },
          "steps": [
           {
            "args": [
             {
              "marker.color": [
               [
                "red",
                "#B0BEC5",
                "#B0BEC5",
                "#B0BEC5",
                "#B0BEC5",
                "#B0BEC5",
                "#B0BEC5",
                "#B0BEC5",
                "#B0BEC5",
                "#B0BEC5",
                "#B0BEC5",
                "#B0BEC5",
                "#B0BEC5",
                "#B0BEC5",
                "#B0BEC5",
                "#B0BEC5",
                "#B0BEC5",
                "#B0BEC5",
                "#B0BEC5",
                "#B0BEC5",
                "#B0BEC5",
                "#B0BEC5",
                "#B0BEC5",
                "#B0BEC5",
                "#B0BEC5",
                "#B0BEC5",
                "#B0BEC5",
                "#B0BEC5",
                "#B0BEC5"
               ]
              ]
             }
            ],
            "label": "Topic 1",
            "method": "update"
           },
           {
            "args": [
             {
              "marker.color": [
               [
                "#B0BEC5",
                "red",
                "#B0BEC5",
                "#B0BEC5",
                "#B0BEC5",
                "#B0BEC5",
                "#B0BEC5",
                "#B0BEC5",
                "#B0BEC5",
                "#B0BEC5",
                "#B0BEC5",
                "#B0BEC5",
                "#B0BEC5",
                "#B0BEC5",
                "#B0BEC5",
                "#B0BEC5",
                "#B0BEC5",
                "#B0BEC5",
                "#B0BEC5",
                "#B0BEC5",
                "#B0BEC5",
                "#B0BEC5",
                "#B0BEC5",
                "#B0BEC5",
                "#B0BEC5",
                "#B0BEC5",
                "#B0BEC5",
                "#B0BEC5",
                "#B0BEC5"
               ]
              ]
             }
            ],
            "label": "Topic 2",
            "method": "update"
           },
           {
            "args": [
             {
              "marker.color": [
               [
                "#B0BEC5",
                "#B0BEC5",
                "red",
                "#B0BEC5",
                "#B0BEC5",
                "#B0BEC5",
                "#B0BEC5",
                "#B0BEC5",
                "#B0BEC5",
                "#B0BEC5",
                "#B0BEC5",
                "#B0BEC5",
                "#B0BEC5",
                "#B0BEC5",
                "#B0BEC5",
                "#B0BEC5",
                "#B0BEC5",
                "#B0BEC5",
                "#B0BEC5",
                "#B0BEC5",
                "#B0BEC5",
                "#B0BEC5",
                "#B0BEC5",
                "#B0BEC5",
                "#B0BEC5",
                "#B0BEC5",
                "#B0BEC5",
                "#B0BEC5",
                "#B0BEC5"
               ]
              ]
             }
            ],
            "label": "Topic 3",
            "method": "update"
           },
           {
            "args": [
             {
              "marker.color": [
               [
                "#B0BEC5",
                "#B0BEC5",
                "#B0BEC5",
                "red",
                "#B0BEC5",
                "#B0BEC5",
                "#B0BEC5",
                "#B0BEC5",
                "#B0BEC5",
                "#B0BEC5",
                "#B0BEC5",
                "#B0BEC5",
                "#B0BEC5",
                "#B0BEC5",
                "#B0BEC5",
                "#B0BEC5",
                "#B0BEC5",
                "#B0BEC5",
                "#B0BEC5",
                "#B0BEC5",
                "#B0BEC5",
                "#B0BEC5",
                "#B0BEC5",
                "#B0BEC5",
                "#B0BEC5",
                "#B0BEC5",
                "#B0BEC5",
                "#B0BEC5",
                "#B0BEC5"
               ]
              ]
             }
            ],
            "label": "Topic 4",
            "method": "update"
           },
           {
            "args": [
             {
              "marker.color": [
               [
                "#B0BEC5",
                "#B0BEC5",
                "#B0BEC5",
                "#B0BEC5",
                "red",
                "#B0BEC5",
                "#B0BEC5",
                "#B0BEC5",
                "#B0BEC5",
                "#B0BEC5",
                "#B0BEC5",
                "#B0BEC5",
                "#B0BEC5",
                "#B0BEC5",
                "#B0BEC5",
                "#B0BEC5",
                "#B0BEC5",
                "#B0BEC5",
                "#B0BEC5",
                "#B0BEC5",
                "#B0BEC5",
                "#B0BEC5",
                "#B0BEC5",
                "#B0BEC5",
                "#B0BEC5",
                "#B0BEC5",
                "#B0BEC5",
                "#B0BEC5",
                "#B0BEC5"
               ]
              ]
             }
            ],
            "label": "Topic 5",
            "method": "update"
           },
           {
            "args": [
             {
              "marker.color": [
               [
                "#B0BEC5",
                "#B0BEC5",
                "#B0BEC5",
                "#B0BEC5",
                "#B0BEC5",
                "red",
                "#B0BEC5",
                "#B0BEC5",
                "#B0BEC5",
                "#B0BEC5",
                "#B0BEC5",
                "#B0BEC5",
                "#B0BEC5",
                "#B0BEC5",
                "#B0BEC5",
                "#B0BEC5",
                "#B0BEC5",
                "#B0BEC5",
                "#B0BEC5",
                "#B0BEC5",
                "#B0BEC5",
                "#B0BEC5",
                "#B0BEC5",
                "#B0BEC5",
                "#B0BEC5",
                "#B0BEC5",
                "#B0BEC5",
                "#B0BEC5",
                "#B0BEC5"
               ]
              ]
             }
            ],
            "label": "Topic 6",
            "method": "update"
           },
           {
            "args": [
             {
              "marker.color": [
               [
                "#B0BEC5",
                "#B0BEC5",
                "#B0BEC5",
                "#B0BEC5",
                "#B0BEC5",
                "#B0BEC5",
                "red",
                "#B0BEC5",
                "#B0BEC5",
                "#B0BEC5",
                "#B0BEC5",
                "#B0BEC5",
                "#B0BEC5",
                "#B0BEC5",
                "#B0BEC5",
                "#B0BEC5",
                "#B0BEC5",
                "#B0BEC5",
                "#B0BEC5",
                "#B0BEC5",
                "#B0BEC5",
                "#B0BEC5",
                "#B0BEC5",
                "#B0BEC5",
                "#B0BEC5",
                "#B0BEC5",
                "#B0BEC5",
                "#B0BEC5",
                "#B0BEC5"
               ]
              ]
             }
            ],
            "label": "Topic 7",
            "method": "update"
           },
           {
            "args": [
             {
              "marker.color": [
               [
                "#B0BEC5",
                "#B0BEC5",
                "#B0BEC5",
                "#B0BEC5",
                "#B0BEC5",
                "#B0BEC5",
                "#B0BEC5",
                "red",
                "#B0BEC5",
                "#B0BEC5",
                "#B0BEC5",
                "#B0BEC5",
                "#B0BEC5",
                "#B0BEC5",
                "#B0BEC5",
                "#B0BEC5",
                "#B0BEC5",
                "#B0BEC5",
                "#B0BEC5",
                "#B0BEC5",
                "#B0BEC5",
                "#B0BEC5",
                "#B0BEC5",
                "#B0BEC5",
                "#B0BEC5",
                "#B0BEC5",
                "#B0BEC5",
                "#B0BEC5",
                "#B0BEC5"
               ]
              ]
             }
            ],
            "label": "Topic 8",
            "method": "update"
           },
           {
            "args": [
             {
              "marker.color": [
               [
                "#B0BEC5",
                "#B0BEC5",
                "#B0BEC5",
                "#B0BEC5",
                "#B0BEC5",
                "#B0BEC5",
                "#B0BEC5",
                "#B0BEC5",
                "red",
                "#B0BEC5",
                "#B0BEC5",
                "#B0BEC5",
                "#B0BEC5",
                "#B0BEC5",
                "#B0BEC5",
                "#B0BEC5",
                "#B0BEC5",
                "#B0BEC5",
                "#B0BEC5",
                "#B0BEC5",
                "#B0BEC5",
                "#B0BEC5",
                "#B0BEC5",
                "#B0BEC5",
                "#B0BEC5",
                "#B0BEC5",
                "#B0BEC5",
                "#B0BEC5",
                "#B0BEC5"
               ]
              ]
             }
            ],
            "label": "Topic 9",
            "method": "update"
           },
           {
            "args": [
             {
              "marker.color": [
               [
                "#B0BEC5",
                "#B0BEC5",
                "#B0BEC5",
                "#B0BEC5",
                "#B0BEC5",
                "#B0BEC5",
                "#B0BEC5",
                "#B0BEC5",
                "#B0BEC5",
                "red",
                "#B0BEC5",
                "#B0BEC5",
                "#B0BEC5",
                "#B0BEC5",
                "#B0BEC5",
                "#B0BEC5",
                "#B0BEC5",
                "#B0BEC5",
                "#B0BEC5",
                "#B0BEC5",
                "#B0BEC5",
                "#B0BEC5",
                "#B0BEC5",
                "#B0BEC5",
                "#B0BEC5",
                "#B0BEC5",
                "#B0BEC5",
                "#B0BEC5",
                "#B0BEC5"
               ]
              ]
             }
            ],
            "label": "Topic 10",
            "method": "update"
           },
           {
            "args": [
             {
              "marker.color": [
               [
                "#B0BEC5",
                "#B0BEC5",
                "#B0BEC5",
                "#B0BEC5",
                "#B0BEC5",
                "#B0BEC5",
                "#B0BEC5",
                "#B0BEC5",
                "#B0BEC5",
                "#B0BEC5",
                "red",
                "#B0BEC5",
                "#B0BEC5",
                "#B0BEC5",
                "#B0BEC5",
                "#B0BEC5",
                "#B0BEC5",
                "#B0BEC5",
                "#B0BEC5",
                "#B0BEC5",
                "#B0BEC5",
                "#B0BEC5",
                "#B0BEC5",
                "#B0BEC5",
                "#B0BEC5",
                "#B0BEC5",
                "#B0BEC5",
                "#B0BEC5",
                "#B0BEC5"
               ]
              ]
             }
            ],
            "label": "Topic 11",
            "method": "update"
           },
           {
            "args": [
             {
              "marker.color": [
               [
                "#B0BEC5",
                "#B0BEC5",
                "#B0BEC5",
                "#B0BEC5",
                "#B0BEC5",
                "#B0BEC5",
                "#B0BEC5",
                "#B0BEC5",
                "#B0BEC5",
                "#B0BEC5",
                "#B0BEC5",
                "red",
                "#B0BEC5",
                "#B0BEC5",
                "#B0BEC5",
                "#B0BEC5",
                "#B0BEC5",
                "#B0BEC5",
                "#B0BEC5",
                "#B0BEC5",
                "#B0BEC5",
                "#B0BEC5",
                "#B0BEC5",
                "#B0BEC5",
                "#B0BEC5",
                "#B0BEC5",
                "#B0BEC5",
                "#B0BEC5",
                "#B0BEC5"
               ]
              ]
             }
            ],
            "label": "Topic 12",
            "method": "update"
           },
           {
            "args": [
             {
              "marker.color": [
               [
                "#B0BEC5",
                "#B0BEC5",
                "#B0BEC5",
                "#B0BEC5",
                "#B0BEC5",
                "#B0BEC5",
                "#B0BEC5",
                "#B0BEC5",
                "#B0BEC5",
                "#B0BEC5",
                "#B0BEC5",
                "#B0BEC5",
                "red",
                "#B0BEC5",
                "#B0BEC5",
                "#B0BEC5",
                "#B0BEC5",
                "#B0BEC5",
                "#B0BEC5",
                "#B0BEC5",
                "#B0BEC5",
                "#B0BEC5",
                "#B0BEC5",
                "#B0BEC5",
                "#B0BEC5",
                "#B0BEC5",
                "#B0BEC5",
                "#B0BEC5",
                "#B0BEC5"
               ]
              ]
             }
            ],
            "label": "Topic 13",
            "method": "update"
           },
           {
            "args": [
             {
              "marker.color": [
               [
                "#B0BEC5",
                "#B0BEC5",
                "#B0BEC5",
                "#B0BEC5",
                "#B0BEC5",
                "#B0BEC5",
                "#B0BEC5",
                "#B0BEC5",
                "#B0BEC5",
                "#B0BEC5",
                "#B0BEC5",
                "#B0BEC5",
                "#B0BEC5",
                "red",
                "#B0BEC5",
                "#B0BEC5",
                "#B0BEC5",
                "#B0BEC5",
                "#B0BEC5",
                "#B0BEC5",
                "#B0BEC5",
                "#B0BEC5",
                "#B0BEC5",
                "#B0BEC5",
                "#B0BEC5",
                "#B0BEC5",
                "#B0BEC5",
                "#B0BEC5",
                "#B0BEC5"
               ]
              ]
             }
            ],
            "label": "Topic 14",
            "method": "update"
           },
           {
            "args": [
             {
              "marker.color": [
               [
                "#B0BEC5",
                "#B0BEC5",
                "#B0BEC5",
                "#B0BEC5",
                "#B0BEC5",
                "#B0BEC5",
                "#B0BEC5",
                "#B0BEC5",
                "#B0BEC5",
                "#B0BEC5",
                "#B0BEC5",
                "#B0BEC5",
                "#B0BEC5",
                "#B0BEC5",
                "red",
                "#B0BEC5",
                "#B0BEC5",
                "#B0BEC5",
                "#B0BEC5",
                "#B0BEC5",
                "#B0BEC5",
                "#B0BEC5",
                "#B0BEC5",
                "#B0BEC5",
                "#B0BEC5",
                "#B0BEC5",
                "#B0BEC5",
                "#B0BEC5",
                "#B0BEC5"
               ]
              ]
             }
            ],
            "label": "Topic 15",
            "method": "update"
           },
           {
            "args": [
             {
              "marker.color": [
               [
                "#B0BEC5",
                "#B0BEC5",
                "#B0BEC5",
                "#B0BEC5",
                "#B0BEC5",
                "#B0BEC5",
                "#B0BEC5",
                "#B0BEC5",
                "#B0BEC5",
                "#B0BEC5",
                "#B0BEC5",
                "#B0BEC5",
                "#B0BEC5",
                "#B0BEC5",
                "#B0BEC5",
                "red",
                "#B0BEC5",
                "#B0BEC5",
                "#B0BEC5",
                "#B0BEC5",
                "#B0BEC5",
                "#B0BEC5",
                "#B0BEC5",
                "#B0BEC5",
                "#B0BEC5",
                "#B0BEC5",
                "#B0BEC5",
                "#B0BEC5",
                "#B0BEC5"
               ]
              ]
             }
            ],
            "label": "Topic 16",
            "method": "update"
           },
           {
            "args": [
             {
              "marker.color": [
               [
                "#B0BEC5",
                "#B0BEC5",
                "#B0BEC5",
                "#B0BEC5",
                "#B0BEC5",
                "#B0BEC5",
                "#B0BEC5",
                "#B0BEC5",
                "#B0BEC5",
                "#B0BEC5",
                "#B0BEC5",
                "#B0BEC5",
                "#B0BEC5",
                "#B0BEC5",
                "#B0BEC5",
                "#B0BEC5",
                "red",
                "#B0BEC5",
                "#B0BEC5",
                "#B0BEC5",
                "#B0BEC5",
                "#B0BEC5",
                "#B0BEC5",
                "#B0BEC5",
                "#B0BEC5",
                "#B0BEC5",
                "#B0BEC5",
                "#B0BEC5",
                "#B0BEC5"
               ]
              ]
             }
            ],
            "label": "Topic 17",
            "method": "update"
           },
           {
            "args": [
             {
              "marker.color": [
               [
                "#B0BEC5",
                "#B0BEC5",
                "#B0BEC5",
                "#B0BEC5",
                "#B0BEC5",
                "#B0BEC5",
                "#B0BEC5",
                "#B0BEC5",
                "#B0BEC5",
                "#B0BEC5",
                "#B0BEC5",
                "#B0BEC5",
                "#B0BEC5",
                "#B0BEC5",
                "#B0BEC5",
                "#B0BEC5",
                "#B0BEC5",
                "red",
                "#B0BEC5",
                "#B0BEC5",
                "#B0BEC5",
                "#B0BEC5",
                "#B0BEC5",
                "#B0BEC5",
                "#B0BEC5",
                "#B0BEC5",
                "#B0BEC5",
                "#B0BEC5",
                "#B0BEC5"
               ]
              ]
             }
            ],
            "label": "Topic 18",
            "method": "update"
           },
           {
            "args": [
             {
              "marker.color": [
               [
                "#B0BEC5",
                "#B0BEC5",
                "#B0BEC5",
                "#B0BEC5",
                "#B0BEC5",
                "#B0BEC5",
                "#B0BEC5",
                "#B0BEC5",
                "#B0BEC5",
                "#B0BEC5",
                "#B0BEC5",
                "#B0BEC5",
                "#B0BEC5",
                "#B0BEC5",
                "#B0BEC5",
                "#B0BEC5",
                "#B0BEC5",
                "#B0BEC5",
                "red",
                "#B0BEC5",
                "#B0BEC5",
                "#B0BEC5",
                "#B0BEC5",
                "#B0BEC5",
                "#B0BEC5",
                "#B0BEC5",
                "#B0BEC5",
                "#B0BEC5",
                "#B0BEC5"
               ]
              ]
             }
            ],
            "label": "Topic 19",
            "method": "update"
           },
           {
            "args": [
             {
              "marker.color": [
               [
                "#B0BEC5",
                "#B0BEC5",
                "#B0BEC5",
                "#B0BEC5",
                "#B0BEC5",
                "#B0BEC5",
                "#B0BEC5",
                "#B0BEC5",
                "#B0BEC5",
                "#B0BEC5",
                "#B0BEC5",
                "#B0BEC5",
                "#B0BEC5",
                "#B0BEC5",
                "#B0BEC5",
                "#B0BEC5",
                "#B0BEC5",
                "#B0BEC5",
                "#B0BEC5",
                "red",
                "#B0BEC5",
                "#B0BEC5",
                "#B0BEC5",
                "#B0BEC5",
                "#B0BEC5",
                "#B0BEC5",
                "#B0BEC5",
                "#B0BEC5",
                "#B0BEC5"
               ]
              ]
             }
            ],
            "label": "Topic 20",
            "method": "update"
           },
           {
            "args": [
             {
              "marker.color": [
               [
                "#B0BEC5",
                "#B0BEC5",
                "#B0BEC5",
                "#B0BEC5",
                "#B0BEC5",
                "#B0BEC5",
                "#B0BEC5",
                "#B0BEC5",
                "#B0BEC5",
                "#B0BEC5",
                "#B0BEC5",
                "#B0BEC5",
                "#B0BEC5",
                "#B0BEC5",
                "#B0BEC5",
                "#B0BEC5",
                "#B0BEC5",
                "#B0BEC5",
                "#B0BEC5",
                "#B0BEC5",
                "red",
                "#B0BEC5",
                "#B0BEC5",
                "#B0BEC5",
                "#B0BEC5",
                "#B0BEC5",
                "#B0BEC5",
                "#B0BEC5",
                "#B0BEC5"
               ]
              ]
             }
            ],
            "label": "Topic 21",
            "method": "update"
           },
           {
            "args": [
             {
              "marker.color": [
               [
                "#B0BEC5",
                "#B0BEC5",
                "#B0BEC5",
                "#B0BEC5",
                "#B0BEC5",
                "#B0BEC5",
                "#B0BEC5",
                "#B0BEC5",
                "#B0BEC5",
                "#B0BEC5",
                "#B0BEC5",
                "#B0BEC5",
                "#B0BEC5",
                "#B0BEC5",
                "#B0BEC5",
                "#B0BEC5",
                "#B0BEC5",
                "#B0BEC5",
                "#B0BEC5",
                "#B0BEC5",
                "#B0BEC5",
                "red",
                "#B0BEC5",
                "#B0BEC5",
                "#B0BEC5",
                "#B0BEC5",
                "#B0BEC5",
                "#B0BEC5",
                "#B0BEC5"
               ]
              ]
             }
            ],
            "label": "Topic 22",
            "method": "update"
           },
           {
            "args": [
             {
              "marker.color": [
               [
                "#B0BEC5",
                "#B0BEC5",
                "#B0BEC5",
                "#B0BEC5",
                "#B0BEC5",
                "#B0BEC5",
                "#B0BEC5",
                "#B0BEC5",
                "#B0BEC5",
                "#B0BEC5",
                "#B0BEC5",
                "#B0BEC5",
                "#B0BEC5",
                "#B0BEC5",
                "#B0BEC5",
                "#B0BEC5",
                "#B0BEC5",
                "#B0BEC5",
                "#B0BEC5",
                "#B0BEC5",
                "#B0BEC5",
                "#B0BEC5",
                "red",
                "#B0BEC5",
                "#B0BEC5",
                "#B0BEC5",
                "#B0BEC5",
                "#B0BEC5",
                "#B0BEC5"
               ]
              ]
             }
            ],
            "label": "Topic 23",
            "method": "update"
           },
           {
            "args": [
             {
              "marker.color": [
               [
                "#B0BEC5",
                "#B0BEC5",
                "#B0BEC5",
                "#B0BEC5",
                "#B0BEC5",
                "#B0BEC5",
                "#B0BEC5",
                "#B0BEC5",
                "#B0BEC5",
                "#B0BEC5",
                "#B0BEC5",
                "#B0BEC5",
                "#B0BEC5",
                "#B0BEC5",
                "#B0BEC5",
                "#B0BEC5",
                "#B0BEC5",
                "#B0BEC5",
                "#B0BEC5",
                "#B0BEC5",
                "#B0BEC5",
                "#B0BEC5",
                "#B0BEC5",
                "red",
                "#B0BEC5",
                "#B0BEC5",
                "#B0BEC5",
                "#B0BEC5",
                "#B0BEC5"
               ]
              ]
             }
            ],
            "label": "Topic 24",
            "method": "update"
           },
           {
            "args": [
             {
              "marker.color": [
               [
                "#B0BEC5",
                "#B0BEC5",
                "#B0BEC5",
                "#B0BEC5",
                "#B0BEC5",
                "#B0BEC5",
                "#B0BEC5",
                "#B0BEC5",
                "#B0BEC5",
                "#B0BEC5",
                "#B0BEC5",
                "#B0BEC5",
                "#B0BEC5",
                "#B0BEC5",
                "#B0BEC5",
                "#B0BEC5",
                "#B0BEC5",
                "#B0BEC5",
                "#B0BEC5",
                "#B0BEC5",
                "#B0BEC5",
                "#B0BEC5",
                "#B0BEC5",
                "#B0BEC5",
                "red",
                "#B0BEC5",
                "#B0BEC5",
                "#B0BEC5",
                "#B0BEC5"
               ]
              ]
             }
            ],
            "label": "Topic 25",
            "method": "update"
           },
           {
            "args": [
             {
              "marker.color": [
               [
                "#B0BEC5",
                "#B0BEC5",
                "#B0BEC5",
                "#B0BEC5",
                "#B0BEC5",
                "#B0BEC5",
                "#B0BEC5",
                "#B0BEC5",
                "#B0BEC5",
                "#B0BEC5",
                "#B0BEC5",
                "#B0BEC5",
                "#B0BEC5",
                "#B0BEC5",
                "#B0BEC5",
                "#B0BEC5",
                "#B0BEC5",
                "#B0BEC5",
                "#B0BEC5",
                "#B0BEC5",
                "#B0BEC5",
                "#B0BEC5",
                "#B0BEC5",
                "#B0BEC5",
                "#B0BEC5",
                "red",
                "#B0BEC5",
                "#B0BEC5",
                "#B0BEC5"
               ]
              ]
             }
            ],
            "label": "Topic 26",
            "method": "update"
           },
           {
            "args": [
             {
              "marker.color": [
               [
                "#B0BEC5",
                "#B0BEC5",
                "#B0BEC5",
                "#B0BEC5",
                "#B0BEC5",
                "#B0BEC5",
                "#B0BEC5",
                "#B0BEC5",
                "#B0BEC5",
                "#B0BEC5",
                "#B0BEC5",
                "#B0BEC5",
                "#B0BEC5",
                "#B0BEC5",
                "#B0BEC5",
                "#B0BEC5",
                "#B0BEC5",
                "#B0BEC5",
                "#B0BEC5",
                "#B0BEC5",
                "#B0BEC5",
                "#B0BEC5",
                "#B0BEC5",
                "#B0BEC5",
                "#B0BEC5",
                "#B0BEC5",
                "red",
                "#B0BEC5",
                "#B0BEC5"
               ]
              ]
             }
            ],
            "label": "Topic 27",
            "method": "update"
           },
           {
            "args": [
             {
              "marker.color": [
               [
                "#B0BEC5",
                "#B0BEC5",
                "#B0BEC5",
                "#B0BEC5",
                "#B0BEC5",
                "#B0BEC5",
                "#B0BEC5",
                "#B0BEC5",
                "#B0BEC5",
                "#B0BEC5",
                "#B0BEC5",
                "#B0BEC5",
                "#B0BEC5",
                "#B0BEC5",
                "#B0BEC5",
                "#B0BEC5",
                "#B0BEC5",
                "#B0BEC5",
                "#B0BEC5",
                "#B0BEC5",
                "#B0BEC5",
                "#B0BEC5",
                "#B0BEC5",
                "#B0BEC5",
                "#B0BEC5",
                "#B0BEC5",
                "#B0BEC5",
                "red",
                "#B0BEC5"
               ]
              ]
             }
            ],
            "label": "Topic 28",
            "method": "update"
           },
           {
            "args": [
             {
              "marker.color": [
               [
                "#B0BEC5",
                "#B0BEC5",
                "#B0BEC5",
                "#B0BEC5",
                "#B0BEC5",
                "#B0BEC5",
                "#B0BEC5",
                "#B0BEC5",
                "#B0BEC5",
                "#B0BEC5",
                "#B0BEC5",
                "#B0BEC5",
                "#B0BEC5",
                "#B0BEC5",
                "#B0BEC5",
                "#B0BEC5",
                "#B0BEC5",
                "#B0BEC5",
                "#B0BEC5",
                "#B0BEC5",
                "#B0BEC5",
                "#B0BEC5",
                "#B0BEC5",
                "#B0BEC5",
                "#B0BEC5",
                "#B0BEC5",
                "#B0BEC5",
                "#B0BEC5",
                "red"
               ]
              ]
             }
            ],
            "label": "Topic 29",
            "method": "update"
           }
          ]
         }
        ],
        "template": {
         "data": {
          "bar": [
           {
            "error_x": {
             "color": "rgb(36,36,36)"
            },
            "error_y": {
             "color": "rgb(36,36,36)"
            },
            "marker": {
             "line": {
              "color": "white",
              "width": 0.5
             },
             "pattern": {
              "fillmode": "overlay",
              "size": 10,
              "solidity": 0.2
             }
            },
            "type": "bar"
           }
          ],
          "barpolar": [
           {
            "marker": {
             "line": {
              "color": "white",
              "width": 0.5
             },
             "pattern": {
              "fillmode": "overlay",
              "size": 10,
              "solidity": 0.2
             }
            },
            "type": "barpolar"
           }
          ],
          "carpet": [
           {
            "aaxis": {
             "endlinecolor": "rgb(36,36,36)",
             "gridcolor": "white",
             "linecolor": "white",
             "minorgridcolor": "white",
             "startlinecolor": "rgb(36,36,36)"
            },
            "baxis": {
             "endlinecolor": "rgb(36,36,36)",
             "gridcolor": "white",
             "linecolor": "white",
             "minorgridcolor": "white",
             "startlinecolor": "rgb(36,36,36)"
            },
            "type": "carpet"
           }
          ],
          "choropleth": [
           {
            "colorbar": {
             "outlinewidth": 1,
             "tickcolor": "rgb(36,36,36)",
             "ticks": "outside"
            },
            "type": "choropleth"
           }
          ],
          "contour": [
           {
            "colorbar": {
             "outlinewidth": 1,
             "tickcolor": "rgb(36,36,36)",
             "ticks": "outside"
            },
            "colorscale": [
             [
              0,
              "#440154"
             ],
             [
              0.1111111111111111,
              "#482878"
             ],
             [
              0.2222222222222222,
              "#3e4989"
             ],
             [
              0.3333333333333333,
              "#31688e"
             ],
             [
              0.4444444444444444,
              "#26828e"
             ],
             [
              0.5555555555555556,
              "#1f9e89"
             ],
             [
              0.6666666666666666,
              "#35b779"
             ],
             [
              0.7777777777777778,
              "#6ece58"
             ],
             [
              0.8888888888888888,
              "#b5de2b"
             ],
             [
              1,
              "#fde725"
             ]
            ],
            "type": "contour"
           }
          ],
          "contourcarpet": [
           {
            "colorbar": {
             "outlinewidth": 1,
             "tickcolor": "rgb(36,36,36)",
             "ticks": "outside"
            },
            "type": "contourcarpet"
           }
          ],
          "heatmap": [
           {
            "colorbar": {
             "outlinewidth": 1,
             "tickcolor": "rgb(36,36,36)",
             "ticks": "outside"
            },
            "colorscale": [
             [
              0,
              "#440154"
             ],
             [
              0.1111111111111111,
              "#482878"
             ],
             [
              0.2222222222222222,
              "#3e4989"
             ],
             [
              0.3333333333333333,
              "#31688e"
             ],
             [
              0.4444444444444444,
              "#26828e"
             ],
             [
              0.5555555555555556,
              "#1f9e89"
             ],
             [
              0.6666666666666666,
              "#35b779"
             ],
             [
              0.7777777777777778,
              "#6ece58"
             ],
             [
              0.8888888888888888,
              "#b5de2b"
             ],
             [
              1,
              "#fde725"
             ]
            ],
            "type": "heatmap"
           }
          ],
          "heatmapgl": [
           {
            "colorbar": {
             "outlinewidth": 1,
             "tickcolor": "rgb(36,36,36)",
             "ticks": "outside"
            },
            "colorscale": [
             [
              0,
              "#440154"
             ],
             [
              0.1111111111111111,
              "#482878"
             ],
             [
              0.2222222222222222,
              "#3e4989"
             ],
             [
              0.3333333333333333,
              "#31688e"
             ],
             [
              0.4444444444444444,
              "#26828e"
             ],
             [
              0.5555555555555556,
              "#1f9e89"
             ],
             [
              0.6666666666666666,
              "#35b779"
             ],
             [
              0.7777777777777778,
              "#6ece58"
             ],
             [
              0.8888888888888888,
              "#b5de2b"
             ],
             [
              1,
              "#fde725"
             ]
            ],
            "type": "heatmapgl"
           }
          ],
          "histogram": [
           {
            "marker": {
             "line": {
              "color": "white",
              "width": 0.6
             }
            },
            "type": "histogram"
           }
          ],
          "histogram2d": [
           {
            "colorbar": {
             "outlinewidth": 1,
             "tickcolor": "rgb(36,36,36)",
             "ticks": "outside"
            },
            "colorscale": [
             [
              0,
              "#440154"
             ],
             [
              0.1111111111111111,
              "#482878"
             ],
             [
              0.2222222222222222,
              "#3e4989"
             ],
             [
              0.3333333333333333,
              "#31688e"
             ],
             [
              0.4444444444444444,
              "#26828e"
             ],
             [
              0.5555555555555556,
              "#1f9e89"
             ],
             [
              0.6666666666666666,
              "#35b779"
             ],
             [
              0.7777777777777778,
              "#6ece58"
             ],
             [
              0.8888888888888888,
              "#b5de2b"
             ],
             [
              1,
              "#fde725"
             ]
            ],
            "type": "histogram2d"
           }
          ],
          "histogram2dcontour": [
           {
            "colorbar": {
             "outlinewidth": 1,
             "tickcolor": "rgb(36,36,36)",
             "ticks": "outside"
            },
            "colorscale": [
             [
              0,
              "#440154"
             ],
             [
              0.1111111111111111,
              "#482878"
             ],
             [
              0.2222222222222222,
              "#3e4989"
             ],
             [
              0.3333333333333333,
              "#31688e"
             ],
             [
              0.4444444444444444,
              "#26828e"
             ],
             [
              0.5555555555555556,
              "#1f9e89"
             ],
             [
              0.6666666666666666,
              "#35b779"
             ],
             [
              0.7777777777777778,
              "#6ece58"
             ],
             [
              0.8888888888888888,
              "#b5de2b"
             ],
             [
              1,
              "#fde725"
             ]
            ],
            "type": "histogram2dcontour"
           }
          ],
          "mesh3d": [
           {
            "colorbar": {
             "outlinewidth": 1,
             "tickcolor": "rgb(36,36,36)",
             "ticks": "outside"
            },
            "type": "mesh3d"
           }
          ],
          "parcoords": [
           {
            "line": {
             "colorbar": {
              "outlinewidth": 1,
              "tickcolor": "rgb(36,36,36)",
              "ticks": "outside"
             }
            },
            "type": "parcoords"
           }
          ],
          "pie": [
           {
            "automargin": true,
            "type": "pie"
           }
          ],
          "scatter": [
           {
            "fillpattern": {
             "fillmode": "overlay",
             "size": 10,
             "solidity": 0.2
            },
            "type": "scatter"
           }
          ],
          "scatter3d": [
           {
            "line": {
             "colorbar": {
              "outlinewidth": 1,
              "tickcolor": "rgb(36,36,36)",
              "ticks": "outside"
             }
            },
            "marker": {
             "colorbar": {
              "outlinewidth": 1,
              "tickcolor": "rgb(36,36,36)",
              "ticks": "outside"
             }
            },
            "type": "scatter3d"
           }
          ],
          "scattercarpet": [
           {
            "marker": {
             "colorbar": {
              "outlinewidth": 1,
              "tickcolor": "rgb(36,36,36)",
              "ticks": "outside"
             }
            },
            "type": "scattercarpet"
           }
          ],
          "scattergeo": [
           {
            "marker": {
             "colorbar": {
              "outlinewidth": 1,
              "tickcolor": "rgb(36,36,36)",
              "ticks": "outside"
             }
            },
            "type": "scattergeo"
           }
          ],
          "scattergl": [
           {
            "marker": {
             "colorbar": {
              "outlinewidth": 1,
              "tickcolor": "rgb(36,36,36)",
              "ticks": "outside"
             }
            },
            "type": "scattergl"
           }
          ],
          "scattermapbox": [
           {
            "marker": {
             "colorbar": {
              "outlinewidth": 1,
              "tickcolor": "rgb(36,36,36)",
              "ticks": "outside"
             }
            },
            "type": "scattermapbox"
           }
          ],
          "scatterpolar": [
           {
            "marker": {
             "colorbar": {
              "outlinewidth": 1,
              "tickcolor": "rgb(36,36,36)",
              "ticks": "outside"
             }
            },
            "type": "scatterpolar"
           }
          ],
          "scatterpolargl": [
           {
            "marker": {
             "colorbar": {
              "outlinewidth": 1,
              "tickcolor": "rgb(36,36,36)",
              "ticks": "outside"
             }
            },
            "type": "scatterpolargl"
           }
          ],
          "scatterternary": [
           {
            "marker": {
             "colorbar": {
              "outlinewidth": 1,
              "tickcolor": "rgb(36,36,36)",
              "ticks": "outside"
             }
            },
            "type": "scatterternary"
           }
          ],
          "surface": [
           {
            "colorbar": {
             "outlinewidth": 1,
             "tickcolor": "rgb(36,36,36)",
             "ticks": "outside"
            },
            "colorscale": [
             [
              0,
              "#440154"
             ],
             [
              0.1111111111111111,
              "#482878"
             ],
             [
              0.2222222222222222,
              "#3e4989"
             ],
             [
              0.3333333333333333,
              "#31688e"
             ],
             [
              0.4444444444444444,
              "#26828e"
             ],
             [
              0.5555555555555556,
              "#1f9e89"
             ],
             [
              0.6666666666666666,
              "#35b779"
             ],
             [
              0.7777777777777778,
              "#6ece58"
             ],
             [
              0.8888888888888888,
              "#b5de2b"
             ],
             [
              1,
              "#fde725"
             ]
            ],
            "type": "surface"
           }
          ],
          "table": [
           {
            "cells": {
             "fill": {
              "color": "rgb(237,237,237)"
             },
             "line": {
              "color": "white"
             }
            },
            "header": {
             "fill": {
              "color": "rgb(217,217,217)"
             },
             "line": {
              "color": "white"
             }
            },
            "type": "table"
           }
          ]
         },
         "layout": {
          "annotationdefaults": {
           "arrowhead": 0,
           "arrowwidth": 1
          },
          "autotypenumbers": "strict",
          "coloraxis": {
           "colorbar": {
            "outlinewidth": 1,
            "tickcolor": "rgb(36,36,36)",
            "ticks": "outside"
           }
          },
          "colorscale": {
           "diverging": [
            [
             0,
             "rgb(103,0,31)"
            ],
            [
             0.1,
             "rgb(178,24,43)"
            ],
            [
             0.2,
             "rgb(214,96,77)"
            ],
            [
             0.3,
             "rgb(244,165,130)"
            ],
            [
             0.4,
             "rgb(253,219,199)"
            ],
            [
             0.5,
             "rgb(247,247,247)"
            ],
            [
             0.6,
             "rgb(209,229,240)"
            ],
            [
             0.7,
             "rgb(146,197,222)"
            ],
            [
             0.8,
             "rgb(67,147,195)"
            ],
            [
             0.9,
             "rgb(33,102,172)"
            ],
            [
             1,
             "rgb(5,48,97)"
            ]
           ],
           "sequential": [
            [
             0,
             "#440154"
            ],
            [
             0.1111111111111111,
             "#482878"
            ],
            [
             0.2222222222222222,
             "#3e4989"
            ],
            [
             0.3333333333333333,
             "#31688e"
            ],
            [
             0.4444444444444444,
             "#26828e"
            ],
            [
             0.5555555555555556,
             "#1f9e89"
            ],
            [
             0.6666666666666666,
             "#35b779"
            ],
            [
             0.7777777777777778,
             "#6ece58"
            ],
            [
             0.8888888888888888,
             "#b5de2b"
            ],
            [
             1,
             "#fde725"
            ]
           ],
           "sequentialminus": [
            [
             0,
             "#440154"
            ],
            [
             0.1111111111111111,
             "#482878"
            ],
            [
             0.2222222222222222,
             "#3e4989"
            ],
            [
             0.3333333333333333,
             "#31688e"
            ],
            [
             0.4444444444444444,
             "#26828e"
            ],
            [
             0.5555555555555556,
             "#1f9e89"
            ],
            [
             0.6666666666666666,
             "#35b779"
            ],
            [
             0.7777777777777778,
             "#6ece58"
            ],
            [
             0.8888888888888888,
             "#b5de2b"
            ],
            [
             1,
             "#fde725"
            ]
           ]
          },
          "colorway": [
           "#1F77B4",
           "#FF7F0E",
           "#2CA02C",
           "#D62728",
           "#9467BD",
           "#8C564B",
           "#E377C2",
           "#7F7F7F",
           "#BCBD22",
           "#17BECF"
          ],
          "font": {
           "color": "rgb(36,36,36)"
          },
          "geo": {
           "bgcolor": "white",
           "lakecolor": "white",
           "landcolor": "white",
           "showlakes": true,
           "showland": true,
           "subunitcolor": "white"
          },
          "hoverlabel": {
           "align": "left"
          },
          "hovermode": "closest",
          "mapbox": {
           "style": "light"
          },
          "paper_bgcolor": "white",
          "plot_bgcolor": "white",
          "polar": {
           "angularaxis": {
            "gridcolor": "rgb(232,232,232)",
            "linecolor": "rgb(36,36,36)",
            "showgrid": false,
            "showline": true,
            "ticks": "outside"
           },
           "bgcolor": "white",
           "radialaxis": {
            "gridcolor": "rgb(232,232,232)",
            "linecolor": "rgb(36,36,36)",
            "showgrid": false,
            "showline": true,
            "ticks": "outside"
           }
          },
          "scene": {
           "xaxis": {
            "backgroundcolor": "white",
            "gridcolor": "rgb(232,232,232)",
            "gridwidth": 2,
            "linecolor": "rgb(36,36,36)",
            "showbackground": true,
            "showgrid": false,
            "showline": true,
            "ticks": "outside",
            "zeroline": false,
            "zerolinecolor": "rgb(36,36,36)"
           },
           "yaxis": {
            "backgroundcolor": "white",
            "gridcolor": "rgb(232,232,232)",
            "gridwidth": 2,
            "linecolor": "rgb(36,36,36)",
            "showbackground": true,
            "showgrid": false,
            "showline": true,
            "ticks": "outside",
            "zeroline": false,
            "zerolinecolor": "rgb(36,36,36)"
           },
           "zaxis": {
            "backgroundcolor": "white",
            "gridcolor": "rgb(232,232,232)",
            "gridwidth": 2,
            "linecolor": "rgb(36,36,36)",
            "showbackground": true,
            "showgrid": false,
            "showline": true,
            "ticks": "outside",
            "zeroline": false,
            "zerolinecolor": "rgb(36,36,36)"
           }
          },
          "shapedefaults": {
           "fillcolor": "black",
           "line": {
            "width": 0
           },
           "opacity": 0.3
          },
          "ternary": {
           "aaxis": {
            "gridcolor": "rgb(232,232,232)",
            "linecolor": "rgb(36,36,36)",
            "showgrid": false,
            "showline": true,
            "ticks": "outside"
           },
           "baxis": {
            "gridcolor": "rgb(232,232,232)",
            "linecolor": "rgb(36,36,36)",
            "showgrid": false,
            "showline": true,
            "ticks": "outside"
           },
           "bgcolor": "white",
           "caxis": {
            "gridcolor": "rgb(232,232,232)",
            "linecolor": "rgb(36,36,36)",
            "showgrid": false,
            "showline": true,
            "ticks": "outside"
           }
          },
          "title": {
           "x": 0.05
          },
          "xaxis": {
           "automargin": true,
           "gridcolor": "rgb(232,232,232)",
           "linecolor": "rgb(36,36,36)",
           "showgrid": false,
           "showline": true,
           "ticks": "outside",
           "title": {
            "standoff": 15
           },
           "zeroline": false,
           "zerolinecolor": "rgb(36,36,36)"
          },
          "yaxis": {
           "automargin": true,
           "gridcolor": "rgb(232,232,232)",
           "linecolor": "rgb(36,36,36)",
           "showgrid": false,
           "showline": true,
           "ticks": "outside",
           "title": {
            "standoff": 15
           },
           "zeroline": false,
           "zerolinecolor": "rgb(36,36,36)"
          }
         }
        },
        "title": {
         "font": {
          "color": "Black",
          "size": 22
         },
         "text": "<b>Intertopic Distance Map",
         "x": 0.5,
         "xanchor": "center",
         "y": 0.95,
         "yanchor": "top"
        },
        "width": 650,
        "xaxis": {
         "anchor": "y",
         "domain": [
          0,
          1
         ],
         "range": [
          -6.134783387184143,
          18.196400594711303
         ],
         "title": {
          "text": ""
         },
         "visible": false
        },
        "yaxis": {
         "anchor": "x",
         "domain": [
          0,
          1
         ],
         "range": [
          -11.930854082107544,
          19.204307746887206
         ],
         "title": {
          "text": ""
         },
         "visible": false
        }
       }
      },
      "text/html": [
       "<div>                            <div id=\"e065f5f8-2f66-4f65-8329-fe3d9d97609d\" class=\"plotly-graph-div\" style=\"height:650px; width:650px;\"></div>            <script type=\"text/javascript\">                require([\"plotly\"], function(Plotly) {                    window.PLOTLYENV=window.PLOTLYENV || {};                                    if (document.getElementById(\"e065f5f8-2f66-4f65-8329-fe3d9d97609d\")) {                    Plotly.newPlot(                        \"e065f5f8-2f66-4f65-8329-fe3d9d97609d\",                        [{\"customdata\":[[1,\"puneethrajkumar | hearty | lifting | 49kg | mirabaichanu\",258],[2,\"olympics | tokyo2020 | ceremony | the | olympicgames\",248],[3,\"vikas | boxing | krishan | round | okazawa\",227],[4,\"tokyo2020 | to | you | this | im\",222],[5,\"medal | chanu | mirabai | wins | weightlifter\",219],[6,\"swevaus | matildas | kerr | penalty | sam\",201],[7,\"banda | zambia | barbra | china | 44\",168],[8,\"smith | clareburt | 400m | brendon | swimming\",154],[9,\"weightlifting | silver | winning | congratulations | mirabaichanu\",147],[10,\"badminton | doubles | peng | ying | chan\",120],[11,\"swimming | tokyo2020 | is | the | and\",109],[12,\"road | race | carapaz | richard | cyclingroad\",98],[13,\"saikhom | mirabai | chanu | elated | asked\",90],[14,\"sweden | rolfo | australia | swevaus | goal\",85],[15,\"ongoing | indias | many | medal | congratulations\",82],[16,\"weightlifting | mirabaichanu | winning | silver | congratulations\",79],[17,\"football | japan | netherlands | team | women\",76],[18,\"gold | kosovo | distria | krasniqi | judo\",75],[19,\"live | q2 | 11 | updates | ger\",75],[20,\"judo | takato | gold | japans | naohisa\",74],[21,\"hockey | south | africa | spain | rsa\",73],[22,\"silver | winning | congratulated | mirabaichanu | spoke\",70],[23,\"sutirtha | mukherjee | tabletennis | manika | batra\",64],[24,\"100m | butterfly | heat | walshe | ellen\",63],[25,\"tennis | singles | nagalsumit | nagal | sumit\",62],[26,\"teamgb | japan | football | gb | team\",61],[27,\"mediasai | railminindia | imrahultrehan | virenrasquinha | iosindiaoff\",58],[28,\"rule | remedy | butterfly | 100m | heat\",56],[29,\"yulo | rings | caloy | carlos | 14000\",54]],\"hovertemplate\":\"<b>Topic %{customdata[0]}</b><br>Words: %{customdata[1]}<br>Size: %{customdata[2]}\",\"legendgroup\":\"\",\"marker\":{\"color\":\"#B0BEC5\",\"size\":[258,248,227,222,219,201,168,154,147,120,109,98,90,85,82,79,76,75,75,74,73,70,64,63,62,61,58,56,54],\"sizemode\":\"area\",\"sizeref\":0.16125,\"symbol\":\"circle\",\"line\":{\"color\":\"DarkSlateGrey\",\"width\":2}},\"mode\":\"markers\",\"name\":\"\",\"orientation\":\"v\",\"showlegend\":false,\"x\":[15.197347640991211,-3.4331674575805664,-4.732769966125488,-3.569054126739502,14.9030179977417,-5.13947868347168,-4.917210578918457,-3.0728836059570312,14.767848014831543,-5.334594249725342,-3.204984664916992,-2.909397602081299,13.80413818359375,-5.085577487945557,13.987595558166504,14.954851150512695,-4.533043384552002,0.8689743876457214,-5.179394721984863,0.8514715433120728,-5.030686855316162,15.69420051574707,9.008257865905762,11.731794357299805,9.007695198059082,-4.458379745483398,15.822957038879395,11.488645553588867,11.390451431274414],\"xaxis\":\"x\",\"y\":[-8.257346153259277,7.059952259063721,7.722854137420654,6.791921615600586,-7.962189197540283,-10.1937837600708,-10.374655723571777,6.8066935539245605,-8.451445579528809,8.427643775939941,6.661086559295654,7.104366302490234,-7.834364891052246,-10.252717018127441,-7.9637532234191895,-8.277767181396484,8.086773872375488,-6.881152153015137,8.72220230102539,-6.8819899559021,8.514697074890137,-7.67407751083374,16.699398040771484,4.505494117736816,16.697608947753906,8.265727996826172,-7.571526527404785,4.2620439529418945,4.163863182067871],\"yaxis\":\"y\",\"type\":\"scatter\"}],                        {\"template\":{\"data\":{\"barpolar\":[{\"marker\":{\"line\":{\"color\":\"white\",\"width\":0.5},\"pattern\":{\"fillmode\":\"overlay\",\"size\":10,\"solidity\":0.2}},\"type\":\"barpolar\"}],\"bar\":[{\"error_x\":{\"color\":\"rgb(36,36,36)\"},\"error_y\":{\"color\":\"rgb(36,36,36)\"},\"marker\":{\"line\":{\"color\":\"white\",\"width\":0.5},\"pattern\":{\"fillmode\":\"overlay\",\"size\":10,\"solidity\":0.2}},\"type\":\"bar\"}],\"carpet\":[{\"aaxis\":{\"endlinecolor\":\"rgb(36,36,36)\",\"gridcolor\":\"white\",\"linecolor\":\"white\",\"minorgridcolor\":\"white\",\"startlinecolor\":\"rgb(36,36,36)\"},\"baxis\":{\"endlinecolor\":\"rgb(36,36,36)\",\"gridcolor\":\"white\",\"linecolor\":\"white\",\"minorgridcolor\":\"white\",\"startlinecolor\":\"rgb(36,36,36)\"},\"type\":\"carpet\"}],\"choropleth\":[{\"colorbar\":{\"outlinewidth\":1,\"tickcolor\":\"rgb(36,36,36)\",\"ticks\":\"outside\"},\"type\":\"choropleth\"}],\"contourcarpet\":[{\"colorbar\":{\"outlinewidth\":1,\"tickcolor\":\"rgb(36,36,36)\",\"ticks\":\"outside\"},\"type\":\"contourcarpet\"}],\"contour\":[{\"colorbar\":{\"outlinewidth\":1,\"tickcolor\":\"rgb(36,36,36)\",\"ticks\":\"outside\"},\"colorscale\":[[0.0,\"#440154\"],[0.1111111111111111,\"#482878\"],[0.2222222222222222,\"#3e4989\"],[0.3333333333333333,\"#31688e\"],[0.4444444444444444,\"#26828e\"],[0.5555555555555556,\"#1f9e89\"],[0.6666666666666666,\"#35b779\"],[0.7777777777777778,\"#6ece58\"],[0.8888888888888888,\"#b5de2b\"],[1.0,\"#fde725\"]],\"type\":\"contour\"}],\"heatmapgl\":[{\"colorbar\":{\"outlinewidth\":1,\"tickcolor\":\"rgb(36,36,36)\",\"ticks\":\"outside\"},\"colorscale\":[[0.0,\"#440154\"],[0.1111111111111111,\"#482878\"],[0.2222222222222222,\"#3e4989\"],[0.3333333333333333,\"#31688e\"],[0.4444444444444444,\"#26828e\"],[0.5555555555555556,\"#1f9e89\"],[0.6666666666666666,\"#35b779\"],[0.7777777777777778,\"#6ece58\"],[0.8888888888888888,\"#b5de2b\"],[1.0,\"#fde725\"]],\"type\":\"heatmapgl\"}],\"heatmap\":[{\"colorbar\":{\"outlinewidth\":1,\"tickcolor\":\"rgb(36,36,36)\",\"ticks\":\"outside\"},\"colorscale\":[[0.0,\"#440154\"],[0.1111111111111111,\"#482878\"],[0.2222222222222222,\"#3e4989\"],[0.3333333333333333,\"#31688e\"],[0.4444444444444444,\"#26828e\"],[0.5555555555555556,\"#1f9e89\"],[0.6666666666666666,\"#35b779\"],[0.7777777777777778,\"#6ece58\"],[0.8888888888888888,\"#b5de2b\"],[1.0,\"#fde725\"]],\"type\":\"heatmap\"}],\"histogram2dcontour\":[{\"colorbar\":{\"outlinewidth\":1,\"tickcolor\":\"rgb(36,36,36)\",\"ticks\":\"outside\"},\"colorscale\":[[0.0,\"#440154\"],[0.1111111111111111,\"#482878\"],[0.2222222222222222,\"#3e4989\"],[0.3333333333333333,\"#31688e\"],[0.4444444444444444,\"#26828e\"],[0.5555555555555556,\"#1f9e89\"],[0.6666666666666666,\"#35b779\"],[0.7777777777777778,\"#6ece58\"],[0.8888888888888888,\"#b5de2b\"],[1.0,\"#fde725\"]],\"type\":\"histogram2dcontour\"}],\"histogram2d\":[{\"colorbar\":{\"outlinewidth\":1,\"tickcolor\":\"rgb(36,36,36)\",\"ticks\":\"outside\"},\"colorscale\":[[0.0,\"#440154\"],[0.1111111111111111,\"#482878\"],[0.2222222222222222,\"#3e4989\"],[0.3333333333333333,\"#31688e\"],[0.4444444444444444,\"#26828e\"],[0.5555555555555556,\"#1f9e89\"],[0.6666666666666666,\"#35b779\"],[0.7777777777777778,\"#6ece58\"],[0.8888888888888888,\"#b5de2b\"],[1.0,\"#fde725\"]],\"type\":\"histogram2d\"}],\"histogram\":[{\"marker\":{\"line\":{\"color\":\"white\",\"width\":0.6}},\"type\":\"histogram\"}],\"mesh3d\":[{\"colorbar\":{\"outlinewidth\":1,\"tickcolor\":\"rgb(36,36,36)\",\"ticks\":\"outside\"},\"type\":\"mesh3d\"}],\"parcoords\":[{\"line\":{\"colorbar\":{\"outlinewidth\":1,\"tickcolor\":\"rgb(36,36,36)\",\"ticks\":\"outside\"}},\"type\":\"parcoords\"}],\"pie\":[{\"automargin\":true,\"type\":\"pie\"}],\"scatter3d\":[{\"line\":{\"colorbar\":{\"outlinewidth\":1,\"tickcolor\":\"rgb(36,36,36)\",\"ticks\":\"outside\"}},\"marker\":{\"colorbar\":{\"outlinewidth\":1,\"tickcolor\":\"rgb(36,36,36)\",\"ticks\":\"outside\"}},\"type\":\"scatter3d\"}],\"scattercarpet\":[{\"marker\":{\"colorbar\":{\"outlinewidth\":1,\"tickcolor\":\"rgb(36,36,36)\",\"ticks\":\"outside\"}},\"type\":\"scattercarpet\"}],\"scattergeo\":[{\"marker\":{\"colorbar\":{\"outlinewidth\":1,\"tickcolor\":\"rgb(36,36,36)\",\"ticks\":\"outside\"}},\"type\":\"scattergeo\"}],\"scattergl\":[{\"marker\":{\"colorbar\":{\"outlinewidth\":1,\"tickcolor\":\"rgb(36,36,36)\",\"ticks\":\"outside\"}},\"type\":\"scattergl\"}],\"scattermapbox\":[{\"marker\":{\"colorbar\":{\"outlinewidth\":1,\"tickcolor\":\"rgb(36,36,36)\",\"ticks\":\"outside\"}},\"type\":\"scattermapbox\"}],\"scatterpolargl\":[{\"marker\":{\"colorbar\":{\"outlinewidth\":1,\"tickcolor\":\"rgb(36,36,36)\",\"ticks\":\"outside\"}},\"type\":\"scatterpolargl\"}],\"scatterpolar\":[{\"marker\":{\"colorbar\":{\"outlinewidth\":1,\"tickcolor\":\"rgb(36,36,36)\",\"ticks\":\"outside\"}},\"type\":\"scatterpolar\"}],\"scatter\":[{\"fillpattern\":{\"fillmode\":\"overlay\",\"size\":10,\"solidity\":0.2},\"type\":\"scatter\"}],\"scatterternary\":[{\"marker\":{\"colorbar\":{\"outlinewidth\":1,\"tickcolor\":\"rgb(36,36,36)\",\"ticks\":\"outside\"}},\"type\":\"scatterternary\"}],\"surface\":[{\"colorbar\":{\"outlinewidth\":1,\"tickcolor\":\"rgb(36,36,36)\",\"ticks\":\"outside\"},\"colorscale\":[[0.0,\"#440154\"],[0.1111111111111111,\"#482878\"],[0.2222222222222222,\"#3e4989\"],[0.3333333333333333,\"#31688e\"],[0.4444444444444444,\"#26828e\"],[0.5555555555555556,\"#1f9e89\"],[0.6666666666666666,\"#35b779\"],[0.7777777777777778,\"#6ece58\"],[0.8888888888888888,\"#b5de2b\"],[1.0,\"#fde725\"]],\"type\":\"surface\"}],\"table\":[{\"cells\":{\"fill\":{\"color\":\"rgb(237,237,237)\"},\"line\":{\"color\":\"white\"}},\"header\":{\"fill\":{\"color\":\"rgb(217,217,217)\"},\"line\":{\"color\":\"white\"}},\"type\":\"table\"}]},\"layout\":{\"annotationdefaults\":{\"arrowhead\":0,\"arrowwidth\":1},\"autotypenumbers\":\"strict\",\"coloraxis\":{\"colorbar\":{\"outlinewidth\":1,\"tickcolor\":\"rgb(36,36,36)\",\"ticks\":\"outside\"}},\"colorscale\":{\"diverging\":[[0.0,\"rgb(103,0,31)\"],[0.1,\"rgb(178,24,43)\"],[0.2,\"rgb(214,96,77)\"],[0.3,\"rgb(244,165,130)\"],[0.4,\"rgb(253,219,199)\"],[0.5,\"rgb(247,247,247)\"],[0.6,\"rgb(209,229,240)\"],[0.7,\"rgb(146,197,222)\"],[0.8,\"rgb(67,147,195)\"],[0.9,\"rgb(33,102,172)\"],[1.0,\"rgb(5,48,97)\"]],\"sequential\":[[0.0,\"#440154\"],[0.1111111111111111,\"#482878\"],[0.2222222222222222,\"#3e4989\"],[0.3333333333333333,\"#31688e\"],[0.4444444444444444,\"#26828e\"],[0.5555555555555556,\"#1f9e89\"],[0.6666666666666666,\"#35b779\"],[0.7777777777777778,\"#6ece58\"],[0.8888888888888888,\"#b5de2b\"],[1.0,\"#fde725\"]],\"sequentialminus\":[[0.0,\"#440154\"],[0.1111111111111111,\"#482878\"],[0.2222222222222222,\"#3e4989\"],[0.3333333333333333,\"#31688e\"],[0.4444444444444444,\"#26828e\"],[0.5555555555555556,\"#1f9e89\"],[0.6666666666666666,\"#35b779\"],[0.7777777777777778,\"#6ece58\"],[0.8888888888888888,\"#b5de2b\"],[1.0,\"#fde725\"]]},\"colorway\":[\"#1F77B4\",\"#FF7F0E\",\"#2CA02C\",\"#D62728\",\"#9467BD\",\"#8C564B\",\"#E377C2\",\"#7F7F7F\",\"#BCBD22\",\"#17BECF\"],\"font\":{\"color\":\"rgb(36,36,36)\"},\"geo\":{\"bgcolor\":\"white\",\"lakecolor\":\"white\",\"landcolor\":\"white\",\"showlakes\":true,\"showland\":true,\"subunitcolor\":\"white\"},\"hoverlabel\":{\"align\":\"left\"},\"hovermode\":\"closest\",\"mapbox\":{\"style\":\"light\"},\"paper_bgcolor\":\"white\",\"plot_bgcolor\":\"white\",\"polar\":{\"angularaxis\":{\"gridcolor\":\"rgb(232,232,232)\",\"linecolor\":\"rgb(36,36,36)\",\"showgrid\":false,\"showline\":true,\"ticks\":\"outside\"},\"bgcolor\":\"white\",\"radialaxis\":{\"gridcolor\":\"rgb(232,232,232)\",\"linecolor\":\"rgb(36,36,36)\",\"showgrid\":false,\"showline\":true,\"ticks\":\"outside\"}},\"scene\":{\"xaxis\":{\"backgroundcolor\":\"white\",\"gridcolor\":\"rgb(232,232,232)\",\"gridwidth\":2,\"linecolor\":\"rgb(36,36,36)\",\"showbackground\":true,\"showgrid\":false,\"showline\":true,\"ticks\":\"outside\",\"zeroline\":false,\"zerolinecolor\":\"rgb(36,36,36)\"},\"yaxis\":{\"backgroundcolor\":\"white\",\"gridcolor\":\"rgb(232,232,232)\",\"gridwidth\":2,\"linecolor\":\"rgb(36,36,36)\",\"showbackground\":true,\"showgrid\":false,\"showline\":true,\"ticks\":\"outside\",\"zeroline\":false,\"zerolinecolor\":\"rgb(36,36,36)\"},\"zaxis\":{\"backgroundcolor\":\"white\",\"gridcolor\":\"rgb(232,232,232)\",\"gridwidth\":2,\"linecolor\":\"rgb(36,36,36)\",\"showbackground\":true,\"showgrid\":false,\"showline\":true,\"ticks\":\"outside\",\"zeroline\":false,\"zerolinecolor\":\"rgb(36,36,36)\"}},\"shapedefaults\":{\"fillcolor\":\"black\",\"line\":{\"width\":0},\"opacity\":0.3},\"ternary\":{\"aaxis\":{\"gridcolor\":\"rgb(232,232,232)\",\"linecolor\":\"rgb(36,36,36)\",\"showgrid\":false,\"showline\":true,\"ticks\":\"outside\"},\"baxis\":{\"gridcolor\":\"rgb(232,232,232)\",\"linecolor\":\"rgb(36,36,36)\",\"showgrid\":false,\"showline\":true,\"ticks\":\"outside\"},\"bgcolor\":\"white\",\"caxis\":{\"gridcolor\":\"rgb(232,232,232)\",\"linecolor\":\"rgb(36,36,36)\",\"showgrid\":false,\"showline\":true,\"ticks\":\"outside\"}},\"title\":{\"x\":0.05},\"xaxis\":{\"automargin\":true,\"gridcolor\":\"rgb(232,232,232)\",\"linecolor\":\"rgb(36,36,36)\",\"showgrid\":false,\"showline\":true,\"ticks\":\"outside\",\"title\":{\"standoff\":15},\"zeroline\":false,\"zerolinecolor\":\"rgb(36,36,36)\"},\"yaxis\":{\"automargin\":true,\"gridcolor\":\"rgb(232,232,232)\",\"linecolor\":\"rgb(36,36,36)\",\"showgrid\":false,\"showline\":true,\"ticks\":\"outside\",\"title\":{\"standoff\":15},\"zeroline\":false,\"zerolinecolor\":\"rgb(36,36,36)\"}}},\"xaxis\":{\"anchor\":\"y\",\"domain\":[0.0,1.0],\"title\":{\"text\":\"\"},\"visible\":false,\"range\":[-6.134783387184143,18.196400594711303]},\"yaxis\":{\"anchor\":\"x\",\"domain\":[0.0,1.0],\"title\":{\"text\":\"\"},\"visible\":false,\"range\":[-11.930854082107544,19.204307746887206]},\"legend\":{\"tracegroupgap\":0,\"itemsizing\":\"constant\"},\"margin\":{\"t\":60},\"title\":{\"font\":{\"size\":22,\"color\":\"Black\"},\"text\":\"<b>Intertopic Distance Map\",\"y\":0.95,\"x\":0.5,\"xanchor\":\"center\",\"yanchor\":\"top\"},\"hoverlabel\":{\"font\":{\"size\":16,\"family\":\"Rockwell\"},\"bgcolor\":\"white\"},\"width\":650,\"height\":650,\"sliders\":[{\"active\":0,\"pad\":{\"t\":50},\"steps\":[{\"args\":[{\"marker.color\":[[\"red\",\"#B0BEC5\",\"#B0BEC5\",\"#B0BEC5\",\"#B0BEC5\",\"#B0BEC5\",\"#B0BEC5\",\"#B0BEC5\",\"#B0BEC5\",\"#B0BEC5\",\"#B0BEC5\",\"#B0BEC5\",\"#B0BEC5\",\"#B0BEC5\",\"#B0BEC5\",\"#B0BEC5\",\"#B0BEC5\",\"#B0BEC5\",\"#B0BEC5\",\"#B0BEC5\",\"#B0BEC5\",\"#B0BEC5\",\"#B0BEC5\",\"#B0BEC5\",\"#B0BEC5\",\"#B0BEC5\",\"#B0BEC5\",\"#B0BEC5\",\"#B0BEC5\"]]}],\"label\":\"Topic 1\",\"method\":\"update\"},{\"args\":[{\"marker.color\":[[\"#B0BEC5\",\"red\",\"#B0BEC5\",\"#B0BEC5\",\"#B0BEC5\",\"#B0BEC5\",\"#B0BEC5\",\"#B0BEC5\",\"#B0BEC5\",\"#B0BEC5\",\"#B0BEC5\",\"#B0BEC5\",\"#B0BEC5\",\"#B0BEC5\",\"#B0BEC5\",\"#B0BEC5\",\"#B0BEC5\",\"#B0BEC5\",\"#B0BEC5\",\"#B0BEC5\",\"#B0BEC5\",\"#B0BEC5\",\"#B0BEC5\",\"#B0BEC5\",\"#B0BEC5\",\"#B0BEC5\",\"#B0BEC5\",\"#B0BEC5\",\"#B0BEC5\"]]}],\"label\":\"Topic 2\",\"method\":\"update\"},{\"args\":[{\"marker.color\":[[\"#B0BEC5\",\"#B0BEC5\",\"red\",\"#B0BEC5\",\"#B0BEC5\",\"#B0BEC5\",\"#B0BEC5\",\"#B0BEC5\",\"#B0BEC5\",\"#B0BEC5\",\"#B0BEC5\",\"#B0BEC5\",\"#B0BEC5\",\"#B0BEC5\",\"#B0BEC5\",\"#B0BEC5\",\"#B0BEC5\",\"#B0BEC5\",\"#B0BEC5\",\"#B0BEC5\",\"#B0BEC5\",\"#B0BEC5\",\"#B0BEC5\",\"#B0BEC5\",\"#B0BEC5\",\"#B0BEC5\",\"#B0BEC5\",\"#B0BEC5\",\"#B0BEC5\"]]}],\"label\":\"Topic 3\",\"method\":\"update\"},{\"args\":[{\"marker.color\":[[\"#B0BEC5\",\"#B0BEC5\",\"#B0BEC5\",\"red\",\"#B0BEC5\",\"#B0BEC5\",\"#B0BEC5\",\"#B0BEC5\",\"#B0BEC5\",\"#B0BEC5\",\"#B0BEC5\",\"#B0BEC5\",\"#B0BEC5\",\"#B0BEC5\",\"#B0BEC5\",\"#B0BEC5\",\"#B0BEC5\",\"#B0BEC5\",\"#B0BEC5\",\"#B0BEC5\",\"#B0BEC5\",\"#B0BEC5\",\"#B0BEC5\",\"#B0BEC5\",\"#B0BEC5\",\"#B0BEC5\",\"#B0BEC5\",\"#B0BEC5\",\"#B0BEC5\"]]}],\"label\":\"Topic 4\",\"method\":\"update\"},{\"args\":[{\"marker.color\":[[\"#B0BEC5\",\"#B0BEC5\",\"#B0BEC5\",\"#B0BEC5\",\"red\",\"#B0BEC5\",\"#B0BEC5\",\"#B0BEC5\",\"#B0BEC5\",\"#B0BEC5\",\"#B0BEC5\",\"#B0BEC5\",\"#B0BEC5\",\"#B0BEC5\",\"#B0BEC5\",\"#B0BEC5\",\"#B0BEC5\",\"#B0BEC5\",\"#B0BEC5\",\"#B0BEC5\",\"#B0BEC5\",\"#B0BEC5\",\"#B0BEC5\",\"#B0BEC5\",\"#B0BEC5\",\"#B0BEC5\",\"#B0BEC5\",\"#B0BEC5\",\"#B0BEC5\"]]}],\"label\":\"Topic 5\",\"method\":\"update\"},{\"args\":[{\"marker.color\":[[\"#B0BEC5\",\"#B0BEC5\",\"#B0BEC5\",\"#B0BEC5\",\"#B0BEC5\",\"red\",\"#B0BEC5\",\"#B0BEC5\",\"#B0BEC5\",\"#B0BEC5\",\"#B0BEC5\",\"#B0BEC5\",\"#B0BEC5\",\"#B0BEC5\",\"#B0BEC5\",\"#B0BEC5\",\"#B0BEC5\",\"#B0BEC5\",\"#B0BEC5\",\"#B0BEC5\",\"#B0BEC5\",\"#B0BEC5\",\"#B0BEC5\",\"#B0BEC5\",\"#B0BEC5\",\"#B0BEC5\",\"#B0BEC5\",\"#B0BEC5\",\"#B0BEC5\"]]}],\"label\":\"Topic 6\",\"method\":\"update\"},{\"args\":[{\"marker.color\":[[\"#B0BEC5\",\"#B0BEC5\",\"#B0BEC5\",\"#B0BEC5\",\"#B0BEC5\",\"#B0BEC5\",\"red\",\"#B0BEC5\",\"#B0BEC5\",\"#B0BEC5\",\"#B0BEC5\",\"#B0BEC5\",\"#B0BEC5\",\"#B0BEC5\",\"#B0BEC5\",\"#B0BEC5\",\"#B0BEC5\",\"#B0BEC5\",\"#B0BEC5\",\"#B0BEC5\",\"#B0BEC5\",\"#B0BEC5\",\"#B0BEC5\",\"#B0BEC5\",\"#B0BEC5\",\"#B0BEC5\",\"#B0BEC5\",\"#B0BEC5\",\"#B0BEC5\"]]}],\"label\":\"Topic 7\",\"method\":\"update\"},{\"args\":[{\"marker.color\":[[\"#B0BEC5\",\"#B0BEC5\",\"#B0BEC5\",\"#B0BEC5\",\"#B0BEC5\",\"#B0BEC5\",\"#B0BEC5\",\"red\",\"#B0BEC5\",\"#B0BEC5\",\"#B0BEC5\",\"#B0BEC5\",\"#B0BEC5\",\"#B0BEC5\",\"#B0BEC5\",\"#B0BEC5\",\"#B0BEC5\",\"#B0BEC5\",\"#B0BEC5\",\"#B0BEC5\",\"#B0BEC5\",\"#B0BEC5\",\"#B0BEC5\",\"#B0BEC5\",\"#B0BEC5\",\"#B0BEC5\",\"#B0BEC5\",\"#B0BEC5\",\"#B0BEC5\"]]}],\"label\":\"Topic 8\",\"method\":\"update\"},{\"args\":[{\"marker.color\":[[\"#B0BEC5\",\"#B0BEC5\",\"#B0BEC5\",\"#B0BEC5\",\"#B0BEC5\",\"#B0BEC5\",\"#B0BEC5\",\"#B0BEC5\",\"red\",\"#B0BEC5\",\"#B0BEC5\",\"#B0BEC5\",\"#B0BEC5\",\"#B0BEC5\",\"#B0BEC5\",\"#B0BEC5\",\"#B0BEC5\",\"#B0BEC5\",\"#B0BEC5\",\"#B0BEC5\",\"#B0BEC5\",\"#B0BEC5\",\"#B0BEC5\",\"#B0BEC5\",\"#B0BEC5\",\"#B0BEC5\",\"#B0BEC5\",\"#B0BEC5\",\"#B0BEC5\"]]}],\"label\":\"Topic 9\",\"method\":\"update\"},{\"args\":[{\"marker.color\":[[\"#B0BEC5\",\"#B0BEC5\",\"#B0BEC5\",\"#B0BEC5\",\"#B0BEC5\",\"#B0BEC5\",\"#B0BEC5\",\"#B0BEC5\",\"#B0BEC5\",\"red\",\"#B0BEC5\",\"#B0BEC5\",\"#B0BEC5\",\"#B0BEC5\",\"#B0BEC5\",\"#B0BEC5\",\"#B0BEC5\",\"#B0BEC5\",\"#B0BEC5\",\"#B0BEC5\",\"#B0BEC5\",\"#B0BEC5\",\"#B0BEC5\",\"#B0BEC5\",\"#B0BEC5\",\"#B0BEC5\",\"#B0BEC5\",\"#B0BEC5\",\"#B0BEC5\"]]}],\"label\":\"Topic 10\",\"method\":\"update\"},{\"args\":[{\"marker.color\":[[\"#B0BEC5\",\"#B0BEC5\",\"#B0BEC5\",\"#B0BEC5\",\"#B0BEC5\",\"#B0BEC5\",\"#B0BEC5\",\"#B0BEC5\",\"#B0BEC5\",\"#B0BEC5\",\"red\",\"#B0BEC5\",\"#B0BEC5\",\"#B0BEC5\",\"#B0BEC5\",\"#B0BEC5\",\"#B0BEC5\",\"#B0BEC5\",\"#B0BEC5\",\"#B0BEC5\",\"#B0BEC5\",\"#B0BEC5\",\"#B0BEC5\",\"#B0BEC5\",\"#B0BEC5\",\"#B0BEC5\",\"#B0BEC5\",\"#B0BEC5\",\"#B0BEC5\"]]}],\"label\":\"Topic 11\",\"method\":\"update\"},{\"args\":[{\"marker.color\":[[\"#B0BEC5\",\"#B0BEC5\",\"#B0BEC5\",\"#B0BEC5\",\"#B0BEC5\",\"#B0BEC5\",\"#B0BEC5\",\"#B0BEC5\",\"#B0BEC5\",\"#B0BEC5\",\"#B0BEC5\",\"red\",\"#B0BEC5\",\"#B0BEC5\",\"#B0BEC5\",\"#B0BEC5\",\"#B0BEC5\",\"#B0BEC5\",\"#B0BEC5\",\"#B0BEC5\",\"#B0BEC5\",\"#B0BEC5\",\"#B0BEC5\",\"#B0BEC5\",\"#B0BEC5\",\"#B0BEC5\",\"#B0BEC5\",\"#B0BEC5\",\"#B0BEC5\"]]}],\"label\":\"Topic 12\",\"method\":\"update\"},{\"args\":[{\"marker.color\":[[\"#B0BEC5\",\"#B0BEC5\",\"#B0BEC5\",\"#B0BEC5\",\"#B0BEC5\",\"#B0BEC5\",\"#B0BEC5\",\"#B0BEC5\",\"#B0BEC5\",\"#B0BEC5\",\"#B0BEC5\",\"#B0BEC5\",\"red\",\"#B0BEC5\",\"#B0BEC5\",\"#B0BEC5\",\"#B0BEC5\",\"#B0BEC5\",\"#B0BEC5\",\"#B0BEC5\",\"#B0BEC5\",\"#B0BEC5\",\"#B0BEC5\",\"#B0BEC5\",\"#B0BEC5\",\"#B0BEC5\",\"#B0BEC5\",\"#B0BEC5\",\"#B0BEC5\"]]}],\"label\":\"Topic 13\",\"method\":\"update\"},{\"args\":[{\"marker.color\":[[\"#B0BEC5\",\"#B0BEC5\",\"#B0BEC5\",\"#B0BEC5\",\"#B0BEC5\",\"#B0BEC5\",\"#B0BEC5\",\"#B0BEC5\",\"#B0BEC5\",\"#B0BEC5\",\"#B0BEC5\",\"#B0BEC5\",\"#B0BEC5\",\"red\",\"#B0BEC5\",\"#B0BEC5\",\"#B0BEC5\",\"#B0BEC5\",\"#B0BEC5\",\"#B0BEC5\",\"#B0BEC5\",\"#B0BEC5\",\"#B0BEC5\",\"#B0BEC5\",\"#B0BEC5\",\"#B0BEC5\",\"#B0BEC5\",\"#B0BEC5\",\"#B0BEC5\"]]}],\"label\":\"Topic 14\",\"method\":\"update\"},{\"args\":[{\"marker.color\":[[\"#B0BEC5\",\"#B0BEC5\",\"#B0BEC5\",\"#B0BEC5\",\"#B0BEC5\",\"#B0BEC5\",\"#B0BEC5\",\"#B0BEC5\",\"#B0BEC5\",\"#B0BEC5\",\"#B0BEC5\",\"#B0BEC5\",\"#B0BEC5\",\"#B0BEC5\",\"red\",\"#B0BEC5\",\"#B0BEC5\",\"#B0BEC5\",\"#B0BEC5\",\"#B0BEC5\",\"#B0BEC5\",\"#B0BEC5\",\"#B0BEC5\",\"#B0BEC5\",\"#B0BEC5\",\"#B0BEC5\",\"#B0BEC5\",\"#B0BEC5\",\"#B0BEC5\"]]}],\"label\":\"Topic 15\",\"method\":\"update\"},{\"args\":[{\"marker.color\":[[\"#B0BEC5\",\"#B0BEC5\",\"#B0BEC5\",\"#B0BEC5\",\"#B0BEC5\",\"#B0BEC5\",\"#B0BEC5\",\"#B0BEC5\",\"#B0BEC5\",\"#B0BEC5\",\"#B0BEC5\",\"#B0BEC5\",\"#B0BEC5\",\"#B0BEC5\",\"#B0BEC5\",\"red\",\"#B0BEC5\",\"#B0BEC5\",\"#B0BEC5\",\"#B0BEC5\",\"#B0BEC5\",\"#B0BEC5\",\"#B0BEC5\",\"#B0BEC5\",\"#B0BEC5\",\"#B0BEC5\",\"#B0BEC5\",\"#B0BEC5\",\"#B0BEC5\"]]}],\"label\":\"Topic 16\",\"method\":\"update\"},{\"args\":[{\"marker.color\":[[\"#B0BEC5\",\"#B0BEC5\",\"#B0BEC5\",\"#B0BEC5\",\"#B0BEC5\",\"#B0BEC5\",\"#B0BEC5\",\"#B0BEC5\",\"#B0BEC5\",\"#B0BEC5\",\"#B0BEC5\",\"#B0BEC5\",\"#B0BEC5\",\"#B0BEC5\",\"#B0BEC5\",\"#B0BEC5\",\"red\",\"#B0BEC5\",\"#B0BEC5\",\"#B0BEC5\",\"#B0BEC5\",\"#B0BEC5\",\"#B0BEC5\",\"#B0BEC5\",\"#B0BEC5\",\"#B0BEC5\",\"#B0BEC5\",\"#B0BEC5\",\"#B0BEC5\"]]}],\"label\":\"Topic 17\",\"method\":\"update\"},{\"args\":[{\"marker.color\":[[\"#B0BEC5\",\"#B0BEC5\",\"#B0BEC5\",\"#B0BEC5\",\"#B0BEC5\",\"#B0BEC5\",\"#B0BEC5\",\"#B0BEC5\",\"#B0BEC5\",\"#B0BEC5\",\"#B0BEC5\",\"#B0BEC5\",\"#B0BEC5\",\"#B0BEC5\",\"#B0BEC5\",\"#B0BEC5\",\"#B0BEC5\",\"red\",\"#B0BEC5\",\"#B0BEC5\",\"#B0BEC5\",\"#B0BEC5\",\"#B0BEC5\",\"#B0BEC5\",\"#B0BEC5\",\"#B0BEC5\",\"#B0BEC5\",\"#B0BEC5\",\"#B0BEC5\"]]}],\"label\":\"Topic 18\",\"method\":\"update\"},{\"args\":[{\"marker.color\":[[\"#B0BEC5\",\"#B0BEC5\",\"#B0BEC5\",\"#B0BEC5\",\"#B0BEC5\",\"#B0BEC5\",\"#B0BEC5\",\"#B0BEC5\",\"#B0BEC5\",\"#B0BEC5\",\"#B0BEC5\",\"#B0BEC5\",\"#B0BEC5\",\"#B0BEC5\",\"#B0BEC5\",\"#B0BEC5\",\"#B0BEC5\",\"#B0BEC5\",\"red\",\"#B0BEC5\",\"#B0BEC5\",\"#B0BEC5\",\"#B0BEC5\",\"#B0BEC5\",\"#B0BEC5\",\"#B0BEC5\",\"#B0BEC5\",\"#B0BEC5\",\"#B0BEC5\"]]}],\"label\":\"Topic 19\",\"method\":\"update\"},{\"args\":[{\"marker.color\":[[\"#B0BEC5\",\"#B0BEC5\",\"#B0BEC5\",\"#B0BEC5\",\"#B0BEC5\",\"#B0BEC5\",\"#B0BEC5\",\"#B0BEC5\",\"#B0BEC5\",\"#B0BEC5\",\"#B0BEC5\",\"#B0BEC5\",\"#B0BEC5\",\"#B0BEC5\",\"#B0BEC5\",\"#B0BEC5\",\"#B0BEC5\",\"#B0BEC5\",\"#B0BEC5\",\"red\",\"#B0BEC5\",\"#B0BEC5\",\"#B0BEC5\",\"#B0BEC5\",\"#B0BEC5\",\"#B0BEC5\",\"#B0BEC5\",\"#B0BEC5\",\"#B0BEC5\"]]}],\"label\":\"Topic 20\",\"method\":\"update\"},{\"args\":[{\"marker.color\":[[\"#B0BEC5\",\"#B0BEC5\",\"#B0BEC5\",\"#B0BEC5\",\"#B0BEC5\",\"#B0BEC5\",\"#B0BEC5\",\"#B0BEC5\",\"#B0BEC5\",\"#B0BEC5\",\"#B0BEC5\",\"#B0BEC5\",\"#B0BEC5\",\"#B0BEC5\",\"#B0BEC5\",\"#B0BEC5\",\"#B0BEC5\",\"#B0BEC5\",\"#B0BEC5\",\"#B0BEC5\",\"red\",\"#B0BEC5\",\"#B0BEC5\",\"#B0BEC5\",\"#B0BEC5\",\"#B0BEC5\",\"#B0BEC5\",\"#B0BEC5\",\"#B0BEC5\"]]}],\"label\":\"Topic 21\",\"method\":\"update\"},{\"args\":[{\"marker.color\":[[\"#B0BEC5\",\"#B0BEC5\",\"#B0BEC5\",\"#B0BEC5\",\"#B0BEC5\",\"#B0BEC5\",\"#B0BEC5\",\"#B0BEC5\",\"#B0BEC5\",\"#B0BEC5\",\"#B0BEC5\",\"#B0BEC5\",\"#B0BEC5\",\"#B0BEC5\",\"#B0BEC5\",\"#B0BEC5\",\"#B0BEC5\",\"#B0BEC5\",\"#B0BEC5\",\"#B0BEC5\",\"#B0BEC5\",\"red\",\"#B0BEC5\",\"#B0BEC5\",\"#B0BEC5\",\"#B0BEC5\",\"#B0BEC5\",\"#B0BEC5\",\"#B0BEC5\"]]}],\"label\":\"Topic 22\",\"method\":\"update\"},{\"args\":[{\"marker.color\":[[\"#B0BEC5\",\"#B0BEC5\",\"#B0BEC5\",\"#B0BEC5\",\"#B0BEC5\",\"#B0BEC5\",\"#B0BEC5\",\"#B0BEC5\",\"#B0BEC5\",\"#B0BEC5\",\"#B0BEC5\",\"#B0BEC5\",\"#B0BEC5\",\"#B0BEC5\",\"#B0BEC5\",\"#B0BEC5\",\"#B0BEC5\",\"#B0BEC5\",\"#B0BEC5\",\"#B0BEC5\",\"#B0BEC5\",\"#B0BEC5\",\"red\",\"#B0BEC5\",\"#B0BEC5\",\"#B0BEC5\",\"#B0BEC5\",\"#B0BEC5\",\"#B0BEC5\"]]}],\"label\":\"Topic 23\",\"method\":\"update\"},{\"args\":[{\"marker.color\":[[\"#B0BEC5\",\"#B0BEC5\",\"#B0BEC5\",\"#B0BEC5\",\"#B0BEC5\",\"#B0BEC5\",\"#B0BEC5\",\"#B0BEC5\",\"#B0BEC5\",\"#B0BEC5\",\"#B0BEC5\",\"#B0BEC5\",\"#B0BEC5\",\"#B0BEC5\",\"#B0BEC5\",\"#B0BEC5\",\"#B0BEC5\",\"#B0BEC5\",\"#B0BEC5\",\"#B0BEC5\",\"#B0BEC5\",\"#B0BEC5\",\"#B0BEC5\",\"red\",\"#B0BEC5\",\"#B0BEC5\",\"#B0BEC5\",\"#B0BEC5\",\"#B0BEC5\"]]}],\"label\":\"Topic 24\",\"method\":\"update\"},{\"args\":[{\"marker.color\":[[\"#B0BEC5\",\"#B0BEC5\",\"#B0BEC5\",\"#B0BEC5\",\"#B0BEC5\",\"#B0BEC5\",\"#B0BEC5\",\"#B0BEC5\",\"#B0BEC5\",\"#B0BEC5\",\"#B0BEC5\",\"#B0BEC5\",\"#B0BEC5\",\"#B0BEC5\",\"#B0BEC5\",\"#B0BEC5\",\"#B0BEC5\",\"#B0BEC5\",\"#B0BEC5\",\"#B0BEC5\",\"#B0BEC5\",\"#B0BEC5\",\"#B0BEC5\",\"#B0BEC5\",\"red\",\"#B0BEC5\",\"#B0BEC5\",\"#B0BEC5\",\"#B0BEC5\"]]}],\"label\":\"Topic 25\",\"method\":\"update\"},{\"args\":[{\"marker.color\":[[\"#B0BEC5\",\"#B0BEC5\",\"#B0BEC5\",\"#B0BEC5\",\"#B0BEC5\",\"#B0BEC5\",\"#B0BEC5\",\"#B0BEC5\",\"#B0BEC5\",\"#B0BEC5\",\"#B0BEC5\",\"#B0BEC5\",\"#B0BEC5\",\"#B0BEC5\",\"#B0BEC5\",\"#B0BEC5\",\"#B0BEC5\",\"#B0BEC5\",\"#B0BEC5\",\"#B0BEC5\",\"#B0BEC5\",\"#B0BEC5\",\"#B0BEC5\",\"#B0BEC5\",\"#B0BEC5\",\"red\",\"#B0BEC5\",\"#B0BEC5\",\"#B0BEC5\"]]}],\"label\":\"Topic 26\",\"method\":\"update\"},{\"args\":[{\"marker.color\":[[\"#B0BEC5\",\"#B0BEC5\",\"#B0BEC5\",\"#B0BEC5\",\"#B0BEC5\",\"#B0BEC5\",\"#B0BEC5\",\"#B0BEC5\",\"#B0BEC5\",\"#B0BEC5\",\"#B0BEC5\",\"#B0BEC5\",\"#B0BEC5\",\"#B0BEC5\",\"#B0BEC5\",\"#B0BEC5\",\"#B0BEC5\",\"#B0BEC5\",\"#B0BEC5\",\"#B0BEC5\",\"#B0BEC5\",\"#B0BEC5\",\"#B0BEC5\",\"#B0BEC5\",\"#B0BEC5\",\"#B0BEC5\",\"red\",\"#B0BEC5\",\"#B0BEC5\"]]}],\"label\":\"Topic 27\",\"method\":\"update\"},{\"args\":[{\"marker.color\":[[\"#B0BEC5\",\"#B0BEC5\",\"#B0BEC5\",\"#B0BEC5\",\"#B0BEC5\",\"#B0BEC5\",\"#B0BEC5\",\"#B0BEC5\",\"#B0BEC5\",\"#B0BEC5\",\"#B0BEC5\",\"#B0BEC5\",\"#B0BEC5\",\"#B0BEC5\",\"#B0BEC5\",\"#B0BEC5\",\"#B0BEC5\",\"#B0BEC5\",\"#B0BEC5\",\"#B0BEC5\",\"#B0BEC5\",\"#B0BEC5\",\"#B0BEC5\",\"#B0BEC5\",\"#B0BEC5\",\"#B0BEC5\",\"#B0BEC5\",\"red\",\"#B0BEC5\"]]}],\"label\":\"Topic 28\",\"method\":\"update\"},{\"args\":[{\"marker.color\":[[\"#B0BEC5\",\"#B0BEC5\",\"#B0BEC5\",\"#B0BEC5\",\"#B0BEC5\",\"#B0BEC5\",\"#B0BEC5\",\"#B0BEC5\",\"#B0BEC5\",\"#B0BEC5\",\"#B0BEC5\",\"#B0BEC5\",\"#B0BEC5\",\"#B0BEC5\",\"#B0BEC5\",\"#B0BEC5\",\"#B0BEC5\",\"#B0BEC5\",\"#B0BEC5\",\"#B0BEC5\",\"#B0BEC5\",\"#B0BEC5\",\"#B0BEC5\",\"#B0BEC5\",\"#B0BEC5\",\"#B0BEC5\",\"#B0BEC5\",\"#B0BEC5\",\"red\"]]}],\"label\":\"Topic 29\",\"method\":\"update\"}]}],\"shapes\":[{\"line\":{\"color\":\"#CFD8DC\",\"width\":2},\"type\":\"line\",\"x0\":6.03080860376358,\"x1\":6.03080860376358,\"y0\":-11.930854082107544,\"y1\":19.204307746887206},{\"line\":{\"color\":\"#9E9E9E\",\"width\":2},\"type\":\"line\",\"x0\":-6.134783387184143,\"x1\":18.196400594711303,\"y0\":3.636726832389831,\"y1\":3.636726832389831}],\"annotations\":[{\"showarrow\":false,\"text\":\"D1\",\"x\":-6.134783387184143,\"y\":3.636726832389831,\"yshift\":10},{\"showarrow\":false,\"text\":\"D2\",\"x\":6.03080860376358,\"xshift\":10,\"y\":19.204307746887206}]},                        {\"responsive\": true}                    ).then(function(){\n",
       "                            \n",
       "var gd = document.getElementById('e065f5f8-2f66-4f65-8329-fe3d9d97609d');\n",
       "var x = new MutationObserver(function (mutations, observer) {{\n",
       "        var display = window.getComputedStyle(gd).display;\n",
       "        if (!display || display === 'none') {{\n",
       "            console.log([gd, 'removed!']);\n",
       "            Plotly.purge(gd);\n",
       "            observer.disconnect();\n",
       "        }}\n",
       "}});\n",
       "\n",
       "// Listen for the removal of the full notebook cells\n",
       "var notebookContainer = gd.closest('#notebook-container');\n",
       "if (notebookContainer) {{\n",
       "    x.observe(notebookContainer, {childList: true});\n",
       "}}\n",
       "\n",
       "// Listen for the clearing of the current output cell\n",
       "var outputEl = gd.closest('.output');\n",
       "if (outputEl) {{\n",
       "    x.observe(outputEl, {childList: true});\n",
       "}}\n",
       "\n",
       "                        })                };                });            </script>        </div>"
      ]
     },
     "metadata": {},
     "output_type": "display_data"
    }
   ],
   "source": [
    "model.visualize_topics()"
   ]
  },
  {
   "cell_type": "code",
   "execution_count": 69,
   "metadata": {},
   "outputs": [
    {
     "data": {
      "application/vnd.plotly.v1+json": {
       "config": {
        "plotlyServerURL": "https://plot.ly"
       },
       "data": [
        {
         "marker": {
          "color": "#D55E00"
         },
         "orientation": "h",
         "type": "bar",
         "x": [
          0.038155195527327636,
          0.04245602070506377,
          0.04661840960063879,
          0.050621101420495404,
          0.06662003763708492
         ],
         "xaxis": "x",
         "y": [
          "congratulations  ",
          "india  ",
          "you  ",
          "mirabaichanu  ",
          "proud  "
         ],
         "yaxis": "y"
        },
        {
         "marker": {
          "color": "#0072B2"
         },
         "orientation": "h",
         "type": "bar",
         "x": [
          0.14761202819940394,
          0.15530839434485183,
          0.17423925999365372,
          0.17604117124363192,
          0.2137707042542223
         ],
         "xaxis": "x2",
         "y": [
          "mirabaichanu  ",
          "49kg  ",
          "lifting  ",
          "hearty  ",
          "puneethrajkumar  "
         ],
         "yaxis": "y2"
        },
        {
         "marker": {
          "color": "#CC79A7"
         },
         "orientation": "h",
         "type": "bar",
         "x": [
          0.02998448827556711,
          0.0310937461720994,
          0.03368341142997609,
          0.04017927181627168,
          0.06325862556844025
         ],
         "xaxis": "x3",
         "y": [
          "olympicgames  ",
          "the  ",
          "ceremony  ",
          "tokyo2020  ",
          "olympics  "
         ],
         "yaxis": "y3"
        },
        {
         "marker": {
          "color": "#E69F00"
         },
         "orientation": "h",
         "type": "bar",
         "x": [
          0.048173283886876334,
          0.05339586006365394,
          0.07239200345365533,
          0.10923608762399553,
          0.1120329092184678
         ],
         "xaxis": "x4",
         "y": [
          "okazawa  ",
          "round  ",
          "krishan  ",
          "boxing  ",
          "vikas  "
         ],
         "yaxis": "y4"
        },
        {
         "marker": {
          "color": "#56B4E9"
         },
         "orientation": "h",
         "type": "bar",
         "x": [
          0.02124491782325013,
          0.021489308617831666,
          0.024334861165676916,
          0.025032518362066325,
          0.06729770232680105
         ],
         "xaxis": "x5",
         "y": [
          "im  ",
          "this  ",
          "you  ",
          "to  ",
          "tokyo2020  "
         ],
         "yaxis": "y5"
        },
        {
         "marker": {
          "color": "#009E73"
         },
         "orientation": "h",
         "type": "bar",
         "x": [
          0.061322454046361045,
          0.06390436259272493,
          0.07171312143563767,
          0.07573822106770985,
          0.07983777123529544
         ],
         "xaxis": "x6",
         "y": [
          "weightlifter  ",
          "wins  ",
          "mirabai  ",
          "chanu  ",
          "medal  "
         ],
         "yaxis": "y6"
        },
        {
         "marker": {
          "color": "#F0E442"
         },
         "orientation": "h",
         "type": "bar",
         "x": [
          0.04414158768857651,
          0.06069160906212585,
          0.06545131967616516,
          0.07614786728559429,
          0.11763196436779313
         ],
         "xaxis": "x7",
         "y": [
          "sam  ",
          "penalty  ",
          "kerr  ",
          "matildas  ",
          "swevaus  "
         ],
         "yaxis": "y7"
        },
        {
         "marker": {
          "color": "#D55E00"
         },
         "orientation": "h",
         "type": "bar",
         "x": [
          0.04899440779623495,
          0.06464164133931055,
          0.07349228339408594,
          0.09921282820389378,
          0.11189285098383954
         ],
         "xaxis": "x8",
         "y": [
          "44  ",
          "china  ",
          "barbra  ",
          "zambia  ",
          "banda  "
         ],
         "yaxis": "y8"
        }
       ],
       "layout": {
        "annotations": [
         {
          "font": {
           "size": 16
          },
          "showarrow": false,
          "text": "Topic 0",
          "x": 0.0875,
          "xanchor": "center",
          "xref": "paper",
          "y": 1,
          "yanchor": "bottom",
          "yref": "paper"
         },
         {
          "font": {
           "size": 16
          },
          "showarrow": false,
          "text": "Topic 1",
          "x": 0.36250000000000004,
          "xanchor": "center",
          "xref": "paper",
          "y": 1,
          "yanchor": "bottom",
          "yref": "paper"
         },
         {
          "font": {
           "size": 16
          },
          "showarrow": false,
          "text": "Topic 2",
          "x": 0.6375000000000001,
          "xanchor": "center",
          "xref": "paper",
          "y": 1,
          "yanchor": "bottom",
          "yref": "paper"
         },
         {
          "font": {
           "size": 16
          },
          "showarrow": false,
          "text": "Topic 3",
          "x": 0.9125,
          "xanchor": "center",
          "xref": "paper",
          "y": 1,
          "yanchor": "bottom",
          "yref": "paper"
         },
         {
          "font": {
           "size": 16
          },
          "showarrow": false,
          "text": "Topic 4",
          "x": 0.0875,
          "xanchor": "center",
          "xref": "paper",
          "y": 0.4,
          "yanchor": "bottom",
          "yref": "paper"
         },
         {
          "font": {
           "size": 16
          },
          "showarrow": false,
          "text": "Topic 5",
          "x": 0.36250000000000004,
          "xanchor": "center",
          "xref": "paper",
          "y": 0.4,
          "yanchor": "bottom",
          "yref": "paper"
         },
         {
          "font": {
           "size": 16
          },
          "showarrow": false,
          "text": "Topic 6",
          "x": 0.6375000000000001,
          "xanchor": "center",
          "xref": "paper",
          "y": 0.4,
          "yanchor": "bottom",
          "yref": "paper"
         },
         {
          "font": {
           "size": 16
          },
          "showarrow": false,
          "text": "Topic 7",
          "x": 0.9125,
          "xanchor": "center",
          "xref": "paper",
          "y": 0.4,
          "yanchor": "bottom",
          "yref": "paper"
         }
        ],
        "height": 500,
        "hoverlabel": {
         "bgcolor": "white",
         "font": {
          "family": "Rockwell",
          "size": 16
         }
        },
        "showlegend": false,
        "template": {
         "data": {
          "bar": [
           {
            "error_x": {
             "color": "#2a3f5f"
            },
            "error_y": {
             "color": "#2a3f5f"
            },
            "marker": {
             "line": {
              "color": "white",
              "width": 0.5
             },
             "pattern": {
              "fillmode": "overlay",
              "size": 10,
              "solidity": 0.2
             }
            },
            "type": "bar"
           }
          ],
          "barpolar": [
           {
            "marker": {
             "line": {
              "color": "white",
              "width": 0.5
             },
             "pattern": {
              "fillmode": "overlay",
              "size": 10,
              "solidity": 0.2
             }
            },
            "type": "barpolar"
           }
          ],
          "carpet": [
           {
            "aaxis": {
             "endlinecolor": "#2a3f5f",
             "gridcolor": "#C8D4E3",
             "linecolor": "#C8D4E3",
             "minorgridcolor": "#C8D4E3",
             "startlinecolor": "#2a3f5f"
            },
            "baxis": {
             "endlinecolor": "#2a3f5f",
             "gridcolor": "#C8D4E3",
             "linecolor": "#C8D4E3",
             "minorgridcolor": "#C8D4E3",
             "startlinecolor": "#2a3f5f"
            },
            "type": "carpet"
           }
          ],
          "choropleth": [
           {
            "colorbar": {
             "outlinewidth": 0,
             "ticks": ""
            },
            "type": "choropleth"
           }
          ],
          "contour": [
           {
            "colorbar": {
             "outlinewidth": 0,
             "ticks": ""
            },
            "colorscale": [
             [
              0,
              "#0d0887"
             ],
             [
              0.1111111111111111,
              "#46039f"
             ],
             [
              0.2222222222222222,
              "#7201a8"
             ],
             [
              0.3333333333333333,
              "#9c179e"
             ],
             [
              0.4444444444444444,
              "#bd3786"
             ],
             [
              0.5555555555555556,
              "#d8576b"
             ],
             [
              0.6666666666666666,
              "#ed7953"
             ],
             [
              0.7777777777777778,
              "#fb9f3a"
             ],
             [
              0.8888888888888888,
              "#fdca26"
             ],
             [
              1,
              "#f0f921"
             ]
            ],
            "type": "contour"
           }
          ],
          "contourcarpet": [
           {
            "colorbar": {
             "outlinewidth": 0,
             "ticks": ""
            },
            "type": "contourcarpet"
           }
          ],
          "heatmap": [
           {
            "colorbar": {
             "outlinewidth": 0,
             "ticks": ""
            },
            "colorscale": [
             [
              0,
              "#0d0887"
             ],
             [
              0.1111111111111111,
              "#46039f"
             ],
             [
              0.2222222222222222,
              "#7201a8"
             ],
             [
              0.3333333333333333,
              "#9c179e"
             ],
             [
              0.4444444444444444,
              "#bd3786"
             ],
             [
              0.5555555555555556,
              "#d8576b"
             ],
             [
              0.6666666666666666,
              "#ed7953"
             ],
             [
              0.7777777777777778,
              "#fb9f3a"
             ],
             [
              0.8888888888888888,
              "#fdca26"
             ],
             [
              1,
              "#f0f921"
             ]
            ],
            "type": "heatmap"
           }
          ],
          "heatmapgl": [
           {
            "colorbar": {
             "outlinewidth": 0,
             "ticks": ""
            },
            "colorscale": [
             [
              0,
              "#0d0887"
             ],
             [
              0.1111111111111111,
              "#46039f"
             ],
             [
              0.2222222222222222,
              "#7201a8"
             ],
             [
              0.3333333333333333,
              "#9c179e"
             ],
             [
              0.4444444444444444,
              "#bd3786"
             ],
             [
              0.5555555555555556,
              "#d8576b"
             ],
             [
              0.6666666666666666,
              "#ed7953"
             ],
             [
              0.7777777777777778,
              "#fb9f3a"
             ],
             [
              0.8888888888888888,
              "#fdca26"
             ],
             [
              1,
              "#f0f921"
             ]
            ],
            "type": "heatmapgl"
           }
          ],
          "histogram": [
           {
            "marker": {
             "pattern": {
              "fillmode": "overlay",
              "size": 10,
              "solidity": 0.2
             }
            },
            "type": "histogram"
           }
          ],
          "histogram2d": [
           {
            "colorbar": {
             "outlinewidth": 0,
             "ticks": ""
            },
            "colorscale": [
             [
              0,
              "#0d0887"
             ],
             [
              0.1111111111111111,
              "#46039f"
             ],
             [
              0.2222222222222222,
              "#7201a8"
             ],
             [
              0.3333333333333333,
              "#9c179e"
             ],
             [
              0.4444444444444444,
              "#bd3786"
             ],
             [
              0.5555555555555556,
              "#d8576b"
             ],
             [
              0.6666666666666666,
              "#ed7953"
             ],
             [
              0.7777777777777778,
              "#fb9f3a"
             ],
             [
              0.8888888888888888,
              "#fdca26"
             ],
             [
              1,
              "#f0f921"
             ]
            ],
            "type": "histogram2d"
           }
          ],
          "histogram2dcontour": [
           {
            "colorbar": {
             "outlinewidth": 0,
             "ticks": ""
            },
            "colorscale": [
             [
              0,
              "#0d0887"
             ],
             [
              0.1111111111111111,
              "#46039f"
             ],
             [
              0.2222222222222222,
              "#7201a8"
             ],
             [
              0.3333333333333333,
              "#9c179e"
             ],
             [
              0.4444444444444444,
              "#bd3786"
             ],
             [
              0.5555555555555556,
              "#d8576b"
             ],
             [
              0.6666666666666666,
              "#ed7953"
             ],
             [
              0.7777777777777778,
              "#fb9f3a"
             ],
             [
              0.8888888888888888,
              "#fdca26"
             ],
             [
              1,
              "#f0f921"
             ]
            ],
            "type": "histogram2dcontour"
           }
          ],
          "mesh3d": [
           {
            "colorbar": {
             "outlinewidth": 0,
             "ticks": ""
            },
            "type": "mesh3d"
           }
          ],
          "parcoords": [
           {
            "line": {
             "colorbar": {
              "outlinewidth": 0,
              "ticks": ""
             }
            },
            "type": "parcoords"
           }
          ],
          "pie": [
           {
            "automargin": true,
            "type": "pie"
           }
          ],
          "scatter": [
           {
            "fillpattern": {
             "fillmode": "overlay",
             "size": 10,
             "solidity": 0.2
            },
            "type": "scatter"
           }
          ],
          "scatter3d": [
           {
            "line": {
             "colorbar": {
              "outlinewidth": 0,
              "ticks": ""
             }
            },
            "marker": {
             "colorbar": {
              "outlinewidth": 0,
              "ticks": ""
             }
            },
            "type": "scatter3d"
           }
          ],
          "scattercarpet": [
           {
            "marker": {
             "colorbar": {
              "outlinewidth": 0,
              "ticks": ""
             }
            },
            "type": "scattercarpet"
           }
          ],
          "scattergeo": [
           {
            "marker": {
             "colorbar": {
              "outlinewidth": 0,
              "ticks": ""
             }
            },
            "type": "scattergeo"
           }
          ],
          "scattergl": [
           {
            "marker": {
             "colorbar": {
              "outlinewidth": 0,
              "ticks": ""
             }
            },
            "type": "scattergl"
           }
          ],
          "scattermapbox": [
           {
            "marker": {
             "colorbar": {
              "outlinewidth": 0,
              "ticks": ""
             }
            },
            "type": "scattermapbox"
           }
          ],
          "scatterpolar": [
           {
            "marker": {
             "colorbar": {
              "outlinewidth": 0,
              "ticks": ""
             }
            },
            "type": "scatterpolar"
           }
          ],
          "scatterpolargl": [
           {
            "marker": {
             "colorbar": {
              "outlinewidth": 0,
              "ticks": ""
             }
            },
            "type": "scatterpolargl"
           }
          ],
          "scatterternary": [
           {
            "marker": {
             "colorbar": {
              "outlinewidth": 0,
              "ticks": ""
             }
            },
            "type": "scatterternary"
           }
          ],
          "surface": [
           {
            "colorbar": {
             "outlinewidth": 0,
             "ticks": ""
            },
            "colorscale": [
             [
              0,
              "#0d0887"
             ],
             [
              0.1111111111111111,
              "#46039f"
             ],
             [
              0.2222222222222222,
              "#7201a8"
             ],
             [
              0.3333333333333333,
              "#9c179e"
             ],
             [
              0.4444444444444444,
              "#bd3786"
             ],
             [
              0.5555555555555556,
              "#d8576b"
             ],
             [
              0.6666666666666666,
              "#ed7953"
             ],
             [
              0.7777777777777778,
              "#fb9f3a"
             ],
             [
              0.8888888888888888,
              "#fdca26"
             ],
             [
              1,
              "#f0f921"
             ]
            ],
            "type": "surface"
           }
          ],
          "table": [
           {
            "cells": {
             "fill": {
              "color": "#EBF0F8"
             },
             "line": {
              "color": "white"
             }
            },
            "header": {
             "fill": {
              "color": "#C8D4E3"
             },
             "line": {
              "color": "white"
             }
            },
            "type": "table"
           }
          ]
         },
         "layout": {
          "annotationdefaults": {
           "arrowcolor": "#2a3f5f",
           "arrowhead": 0,
           "arrowwidth": 1
          },
          "autotypenumbers": "strict",
          "coloraxis": {
           "colorbar": {
            "outlinewidth": 0,
            "ticks": ""
           }
          },
          "colorscale": {
           "diverging": [
            [
             0,
             "#8e0152"
            ],
            [
             0.1,
             "#c51b7d"
            ],
            [
             0.2,
             "#de77ae"
            ],
            [
             0.3,
             "#f1b6da"
            ],
            [
             0.4,
             "#fde0ef"
            ],
            [
             0.5,
             "#f7f7f7"
            ],
            [
             0.6,
             "#e6f5d0"
            ],
            [
             0.7,
             "#b8e186"
            ],
            [
             0.8,
             "#7fbc41"
            ],
            [
             0.9,
             "#4d9221"
            ],
            [
             1,
             "#276419"
            ]
           ],
           "sequential": [
            [
             0,
             "#0d0887"
            ],
            [
             0.1111111111111111,
             "#46039f"
            ],
            [
             0.2222222222222222,
             "#7201a8"
            ],
            [
             0.3333333333333333,
             "#9c179e"
            ],
            [
             0.4444444444444444,
             "#bd3786"
            ],
            [
             0.5555555555555556,
             "#d8576b"
            ],
            [
             0.6666666666666666,
             "#ed7953"
            ],
            [
             0.7777777777777778,
             "#fb9f3a"
            ],
            [
             0.8888888888888888,
             "#fdca26"
            ],
            [
             1,
             "#f0f921"
            ]
           ],
           "sequentialminus": [
            [
             0,
             "#0d0887"
            ],
            [
             0.1111111111111111,
             "#46039f"
            ],
            [
             0.2222222222222222,
             "#7201a8"
            ],
            [
             0.3333333333333333,
             "#9c179e"
            ],
            [
             0.4444444444444444,
             "#bd3786"
            ],
            [
             0.5555555555555556,
             "#d8576b"
            ],
            [
             0.6666666666666666,
             "#ed7953"
            ],
            [
             0.7777777777777778,
             "#fb9f3a"
            ],
            [
             0.8888888888888888,
             "#fdca26"
            ],
            [
             1,
             "#f0f921"
            ]
           ]
          },
          "colorway": [
           "#636efa",
           "#EF553B",
           "#00cc96",
           "#ab63fa",
           "#FFA15A",
           "#19d3f3",
           "#FF6692",
           "#B6E880",
           "#FF97FF",
           "#FECB52"
          ],
          "font": {
           "color": "#2a3f5f"
          },
          "geo": {
           "bgcolor": "white",
           "lakecolor": "white",
           "landcolor": "white",
           "showlakes": true,
           "showland": true,
           "subunitcolor": "#C8D4E3"
          },
          "hoverlabel": {
           "align": "left"
          },
          "hovermode": "closest",
          "mapbox": {
           "style": "light"
          },
          "paper_bgcolor": "white",
          "plot_bgcolor": "white",
          "polar": {
           "angularaxis": {
            "gridcolor": "#EBF0F8",
            "linecolor": "#EBF0F8",
            "ticks": ""
           },
           "bgcolor": "white",
           "radialaxis": {
            "gridcolor": "#EBF0F8",
            "linecolor": "#EBF0F8",
            "ticks": ""
           }
          },
          "scene": {
           "xaxis": {
            "backgroundcolor": "white",
            "gridcolor": "#DFE8F3",
            "gridwidth": 2,
            "linecolor": "#EBF0F8",
            "showbackground": true,
            "ticks": "",
            "zerolinecolor": "#EBF0F8"
           },
           "yaxis": {
            "backgroundcolor": "white",
            "gridcolor": "#DFE8F3",
            "gridwidth": 2,
            "linecolor": "#EBF0F8",
            "showbackground": true,
            "ticks": "",
            "zerolinecolor": "#EBF0F8"
           },
           "zaxis": {
            "backgroundcolor": "white",
            "gridcolor": "#DFE8F3",
            "gridwidth": 2,
            "linecolor": "#EBF0F8",
            "showbackground": true,
            "ticks": "",
            "zerolinecolor": "#EBF0F8"
           }
          },
          "shapedefaults": {
           "line": {
            "color": "#2a3f5f"
           }
          },
          "ternary": {
           "aaxis": {
            "gridcolor": "#DFE8F3",
            "linecolor": "#A2B1C6",
            "ticks": ""
           },
           "baxis": {
            "gridcolor": "#DFE8F3",
            "linecolor": "#A2B1C6",
            "ticks": ""
           },
           "bgcolor": "white",
           "caxis": {
            "gridcolor": "#DFE8F3",
            "linecolor": "#A2B1C6",
            "ticks": ""
           }
          },
          "title": {
           "x": 0.05
          },
          "xaxis": {
           "automargin": true,
           "gridcolor": "#EBF0F8",
           "linecolor": "#EBF0F8",
           "ticks": "",
           "title": {
            "standoff": 15
           },
           "zerolinecolor": "#EBF0F8",
           "zerolinewidth": 2
          },
          "yaxis": {
           "automargin": true,
           "gridcolor": "#EBF0F8",
           "linecolor": "#EBF0F8",
           "ticks": "",
           "title": {
            "standoff": 15
           },
           "zerolinecolor": "#EBF0F8",
           "zerolinewidth": 2
          }
         }
        },
        "title": {
         "font": {
          "color": "Black",
          "size": 22
         },
         "text": "<b>Topic Word Scores",
         "x": 0.5,
         "xanchor": "center",
         "yanchor": "top"
        },
        "width": 1000,
        "xaxis": {
         "anchor": "y",
         "domain": [
          0,
          0.175
         ],
         "showgrid": true
        },
        "xaxis2": {
         "anchor": "y2",
         "domain": [
          0.275,
          0.45
         ],
         "showgrid": true
        },
        "xaxis3": {
         "anchor": "y3",
         "domain": [
          0.55,
          0.7250000000000001
         ],
         "showgrid": true
        },
        "xaxis4": {
         "anchor": "y4",
         "domain": [
          0.825,
          1
         ],
         "showgrid": true
        },
        "xaxis5": {
         "anchor": "y5",
         "domain": [
          0,
          0.175
         ],
         "showgrid": true
        },
        "xaxis6": {
         "anchor": "y6",
         "domain": [
          0.275,
          0.45
         ],
         "showgrid": true
        },
        "xaxis7": {
         "anchor": "y7",
         "domain": [
          0.55,
          0.7250000000000001
         ],
         "showgrid": true
        },
        "xaxis8": {
         "anchor": "y8",
         "domain": [
          0.825,
          1
         ],
         "showgrid": true
        },
        "yaxis": {
         "anchor": "x",
         "domain": [
          0.6000000000000001,
          1
         ],
         "showgrid": true
        },
        "yaxis2": {
         "anchor": "x2",
         "domain": [
          0.6000000000000001,
          1
         ],
         "showgrid": true
        },
        "yaxis3": {
         "anchor": "x3",
         "domain": [
          0.6000000000000001,
          1
         ],
         "showgrid": true
        },
        "yaxis4": {
         "anchor": "x4",
         "domain": [
          0.6000000000000001,
          1
         ],
         "showgrid": true
        },
        "yaxis5": {
         "anchor": "x5",
         "domain": [
          0,
          0.4
         ],
         "showgrid": true
        },
        "yaxis6": {
         "anchor": "x6",
         "domain": [
          0,
          0.4
         ],
         "showgrid": true
        },
        "yaxis7": {
         "anchor": "x7",
         "domain": [
          0,
          0.4
         ],
         "showgrid": true
        },
        "yaxis8": {
         "anchor": "x8",
         "domain": [
          0,
          0.4
         ],
         "showgrid": true
        }
       }
      },
      "text/html": [
       "<div>                            <div id=\"7c2cba3e-9075-4947-a277-ef744aabd19d\" class=\"plotly-graph-div\" style=\"height:500px; width:1000px;\"></div>            <script type=\"text/javascript\">                require([\"plotly\"], function(Plotly) {                    window.PLOTLYENV=window.PLOTLYENV || {};                                    if (document.getElementById(\"7c2cba3e-9075-4947-a277-ef744aabd19d\")) {                    Plotly.newPlot(                        \"7c2cba3e-9075-4947-a277-ef744aabd19d\",                        [{\"marker\":{\"color\":\"#D55E00\"},\"orientation\":\"h\",\"x\":[0.038155195527327636,0.04245602070506377,0.04661840960063879,0.050621101420495404,0.06662003763708492],\"y\":[\"congratulations  \",\"india  \",\"you  \",\"mirabaichanu  \",\"proud  \"],\"type\":\"bar\",\"xaxis\":\"x\",\"yaxis\":\"y\"},{\"marker\":{\"color\":\"#0072B2\"},\"orientation\":\"h\",\"x\":[0.14761202819940394,0.15530839434485183,0.17423925999365372,0.17604117124363192,0.2137707042542223],\"y\":[\"mirabaichanu  \",\"49kg  \",\"lifting  \",\"hearty  \",\"puneethrajkumar  \"],\"type\":\"bar\",\"xaxis\":\"x2\",\"yaxis\":\"y2\"},{\"marker\":{\"color\":\"#CC79A7\"},\"orientation\":\"h\",\"x\":[0.02998448827556711,0.0310937461720994,0.03368341142997609,0.04017927181627168,0.06325862556844025],\"y\":[\"olympicgames  \",\"the  \",\"ceremony  \",\"tokyo2020  \",\"olympics  \"],\"type\":\"bar\",\"xaxis\":\"x3\",\"yaxis\":\"y3\"},{\"marker\":{\"color\":\"#E69F00\"},\"orientation\":\"h\",\"x\":[0.048173283886876334,0.05339586006365394,0.07239200345365533,0.10923608762399553,0.1120329092184678],\"y\":[\"okazawa  \",\"round  \",\"krishan  \",\"boxing  \",\"vikas  \"],\"type\":\"bar\",\"xaxis\":\"x4\",\"yaxis\":\"y4\"},{\"marker\":{\"color\":\"#56B4E9\"},\"orientation\":\"h\",\"x\":[0.02124491782325013,0.021489308617831666,0.024334861165676916,0.025032518362066325,0.06729770232680105],\"y\":[\"im  \",\"this  \",\"you  \",\"to  \",\"tokyo2020  \"],\"type\":\"bar\",\"xaxis\":\"x5\",\"yaxis\":\"y5\"},{\"marker\":{\"color\":\"#009E73\"},\"orientation\":\"h\",\"x\":[0.061322454046361045,0.06390436259272493,0.07171312143563767,0.07573822106770985,0.07983777123529544],\"y\":[\"weightlifter  \",\"wins  \",\"mirabai  \",\"chanu  \",\"medal  \"],\"type\":\"bar\",\"xaxis\":\"x6\",\"yaxis\":\"y6\"},{\"marker\":{\"color\":\"#F0E442\"},\"orientation\":\"h\",\"x\":[0.04414158768857651,0.06069160906212585,0.06545131967616516,0.07614786728559429,0.11763196436779313],\"y\":[\"sam  \",\"penalty  \",\"kerr  \",\"matildas  \",\"swevaus  \"],\"type\":\"bar\",\"xaxis\":\"x7\",\"yaxis\":\"y7\"},{\"marker\":{\"color\":\"#D55E00\"},\"orientation\":\"h\",\"x\":[0.04899440779623495,0.06464164133931055,0.07349228339408594,0.09921282820389378,0.11189285098383954],\"y\":[\"44  \",\"china  \",\"barbra  \",\"zambia  \",\"banda  \"],\"type\":\"bar\",\"xaxis\":\"x8\",\"yaxis\":\"y8\"}],                        {\"template\":{\"data\":{\"barpolar\":[{\"marker\":{\"line\":{\"color\":\"white\",\"width\":0.5},\"pattern\":{\"fillmode\":\"overlay\",\"size\":10,\"solidity\":0.2}},\"type\":\"barpolar\"}],\"bar\":[{\"error_x\":{\"color\":\"#2a3f5f\"},\"error_y\":{\"color\":\"#2a3f5f\"},\"marker\":{\"line\":{\"color\":\"white\",\"width\":0.5},\"pattern\":{\"fillmode\":\"overlay\",\"size\":10,\"solidity\":0.2}},\"type\":\"bar\"}],\"carpet\":[{\"aaxis\":{\"endlinecolor\":\"#2a3f5f\",\"gridcolor\":\"#C8D4E3\",\"linecolor\":\"#C8D4E3\",\"minorgridcolor\":\"#C8D4E3\",\"startlinecolor\":\"#2a3f5f\"},\"baxis\":{\"endlinecolor\":\"#2a3f5f\",\"gridcolor\":\"#C8D4E3\",\"linecolor\":\"#C8D4E3\",\"minorgridcolor\":\"#C8D4E3\",\"startlinecolor\":\"#2a3f5f\"},\"type\":\"carpet\"}],\"choropleth\":[{\"colorbar\":{\"outlinewidth\":0,\"ticks\":\"\"},\"type\":\"choropleth\"}],\"contourcarpet\":[{\"colorbar\":{\"outlinewidth\":0,\"ticks\":\"\"},\"type\":\"contourcarpet\"}],\"contour\":[{\"colorbar\":{\"outlinewidth\":0,\"ticks\":\"\"},\"colorscale\":[[0.0,\"#0d0887\"],[0.1111111111111111,\"#46039f\"],[0.2222222222222222,\"#7201a8\"],[0.3333333333333333,\"#9c179e\"],[0.4444444444444444,\"#bd3786\"],[0.5555555555555556,\"#d8576b\"],[0.6666666666666666,\"#ed7953\"],[0.7777777777777778,\"#fb9f3a\"],[0.8888888888888888,\"#fdca26\"],[1.0,\"#f0f921\"]],\"type\":\"contour\"}],\"heatmapgl\":[{\"colorbar\":{\"outlinewidth\":0,\"ticks\":\"\"},\"colorscale\":[[0.0,\"#0d0887\"],[0.1111111111111111,\"#46039f\"],[0.2222222222222222,\"#7201a8\"],[0.3333333333333333,\"#9c179e\"],[0.4444444444444444,\"#bd3786\"],[0.5555555555555556,\"#d8576b\"],[0.6666666666666666,\"#ed7953\"],[0.7777777777777778,\"#fb9f3a\"],[0.8888888888888888,\"#fdca26\"],[1.0,\"#f0f921\"]],\"type\":\"heatmapgl\"}],\"heatmap\":[{\"colorbar\":{\"outlinewidth\":0,\"ticks\":\"\"},\"colorscale\":[[0.0,\"#0d0887\"],[0.1111111111111111,\"#46039f\"],[0.2222222222222222,\"#7201a8\"],[0.3333333333333333,\"#9c179e\"],[0.4444444444444444,\"#bd3786\"],[0.5555555555555556,\"#d8576b\"],[0.6666666666666666,\"#ed7953\"],[0.7777777777777778,\"#fb9f3a\"],[0.8888888888888888,\"#fdca26\"],[1.0,\"#f0f921\"]],\"type\":\"heatmap\"}],\"histogram2dcontour\":[{\"colorbar\":{\"outlinewidth\":0,\"ticks\":\"\"},\"colorscale\":[[0.0,\"#0d0887\"],[0.1111111111111111,\"#46039f\"],[0.2222222222222222,\"#7201a8\"],[0.3333333333333333,\"#9c179e\"],[0.4444444444444444,\"#bd3786\"],[0.5555555555555556,\"#d8576b\"],[0.6666666666666666,\"#ed7953\"],[0.7777777777777778,\"#fb9f3a\"],[0.8888888888888888,\"#fdca26\"],[1.0,\"#f0f921\"]],\"type\":\"histogram2dcontour\"}],\"histogram2d\":[{\"colorbar\":{\"outlinewidth\":0,\"ticks\":\"\"},\"colorscale\":[[0.0,\"#0d0887\"],[0.1111111111111111,\"#46039f\"],[0.2222222222222222,\"#7201a8\"],[0.3333333333333333,\"#9c179e\"],[0.4444444444444444,\"#bd3786\"],[0.5555555555555556,\"#d8576b\"],[0.6666666666666666,\"#ed7953\"],[0.7777777777777778,\"#fb9f3a\"],[0.8888888888888888,\"#fdca26\"],[1.0,\"#f0f921\"]],\"type\":\"histogram2d\"}],\"histogram\":[{\"marker\":{\"pattern\":{\"fillmode\":\"overlay\",\"size\":10,\"solidity\":0.2}},\"type\":\"histogram\"}],\"mesh3d\":[{\"colorbar\":{\"outlinewidth\":0,\"ticks\":\"\"},\"type\":\"mesh3d\"}],\"parcoords\":[{\"line\":{\"colorbar\":{\"outlinewidth\":0,\"ticks\":\"\"}},\"type\":\"parcoords\"}],\"pie\":[{\"automargin\":true,\"type\":\"pie\"}],\"scatter3d\":[{\"line\":{\"colorbar\":{\"outlinewidth\":0,\"ticks\":\"\"}},\"marker\":{\"colorbar\":{\"outlinewidth\":0,\"ticks\":\"\"}},\"type\":\"scatter3d\"}],\"scattercarpet\":[{\"marker\":{\"colorbar\":{\"outlinewidth\":0,\"ticks\":\"\"}},\"type\":\"scattercarpet\"}],\"scattergeo\":[{\"marker\":{\"colorbar\":{\"outlinewidth\":0,\"ticks\":\"\"}},\"type\":\"scattergeo\"}],\"scattergl\":[{\"marker\":{\"colorbar\":{\"outlinewidth\":0,\"ticks\":\"\"}},\"type\":\"scattergl\"}],\"scattermapbox\":[{\"marker\":{\"colorbar\":{\"outlinewidth\":0,\"ticks\":\"\"}},\"type\":\"scattermapbox\"}],\"scatterpolargl\":[{\"marker\":{\"colorbar\":{\"outlinewidth\":0,\"ticks\":\"\"}},\"type\":\"scatterpolargl\"}],\"scatterpolar\":[{\"marker\":{\"colorbar\":{\"outlinewidth\":0,\"ticks\":\"\"}},\"type\":\"scatterpolar\"}],\"scatter\":[{\"fillpattern\":{\"fillmode\":\"overlay\",\"size\":10,\"solidity\":0.2},\"type\":\"scatter\"}],\"scatterternary\":[{\"marker\":{\"colorbar\":{\"outlinewidth\":0,\"ticks\":\"\"}},\"type\":\"scatterternary\"}],\"surface\":[{\"colorbar\":{\"outlinewidth\":0,\"ticks\":\"\"},\"colorscale\":[[0.0,\"#0d0887\"],[0.1111111111111111,\"#46039f\"],[0.2222222222222222,\"#7201a8\"],[0.3333333333333333,\"#9c179e\"],[0.4444444444444444,\"#bd3786\"],[0.5555555555555556,\"#d8576b\"],[0.6666666666666666,\"#ed7953\"],[0.7777777777777778,\"#fb9f3a\"],[0.8888888888888888,\"#fdca26\"],[1.0,\"#f0f921\"]],\"type\":\"surface\"}],\"table\":[{\"cells\":{\"fill\":{\"color\":\"#EBF0F8\"},\"line\":{\"color\":\"white\"}},\"header\":{\"fill\":{\"color\":\"#C8D4E3\"},\"line\":{\"color\":\"white\"}},\"type\":\"table\"}]},\"layout\":{\"annotationdefaults\":{\"arrowcolor\":\"#2a3f5f\",\"arrowhead\":0,\"arrowwidth\":1},\"autotypenumbers\":\"strict\",\"coloraxis\":{\"colorbar\":{\"outlinewidth\":0,\"ticks\":\"\"}},\"colorscale\":{\"diverging\":[[0,\"#8e0152\"],[0.1,\"#c51b7d\"],[0.2,\"#de77ae\"],[0.3,\"#f1b6da\"],[0.4,\"#fde0ef\"],[0.5,\"#f7f7f7\"],[0.6,\"#e6f5d0\"],[0.7,\"#b8e186\"],[0.8,\"#7fbc41\"],[0.9,\"#4d9221\"],[1,\"#276419\"]],\"sequential\":[[0.0,\"#0d0887\"],[0.1111111111111111,\"#46039f\"],[0.2222222222222222,\"#7201a8\"],[0.3333333333333333,\"#9c179e\"],[0.4444444444444444,\"#bd3786\"],[0.5555555555555556,\"#d8576b\"],[0.6666666666666666,\"#ed7953\"],[0.7777777777777778,\"#fb9f3a\"],[0.8888888888888888,\"#fdca26\"],[1.0,\"#f0f921\"]],\"sequentialminus\":[[0.0,\"#0d0887\"],[0.1111111111111111,\"#46039f\"],[0.2222222222222222,\"#7201a8\"],[0.3333333333333333,\"#9c179e\"],[0.4444444444444444,\"#bd3786\"],[0.5555555555555556,\"#d8576b\"],[0.6666666666666666,\"#ed7953\"],[0.7777777777777778,\"#fb9f3a\"],[0.8888888888888888,\"#fdca26\"],[1.0,\"#f0f921\"]]},\"colorway\":[\"#636efa\",\"#EF553B\",\"#00cc96\",\"#ab63fa\",\"#FFA15A\",\"#19d3f3\",\"#FF6692\",\"#B6E880\",\"#FF97FF\",\"#FECB52\"],\"font\":{\"color\":\"#2a3f5f\"},\"geo\":{\"bgcolor\":\"white\",\"lakecolor\":\"white\",\"landcolor\":\"white\",\"showlakes\":true,\"showland\":true,\"subunitcolor\":\"#C8D4E3\"},\"hoverlabel\":{\"align\":\"left\"},\"hovermode\":\"closest\",\"mapbox\":{\"style\":\"light\"},\"paper_bgcolor\":\"white\",\"plot_bgcolor\":\"white\",\"polar\":{\"angularaxis\":{\"gridcolor\":\"#EBF0F8\",\"linecolor\":\"#EBF0F8\",\"ticks\":\"\"},\"bgcolor\":\"white\",\"radialaxis\":{\"gridcolor\":\"#EBF0F8\",\"linecolor\":\"#EBF0F8\",\"ticks\":\"\"}},\"scene\":{\"xaxis\":{\"backgroundcolor\":\"white\",\"gridcolor\":\"#DFE8F3\",\"gridwidth\":2,\"linecolor\":\"#EBF0F8\",\"showbackground\":true,\"ticks\":\"\",\"zerolinecolor\":\"#EBF0F8\"},\"yaxis\":{\"backgroundcolor\":\"white\",\"gridcolor\":\"#DFE8F3\",\"gridwidth\":2,\"linecolor\":\"#EBF0F8\",\"showbackground\":true,\"ticks\":\"\",\"zerolinecolor\":\"#EBF0F8\"},\"zaxis\":{\"backgroundcolor\":\"white\",\"gridcolor\":\"#DFE8F3\",\"gridwidth\":2,\"linecolor\":\"#EBF0F8\",\"showbackground\":true,\"ticks\":\"\",\"zerolinecolor\":\"#EBF0F8\"}},\"shapedefaults\":{\"line\":{\"color\":\"#2a3f5f\"}},\"ternary\":{\"aaxis\":{\"gridcolor\":\"#DFE8F3\",\"linecolor\":\"#A2B1C6\",\"ticks\":\"\"},\"baxis\":{\"gridcolor\":\"#DFE8F3\",\"linecolor\":\"#A2B1C6\",\"ticks\":\"\"},\"bgcolor\":\"white\",\"caxis\":{\"gridcolor\":\"#DFE8F3\",\"linecolor\":\"#A2B1C6\",\"ticks\":\"\"}},\"title\":{\"x\":0.05},\"xaxis\":{\"automargin\":true,\"gridcolor\":\"#EBF0F8\",\"linecolor\":\"#EBF0F8\",\"ticks\":\"\",\"title\":{\"standoff\":15},\"zerolinecolor\":\"#EBF0F8\",\"zerolinewidth\":2},\"yaxis\":{\"automargin\":true,\"gridcolor\":\"#EBF0F8\",\"linecolor\":\"#EBF0F8\",\"ticks\":\"\",\"title\":{\"standoff\":15},\"zerolinecolor\":\"#EBF0F8\",\"zerolinewidth\":2}}},\"xaxis\":{\"anchor\":\"y\",\"domain\":[0.0,0.175],\"showgrid\":true},\"yaxis\":{\"anchor\":\"x\",\"domain\":[0.6000000000000001,1.0],\"showgrid\":true},\"xaxis2\":{\"anchor\":\"y2\",\"domain\":[0.275,0.45],\"showgrid\":true},\"yaxis2\":{\"anchor\":\"x2\",\"domain\":[0.6000000000000001,1.0],\"showgrid\":true},\"xaxis3\":{\"anchor\":\"y3\",\"domain\":[0.55,0.7250000000000001],\"showgrid\":true},\"yaxis3\":{\"anchor\":\"x3\",\"domain\":[0.6000000000000001,1.0],\"showgrid\":true},\"xaxis4\":{\"anchor\":\"y4\",\"domain\":[0.825,1.0],\"showgrid\":true},\"yaxis4\":{\"anchor\":\"x4\",\"domain\":[0.6000000000000001,1.0],\"showgrid\":true},\"xaxis5\":{\"anchor\":\"y5\",\"domain\":[0.0,0.175],\"showgrid\":true},\"yaxis5\":{\"anchor\":\"x5\",\"domain\":[0.0,0.4],\"showgrid\":true},\"xaxis6\":{\"anchor\":\"y6\",\"domain\":[0.275,0.45],\"showgrid\":true},\"yaxis6\":{\"anchor\":\"x6\",\"domain\":[0.0,0.4],\"showgrid\":true},\"xaxis7\":{\"anchor\":\"y7\",\"domain\":[0.55,0.7250000000000001],\"showgrid\":true},\"yaxis7\":{\"anchor\":\"x7\",\"domain\":[0.0,0.4],\"showgrid\":true},\"xaxis8\":{\"anchor\":\"y8\",\"domain\":[0.825,1.0],\"showgrid\":true},\"yaxis8\":{\"anchor\":\"x8\",\"domain\":[0.0,0.4],\"showgrid\":true},\"annotations\":[{\"font\":{\"size\":16},\"showarrow\":false,\"text\":\"Topic 0\",\"x\":0.0875,\"xanchor\":\"center\",\"xref\":\"paper\",\"y\":1.0,\"yanchor\":\"bottom\",\"yref\":\"paper\"},{\"font\":{\"size\":16},\"showarrow\":false,\"text\":\"Topic 1\",\"x\":0.36250000000000004,\"xanchor\":\"center\",\"xref\":\"paper\",\"y\":1.0,\"yanchor\":\"bottom\",\"yref\":\"paper\"},{\"font\":{\"size\":16},\"showarrow\":false,\"text\":\"Topic 2\",\"x\":0.6375000000000001,\"xanchor\":\"center\",\"xref\":\"paper\",\"y\":1.0,\"yanchor\":\"bottom\",\"yref\":\"paper\"},{\"font\":{\"size\":16},\"showarrow\":false,\"text\":\"Topic 3\",\"x\":0.9125,\"xanchor\":\"center\",\"xref\":\"paper\",\"y\":1.0,\"yanchor\":\"bottom\",\"yref\":\"paper\"},{\"font\":{\"size\":16},\"showarrow\":false,\"text\":\"Topic 4\",\"x\":0.0875,\"xanchor\":\"center\",\"xref\":\"paper\",\"y\":0.4,\"yanchor\":\"bottom\",\"yref\":\"paper\"},{\"font\":{\"size\":16},\"showarrow\":false,\"text\":\"Topic 5\",\"x\":0.36250000000000004,\"xanchor\":\"center\",\"xref\":\"paper\",\"y\":0.4,\"yanchor\":\"bottom\",\"yref\":\"paper\"},{\"font\":{\"size\":16},\"showarrow\":false,\"text\":\"Topic 6\",\"x\":0.6375000000000001,\"xanchor\":\"center\",\"xref\":\"paper\",\"y\":0.4,\"yanchor\":\"bottom\",\"yref\":\"paper\"},{\"font\":{\"size\":16},\"showarrow\":false,\"text\":\"Topic 7\",\"x\":0.9125,\"xanchor\":\"center\",\"xref\":\"paper\",\"y\":0.4,\"yanchor\":\"bottom\",\"yref\":\"paper\"}],\"title\":{\"font\":{\"size\":22,\"color\":\"Black\"},\"text\":\"<b>Topic Word Scores\",\"x\":0.5,\"xanchor\":\"center\",\"yanchor\":\"top\"},\"hoverlabel\":{\"font\":{\"size\":16,\"family\":\"Rockwell\"},\"bgcolor\":\"white\"},\"showlegend\":false,\"width\":1000,\"height\":500},                        {\"responsive\": true}                    ).then(function(){\n",
       "                            \n",
       "var gd = document.getElementById('7c2cba3e-9075-4947-a277-ef744aabd19d');\n",
       "var x = new MutationObserver(function (mutations, observer) {{\n",
       "        var display = window.getComputedStyle(gd).display;\n",
       "        if (!display || display === 'none') {{\n",
       "            console.log([gd, 'removed!']);\n",
       "            Plotly.purge(gd);\n",
       "            observer.disconnect();\n",
       "        }}\n",
       "}});\n",
       "\n",
       "// Listen for the removal of the full notebook cells\n",
       "var notebookContainer = gd.closest('#notebook-container');\n",
       "if (notebookContainer) {{\n",
       "    x.observe(notebookContainer, {childList: true});\n",
       "}}\n",
       "\n",
       "// Listen for the clearing of the current output cell\n",
       "var outputEl = gd.closest('.output');\n",
       "if (outputEl) {{\n",
       "    x.observe(outputEl, {childList: true});\n",
       "}}\n",
       "\n",
       "                        })                };                });            </script>        </div>"
      ]
     },
     "metadata": {},
     "output_type": "display_data"
    }
   ],
   "source": [
    "model.visualize_barchart()"
   ]
  },
  {
   "cell_type": "code",
   "execution_count": 70,
   "metadata": {},
   "outputs": [
    {
     "data": {
      "application/vnd.plotly.v1+json": {
       "config": {
        "plotlyServerURL": "https://plot.ly"
       },
       "data": [
        {
         "coloraxis": "coloraxis",
         "hovertemplate": "x: %{x}<br>y: %{y}<br>Similarity Score: %{z}<extra></extra>",
         "name": "0",
         "type": "heatmap",
         "x": [
          "0_proud_mirabaichanu_you",
          "1_puneethrajkumar_hearty_li...",
          "2_olympics_tokyo2020_ceremony",
          "3_vikas_boxing_krishan",
          "4_tokyo2020_to_you",
          "5_medal_chanu_mirabai",
          "6_swevaus_matildas_kerr",
          "7_banda_zambia_barbra",
          "8_smith_clareburt_400m",
          "9_weightlifting_silver_winn...",
          "10_badminton_doubles_peng",
          "11_swimming_tokyo2020_is",
          "12_road_race_carapaz",
          "13_saikhom_mirabai_chanu",
          "14_sweden_rolfo_australia",
          "15_ongoing_indias_many",
          "16_weightlifting_mirabaicha...",
          "17_football_japan_netherlands",
          "18_gold_kosovo_distria",
          "19_live_q2_11",
          "20_judo_takato_gold",
          "21_hockey_south_africa",
          "22_silver_winning_congratul...",
          "23_sutirtha_mukherjee_table...",
          "24_100m_butterfly_heat",
          "25_tennis_singles_nagalsumit",
          "26_teamgb_japan_football",
          "27_mediasai_railminindia_im...",
          "28_rule_remedy_butterfly",
          "29_yulo_rings_caloy"
         ],
         "xaxis": "x",
         "y": [
          "0_proud_mirabaichanu_you",
          "1_puneethrajkumar_hearty_li...",
          "2_olympics_tokyo2020_ceremony",
          "3_vikas_boxing_krishan",
          "4_tokyo2020_to_you",
          "5_medal_chanu_mirabai",
          "6_swevaus_matildas_kerr",
          "7_banda_zambia_barbra",
          "8_smith_clareburt_400m",
          "9_weightlifting_silver_winn...",
          "10_badminton_doubles_peng",
          "11_swimming_tokyo2020_is",
          "12_road_race_carapaz",
          "13_saikhom_mirabai_chanu",
          "14_sweden_rolfo_australia",
          "15_ongoing_indias_many",
          "16_weightlifting_mirabaicha...",
          "17_football_japan_netherlands",
          "18_gold_kosovo_distria",
          "19_live_q2_11",
          "20_judo_takato_gold",
          "21_hockey_south_africa",
          "22_silver_winning_congratul...",
          "23_sutirtha_mukherjee_table...",
          "24_100m_butterfly_heat",
          "25_tennis_singles_nagalsumit",
          "26_teamgb_japan_football",
          "27_mediasai_railminindia_im...",
          "28_rule_remedy_butterfly",
          "29_yulo_rings_caloy"
         ],
         "yaxis": "y",
         "z": [
          [
           1.0000000000000004,
           0.8048541980205741,
           0.6959720646337849,
           0.7494065063039391,
           0.6615273212525233,
           0.8739816424872558,
           0.7286071552297004,
           0.6818849103984298,
           0.6817958034036533,
           0.6414356291367131,
           0.8234859880901639,
           0.6383976883091844,
           0.66351893596945,
           0.6772105908365176,
           0.7499516869455058,
           0.5896304160511663,
           0.8042024852166068,
           0.739837507453599,
           0.6698757401340116,
           0.6064257337700771,
           0.7001339449768289,
           0.5947232312047741,
           0.6777673607584572,
           0.671471986965819,
           0.6704105556671069,
           0.6482558854512207,
           0.6528742525521619,
           0.6573064389695732,
           0.5138451924950544,
           0.7121586486758977
          ],
          [
           0.8048541980205741,
           1.0000000000000002,
           0.7765427335752555,
           0.6523141428411904,
           0.6586450857928401,
           0.7968912313410537,
           0.842881382339736,
           0.7006063107091929,
           0.7488428809155709,
           0.6138229678309813,
           0.8412387400410868,
           0.662490024251942,
           0.5972744834360524,
           0.6529258981852094,
           0.8517763565035594,
           0.6678142458463805,
           0.8815976390312066,
           0.8632730521276655,
           0.691915670471901,
           0.6583242290808328,
           0.6673254740388346,
           0.6293016868517721,
           0.6897484795300195,
           0.7960188855524781,
           0.7145844906914137,
           0.6066552336370312,
           0.6346330150638863,
           0.658245196318499,
           0.6142494506815328,
           0.6732666543626861
          ],
          [
           0.6959720646337849,
           0.7765427335752555,
           0.9999999999999998,
           0.6077513307266955,
           0.6462696804124825,
           0.6554202635218456,
           0.808846835277134,
           0.6817472144748171,
           0.6795952510829434,
           0.6771487586306474,
           0.8390260661952166,
           0.68286437104963,
           0.6281874691562246,
           0.6501894675450963,
           0.7760967245905714,
           0.5978374381977503,
           0.7770209677607605,
           0.8466329909167648,
           0.6477493691012322,
           0.6797140688884984,
           0.6465052403039286,
           0.654178773075959,
           0.6475601693940651,
           0.730951460803827,
           0.7161092572080017,
           0.6719281424846686,
           0.6613806999974183,
           0.5955968248918174,
           0.6397713807780334,
           0.6910331306157921
          ],
          [
           0.7494065063039391,
           0.6523141428411904,
           0.6077513307266955,
           1.0000000000000004,
           0.6468592365559451,
           0.7372471084962592,
           0.693692261736581,
           0.602662689354784,
           0.6405069587919678,
           0.6208198773225999,
           0.6890254633307444,
           0.6699280485993276,
           0.7564141114140503,
           0.6686520781539276,
           0.6107842396547241,
           0.556202833049575,
           0.6989680539562206,
           0.7023643921230925,
           0.6786074532114807,
           0.6339320868234988,
           0.607012846110563,
           0.6961189829655249,
           0.7229909952456672,
           0.6539387426600333,
           0.6062224687169367,
           0.6075582027426673,
           0.6646315143337509,
           0.6654386114222797,
           0.5520524516506287,
           0.6144993862870886
          ],
          [
           0.6615273212525233,
           0.6586450857928401,
           0.6462696804124825,
           0.6468592365559451,
           0.9999999999999999,
           0.6507864204125214,
           0.7483436766155978,
           0.6906282497287878,
           0.6771779832857497,
           0.6842782333423663,
           0.7133639745284075,
           0.7127361891390909,
           0.5918319634474005,
           0.6910812929555556,
           0.7014364068523087,
           0.5969656264310752,
           0.7082348314199498,
           0.725218432543493,
           0.6304196044386559,
           0.7197138068575539,
           0.621526592817308,
           0.7168306806081333,
           0.6631561692057828,
           0.7257511727685483,
           0.7653957365229516,
           0.6594992653399501,
           0.687989781510766,
           0.6118293435742774,
           0.5921489673861908,
           0.6290518246081795
          ],
          [
           0.8739816424872558,
           0.7968912313410537,
           0.6554202635218456,
           0.7372471084962592,
           0.6507864204125214,
           1.0000000000000004,
           0.7160765901457156,
           0.6687453969438394,
           0.6664060984585026,
           0.5876004846270114,
           0.7276661971154603,
           0.6470710284697203,
           0.6358244813823395,
           0.6562410737432482,
           0.7279450701613972,
           0.5753468659475471,
           0.7378304626869324,
           0.6735182169634153,
           0.6484529753489501,
           0.6200490229527714,
           0.7067289895409095,
           0.635851211423017,
           0.6559297541253584,
           0.6457710345702519,
           0.6648338885969872,
           0.620573509691309,
           0.5947325047644084,
           0.7088075427289685,
           0.5566357046164119,
           0.6905650016601332
          ],
          [
           0.7286071552297004,
           0.842881382339736,
           0.808846835277134,
           0.693692261736581,
           0.7483436766155978,
           0.7160765901457156,
           1.0000000000000004,
           0.7554402577469014,
           0.7790721425236105,
           0.708844976536649,
           0.8583311453626168,
           0.7718135277481778,
           0.6320209410936849,
           0.7041419772185473,
           0.8559165374856583,
           0.6664082280472767,
           0.8587611737340346,
           0.9229457495643442,
           0.7217904342929028,
           0.7424514890857702,
           0.6731673248701714,
           0.735004387274135,
           0.7279342173044111,
           0.8689224802687752,
           0.7838841819256118,
           0.6990048359686056,
           0.7221017492351274,
           0.7032779895968634,
           0.665080428444246,
           0.7192249340652106
          ],
          [
           0.6818849103984298,
           0.7006063107091929,
           0.6817472144748171,
           0.602662689354784,
           0.6906282497287878,
           0.6687453969438394,
           0.7554402577469014,
           1,
           0.6779670711055865,
           0.659397273668652,
           0.6980692899016264,
           0.6857418256072636,
           0.5632747687700757,
           0.643464390457975,
           0.7418765486808625,
           0.7771444406819114,
           0.7101627511714058,
           0.6960463813918933,
           0.618753120463337,
           0.6527921044219014,
           0.6189124205109423,
           0.6356808133094505,
           0.676723359572375,
           0.6970871475884428,
           0.7366836900135417,
           0.6548698323052317,
           0.6473427842407956,
           0.5829481907490878,
           0.6097467759667967,
           0.6456638003836576
          ],
          [
           0.6817958034036533,
           0.7488428809155709,
           0.6795952510829434,
           0.6405069587919678,
           0.6771779832857497,
           0.6664060984585026,
           0.7790721425236105,
           0.6779670711055865,
           0.9999999999999999,
           0.6514535117778135,
           0.6911640519507967,
           0.7397017522291213,
           0.5424360822767839,
           0.6607643330962942,
           0.7677558672985807,
           0.712591014407012,
           0.7354119209020836,
           0.7212682660154226,
           0.7280006337859036,
           0.6890779388711781,
           0.6305164960770089,
           0.6722833858787252,
           0.7767058073619001,
           0.72046585587985,
           0.7175095252861812,
           0.6539620637712753,
           0.6074398084741466,
           0.7089075374585563,
           0.5842614896295129,
           0.6846381138365599
          ],
          [
           0.6414356291367131,
           0.6138229678309813,
           0.6771487586306474,
           0.6208198773225999,
           0.6842782333423663,
           0.5876004846270114,
           0.708844976536649,
           0.659397273668652,
           0.6514535117778135,
           1.000000000000001,
           0.728436201479766,
           0.6809744097729711,
           0.7583253719663645,
           0.7345412210203236,
           0.6715680833823825,
           0.6327061873986786,
           0.658932899215501,
           0.7077402182090887,
           0.6642969154231196,
           0.643865532702895,
           0.637129272476676,
           0.6356969451563487,
           0.6982554325658913,
           0.7070639931297527,
           0.7023841931300593,
           0.8267292105211314,
           0.7156704373092945,
           0.6274835641629878,
           0.5358595972978799,
           0.7530896801471922
          ],
          [
           0.8234859880901639,
           0.8412387400410868,
           0.8390260661952166,
           0.6890254633307444,
           0.7133639745284075,
           0.7276661971154603,
           0.8583311453626168,
           0.6980692899016264,
           0.6911640519507967,
           0.728436201479766,
           0.9999999999999998,
           0.7007768268222783,
           0.672148259510517,
           0.70140300865913,
           0.7877009524554248,
           0.6064452006911714,
           0.8555967547838347,
           0.9418116813725524,
           0.6729031004820334,
           0.6843386102427687,
           0.6898410703373254,
           0.6504463531833539,
           0.6784791288447819,
           0.8422024743149151,
           0.7214968994023715,
           0.7032320448843027,
           0.7217379355264586,
           0.640554654580747,
           0.5502222731396916,
           0.7288211372671289
          ],
          [
           0.6383976883091844,
           0.662490024251942,
           0.68286437104963,
           0.6699280485993276,
           0.7127361891390909,
           0.6470710284697203,
           0.7718135277481778,
           0.6857418256072636,
           0.7397017522291213,
           0.6809744097729711,
           0.7007768268222783,
           1.0000000000000002,
           0.6478367908598521,
           0.6239573021289573,
           0.7380560102128781,
           0.5880576923210626,
           0.6983236464787499,
           0.7291960271214699,
           0.6518861545483577,
           0.6649923845113206,
           0.6164713898687402,
           0.7001148068369298,
           0.683330742068905,
           0.7114077416095992,
           0.7326891325084863,
           0.6567374921612987,
           0.7494680382415321,
           0.6851739758825415,
           0.598154875506549,
           0.6751400511598731
          ],
          [
           0.66351893596945,
           0.5972744834360524,
           0.6281874691562246,
           0.7564141114140503,
           0.5918319634474005,
           0.6358244813823395,
           0.6320209410936849,
           0.5632747687700757,
           0.5424360822767839,
           0.7583253719663645,
           0.672148259510517,
           0.6478367908598521,
           0.9999999999999999,
           0.6684152006434503,
           0.5695294867728296,
           0.5247418164829101,
           0.6213017824303384,
           0.6773667044792309,
           0.6512832302281326,
           0.5819490366795816,
           0.5645611544587349,
           0.6405318354931491,
           0.6952271060262306,
           0.5865106057232051,
           0.5906160501659165,
           0.7006466762151708,
           0.6803786491693414,
           0.6172815578087163,
           0.5028590784021472,
           0.6556039744756348
          ],
          [
           0.6772105908365176,
           0.6529258981852094,
           0.6501894675450963,
           0.6686520781539276,
           0.6910812929555556,
           0.6562410737432482,
           0.7041419772185473,
           0.643464390457975,
           0.6607643330962942,
           0.7345412210203236,
           0.70140300865913,
           0.6239573021289573,
           0.6684152006434503,
           1.0000000000000002,
           0.6520373020666816,
           0.6280463452170116,
           0.6990499575644062,
           0.6990861016819941,
           0.6779638436982149,
           0.642791168268784,
           0.6372842968182766,
           0.5965606364444028,
           0.7499760373988259,
           0.6999110920465139,
           0.6916703402062738,
           0.6882067290764775,
           0.7014359881848885,
           0.6208682937108532,
           0.5361372536721616,
           0.6944313579839051
          ],
          [
           0.7499516869455058,
           0.8517763565035594,
           0.7760967245905714,
           0.6107842396547241,
           0.7014364068523087,
           0.7279450701613972,
           0.8559165374856583,
           0.7418765486808625,
           0.7677558672985807,
           0.6715680833823825,
           0.7877009524554248,
           0.7380560102128781,
           0.5695294867728296,
           0.6520373020666816,
           1.0000000000000002,
           0.6664731084837999,
           0.8285932884651526,
           0.8136868001826902,
           0.6590184312778434,
           0.6769640205908087,
           0.6638889442400822,
           0.6802422233949077,
           0.6723773927511483,
           0.7916180466488394,
           0.7683979759348587,
           0.6609983447692642,
           0.6717106390701038,
           0.6537755265823211,
           0.6728903683091948,
           0.6938228172187154
          ],
          [
           0.5896304160511663,
           0.6678142458463805,
           0.5978374381977503,
           0.556202833049575,
           0.5969656264310752,
           0.5753468659475471,
           0.6664082280472767,
           0.7771444406819114,
           0.712591014407012,
           0.6327061873986786,
           0.6064452006911714,
           0.5880576923210626,
           0.5247418164829101,
           0.6280463452170116,
           0.6664731084837999,
           0.9999999999999998,
           0.6465096493814323,
           0.6418601843469574,
           0.7169718602467219,
           0.6396683267434049,
           0.5756341855876767,
           0.5945671964430421,
           0.7596702102283306,
           0.5939368527590095,
           0.7199396799106559,
           0.6053977815798849,
           0.5740977312823042,
           0.5933292804337189,
           0.5588140158412382,
           0.6003392940525478
          ],
          [
           0.8042024852166068,
           0.8815976390312066,
           0.7770209677607605,
           0.6989680539562206,
           0.7082348314199498,
           0.7378304626869324,
           0.8587611737340346,
           0.7101627511714058,
           0.7354119209020836,
           0.658932899215501,
           0.8555967547838347,
           0.6983236464787499,
           0.6213017824303384,
           0.6990499575644062,
           0.8285932884651526,
           0.6465096493814323,
           1,
           0.8706448436808738,
           0.7351603632624596,
           0.6780413903512997,
           0.7240760663685981,
           0.6460332390085944,
           0.7293523266165944,
           0.814446288903638,
           0.7458508501786435,
           0.6427255111284844,
           0.7234757523494003,
           0.6825907036545613,
           0.6206804096067201,
           0.724693827661827
          ],
          [
           0.739837507453599,
           0.8632730521276655,
           0.8466329909167648,
           0.7023643921230925,
           0.725218432543493,
           0.6735182169634153,
           0.9229457495643442,
           0.6960463813918933,
           0.7212682660154226,
           0.7077402182090887,
           0.9418116813725524,
           0.7291960271214699,
           0.6773667044792309,
           0.6990861016819941,
           0.8136868001826902,
           0.6418601843469574,
           0.8706448436808738,
           1,
           0.7041555816805513,
           0.7177573328489297,
           0.6471023333446121,
           0.7054683494532884,
           0.7204293640581249,
           0.8672959302771852,
           0.7406273057918502,
           0.6809361837715484,
           0.7264963958260916,
           0.658332632029977,
           0.6268266902735713,
           0.6979375633691125
          ],
          [
           0.6698757401340116,
           0.691915670471901,
           0.6477493691012322,
           0.6786074532114807,
           0.6304196044386559,
           0.6484529753489501,
           0.7217904342929028,
           0.618753120463337,
           0.7280006337859036,
           0.6642969154231196,
           0.6729031004820334,
           0.6518861545483577,
           0.6512832302281326,
           0.6779638436982149,
           0.6590184312778434,
           0.7169718602467219,
           0.7351603632624596,
           0.7041555816805513,
           1,
           0.6395579472968584,
           0.6300187235881031,
           0.6536281668140239,
           0.8309212699712614,
           0.6373377214717483,
           0.6432244162166374,
           0.6292219320145719,
           0.6661801149254888,
           0.841928184618837,
           0.5097933072872564,
           0.6690505125832042
          ],
          [
           0.6064257337700771,
           0.6583242290808328,
           0.6797140688884984,
           0.6339320868234988,
           0.7197138068575539,
           0.6200490229527714,
           0.7424514890857702,
           0.6527921044219014,
           0.6890779388711781,
           0.643865532702895,
           0.6843386102427687,
           0.6649923845113206,
           0.5819490366795816,
           0.642791168268784,
           0.6769640205908087,
           0.6396683267434049,
           0.6780413903512997,
           0.7177573328489297,
           0.6395579472968584,
           1,
           0.6071630423442134,
           0.8086718548983782,
           0.6627840664296165,
           0.738362928105998,
           0.7288830896512364,
           0.6290637915382028,
           0.6530430779482045,
           0.613919541854243,
           0.6809405329645637,
           0.6510934856502841
          ],
          [
           0.7001339449768289,
           0.6673254740388346,
           0.6465052403039286,
           0.607012846110563,
           0.621526592817308,
           0.7067289895409095,
           0.6731673248701714,
           0.6189124205109423,
           0.6305164960770089,
           0.637129272476676,
           0.6898410703373254,
           0.6164713898687402,
           0.5645611544587349,
           0.6372842968182766,
           0.6638889442400822,
           0.5756341855876767,
           0.7240760663685981,
           0.6471023333446121,
           0.6300187235881031,
           0.6071630423442134,
           1.0000000000000004,
           0.537230776939537,
           0.6686362652044759,
           0.6684870672100391,
           0.6296605744210992,
           0.6534988152884667,
           0.6184125105858113,
           0.6322650497445639,
           0.5081075008350949,
           0.7437371508392283
          ],
          [
           0.5947232312047741,
           0.6293016868517721,
           0.654178773075959,
           0.6961189829655249,
           0.7168306806081333,
           0.635851211423017,
           0.735004387274135,
           0.6356808133094505,
           0.6722833858787252,
           0.6356969451563487,
           0.6504463531833539,
           0.7001148068369298,
           0.6405318354931491,
           0.5965606364444028,
           0.6802422233949077,
           0.5945671964430421,
           0.6460332390085944,
           0.7054683494532884,
           0.6536281668140239,
           0.8086718548983782,
           0.537230776939537,
           0.9999999999999996,
           0.6544847313780598,
           0.6631383282612678,
           0.6807095073119165,
           0.5985330102238818,
           0.6227280941083936,
           0.6585800194841027,
           0.6412040508238417,
           0.5873600175987311
          ],
          [
           0.6777673607584572,
           0.6897484795300195,
           0.6475601693940651,
           0.7229909952456672,
           0.6631561692057828,
           0.6559297541253584,
           0.7279342173044111,
           0.676723359572375,
           0.7767058073619001,
           0.6982554325658913,
           0.6784791288447819,
           0.683330742068905,
           0.6952271060262306,
           0.7499760373988259,
           0.6723773927511483,
           0.7596702102283306,
           0.7293523266165944,
           0.7204293640581249,
           0.8309212699712614,
           0.6627840664296165,
           0.6686362652044759,
           0.6544847313780598,
           0.9999999999999998,
           0.6742664706471473,
           0.6870053143949212,
           0.6625056117404529,
           0.6888064158575151,
           0.7336645957025574,
           0.5603737686458274,
           0.6945520659121559
          ],
          [
           0.671471986965819,
           0.7960188855524781,
           0.730951460803827,
           0.6539387426600333,
           0.7257511727685483,
           0.6457710345702519,
           0.8689224802687752,
           0.6970871475884428,
           0.72046585587985,
           0.7070639931297527,
           0.8422024743149151,
           0.7114077416095992,
           0.5865106057232051,
           0.6999110920465139,
           0.7916180466488394,
           0.5939368527590095,
           0.814446288903638,
           0.8672959302771852,
           0.6373377214717483,
           0.738362928105998,
           0.6684870672100391,
           0.6631383282612678,
           0.6742664706471473,
           0.9999999999999998,
           0.7563837476773245,
           0.6945162532291234,
           0.7102698070515023,
           0.6262626266184448,
           0.6199441478647364,
           0.7029606023205953
          ],
          [
           0.6704105556671069,
           0.7145844906914137,
           0.7161092572080017,
           0.6062224687169367,
           0.7653957365229516,
           0.6648338885969872,
           0.7838841819256118,
           0.7366836900135417,
           0.7175095252861812,
           0.7023841931300593,
           0.7214968994023715,
           0.7326891325084863,
           0.5906160501659165,
           0.6916703402062738,
           0.7683979759348587,
           0.7199396799106559,
           0.7458508501786435,
           0.7406273057918502,
           0.6432244162166374,
           0.7288830896512364,
           0.6296605744210992,
           0.6807095073119165,
           0.6870053143949212,
           0.7563837476773245,
           1,
           0.6924247077098029,
           0.7669735284457455,
           0.6251561132435397,
           0.7070020647461932,
           0.708364148216642
          ],
          [
           0.6482558854512207,
           0.6066552336370312,
           0.6719281424846686,
           0.6075582027426673,
           0.6594992653399501,
           0.620573509691309,
           0.6990048359686056,
           0.6548698323052317,
           0.6539620637712753,
           0.8267292105211314,
           0.7032320448843027,
           0.6567374921612987,
           0.7006466762151708,
           0.6882067290764775,
           0.6609983447692642,
           0.6053977815798849,
           0.6427255111284844,
           0.6809361837715484,
           0.6292219320145719,
           0.6290637915382028,
           0.6534988152884667,
           0.5985330102238818,
           0.6625056117404529,
           0.6945162532291234,
           0.6924247077098029,
           1.0000000000000002,
           0.6501959225477352,
           0.5858809961644401,
           0.49637553596384276,
           0.8307570572599994
          ],
          [
           0.6528742525521619,
           0.6346330150638863,
           0.6613806999974183,
           0.6646315143337509,
           0.687989781510766,
           0.5947325047644084,
           0.7221017492351274,
           0.6473427842407956,
           0.6074398084741466,
           0.7156704373092945,
           0.7217379355264586,
           0.7494680382415321,
           0.6803786491693414,
           0.7014359881848885,
           0.6717106390701038,
           0.5740977312823042,
           0.7234757523494003,
           0.7264963958260916,
           0.6661801149254888,
           0.6530430779482045,
           0.6184125105858113,
           0.6227280941083936,
           0.6888064158575151,
           0.7102698070515023,
           0.7669735284457455,
           0.6501959225477352,
           0.9999999999999994,
           0.5931740405898016,
           0.6110871713159112,
           0.6800567182735603
          ],
          [
           0.6573064389695732,
           0.658245196318499,
           0.5955968248918174,
           0.6654386114222797,
           0.6118293435742774,
           0.7088075427289685,
           0.7032779895968634,
           0.5829481907490878,
           0.7089075374585563,
           0.6274835641629878,
           0.640554654580747,
           0.6851739758825415,
           0.6172815578087163,
           0.6208682937108532,
           0.6537755265823211,
           0.5933292804337189,
           0.6825907036545613,
           0.658332632029977,
           0.841928184618837,
           0.613919541854243,
           0.6322650497445639,
           0.6585800194841027,
           0.7336645957025574,
           0.6262626266184448,
           0.6251561132435397,
           0.5858809961644401,
           0.5931740405898016,
           0.9999999999999998,
           0.5320388208876162,
           0.6302103032935755
          ],
          [
           0.5138451924950544,
           0.6142494506815328,
           0.6397713807780334,
           0.5520524516506287,
           0.5921489673861908,
           0.5566357046164119,
           0.665080428444246,
           0.6097467759667967,
           0.5842614896295129,
           0.5358595972978799,
           0.5502222731396916,
           0.598154875506549,
           0.5028590784021472,
           0.5361372536721616,
           0.6728903683091948,
           0.5588140158412382,
           0.6206804096067201,
           0.6268266902735713,
           0.5097933072872564,
           0.6809405329645637,
           0.5081075008350949,
           0.6412040508238417,
           0.5603737686458274,
           0.6199441478647364,
           0.7070020647461932,
           0.49637553596384276,
           0.6110871713159112,
           0.5320388208876162,
           1.0000000000000002,
           0.5175460329719814
          ],
          [
           0.7121586486758977,
           0.6732666543626861,
           0.6910331306157921,
           0.6144993862870886,
           0.6290518246081795,
           0.6905650016601332,
           0.7192249340652106,
           0.6456638003836576,
           0.6846381138365599,
           0.7530896801471922,
           0.7288211372671289,
           0.6751400511598731,
           0.6556039744756348,
           0.6944313579839051,
           0.6938228172187154,
           0.6003392940525478,
           0.724693827661827,
           0.6979375633691125,
           0.6690505125832042,
           0.6510934856502841,
           0.7437371508392283,
           0.5873600175987311,
           0.6945520659121559,
           0.7029606023205953,
           0.708364148216642,
           0.8307570572599994,
           0.6800567182735603,
           0.6302103032935755,
           0.5175460329719814,
           0.9999999999999998
          ]
         ]
        }
       ],
       "layout": {
        "coloraxis": {
         "colorbar": {
          "title": {
           "text": "Similarity Score"
          }
         },
         "colorscale": [
          [
           0,
           "rgb(247,252,240)"
          ],
          [
           0.125,
           "rgb(224,243,219)"
          ],
          [
           0.25,
           "rgb(204,235,197)"
          ],
          [
           0.375,
           "rgb(168,221,181)"
          ],
          [
           0.5,
           "rgb(123,204,196)"
          ],
          [
           0.625,
           "rgb(78,179,211)"
          ],
          [
           0.75,
           "rgb(43,140,190)"
          ],
          [
           0.875,
           "rgb(8,104,172)"
          ],
          [
           1,
           "rgb(8,64,129)"
          ]
         ]
        },
        "height": 800,
        "hoverlabel": {
         "bgcolor": "white",
         "font": {
          "family": "Rockwell",
          "size": 16
         }
        },
        "legend": {
         "title": {
          "text": "Trend"
         }
        },
        "margin": {
         "t": 60
        },
        "showlegend": true,
        "template": {
         "data": {
          "bar": [
           {
            "error_x": {
             "color": "#2a3f5f"
            },
            "error_y": {
             "color": "#2a3f5f"
            },
            "marker": {
             "line": {
              "color": "#E5ECF6",
              "width": 0.5
             },
             "pattern": {
              "fillmode": "overlay",
              "size": 10,
              "solidity": 0.2
             }
            },
            "type": "bar"
           }
          ],
          "barpolar": [
           {
            "marker": {
             "line": {
              "color": "#E5ECF6",
              "width": 0.5
             },
             "pattern": {
              "fillmode": "overlay",
              "size": 10,
              "solidity": 0.2
             }
            },
            "type": "barpolar"
           }
          ],
          "carpet": [
           {
            "aaxis": {
             "endlinecolor": "#2a3f5f",
             "gridcolor": "white",
             "linecolor": "white",
             "minorgridcolor": "white",
             "startlinecolor": "#2a3f5f"
            },
            "baxis": {
             "endlinecolor": "#2a3f5f",
             "gridcolor": "white",
             "linecolor": "white",
             "minorgridcolor": "white",
             "startlinecolor": "#2a3f5f"
            },
            "type": "carpet"
           }
          ],
          "choropleth": [
           {
            "colorbar": {
             "outlinewidth": 0,
             "ticks": ""
            },
            "type": "choropleth"
           }
          ],
          "contour": [
           {
            "colorbar": {
             "outlinewidth": 0,
             "ticks": ""
            },
            "colorscale": [
             [
              0,
              "#0d0887"
             ],
             [
              0.1111111111111111,
              "#46039f"
             ],
             [
              0.2222222222222222,
              "#7201a8"
             ],
             [
              0.3333333333333333,
              "#9c179e"
             ],
             [
              0.4444444444444444,
              "#bd3786"
             ],
             [
              0.5555555555555556,
              "#d8576b"
             ],
             [
              0.6666666666666666,
              "#ed7953"
             ],
             [
              0.7777777777777778,
              "#fb9f3a"
             ],
             [
              0.8888888888888888,
              "#fdca26"
             ],
             [
              1,
              "#f0f921"
             ]
            ],
            "type": "contour"
           }
          ],
          "contourcarpet": [
           {
            "colorbar": {
             "outlinewidth": 0,
             "ticks": ""
            },
            "type": "contourcarpet"
           }
          ],
          "heatmap": [
           {
            "colorbar": {
             "outlinewidth": 0,
             "ticks": ""
            },
            "colorscale": [
             [
              0,
              "#0d0887"
             ],
             [
              0.1111111111111111,
              "#46039f"
             ],
             [
              0.2222222222222222,
              "#7201a8"
             ],
             [
              0.3333333333333333,
              "#9c179e"
             ],
             [
              0.4444444444444444,
              "#bd3786"
             ],
             [
              0.5555555555555556,
              "#d8576b"
             ],
             [
              0.6666666666666666,
              "#ed7953"
             ],
             [
              0.7777777777777778,
              "#fb9f3a"
             ],
             [
              0.8888888888888888,
              "#fdca26"
             ],
             [
              1,
              "#f0f921"
             ]
            ],
            "type": "heatmap"
           }
          ],
          "heatmapgl": [
           {
            "colorbar": {
             "outlinewidth": 0,
             "ticks": ""
            },
            "colorscale": [
             [
              0,
              "#0d0887"
             ],
             [
              0.1111111111111111,
              "#46039f"
             ],
             [
              0.2222222222222222,
              "#7201a8"
             ],
             [
              0.3333333333333333,
              "#9c179e"
             ],
             [
              0.4444444444444444,
              "#bd3786"
             ],
             [
              0.5555555555555556,
              "#d8576b"
             ],
             [
              0.6666666666666666,
              "#ed7953"
             ],
             [
              0.7777777777777778,
              "#fb9f3a"
             ],
             [
              0.8888888888888888,
              "#fdca26"
             ],
             [
              1,
              "#f0f921"
             ]
            ],
            "type": "heatmapgl"
           }
          ],
          "histogram": [
           {
            "marker": {
             "pattern": {
              "fillmode": "overlay",
              "size": 10,
              "solidity": 0.2
             }
            },
            "type": "histogram"
           }
          ],
          "histogram2d": [
           {
            "colorbar": {
             "outlinewidth": 0,
             "ticks": ""
            },
            "colorscale": [
             [
              0,
              "#0d0887"
             ],
             [
              0.1111111111111111,
              "#46039f"
             ],
             [
              0.2222222222222222,
              "#7201a8"
             ],
             [
              0.3333333333333333,
              "#9c179e"
             ],
             [
              0.4444444444444444,
              "#bd3786"
             ],
             [
              0.5555555555555556,
              "#d8576b"
             ],
             [
              0.6666666666666666,
              "#ed7953"
             ],
             [
              0.7777777777777778,
              "#fb9f3a"
             ],
             [
              0.8888888888888888,
              "#fdca26"
             ],
             [
              1,
              "#f0f921"
             ]
            ],
            "type": "histogram2d"
           }
          ],
          "histogram2dcontour": [
           {
            "colorbar": {
             "outlinewidth": 0,
             "ticks": ""
            },
            "colorscale": [
             [
              0,
              "#0d0887"
             ],
             [
              0.1111111111111111,
              "#46039f"
             ],
             [
              0.2222222222222222,
              "#7201a8"
             ],
             [
              0.3333333333333333,
              "#9c179e"
             ],
             [
              0.4444444444444444,
              "#bd3786"
             ],
             [
              0.5555555555555556,
              "#d8576b"
             ],
             [
              0.6666666666666666,
              "#ed7953"
             ],
             [
              0.7777777777777778,
              "#fb9f3a"
             ],
             [
              0.8888888888888888,
              "#fdca26"
             ],
             [
              1,
              "#f0f921"
             ]
            ],
            "type": "histogram2dcontour"
           }
          ],
          "mesh3d": [
           {
            "colorbar": {
             "outlinewidth": 0,
             "ticks": ""
            },
            "type": "mesh3d"
           }
          ],
          "parcoords": [
           {
            "line": {
             "colorbar": {
              "outlinewidth": 0,
              "ticks": ""
             }
            },
            "type": "parcoords"
           }
          ],
          "pie": [
           {
            "automargin": true,
            "type": "pie"
           }
          ],
          "scatter": [
           {
            "fillpattern": {
             "fillmode": "overlay",
             "size": 10,
             "solidity": 0.2
            },
            "type": "scatter"
           }
          ],
          "scatter3d": [
           {
            "line": {
             "colorbar": {
              "outlinewidth": 0,
              "ticks": ""
             }
            },
            "marker": {
             "colorbar": {
              "outlinewidth": 0,
              "ticks": ""
             }
            },
            "type": "scatter3d"
           }
          ],
          "scattercarpet": [
           {
            "marker": {
             "colorbar": {
              "outlinewidth": 0,
              "ticks": ""
             }
            },
            "type": "scattercarpet"
           }
          ],
          "scattergeo": [
           {
            "marker": {
             "colorbar": {
              "outlinewidth": 0,
              "ticks": ""
             }
            },
            "type": "scattergeo"
           }
          ],
          "scattergl": [
           {
            "marker": {
             "colorbar": {
              "outlinewidth": 0,
              "ticks": ""
             }
            },
            "type": "scattergl"
           }
          ],
          "scattermapbox": [
           {
            "marker": {
             "colorbar": {
              "outlinewidth": 0,
              "ticks": ""
             }
            },
            "type": "scattermapbox"
           }
          ],
          "scatterpolar": [
           {
            "marker": {
             "colorbar": {
              "outlinewidth": 0,
              "ticks": ""
             }
            },
            "type": "scatterpolar"
           }
          ],
          "scatterpolargl": [
           {
            "marker": {
             "colorbar": {
              "outlinewidth": 0,
              "ticks": ""
             }
            },
            "type": "scatterpolargl"
           }
          ],
          "scatterternary": [
           {
            "marker": {
             "colorbar": {
              "outlinewidth": 0,
              "ticks": ""
             }
            },
            "type": "scatterternary"
           }
          ],
          "surface": [
           {
            "colorbar": {
             "outlinewidth": 0,
             "ticks": ""
            },
            "colorscale": [
             [
              0,
              "#0d0887"
             ],
             [
              0.1111111111111111,
              "#46039f"
             ],
             [
              0.2222222222222222,
              "#7201a8"
             ],
             [
              0.3333333333333333,
              "#9c179e"
             ],
             [
              0.4444444444444444,
              "#bd3786"
             ],
             [
              0.5555555555555556,
              "#d8576b"
             ],
             [
              0.6666666666666666,
              "#ed7953"
             ],
             [
              0.7777777777777778,
              "#fb9f3a"
             ],
             [
              0.8888888888888888,
              "#fdca26"
             ],
             [
              1,
              "#f0f921"
             ]
            ],
            "type": "surface"
           }
          ],
          "table": [
           {
            "cells": {
             "fill": {
              "color": "#EBF0F8"
             },
             "line": {
              "color": "white"
             }
            },
            "header": {
             "fill": {
              "color": "#C8D4E3"
             },
             "line": {
              "color": "white"
             }
            },
            "type": "table"
           }
          ]
         },
         "layout": {
          "annotationdefaults": {
           "arrowcolor": "#2a3f5f",
           "arrowhead": 0,
           "arrowwidth": 1
          },
          "autotypenumbers": "strict",
          "coloraxis": {
           "colorbar": {
            "outlinewidth": 0,
            "ticks": ""
           }
          },
          "colorscale": {
           "diverging": [
            [
             0,
             "#8e0152"
            ],
            [
             0.1,
             "#c51b7d"
            ],
            [
             0.2,
             "#de77ae"
            ],
            [
             0.3,
             "#f1b6da"
            ],
            [
             0.4,
             "#fde0ef"
            ],
            [
             0.5,
             "#f7f7f7"
            ],
            [
             0.6,
             "#e6f5d0"
            ],
            [
             0.7,
             "#b8e186"
            ],
            [
             0.8,
             "#7fbc41"
            ],
            [
             0.9,
             "#4d9221"
            ],
            [
             1,
             "#276419"
            ]
           ],
           "sequential": [
            [
             0,
             "#0d0887"
            ],
            [
             0.1111111111111111,
             "#46039f"
            ],
            [
             0.2222222222222222,
             "#7201a8"
            ],
            [
             0.3333333333333333,
             "#9c179e"
            ],
            [
             0.4444444444444444,
             "#bd3786"
            ],
            [
             0.5555555555555556,
             "#d8576b"
            ],
            [
             0.6666666666666666,
             "#ed7953"
            ],
            [
             0.7777777777777778,
             "#fb9f3a"
            ],
            [
             0.8888888888888888,
             "#fdca26"
            ],
            [
             1,
             "#f0f921"
            ]
           ],
           "sequentialminus": [
            [
             0,
             "#0d0887"
            ],
            [
             0.1111111111111111,
             "#46039f"
            ],
            [
             0.2222222222222222,
             "#7201a8"
            ],
            [
             0.3333333333333333,
             "#9c179e"
            ],
            [
             0.4444444444444444,
             "#bd3786"
            ],
            [
             0.5555555555555556,
             "#d8576b"
            ],
            [
             0.6666666666666666,
             "#ed7953"
            ],
            [
             0.7777777777777778,
             "#fb9f3a"
            ],
            [
             0.8888888888888888,
             "#fdca26"
            ],
            [
             1,
             "#f0f921"
            ]
           ]
          },
          "colorway": [
           "#636efa",
           "#EF553B",
           "#00cc96",
           "#ab63fa",
           "#FFA15A",
           "#19d3f3",
           "#FF6692",
           "#B6E880",
           "#FF97FF",
           "#FECB52"
          ],
          "font": {
           "color": "#2a3f5f"
          },
          "geo": {
           "bgcolor": "white",
           "lakecolor": "white",
           "landcolor": "#E5ECF6",
           "showlakes": true,
           "showland": true,
           "subunitcolor": "white"
          },
          "hoverlabel": {
           "align": "left"
          },
          "hovermode": "closest",
          "mapbox": {
           "style": "light"
          },
          "paper_bgcolor": "white",
          "plot_bgcolor": "#E5ECF6",
          "polar": {
           "angularaxis": {
            "gridcolor": "white",
            "linecolor": "white",
            "ticks": ""
           },
           "bgcolor": "#E5ECF6",
           "radialaxis": {
            "gridcolor": "white",
            "linecolor": "white",
            "ticks": ""
           }
          },
          "scene": {
           "xaxis": {
            "backgroundcolor": "#E5ECF6",
            "gridcolor": "white",
            "gridwidth": 2,
            "linecolor": "white",
            "showbackground": true,
            "ticks": "",
            "zerolinecolor": "white"
           },
           "yaxis": {
            "backgroundcolor": "#E5ECF6",
            "gridcolor": "white",
            "gridwidth": 2,
            "linecolor": "white",
            "showbackground": true,
            "ticks": "",
            "zerolinecolor": "white"
           },
           "zaxis": {
            "backgroundcolor": "#E5ECF6",
            "gridcolor": "white",
            "gridwidth": 2,
            "linecolor": "white",
            "showbackground": true,
            "ticks": "",
            "zerolinecolor": "white"
           }
          },
          "shapedefaults": {
           "line": {
            "color": "#2a3f5f"
           }
          },
          "ternary": {
           "aaxis": {
            "gridcolor": "white",
            "linecolor": "white",
            "ticks": ""
           },
           "baxis": {
            "gridcolor": "white",
            "linecolor": "white",
            "ticks": ""
           },
           "bgcolor": "#E5ECF6",
           "caxis": {
            "gridcolor": "white",
            "linecolor": "white",
            "ticks": ""
           }
          },
          "title": {
           "x": 0.05
          },
          "xaxis": {
           "automargin": true,
           "gridcolor": "white",
           "linecolor": "white",
           "ticks": "",
           "title": {
            "standoff": 15
           },
           "zerolinecolor": "white",
           "zerolinewidth": 2
          },
          "yaxis": {
           "automargin": true,
           "gridcolor": "white",
           "linecolor": "white",
           "ticks": "",
           "title": {
            "standoff": 15
           },
           "zerolinecolor": "white",
           "zerolinewidth": 2
          }
         }
        },
        "title": {
         "font": {
          "color": "Black",
          "size": 22
         },
         "text": "<b>Similarity Matrix",
         "x": 0.55,
         "xanchor": "center",
         "y": 0.95,
         "yanchor": "top"
        },
        "width": 800,
        "xaxis": {
         "anchor": "y",
         "constrain": "domain",
         "domain": [
          0,
          1
         ],
         "scaleanchor": "y"
        },
        "yaxis": {
         "anchor": "x",
         "autorange": "reversed",
         "constrain": "domain",
         "domain": [
          0,
          1
         ]
        }
       }
      },
      "text/html": [
       "<div>                            <div id=\"16a20d12-1eff-4f3f-a8c3-124aa8311449\" class=\"plotly-graph-div\" style=\"height:800px; width:800px;\"></div>            <script type=\"text/javascript\">                require([\"plotly\"], function(Plotly) {                    window.PLOTLYENV=window.PLOTLYENV || {};                                    if (document.getElementById(\"16a20d12-1eff-4f3f-a8c3-124aa8311449\")) {                    Plotly.newPlot(                        \"16a20d12-1eff-4f3f-a8c3-124aa8311449\",                        [{\"coloraxis\":\"coloraxis\",\"name\":\"0\",\"x\":[\"0_proud_mirabaichanu_you\",\"1_puneethrajkumar_hearty_li...\",\"2_olympics_tokyo2020_ceremony\",\"3_vikas_boxing_krishan\",\"4_tokyo2020_to_you\",\"5_medal_chanu_mirabai\",\"6_swevaus_matildas_kerr\",\"7_banda_zambia_barbra\",\"8_smith_clareburt_400m\",\"9_weightlifting_silver_winn...\",\"10_badminton_doubles_peng\",\"11_swimming_tokyo2020_is\",\"12_road_race_carapaz\",\"13_saikhom_mirabai_chanu\",\"14_sweden_rolfo_australia\",\"15_ongoing_indias_many\",\"16_weightlifting_mirabaicha...\",\"17_football_japan_netherlands\",\"18_gold_kosovo_distria\",\"19_live_q2_11\",\"20_judo_takato_gold\",\"21_hockey_south_africa\",\"22_silver_winning_congratul...\",\"23_sutirtha_mukherjee_table...\",\"24_100m_butterfly_heat\",\"25_tennis_singles_nagalsumit\",\"26_teamgb_japan_football\",\"27_mediasai_railminindia_im...\",\"28_rule_remedy_butterfly\",\"29_yulo_rings_caloy\"],\"y\":[\"0_proud_mirabaichanu_you\",\"1_puneethrajkumar_hearty_li...\",\"2_olympics_tokyo2020_ceremony\",\"3_vikas_boxing_krishan\",\"4_tokyo2020_to_you\",\"5_medal_chanu_mirabai\",\"6_swevaus_matildas_kerr\",\"7_banda_zambia_barbra\",\"8_smith_clareburt_400m\",\"9_weightlifting_silver_winn...\",\"10_badminton_doubles_peng\",\"11_swimming_tokyo2020_is\",\"12_road_race_carapaz\",\"13_saikhom_mirabai_chanu\",\"14_sweden_rolfo_australia\",\"15_ongoing_indias_many\",\"16_weightlifting_mirabaicha...\",\"17_football_japan_netherlands\",\"18_gold_kosovo_distria\",\"19_live_q2_11\",\"20_judo_takato_gold\",\"21_hockey_south_africa\",\"22_silver_winning_congratul...\",\"23_sutirtha_mukherjee_table...\",\"24_100m_butterfly_heat\",\"25_tennis_singles_nagalsumit\",\"26_teamgb_japan_football\",\"27_mediasai_railminindia_im...\",\"28_rule_remedy_butterfly\",\"29_yulo_rings_caloy\"],\"z\":[[1.0000000000000004,0.8048541980205741,0.6959720646337849,0.7494065063039391,0.6615273212525233,0.8739816424872558,0.7286071552297004,0.6818849103984298,0.6817958034036533,0.6414356291367131,0.8234859880901639,0.6383976883091844,0.66351893596945,0.6772105908365176,0.7499516869455058,0.5896304160511663,0.8042024852166068,0.739837507453599,0.6698757401340116,0.6064257337700771,0.7001339449768289,0.5947232312047741,0.6777673607584572,0.671471986965819,0.6704105556671069,0.6482558854512207,0.6528742525521619,0.6573064389695732,0.5138451924950544,0.7121586486758977],[0.8048541980205741,1.0000000000000002,0.7765427335752555,0.6523141428411904,0.6586450857928401,0.7968912313410537,0.842881382339736,0.7006063107091929,0.7488428809155709,0.6138229678309813,0.8412387400410868,0.662490024251942,0.5972744834360524,0.6529258981852094,0.8517763565035594,0.6678142458463805,0.8815976390312066,0.8632730521276655,0.691915670471901,0.6583242290808328,0.6673254740388346,0.6293016868517721,0.6897484795300195,0.7960188855524781,0.7145844906914137,0.6066552336370312,0.6346330150638863,0.658245196318499,0.6142494506815328,0.6732666543626861],[0.6959720646337849,0.7765427335752555,0.9999999999999998,0.6077513307266955,0.6462696804124825,0.6554202635218456,0.808846835277134,0.6817472144748171,0.6795952510829434,0.6771487586306474,0.8390260661952166,0.68286437104963,0.6281874691562246,0.6501894675450963,0.7760967245905714,0.5978374381977503,0.7770209677607605,0.8466329909167648,0.6477493691012322,0.6797140688884984,0.6465052403039286,0.654178773075959,0.6475601693940651,0.730951460803827,0.7161092572080017,0.6719281424846686,0.6613806999974183,0.5955968248918174,0.6397713807780334,0.6910331306157921],[0.7494065063039391,0.6523141428411904,0.6077513307266955,1.0000000000000004,0.6468592365559451,0.7372471084962592,0.693692261736581,0.602662689354784,0.6405069587919678,0.6208198773225999,0.6890254633307444,0.6699280485993276,0.7564141114140503,0.6686520781539276,0.6107842396547241,0.556202833049575,0.6989680539562206,0.7023643921230925,0.6786074532114807,0.6339320868234988,0.607012846110563,0.6961189829655249,0.7229909952456672,0.6539387426600333,0.6062224687169367,0.6075582027426673,0.6646315143337509,0.6654386114222797,0.5520524516506287,0.6144993862870886],[0.6615273212525233,0.6586450857928401,0.6462696804124825,0.6468592365559451,0.9999999999999999,0.6507864204125214,0.7483436766155978,0.6906282497287878,0.6771779832857497,0.6842782333423663,0.7133639745284075,0.7127361891390909,0.5918319634474005,0.6910812929555556,0.7014364068523087,0.5969656264310752,0.7082348314199498,0.725218432543493,0.6304196044386559,0.7197138068575539,0.621526592817308,0.7168306806081333,0.6631561692057828,0.7257511727685483,0.7653957365229516,0.6594992653399501,0.687989781510766,0.6118293435742774,0.5921489673861908,0.6290518246081795],[0.8739816424872558,0.7968912313410537,0.6554202635218456,0.7372471084962592,0.6507864204125214,1.0000000000000004,0.7160765901457156,0.6687453969438394,0.6664060984585026,0.5876004846270114,0.7276661971154603,0.6470710284697203,0.6358244813823395,0.6562410737432482,0.7279450701613972,0.5753468659475471,0.7378304626869324,0.6735182169634153,0.6484529753489501,0.6200490229527714,0.7067289895409095,0.635851211423017,0.6559297541253584,0.6457710345702519,0.6648338885969872,0.620573509691309,0.5947325047644084,0.7088075427289685,0.5566357046164119,0.6905650016601332],[0.7286071552297004,0.842881382339736,0.808846835277134,0.693692261736581,0.7483436766155978,0.7160765901457156,1.0000000000000004,0.7554402577469014,0.7790721425236105,0.708844976536649,0.8583311453626168,0.7718135277481778,0.6320209410936849,0.7041419772185473,0.8559165374856583,0.6664082280472767,0.8587611737340346,0.9229457495643442,0.7217904342929028,0.7424514890857702,0.6731673248701714,0.735004387274135,0.7279342173044111,0.8689224802687752,0.7838841819256118,0.6990048359686056,0.7221017492351274,0.7032779895968634,0.665080428444246,0.7192249340652106],[0.6818849103984298,0.7006063107091929,0.6817472144748171,0.602662689354784,0.6906282497287878,0.6687453969438394,0.7554402577469014,1.0,0.6779670711055865,0.659397273668652,0.6980692899016264,0.6857418256072636,0.5632747687700757,0.643464390457975,0.7418765486808625,0.7771444406819114,0.7101627511714058,0.6960463813918933,0.618753120463337,0.6527921044219014,0.6189124205109423,0.6356808133094505,0.676723359572375,0.6970871475884428,0.7366836900135417,0.6548698323052317,0.6473427842407956,0.5829481907490878,0.6097467759667967,0.6456638003836576],[0.6817958034036533,0.7488428809155709,0.6795952510829434,0.6405069587919678,0.6771779832857497,0.6664060984585026,0.7790721425236105,0.6779670711055865,0.9999999999999999,0.6514535117778135,0.6911640519507967,0.7397017522291213,0.5424360822767839,0.6607643330962942,0.7677558672985807,0.712591014407012,0.7354119209020836,0.7212682660154226,0.7280006337859036,0.6890779388711781,0.6305164960770089,0.6722833858787252,0.7767058073619001,0.72046585587985,0.7175095252861812,0.6539620637712753,0.6074398084741466,0.7089075374585563,0.5842614896295129,0.6846381138365599],[0.6414356291367131,0.6138229678309813,0.6771487586306474,0.6208198773225999,0.6842782333423663,0.5876004846270114,0.708844976536649,0.659397273668652,0.6514535117778135,1.000000000000001,0.728436201479766,0.6809744097729711,0.7583253719663645,0.7345412210203236,0.6715680833823825,0.6327061873986786,0.658932899215501,0.7077402182090887,0.6642969154231196,0.643865532702895,0.637129272476676,0.6356969451563487,0.6982554325658913,0.7070639931297527,0.7023841931300593,0.8267292105211314,0.7156704373092945,0.6274835641629878,0.5358595972978799,0.7530896801471922],[0.8234859880901639,0.8412387400410868,0.8390260661952166,0.6890254633307444,0.7133639745284075,0.7276661971154603,0.8583311453626168,0.6980692899016264,0.6911640519507967,0.728436201479766,0.9999999999999998,0.7007768268222783,0.672148259510517,0.70140300865913,0.7877009524554248,0.6064452006911714,0.8555967547838347,0.9418116813725524,0.6729031004820334,0.6843386102427687,0.6898410703373254,0.6504463531833539,0.6784791288447819,0.8422024743149151,0.7214968994023715,0.7032320448843027,0.7217379355264586,0.640554654580747,0.5502222731396916,0.7288211372671289],[0.6383976883091844,0.662490024251942,0.68286437104963,0.6699280485993276,0.7127361891390909,0.6470710284697203,0.7718135277481778,0.6857418256072636,0.7397017522291213,0.6809744097729711,0.7007768268222783,1.0000000000000002,0.6478367908598521,0.6239573021289573,0.7380560102128781,0.5880576923210626,0.6983236464787499,0.7291960271214699,0.6518861545483577,0.6649923845113206,0.6164713898687402,0.7001148068369298,0.683330742068905,0.7114077416095992,0.7326891325084863,0.6567374921612987,0.7494680382415321,0.6851739758825415,0.598154875506549,0.6751400511598731],[0.66351893596945,0.5972744834360524,0.6281874691562246,0.7564141114140503,0.5918319634474005,0.6358244813823395,0.6320209410936849,0.5632747687700757,0.5424360822767839,0.7583253719663645,0.672148259510517,0.6478367908598521,0.9999999999999999,0.6684152006434503,0.5695294867728296,0.5247418164829101,0.6213017824303384,0.6773667044792309,0.6512832302281326,0.5819490366795816,0.5645611544587349,0.6405318354931491,0.6952271060262306,0.5865106057232051,0.5906160501659165,0.7006466762151708,0.6803786491693414,0.6172815578087163,0.5028590784021472,0.6556039744756348],[0.6772105908365176,0.6529258981852094,0.6501894675450963,0.6686520781539276,0.6910812929555556,0.6562410737432482,0.7041419772185473,0.643464390457975,0.6607643330962942,0.7345412210203236,0.70140300865913,0.6239573021289573,0.6684152006434503,1.0000000000000002,0.6520373020666816,0.6280463452170116,0.6990499575644062,0.6990861016819941,0.6779638436982149,0.642791168268784,0.6372842968182766,0.5965606364444028,0.7499760373988259,0.6999110920465139,0.6916703402062738,0.6882067290764775,0.7014359881848885,0.6208682937108532,0.5361372536721616,0.6944313579839051],[0.7499516869455058,0.8517763565035594,0.7760967245905714,0.6107842396547241,0.7014364068523087,0.7279450701613972,0.8559165374856583,0.7418765486808625,0.7677558672985807,0.6715680833823825,0.7877009524554248,0.7380560102128781,0.5695294867728296,0.6520373020666816,1.0000000000000002,0.6664731084837999,0.8285932884651526,0.8136868001826902,0.6590184312778434,0.6769640205908087,0.6638889442400822,0.6802422233949077,0.6723773927511483,0.7916180466488394,0.7683979759348587,0.6609983447692642,0.6717106390701038,0.6537755265823211,0.6728903683091948,0.6938228172187154],[0.5896304160511663,0.6678142458463805,0.5978374381977503,0.556202833049575,0.5969656264310752,0.5753468659475471,0.6664082280472767,0.7771444406819114,0.712591014407012,0.6327061873986786,0.6064452006911714,0.5880576923210626,0.5247418164829101,0.6280463452170116,0.6664731084837999,0.9999999999999998,0.6465096493814323,0.6418601843469574,0.7169718602467219,0.6396683267434049,0.5756341855876767,0.5945671964430421,0.7596702102283306,0.5939368527590095,0.7199396799106559,0.6053977815798849,0.5740977312823042,0.5933292804337189,0.5588140158412382,0.6003392940525478],[0.8042024852166068,0.8815976390312066,0.7770209677607605,0.6989680539562206,0.7082348314199498,0.7378304626869324,0.8587611737340346,0.7101627511714058,0.7354119209020836,0.658932899215501,0.8555967547838347,0.6983236464787499,0.6213017824303384,0.6990499575644062,0.8285932884651526,0.6465096493814323,1.0,0.8706448436808738,0.7351603632624596,0.6780413903512997,0.7240760663685981,0.6460332390085944,0.7293523266165944,0.814446288903638,0.7458508501786435,0.6427255111284844,0.7234757523494003,0.6825907036545613,0.6206804096067201,0.724693827661827],[0.739837507453599,0.8632730521276655,0.8466329909167648,0.7023643921230925,0.725218432543493,0.6735182169634153,0.9229457495643442,0.6960463813918933,0.7212682660154226,0.7077402182090887,0.9418116813725524,0.7291960271214699,0.6773667044792309,0.6990861016819941,0.8136868001826902,0.6418601843469574,0.8706448436808738,1.0,0.7041555816805513,0.7177573328489297,0.6471023333446121,0.7054683494532884,0.7204293640581249,0.8672959302771852,0.7406273057918502,0.6809361837715484,0.7264963958260916,0.658332632029977,0.6268266902735713,0.6979375633691125],[0.6698757401340116,0.691915670471901,0.6477493691012322,0.6786074532114807,0.6304196044386559,0.6484529753489501,0.7217904342929028,0.618753120463337,0.7280006337859036,0.6642969154231196,0.6729031004820334,0.6518861545483577,0.6512832302281326,0.6779638436982149,0.6590184312778434,0.7169718602467219,0.7351603632624596,0.7041555816805513,1.0,0.6395579472968584,0.6300187235881031,0.6536281668140239,0.8309212699712614,0.6373377214717483,0.6432244162166374,0.6292219320145719,0.6661801149254888,0.841928184618837,0.5097933072872564,0.6690505125832042],[0.6064257337700771,0.6583242290808328,0.6797140688884984,0.6339320868234988,0.7197138068575539,0.6200490229527714,0.7424514890857702,0.6527921044219014,0.6890779388711781,0.643865532702895,0.6843386102427687,0.6649923845113206,0.5819490366795816,0.642791168268784,0.6769640205908087,0.6396683267434049,0.6780413903512997,0.7177573328489297,0.6395579472968584,1.0,0.6071630423442134,0.8086718548983782,0.6627840664296165,0.738362928105998,0.7288830896512364,0.6290637915382028,0.6530430779482045,0.613919541854243,0.6809405329645637,0.6510934856502841],[0.7001339449768289,0.6673254740388346,0.6465052403039286,0.607012846110563,0.621526592817308,0.7067289895409095,0.6731673248701714,0.6189124205109423,0.6305164960770089,0.637129272476676,0.6898410703373254,0.6164713898687402,0.5645611544587349,0.6372842968182766,0.6638889442400822,0.5756341855876767,0.7240760663685981,0.6471023333446121,0.6300187235881031,0.6071630423442134,1.0000000000000004,0.537230776939537,0.6686362652044759,0.6684870672100391,0.6296605744210992,0.6534988152884667,0.6184125105858113,0.6322650497445639,0.5081075008350949,0.7437371508392283],[0.5947232312047741,0.6293016868517721,0.654178773075959,0.6961189829655249,0.7168306806081333,0.635851211423017,0.735004387274135,0.6356808133094505,0.6722833858787252,0.6356969451563487,0.6504463531833539,0.7001148068369298,0.6405318354931491,0.5965606364444028,0.6802422233949077,0.5945671964430421,0.6460332390085944,0.7054683494532884,0.6536281668140239,0.8086718548983782,0.537230776939537,0.9999999999999996,0.6544847313780598,0.6631383282612678,0.6807095073119165,0.5985330102238818,0.6227280941083936,0.6585800194841027,0.6412040508238417,0.5873600175987311],[0.6777673607584572,0.6897484795300195,0.6475601693940651,0.7229909952456672,0.6631561692057828,0.6559297541253584,0.7279342173044111,0.676723359572375,0.7767058073619001,0.6982554325658913,0.6784791288447819,0.683330742068905,0.6952271060262306,0.7499760373988259,0.6723773927511483,0.7596702102283306,0.7293523266165944,0.7204293640581249,0.8309212699712614,0.6627840664296165,0.6686362652044759,0.6544847313780598,0.9999999999999998,0.6742664706471473,0.6870053143949212,0.6625056117404529,0.6888064158575151,0.7336645957025574,0.5603737686458274,0.6945520659121559],[0.671471986965819,0.7960188855524781,0.730951460803827,0.6539387426600333,0.7257511727685483,0.6457710345702519,0.8689224802687752,0.6970871475884428,0.72046585587985,0.7070639931297527,0.8422024743149151,0.7114077416095992,0.5865106057232051,0.6999110920465139,0.7916180466488394,0.5939368527590095,0.814446288903638,0.8672959302771852,0.6373377214717483,0.738362928105998,0.6684870672100391,0.6631383282612678,0.6742664706471473,0.9999999999999998,0.7563837476773245,0.6945162532291234,0.7102698070515023,0.6262626266184448,0.6199441478647364,0.7029606023205953],[0.6704105556671069,0.7145844906914137,0.7161092572080017,0.6062224687169367,0.7653957365229516,0.6648338885969872,0.7838841819256118,0.7366836900135417,0.7175095252861812,0.7023841931300593,0.7214968994023715,0.7326891325084863,0.5906160501659165,0.6916703402062738,0.7683979759348587,0.7199396799106559,0.7458508501786435,0.7406273057918502,0.6432244162166374,0.7288830896512364,0.6296605744210992,0.6807095073119165,0.6870053143949212,0.7563837476773245,1.0,0.6924247077098029,0.7669735284457455,0.6251561132435397,0.7070020647461932,0.708364148216642],[0.6482558854512207,0.6066552336370312,0.6719281424846686,0.6075582027426673,0.6594992653399501,0.620573509691309,0.6990048359686056,0.6548698323052317,0.6539620637712753,0.8267292105211314,0.7032320448843027,0.6567374921612987,0.7006466762151708,0.6882067290764775,0.6609983447692642,0.6053977815798849,0.6427255111284844,0.6809361837715484,0.6292219320145719,0.6290637915382028,0.6534988152884667,0.5985330102238818,0.6625056117404529,0.6945162532291234,0.6924247077098029,1.0000000000000002,0.6501959225477352,0.5858809961644401,0.49637553596384276,0.8307570572599994],[0.6528742525521619,0.6346330150638863,0.6613806999974183,0.6646315143337509,0.687989781510766,0.5947325047644084,0.7221017492351274,0.6473427842407956,0.6074398084741466,0.7156704373092945,0.7217379355264586,0.7494680382415321,0.6803786491693414,0.7014359881848885,0.6717106390701038,0.5740977312823042,0.7234757523494003,0.7264963958260916,0.6661801149254888,0.6530430779482045,0.6184125105858113,0.6227280941083936,0.6888064158575151,0.7102698070515023,0.7669735284457455,0.6501959225477352,0.9999999999999994,0.5931740405898016,0.6110871713159112,0.6800567182735603],[0.6573064389695732,0.658245196318499,0.5955968248918174,0.6654386114222797,0.6118293435742774,0.7088075427289685,0.7032779895968634,0.5829481907490878,0.7089075374585563,0.6274835641629878,0.640554654580747,0.6851739758825415,0.6172815578087163,0.6208682937108532,0.6537755265823211,0.5933292804337189,0.6825907036545613,0.658332632029977,0.841928184618837,0.613919541854243,0.6322650497445639,0.6585800194841027,0.7336645957025574,0.6262626266184448,0.6251561132435397,0.5858809961644401,0.5931740405898016,0.9999999999999998,0.5320388208876162,0.6302103032935755],[0.5138451924950544,0.6142494506815328,0.6397713807780334,0.5520524516506287,0.5921489673861908,0.5566357046164119,0.665080428444246,0.6097467759667967,0.5842614896295129,0.5358595972978799,0.5502222731396916,0.598154875506549,0.5028590784021472,0.5361372536721616,0.6728903683091948,0.5588140158412382,0.6206804096067201,0.6268266902735713,0.5097933072872564,0.6809405329645637,0.5081075008350949,0.6412040508238417,0.5603737686458274,0.6199441478647364,0.7070020647461932,0.49637553596384276,0.6110871713159112,0.5320388208876162,1.0000000000000002,0.5175460329719814],[0.7121586486758977,0.6732666543626861,0.6910331306157921,0.6144993862870886,0.6290518246081795,0.6905650016601332,0.7192249340652106,0.6456638003836576,0.6846381138365599,0.7530896801471922,0.7288211372671289,0.6751400511598731,0.6556039744756348,0.6944313579839051,0.6938228172187154,0.6003392940525478,0.724693827661827,0.6979375633691125,0.6690505125832042,0.6510934856502841,0.7437371508392283,0.5873600175987311,0.6945520659121559,0.7029606023205953,0.708364148216642,0.8307570572599994,0.6800567182735603,0.6302103032935755,0.5175460329719814,0.9999999999999998]],\"type\":\"heatmap\",\"xaxis\":\"x\",\"yaxis\":\"y\",\"hovertemplate\":\"x: %{x}<br>y: %{y}<br>Similarity Score: %{z}<extra></extra>\"}],                        {\"template\":{\"data\":{\"histogram2dcontour\":[{\"type\":\"histogram2dcontour\",\"colorbar\":{\"outlinewidth\":0,\"ticks\":\"\"},\"colorscale\":[[0.0,\"#0d0887\"],[0.1111111111111111,\"#46039f\"],[0.2222222222222222,\"#7201a8\"],[0.3333333333333333,\"#9c179e\"],[0.4444444444444444,\"#bd3786\"],[0.5555555555555556,\"#d8576b\"],[0.6666666666666666,\"#ed7953\"],[0.7777777777777778,\"#fb9f3a\"],[0.8888888888888888,\"#fdca26\"],[1.0,\"#f0f921\"]]}],\"choropleth\":[{\"type\":\"choropleth\",\"colorbar\":{\"outlinewidth\":0,\"ticks\":\"\"}}],\"histogram2d\":[{\"type\":\"histogram2d\",\"colorbar\":{\"outlinewidth\":0,\"ticks\":\"\"},\"colorscale\":[[0.0,\"#0d0887\"],[0.1111111111111111,\"#46039f\"],[0.2222222222222222,\"#7201a8\"],[0.3333333333333333,\"#9c179e\"],[0.4444444444444444,\"#bd3786\"],[0.5555555555555556,\"#d8576b\"],[0.6666666666666666,\"#ed7953\"],[0.7777777777777778,\"#fb9f3a\"],[0.8888888888888888,\"#fdca26\"],[1.0,\"#f0f921\"]]}],\"heatmap\":[{\"type\":\"heatmap\",\"colorbar\":{\"outlinewidth\":0,\"ticks\":\"\"},\"colorscale\":[[0.0,\"#0d0887\"],[0.1111111111111111,\"#46039f\"],[0.2222222222222222,\"#7201a8\"],[0.3333333333333333,\"#9c179e\"],[0.4444444444444444,\"#bd3786\"],[0.5555555555555556,\"#d8576b\"],[0.6666666666666666,\"#ed7953\"],[0.7777777777777778,\"#fb9f3a\"],[0.8888888888888888,\"#fdca26\"],[1.0,\"#f0f921\"]]}],\"heatmapgl\":[{\"type\":\"heatmapgl\",\"colorbar\":{\"outlinewidth\":0,\"ticks\":\"\"},\"colorscale\":[[0.0,\"#0d0887\"],[0.1111111111111111,\"#46039f\"],[0.2222222222222222,\"#7201a8\"],[0.3333333333333333,\"#9c179e\"],[0.4444444444444444,\"#bd3786\"],[0.5555555555555556,\"#d8576b\"],[0.6666666666666666,\"#ed7953\"],[0.7777777777777778,\"#fb9f3a\"],[0.8888888888888888,\"#fdca26\"],[1.0,\"#f0f921\"]]}],\"contourcarpet\":[{\"type\":\"contourcarpet\",\"colorbar\":{\"outlinewidth\":0,\"ticks\":\"\"}}],\"contour\":[{\"type\":\"contour\",\"colorbar\":{\"outlinewidth\":0,\"ticks\":\"\"},\"colorscale\":[[0.0,\"#0d0887\"],[0.1111111111111111,\"#46039f\"],[0.2222222222222222,\"#7201a8\"],[0.3333333333333333,\"#9c179e\"],[0.4444444444444444,\"#bd3786\"],[0.5555555555555556,\"#d8576b\"],[0.6666666666666666,\"#ed7953\"],[0.7777777777777778,\"#fb9f3a\"],[0.8888888888888888,\"#fdca26\"],[1.0,\"#f0f921\"]]}],\"surface\":[{\"type\":\"surface\",\"colorbar\":{\"outlinewidth\":0,\"ticks\":\"\"},\"colorscale\":[[0.0,\"#0d0887\"],[0.1111111111111111,\"#46039f\"],[0.2222222222222222,\"#7201a8\"],[0.3333333333333333,\"#9c179e\"],[0.4444444444444444,\"#bd3786\"],[0.5555555555555556,\"#d8576b\"],[0.6666666666666666,\"#ed7953\"],[0.7777777777777778,\"#fb9f3a\"],[0.8888888888888888,\"#fdca26\"],[1.0,\"#f0f921\"]]}],\"mesh3d\":[{\"type\":\"mesh3d\",\"colorbar\":{\"outlinewidth\":0,\"ticks\":\"\"}}],\"scatter\":[{\"fillpattern\":{\"fillmode\":\"overlay\",\"size\":10,\"solidity\":0.2},\"type\":\"scatter\"}],\"parcoords\":[{\"type\":\"parcoords\",\"line\":{\"colorbar\":{\"outlinewidth\":0,\"ticks\":\"\"}}}],\"scatterpolargl\":[{\"type\":\"scatterpolargl\",\"marker\":{\"colorbar\":{\"outlinewidth\":0,\"ticks\":\"\"}}}],\"bar\":[{\"error_x\":{\"color\":\"#2a3f5f\"},\"error_y\":{\"color\":\"#2a3f5f\"},\"marker\":{\"line\":{\"color\":\"#E5ECF6\",\"width\":0.5},\"pattern\":{\"fillmode\":\"overlay\",\"size\":10,\"solidity\":0.2}},\"type\":\"bar\"}],\"scattergeo\":[{\"type\":\"scattergeo\",\"marker\":{\"colorbar\":{\"outlinewidth\":0,\"ticks\":\"\"}}}],\"scatterpolar\":[{\"type\":\"scatterpolar\",\"marker\":{\"colorbar\":{\"outlinewidth\":0,\"ticks\":\"\"}}}],\"histogram\":[{\"marker\":{\"pattern\":{\"fillmode\":\"overlay\",\"size\":10,\"solidity\":0.2}},\"type\":\"histogram\"}],\"scattergl\":[{\"type\":\"scattergl\",\"marker\":{\"colorbar\":{\"outlinewidth\":0,\"ticks\":\"\"}}}],\"scatter3d\":[{\"type\":\"scatter3d\",\"line\":{\"colorbar\":{\"outlinewidth\":0,\"ticks\":\"\"}},\"marker\":{\"colorbar\":{\"outlinewidth\":0,\"ticks\":\"\"}}}],\"scattermapbox\":[{\"type\":\"scattermapbox\",\"marker\":{\"colorbar\":{\"outlinewidth\":0,\"ticks\":\"\"}}}],\"scatterternary\":[{\"type\":\"scatterternary\",\"marker\":{\"colorbar\":{\"outlinewidth\":0,\"ticks\":\"\"}}}],\"scattercarpet\":[{\"type\":\"scattercarpet\",\"marker\":{\"colorbar\":{\"outlinewidth\":0,\"ticks\":\"\"}}}],\"carpet\":[{\"aaxis\":{\"endlinecolor\":\"#2a3f5f\",\"gridcolor\":\"white\",\"linecolor\":\"white\",\"minorgridcolor\":\"white\",\"startlinecolor\":\"#2a3f5f\"},\"baxis\":{\"endlinecolor\":\"#2a3f5f\",\"gridcolor\":\"white\",\"linecolor\":\"white\",\"minorgridcolor\":\"white\",\"startlinecolor\":\"#2a3f5f\"},\"type\":\"carpet\"}],\"table\":[{\"cells\":{\"fill\":{\"color\":\"#EBF0F8\"},\"line\":{\"color\":\"white\"}},\"header\":{\"fill\":{\"color\":\"#C8D4E3\"},\"line\":{\"color\":\"white\"}},\"type\":\"table\"}],\"barpolar\":[{\"marker\":{\"line\":{\"color\":\"#E5ECF6\",\"width\":0.5},\"pattern\":{\"fillmode\":\"overlay\",\"size\":10,\"solidity\":0.2}},\"type\":\"barpolar\"}],\"pie\":[{\"automargin\":true,\"type\":\"pie\"}]},\"layout\":{\"autotypenumbers\":\"strict\",\"colorway\":[\"#636efa\",\"#EF553B\",\"#00cc96\",\"#ab63fa\",\"#FFA15A\",\"#19d3f3\",\"#FF6692\",\"#B6E880\",\"#FF97FF\",\"#FECB52\"],\"font\":{\"color\":\"#2a3f5f\"},\"hovermode\":\"closest\",\"hoverlabel\":{\"align\":\"left\"},\"paper_bgcolor\":\"white\",\"plot_bgcolor\":\"#E5ECF6\",\"polar\":{\"bgcolor\":\"#E5ECF6\",\"angularaxis\":{\"gridcolor\":\"white\",\"linecolor\":\"white\",\"ticks\":\"\"},\"radialaxis\":{\"gridcolor\":\"white\",\"linecolor\":\"white\",\"ticks\":\"\"}},\"ternary\":{\"bgcolor\":\"#E5ECF6\",\"aaxis\":{\"gridcolor\":\"white\",\"linecolor\":\"white\",\"ticks\":\"\"},\"baxis\":{\"gridcolor\":\"white\",\"linecolor\":\"white\",\"ticks\":\"\"},\"caxis\":{\"gridcolor\":\"white\",\"linecolor\":\"white\",\"ticks\":\"\"}},\"coloraxis\":{\"colorbar\":{\"outlinewidth\":0,\"ticks\":\"\"}},\"colorscale\":{\"sequential\":[[0.0,\"#0d0887\"],[0.1111111111111111,\"#46039f\"],[0.2222222222222222,\"#7201a8\"],[0.3333333333333333,\"#9c179e\"],[0.4444444444444444,\"#bd3786\"],[0.5555555555555556,\"#d8576b\"],[0.6666666666666666,\"#ed7953\"],[0.7777777777777778,\"#fb9f3a\"],[0.8888888888888888,\"#fdca26\"],[1.0,\"#f0f921\"]],\"sequentialminus\":[[0.0,\"#0d0887\"],[0.1111111111111111,\"#46039f\"],[0.2222222222222222,\"#7201a8\"],[0.3333333333333333,\"#9c179e\"],[0.4444444444444444,\"#bd3786\"],[0.5555555555555556,\"#d8576b\"],[0.6666666666666666,\"#ed7953\"],[0.7777777777777778,\"#fb9f3a\"],[0.8888888888888888,\"#fdca26\"],[1.0,\"#f0f921\"]],\"diverging\":[[0,\"#8e0152\"],[0.1,\"#c51b7d\"],[0.2,\"#de77ae\"],[0.3,\"#f1b6da\"],[0.4,\"#fde0ef\"],[0.5,\"#f7f7f7\"],[0.6,\"#e6f5d0\"],[0.7,\"#b8e186\"],[0.8,\"#7fbc41\"],[0.9,\"#4d9221\"],[1,\"#276419\"]]},\"xaxis\":{\"gridcolor\":\"white\",\"linecolor\":\"white\",\"ticks\":\"\",\"title\":{\"standoff\":15},\"zerolinecolor\":\"white\",\"automargin\":true,\"zerolinewidth\":2},\"yaxis\":{\"gridcolor\":\"white\",\"linecolor\":\"white\",\"ticks\":\"\",\"title\":{\"standoff\":15},\"zerolinecolor\":\"white\",\"automargin\":true,\"zerolinewidth\":2},\"scene\":{\"xaxis\":{\"backgroundcolor\":\"#E5ECF6\",\"gridcolor\":\"white\",\"linecolor\":\"white\",\"showbackground\":true,\"ticks\":\"\",\"zerolinecolor\":\"white\",\"gridwidth\":2},\"yaxis\":{\"backgroundcolor\":\"#E5ECF6\",\"gridcolor\":\"white\",\"linecolor\":\"white\",\"showbackground\":true,\"ticks\":\"\",\"zerolinecolor\":\"white\",\"gridwidth\":2},\"zaxis\":{\"backgroundcolor\":\"#E5ECF6\",\"gridcolor\":\"white\",\"linecolor\":\"white\",\"showbackground\":true,\"ticks\":\"\",\"zerolinecolor\":\"white\",\"gridwidth\":2}},\"shapedefaults\":{\"line\":{\"color\":\"#2a3f5f\"}},\"annotationdefaults\":{\"arrowcolor\":\"#2a3f5f\",\"arrowhead\":0,\"arrowwidth\":1},\"geo\":{\"bgcolor\":\"white\",\"landcolor\":\"#E5ECF6\",\"subunitcolor\":\"white\",\"showland\":true,\"showlakes\":true,\"lakecolor\":\"white\"},\"title\":{\"x\":0.05},\"mapbox\":{\"style\":\"light\"}}},\"xaxis\":{\"anchor\":\"y\",\"domain\":[0.0,1.0],\"scaleanchor\":\"y\",\"constrain\":\"domain\"},\"yaxis\":{\"anchor\":\"x\",\"domain\":[0.0,1.0],\"autorange\":\"reversed\",\"constrain\":\"domain\"},\"coloraxis\":{\"colorbar\":{\"title\":{\"text\":\"Similarity Score\"}},\"colorscale\":[[0.0,\"rgb(247,252,240)\"],[0.125,\"rgb(224,243,219)\"],[0.25,\"rgb(204,235,197)\"],[0.375,\"rgb(168,221,181)\"],[0.5,\"rgb(123,204,196)\"],[0.625,\"rgb(78,179,211)\"],[0.75,\"rgb(43,140,190)\"],[0.875,\"rgb(8,104,172)\"],[1.0,\"rgb(8,64,129)\"]]},\"margin\":{\"t\":60},\"title\":{\"font\":{\"size\":22,\"color\":\"Black\"},\"text\":\"<b>Similarity Matrix\",\"y\":0.95,\"x\":0.55,\"xanchor\":\"center\",\"yanchor\":\"top\"},\"hoverlabel\":{\"font\":{\"size\":16,\"family\":\"Rockwell\"},\"bgcolor\":\"white\"},\"width\":800,\"height\":800,\"showlegend\":true,\"legend\":{\"title\":{\"text\":\"Trend\"}}},                        {\"responsive\": true}                    ).then(function(){\n",
       "                            \n",
       "var gd = document.getElementById('16a20d12-1eff-4f3f-a8c3-124aa8311449');\n",
       "var x = new MutationObserver(function (mutations, observer) {{\n",
       "        var display = window.getComputedStyle(gd).display;\n",
       "        if (!display || display === 'none') {{\n",
       "            console.log([gd, 'removed!']);\n",
       "            Plotly.purge(gd);\n",
       "            observer.disconnect();\n",
       "        }}\n",
       "}});\n",
       "\n",
       "// Listen for the removal of the full notebook cells\n",
       "var notebookContainer = gd.closest('#notebook-container');\n",
       "if (notebookContainer) {{\n",
       "    x.observe(notebookContainer, {childList: true});\n",
       "}}\n",
       "\n",
       "// Listen for the clearing of the current output cell\n",
       "var outputEl = gd.closest('.output');\n",
       "if (outputEl) {{\n",
       "    x.observe(outputEl, {childList: true});\n",
       "}}\n",
       "\n",
       "                        })                };                });            </script>        </div>"
      ]
     },
     "metadata": {},
     "output_type": "display_data"
    }
   ],
   "source": [
    "# Topic Similarity\n",
    "model.visualize_heatmap()"
   ]
  },
  {
   "cell_type": "code",
   "execution_count": 71,
   "metadata": {},
   "outputs": [
    {
     "name": "stderr",
     "output_type": "stream",
     "text": [
      "2022-06-21 19:00:24,909 - BERTopic - Reduced number of topics from 31 to 16\n"
     ]
    }
   ],
   "source": [
    "# reducing the number of topics after training the model from 30 to 15\n",
    "new_topics, new_probs = model.reduce_topics(docs, topics, probabilities, nr_topics=15)"
   ]
  },
  {
   "cell_type": "code",
   "execution_count": 72,
   "metadata": {},
   "outputs": [
    {
     "data": {
      "text/html": [
       "<div>\n",
       "<style scoped>\n",
       "    .dataframe tbody tr th:only-of-type {\n",
       "        vertical-align: middle;\n",
       "    }\n",
       "\n",
       "    .dataframe tbody tr th {\n",
       "        vertical-align: top;\n",
       "    }\n",
       "\n",
       "    .dataframe thead th {\n",
       "        text-align: right;\n",
       "    }\n",
       "</style>\n",
       "<table border=\"1\" class=\"dataframe\">\n",
       "  <thead>\n",
       "    <tr style=\"text-align: right;\">\n",
       "      <th></th>\n",
       "      <th>Topic</th>\n",
       "      <th>Count</th>\n",
       "    </tr>\n",
       "  </thead>\n",
       "  <tbody>\n",
       "    <tr>\n",
       "      <th>0</th>\n",
       "      <td>-1</td>\n",
       "      <td>2524</td>\n",
       "    </tr>\n",
       "    <tr>\n",
       "      <th>1</th>\n",
       "      <td>0</td>\n",
       "      <td>674</td>\n",
       "    </tr>\n",
       "    <tr>\n",
       "      <th>2</th>\n",
       "      <td>1</td>\n",
       "      <td>309</td>\n",
       "    </tr>\n",
       "    <tr>\n",
       "      <th>3</th>\n",
       "      <td>2</td>\n",
       "      <td>296</td>\n",
       "    </tr>\n",
       "    <tr>\n",
       "      <th>4</th>\n",
       "      <td>3</td>\n",
       "      <td>286</td>\n",
       "    </tr>\n",
       "    <tr>\n",
       "      <th>5</th>\n",
       "      <td>4</td>\n",
       "      <td>258</td>\n",
       "    </tr>\n",
       "    <tr>\n",
       "      <th>6</th>\n",
       "      <td>5</td>\n",
       "      <td>248</td>\n",
       "    </tr>\n",
       "    <tr>\n",
       "      <th>7</th>\n",
       "      <td>6</td>\n",
       "      <td>227</td>\n",
       "    </tr>\n",
       "    <tr>\n",
       "      <th>8</th>\n",
       "      <td>7</td>\n",
       "      <td>222</td>\n",
       "    </tr>\n",
       "    <tr>\n",
       "      <th>9</th>\n",
       "      <td>8</td>\n",
       "      <td>168</td>\n",
       "    </tr>\n",
       "    <tr>\n",
       "      <th>10</th>\n",
       "      <td>9</td>\n",
       "      <td>154</td>\n",
       "    </tr>\n",
       "    <tr>\n",
       "      <th>11</th>\n",
       "      <td>10</td>\n",
       "      <td>149</td>\n",
       "    </tr>\n",
       "    <tr>\n",
       "      <th>12</th>\n",
       "      <td>11</td>\n",
       "      <td>137</td>\n",
       "    </tr>\n",
       "    <tr>\n",
       "      <th>13</th>\n",
       "      <td>12</td>\n",
       "      <td>120</td>\n",
       "    </tr>\n",
       "    <tr>\n",
       "      <th>14</th>\n",
       "      <td>13</td>\n",
       "      <td>119</td>\n",
       "    </tr>\n",
       "    <tr>\n",
       "      <th>15</th>\n",
       "      <td>14</td>\n",
       "      <td>109</td>\n",
       "    </tr>\n",
       "  </tbody>\n",
       "</table>\n",
       "</div>"
      ],
      "text/plain": [
       "    Topic  Count\n",
       "0      -1   2524\n",
       "1       0    674\n",
       "2       1    309\n",
       "3       2    296\n",
       "4       3    286\n",
       "5       4    258\n",
       "6       5    248\n",
       "7       6    227\n",
       "8       7    222\n",
       "9       8    168\n",
       "10      9    154\n",
       "11     10    149\n",
       "12     11    137\n",
       "13     12    120\n",
       "14     13    119\n",
       "15     14    109"
      ]
     },
     "execution_count": 72,
     "metadata": {},
     "output_type": "execute_result"
    }
   ],
   "source": [
    "model.get_topic_freq()"
   ]
  },
  {
   "cell_type": "code",
   "execution_count": 73,
   "metadata": {},
   "outputs": [
    {
     "data": {
      "text/plain": [
       "[('swevaus', 0.1203073381039482),\n",
       " ('sweden', 0.08224502985204206),\n",
       " ('matildas', 0.0635728397242386),\n",
       " ('kerr', 0.05545087496776204),\n",
       " ('tokyo2020', 0.05444446386635765),\n",
       " ('penalty', 0.049789963765895034),\n",
       " ('sam', 0.038199491644458294),\n",
       " ('the', 0.036112447261318015),\n",
       " ('australia', 0.03485841250811617),\n",
       " ('to', 0.03456500590112869)]"
      ]
     },
     "execution_count": 73,
     "metadata": {},
     "output_type": "execute_result"
    }
   ],
   "source": [
    "model.get_topic(3)\n",
    "# This topic is about weight lifting"
   ]
  },
  {
   "cell_type": "code",
   "execution_count": 74,
   "metadata": {},
   "outputs": [
    {
     "data": {
      "application/vnd.plotly.v1+json": {
       "config": {
        "plotlyServerURL": "https://plot.ly"
       },
       "data": [
        {
         "marker": {
          "color": "#D55E00"
         },
         "orientation": "h",
         "type": "bar",
         "x": [
          0.050989472590850494,
          0.0530305479655958,
          0.05801783625207208,
          0.07283231741804523,
          0.07906407168444793
         ],
         "xaxis": "x",
         "y": [
          "you  ",
          "india  ",
          "congratulations  ",
          "proud  ",
          "mirabaichanu  "
         ],
         "yaxis": "y"
        },
        {
         "marker": {
          "color": "#0072B2"
         },
         "orientation": "h",
         "type": "bar",
         "x": [
          0.07057332838810178,
          0.07688979418377281,
          0.09173877741475542,
          0.09218729028090532,
          0.10141960361285667
         ],
         "xaxis": "x2",
         "y": [
          "silver  ",
          "first  ",
          "chanu  ",
          "mirabai  ",
          "medal  "
         ],
         "yaxis": "y2"
        },
        {
         "marker": {
          "color": "#CC79A7"
         },
         "orientation": "h",
         "type": "bar",
         "x": [
          0.07974520103655076,
          0.08772948882557918,
          0.09348752323328532,
          0.10538752223940903,
          0.1146345376229787
         ],
         "xaxis": "x3",
         "y": [
          "congratulations  ",
          "mirabaichanu  ",
          "winning  ",
          "weightlifting  ",
          "silver  "
         ],
         "yaxis": "y3"
        },
        {
         "marker": {
          "color": "#E69F00"
         },
         "orientation": "h",
         "type": "bar",
         "x": [
          0.05444446386635765,
          0.05545087496776204,
          0.0635728397242386,
          0.08224502985204206,
          0.1203073381039482
         ],
         "xaxis": "x4",
         "y": [
          "tokyo2020  ",
          "kerr  ",
          "matildas  ",
          "sweden  ",
          "swevaus  "
         ],
         "yaxis": "y4"
        },
        {
         "marker": {
          "color": "#56B4E9"
         },
         "orientation": "h",
         "type": "bar",
         "x": [
          0.19807823241063305,
          0.2165982599223506,
          0.21794153186433712,
          0.21998560669807035,
          0.26826352560939154
         ],
         "xaxis": "x5",
         "y": [
          "49kg  ",
          "mirabaichanu  ",
          "lifting  ",
          "hearty  ",
          "puneethrajkumar  "
         ],
         "yaxis": "y5"
        },
        {
         "marker": {
          "color": "#009E73"
         },
         "orientation": "h",
         "type": "bar",
         "x": [
          0.03647578450263484,
          0.03890570095481176,
          0.04965694392302115,
          0.06427342943481243,
          0.09073904234116305
         ],
         "xaxis": "x6",
         "y": [
          "olympicgames  ",
          "ceremony  ",
          "the  ",
          "tokyo2020  ",
          "olympics  "
         ],
         "yaxis": "y6"
        },
        {
         "marker": {
          "color": "#F0E442"
         },
         "orientation": "h",
         "type": "bar",
         "x": [
          0.0556814145870756,
          0.06448082734299279,
          0.08521094611479095,
          0.1326705761112949,
          0.13538491404955486
         ],
         "xaxis": "x7",
         "y": [
          "okazawa  ",
          "round  ",
          "krishan  ",
          "boxing  ",
          "vikas  "
         ],
         "yaxis": "y7"
        },
        {
         "marker": {
          "color": "#D55E00"
         },
         "orientation": "h",
         "type": "bar",
         "x": [
          0.027385396430967164,
          0.02781170693468939,
          0.0321376890257352,
          0.03702275679648716,
          0.10765387041870056
         ],
         "xaxis": "x8",
         "y": [
          "this  ",
          "the  ",
          "you  ",
          "to  ",
          "tokyo2020  "
         ],
         "yaxis": "y8"
        }
       ],
       "layout": {
        "annotations": [
         {
          "font": {
           "size": 16
          },
          "showarrow": false,
          "text": "Topic 0",
          "x": 0.0875,
          "xanchor": "center",
          "xref": "paper",
          "y": 1,
          "yanchor": "bottom",
          "yref": "paper"
         },
         {
          "font": {
           "size": 16
          },
          "showarrow": false,
          "text": "Topic 1",
          "x": 0.36250000000000004,
          "xanchor": "center",
          "xref": "paper",
          "y": 1,
          "yanchor": "bottom",
          "yref": "paper"
         },
         {
          "font": {
           "size": 16
          },
          "showarrow": false,
          "text": "Topic 2",
          "x": 0.6375000000000001,
          "xanchor": "center",
          "xref": "paper",
          "y": 1,
          "yanchor": "bottom",
          "yref": "paper"
         },
         {
          "font": {
           "size": 16
          },
          "showarrow": false,
          "text": "Topic 3",
          "x": 0.9125,
          "xanchor": "center",
          "xref": "paper",
          "y": 1,
          "yanchor": "bottom",
          "yref": "paper"
         },
         {
          "font": {
           "size": 16
          },
          "showarrow": false,
          "text": "Topic 4",
          "x": 0.0875,
          "xanchor": "center",
          "xref": "paper",
          "y": 0.4,
          "yanchor": "bottom",
          "yref": "paper"
         },
         {
          "font": {
           "size": 16
          },
          "showarrow": false,
          "text": "Topic 5",
          "x": 0.36250000000000004,
          "xanchor": "center",
          "xref": "paper",
          "y": 0.4,
          "yanchor": "bottom",
          "yref": "paper"
         },
         {
          "font": {
           "size": 16
          },
          "showarrow": false,
          "text": "Topic 6",
          "x": 0.6375000000000001,
          "xanchor": "center",
          "xref": "paper",
          "y": 0.4,
          "yanchor": "bottom",
          "yref": "paper"
         },
         {
          "font": {
           "size": 16
          },
          "showarrow": false,
          "text": "Topic 7",
          "x": 0.9125,
          "xanchor": "center",
          "xref": "paper",
          "y": 0.4,
          "yanchor": "bottom",
          "yref": "paper"
         }
        ],
        "height": 500,
        "hoverlabel": {
         "bgcolor": "white",
         "font": {
          "family": "Rockwell",
          "size": 16
         }
        },
        "showlegend": false,
        "template": {
         "data": {
          "bar": [
           {
            "error_x": {
             "color": "#2a3f5f"
            },
            "error_y": {
             "color": "#2a3f5f"
            },
            "marker": {
             "line": {
              "color": "white",
              "width": 0.5
             },
             "pattern": {
              "fillmode": "overlay",
              "size": 10,
              "solidity": 0.2
             }
            },
            "type": "bar"
           }
          ],
          "barpolar": [
           {
            "marker": {
             "line": {
              "color": "white",
              "width": 0.5
             },
             "pattern": {
              "fillmode": "overlay",
              "size": 10,
              "solidity": 0.2
             }
            },
            "type": "barpolar"
           }
          ],
          "carpet": [
           {
            "aaxis": {
             "endlinecolor": "#2a3f5f",
             "gridcolor": "#C8D4E3",
             "linecolor": "#C8D4E3",
             "minorgridcolor": "#C8D4E3",
             "startlinecolor": "#2a3f5f"
            },
            "baxis": {
             "endlinecolor": "#2a3f5f",
             "gridcolor": "#C8D4E3",
             "linecolor": "#C8D4E3",
             "minorgridcolor": "#C8D4E3",
             "startlinecolor": "#2a3f5f"
            },
            "type": "carpet"
           }
          ],
          "choropleth": [
           {
            "colorbar": {
             "outlinewidth": 0,
             "ticks": ""
            },
            "type": "choropleth"
           }
          ],
          "contour": [
           {
            "colorbar": {
             "outlinewidth": 0,
             "ticks": ""
            },
            "colorscale": [
             [
              0,
              "#0d0887"
             ],
             [
              0.1111111111111111,
              "#46039f"
             ],
             [
              0.2222222222222222,
              "#7201a8"
             ],
             [
              0.3333333333333333,
              "#9c179e"
             ],
             [
              0.4444444444444444,
              "#bd3786"
             ],
             [
              0.5555555555555556,
              "#d8576b"
             ],
             [
              0.6666666666666666,
              "#ed7953"
             ],
             [
              0.7777777777777778,
              "#fb9f3a"
             ],
             [
              0.8888888888888888,
              "#fdca26"
             ],
             [
              1,
              "#f0f921"
             ]
            ],
            "type": "contour"
           }
          ],
          "contourcarpet": [
           {
            "colorbar": {
             "outlinewidth": 0,
             "ticks": ""
            },
            "type": "contourcarpet"
           }
          ],
          "heatmap": [
           {
            "colorbar": {
             "outlinewidth": 0,
             "ticks": ""
            },
            "colorscale": [
             [
              0,
              "#0d0887"
             ],
             [
              0.1111111111111111,
              "#46039f"
             ],
             [
              0.2222222222222222,
              "#7201a8"
             ],
             [
              0.3333333333333333,
              "#9c179e"
             ],
             [
              0.4444444444444444,
              "#bd3786"
             ],
             [
              0.5555555555555556,
              "#d8576b"
             ],
             [
              0.6666666666666666,
              "#ed7953"
             ],
             [
              0.7777777777777778,
              "#fb9f3a"
             ],
             [
              0.8888888888888888,
              "#fdca26"
             ],
             [
              1,
              "#f0f921"
             ]
            ],
            "type": "heatmap"
           }
          ],
          "heatmapgl": [
           {
            "colorbar": {
             "outlinewidth": 0,
             "ticks": ""
            },
            "colorscale": [
             [
              0,
              "#0d0887"
             ],
             [
              0.1111111111111111,
              "#46039f"
             ],
             [
              0.2222222222222222,
              "#7201a8"
             ],
             [
              0.3333333333333333,
              "#9c179e"
             ],
             [
              0.4444444444444444,
              "#bd3786"
             ],
             [
              0.5555555555555556,
              "#d8576b"
             ],
             [
              0.6666666666666666,
              "#ed7953"
             ],
             [
              0.7777777777777778,
              "#fb9f3a"
             ],
             [
              0.8888888888888888,
              "#fdca26"
             ],
             [
              1,
              "#f0f921"
             ]
            ],
            "type": "heatmapgl"
           }
          ],
          "histogram": [
           {
            "marker": {
             "pattern": {
              "fillmode": "overlay",
              "size": 10,
              "solidity": 0.2
             }
            },
            "type": "histogram"
           }
          ],
          "histogram2d": [
           {
            "colorbar": {
             "outlinewidth": 0,
             "ticks": ""
            },
            "colorscale": [
             [
              0,
              "#0d0887"
             ],
             [
              0.1111111111111111,
              "#46039f"
             ],
             [
              0.2222222222222222,
              "#7201a8"
             ],
             [
              0.3333333333333333,
              "#9c179e"
             ],
             [
              0.4444444444444444,
              "#bd3786"
             ],
             [
              0.5555555555555556,
              "#d8576b"
             ],
             [
              0.6666666666666666,
              "#ed7953"
             ],
             [
              0.7777777777777778,
              "#fb9f3a"
             ],
             [
              0.8888888888888888,
              "#fdca26"
             ],
             [
              1,
              "#f0f921"
             ]
            ],
            "type": "histogram2d"
           }
          ],
          "histogram2dcontour": [
           {
            "colorbar": {
             "outlinewidth": 0,
             "ticks": ""
            },
            "colorscale": [
             [
              0,
              "#0d0887"
             ],
             [
              0.1111111111111111,
              "#46039f"
             ],
             [
              0.2222222222222222,
              "#7201a8"
             ],
             [
              0.3333333333333333,
              "#9c179e"
             ],
             [
              0.4444444444444444,
              "#bd3786"
             ],
             [
              0.5555555555555556,
              "#d8576b"
             ],
             [
              0.6666666666666666,
              "#ed7953"
             ],
             [
              0.7777777777777778,
              "#fb9f3a"
             ],
             [
              0.8888888888888888,
              "#fdca26"
             ],
             [
              1,
              "#f0f921"
             ]
            ],
            "type": "histogram2dcontour"
           }
          ],
          "mesh3d": [
           {
            "colorbar": {
             "outlinewidth": 0,
             "ticks": ""
            },
            "type": "mesh3d"
           }
          ],
          "parcoords": [
           {
            "line": {
             "colorbar": {
              "outlinewidth": 0,
              "ticks": ""
             }
            },
            "type": "parcoords"
           }
          ],
          "pie": [
           {
            "automargin": true,
            "type": "pie"
           }
          ],
          "scatter": [
           {
            "fillpattern": {
             "fillmode": "overlay",
             "size": 10,
             "solidity": 0.2
            },
            "type": "scatter"
           }
          ],
          "scatter3d": [
           {
            "line": {
             "colorbar": {
              "outlinewidth": 0,
              "ticks": ""
             }
            },
            "marker": {
             "colorbar": {
              "outlinewidth": 0,
              "ticks": ""
             }
            },
            "type": "scatter3d"
           }
          ],
          "scattercarpet": [
           {
            "marker": {
             "colorbar": {
              "outlinewidth": 0,
              "ticks": ""
             }
            },
            "type": "scattercarpet"
           }
          ],
          "scattergeo": [
           {
            "marker": {
             "colorbar": {
              "outlinewidth": 0,
              "ticks": ""
             }
            },
            "type": "scattergeo"
           }
          ],
          "scattergl": [
           {
            "marker": {
             "colorbar": {
              "outlinewidth": 0,
              "ticks": ""
             }
            },
            "type": "scattergl"
           }
          ],
          "scattermapbox": [
           {
            "marker": {
             "colorbar": {
              "outlinewidth": 0,
              "ticks": ""
             }
            },
            "type": "scattermapbox"
           }
          ],
          "scatterpolar": [
           {
            "marker": {
             "colorbar": {
              "outlinewidth": 0,
              "ticks": ""
             }
            },
            "type": "scatterpolar"
           }
          ],
          "scatterpolargl": [
           {
            "marker": {
             "colorbar": {
              "outlinewidth": 0,
              "ticks": ""
             }
            },
            "type": "scatterpolargl"
           }
          ],
          "scatterternary": [
           {
            "marker": {
             "colorbar": {
              "outlinewidth": 0,
              "ticks": ""
             }
            },
            "type": "scatterternary"
           }
          ],
          "surface": [
           {
            "colorbar": {
             "outlinewidth": 0,
             "ticks": ""
            },
            "colorscale": [
             [
              0,
              "#0d0887"
             ],
             [
              0.1111111111111111,
              "#46039f"
             ],
             [
              0.2222222222222222,
              "#7201a8"
             ],
             [
              0.3333333333333333,
              "#9c179e"
             ],
             [
              0.4444444444444444,
              "#bd3786"
             ],
             [
              0.5555555555555556,
              "#d8576b"
             ],
             [
              0.6666666666666666,
              "#ed7953"
             ],
             [
              0.7777777777777778,
              "#fb9f3a"
             ],
             [
              0.8888888888888888,
              "#fdca26"
             ],
             [
              1,
              "#f0f921"
             ]
            ],
            "type": "surface"
           }
          ],
          "table": [
           {
            "cells": {
             "fill": {
              "color": "#EBF0F8"
             },
             "line": {
              "color": "white"
             }
            },
            "header": {
             "fill": {
              "color": "#C8D4E3"
             },
             "line": {
              "color": "white"
             }
            },
            "type": "table"
           }
          ]
         },
         "layout": {
          "annotationdefaults": {
           "arrowcolor": "#2a3f5f",
           "arrowhead": 0,
           "arrowwidth": 1
          },
          "autotypenumbers": "strict",
          "coloraxis": {
           "colorbar": {
            "outlinewidth": 0,
            "ticks": ""
           }
          },
          "colorscale": {
           "diverging": [
            [
             0,
             "#8e0152"
            ],
            [
             0.1,
             "#c51b7d"
            ],
            [
             0.2,
             "#de77ae"
            ],
            [
             0.3,
             "#f1b6da"
            ],
            [
             0.4,
             "#fde0ef"
            ],
            [
             0.5,
             "#f7f7f7"
            ],
            [
             0.6,
             "#e6f5d0"
            ],
            [
             0.7,
             "#b8e186"
            ],
            [
             0.8,
             "#7fbc41"
            ],
            [
             0.9,
             "#4d9221"
            ],
            [
             1,
             "#276419"
            ]
           ],
           "sequential": [
            [
             0,
             "#0d0887"
            ],
            [
             0.1111111111111111,
             "#46039f"
            ],
            [
             0.2222222222222222,
             "#7201a8"
            ],
            [
             0.3333333333333333,
             "#9c179e"
            ],
            [
             0.4444444444444444,
             "#bd3786"
            ],
            [
             0.5555555555555556,
             "#d8576b"
            ],
            [
             0.6666666666666666,
             "#ed7953"
            ],
            [
             0.7777777777777778,
             "#fb9f3a"
            ],
            [
             0.8888888888888888,
             "#fdca26"
            ],
            [
             1,
             "#f0f921"
            ]
           ],
           "sequentialminus": [
            [
             0,
             "#0d0887"
            ],
            [
             0.1111111111111111,
             "#46039f"
            ],
            [
             0.2222222222222222,
             "#7201a8"
            ],
            [
             0.3333333333333333,
             "#9c179e"
            ],
            [
             0.4444444444444444,
             "#bd3786"
            ],
            [
             0.5555555555555556,
             "#d8576b"
            ],
            [
             0.6666666666666666,
             "#ed7953"
            ],
            [
             0.7777777777777778,
             "#fb9f3a"
            ],
            [
             0.8888888888888888,
             "#fdca26"
            ],
            [
             1,
             "#f0f921"
            ]
           ]
          },
          "colorway": [
           "#636efa",
           "#EF553B",
           "#00cc96",
           "#ab63fa",
           "#FFA15A",
           "#19d3f3",
           "#FF6692",
           "#B6E880",
           "#FF97FF",
           "#FECB52"
          ],
          "font": {
           "color": "#2a3f5f"
          },
          "geo": {
           "bgcolor": "white",
           "lakecolor": "white",
           "landcolor": "white",
           "showlakes": true,
           "showland": true,
           "subunitcolor": "#C8D4E3"
          },
          "hoverlabel": {
           "align": "left"
          },
          "hovermode": "closest",
          "mapbox": {
           "style": "light"
          },
          "paper_bgcolor": "white",
          "plot_bgcolor": "white",
          "polar": {
           "angularaxis": {
            "gridcolor": "#EBF0F8",
            "linecolor": "#EBF0F8",
            "ticks": ""
           },
           "bgcolor": "white",
           "radialaxis": {
            "gridcolor": "#EBF0F8",
            "linecolor": "#EBF0F8",
            "ticks": ""
           }
          },
          "scene": {
           "xaxis": {
            "backgroundcolor": "white",
            "gridcolor": "#DFE8F3",
            "gridwidth": 2,
            "linecolor": "#EBF0F8",
            "showbackground": true,
            "ticks": "",
            "zerolinecolor": "#EBF0F8"
           },
           "yaxis": {
            "backgroundcolor": "white",
            "gridcolor": "#DFE8F3",
            "gridwidth": 2,
            "linecolor": "#EBF0F8",
            "showbackground": true,
            "ticks": "",
            "zerolinecolor": "#EBF0F8"
           },
           "zaxis": {
            "backgroundcolor": "white",
            "gridcolor": "#DFE8F3",
            "gridwidth": 2,
            "linecolor": "#EBF0F8",
            "showbackground": true,
            "ticks": "",
            "zerolinecolor": "#EBF0F8"
           }
          },
          "shapedefaults": {
           "line": {
            "color": "#2a3f5f"
           }
          },
          "ternary": {
           "aaxis": {
            "gridcolor": "#DFE8F3",
            "linecolor": "#A2B1C6",
            "ticks": ""
           },
           "baxis": {
            "gridcolor": "#DFE8F3",
            "linecolor": "#A2B1C6",
            "ticks": ""
           },
           "bgcolor": "white",
           "caxis": {
            "gridcolor": "#DFE8F3",
            "linecolor": "#A2B1C6",
            "ticks": ""
           }
          },
          "title": {
           "x": 0.05
          },
          "xaxis": {
           "automargin": true,
           "gridcolor": "#EBF0F8",
           "linecolor": "#EBF0F8",
           "ticks": "",
           "title": {
            "standoff": 15
           },
           "zerolinecolor": "#EBF0F8",
           "zerolinewidth": 2
          },
          "yaxis": {
           "automargin": true,
           "gridcolor": "#EBF0F8",
           "linecolor": "#EBF0F8",
           "ticks": "",
           "title": {
            "standoff": 15
           },
           "zerolinecolor": "#EBF0F8",
           "zerolinewidth": 2
          }
         }
        },
        "title": {
         "font": {
          "color": "Black",
          "size": 22
         },
         "text": "<b>Topic Word Scores",
         "x": 0.5,
         "xanchor": "center",
         "yanchor": "top"
        },
        "width": 1000,
        "xaxis": {
         "anchor": "y",
         "domain": [
          0,
          0.175
         ],
         "showgrid": true
        },
        "xaxis2": {
         "anchor": "y2",
         "domain": [
          0.275,
          0.45
         ],
         "showgrid": true
        },
        "xaxis3": {
         "anchor": "y3",
         "domain": [
          0.55,
          0.7250000000000001
         ],
         "showgrid": true
        },
        "xaxis4": {
         "anchor": "y4",
         "domain": [
          0.825,
          1
         ],
         "showgrid": true
        },
        "xaxis5": {
         "anchor": "y5",
         "domain": [
          0,
          0.175
         ],
         "showgrid": true
        },
        "xaxis6": {
         "anchor": "y6",
         "domain": [
          0.275,
          0.45
         ],
         "showgrid": true
        },
        "xaxis7": {
         "anchor": "y7",
         "domain": [
          0.55,
          0.7250000000000001
         ],
         "showgrid": true
        },
        "xaxis8": {
         "anchor": "y8",
         "domain": [
          0.825,
          1
         ],
         "showgrid": true
        },
        "yaxis": {
         "anchor": "x",
         "domain": [
          0.6000000000000001,
          1
         ],
         "showgrid": true
        },
        "yaxis2": {
         "anchor": "x2",
         "domain": [
          0.6000000000000001,
          1
         ],
         "showgrid": true
        },
        "yaxis3": {
         "anchor": "x3",
         "domain": [
          0.6000000000000001,
          1
         ],
         "showgrid": true
        },
        "yaxis4": {
         "anchor": "x4",
         "domain": [
          0.6000000000000001,
          1
         ],
         "showgrid": true
        },
        "yaxis5": {
         "anchor": "x5",
         "domain": [
          0,
          0.4
         ],
         "showgrid": true
        },
        "yaxis6": {
         "anchor": "x6",
         "domain": [
          0,
          0.4
         ],
         "showgrid": true
        },
        "yaxis7": {
         "anchor": "x7",
         "domain": [
          0,
          0.4
         ],
         "showgrid": true
        },
        "yaxis8": {
         "anchor": "x8",
         "domain": [
          0,
          0.4
         ],
         "showgrid": true
        }
       }
      },
      "text/html": [
       "<div>                            <div id=\"bffdc651-00ba-42d2-83a1-f770587a431f\" class=\"plotly-graph-div\" style=\"height:500px; width:1000px;\"></div>            <script type=\"text/javascript\">                require([\"plotly\"], function(Plotly) {                    window.PLOTLYENV=window.PLOTLYENV || {};                                    if (document.getElementById(\"bffdc651-00ba-42d2-83a1-f770587a431f\")) {                    Plotly.newPlot(                        \"bffdc651-00ba-42d2-83a1-f770587a431f\",                        [{\"marker\":{\"color\":\"#D55E00\"},\"orientation\":\"h\",\"x\":[0.050989472590850494,0.0530305479655958,0.05801783625207208,0.07283231741804523,0.07906407168444793],\"y\":[\"you  \",\"india  \",\"congratulations  \",\"proud  \",\"mirabaichanu  \"],\"type\":\"bar\",\"xaxis\":\"x\",\"yaxis\":\"y\"},{\"marker\":{\"color\":\"#0072B2\"},\"orientation\":\"h\",\"x\":[0.07057332838810178,0.07688979418377281,0.09173877741475542,0.09218729028090532,0.10141960361285667],\"y\":[\"silver  \",\"first  \",\"chanu  \",\"mirabai  \",\"medal  \"],\"type\":\"bar\",\"xaxis\":\"x2\",\"yaxis\":\"y2\"},{\"marker\":{\"color\":\"#CC79A7\"},\"orientation\":\"h\",\"x\":[0.07974520103655076,0.08772948882557918,0.09348752323328532,0.10538752223940903,0.1146345376229787],\"y\":[\"congratulations  \",\"mirabaichanu  \",\"winning  \",\"weightlifting  \",\"silver  \"],\"type\":\"bar\",\"xaxis\":\"x3\",\"yaxis\":\"y3\"},{\"marker\":{\"color\":\"#E69F00\"},\"orientation\":\"h\",\"x\":[0.05444446386635765,0.05545087496776204,0.0635728397242386,0.08224502985204206,0.1203073381039482],\"y\":[\"tokyo2020  \",\"kerr  \",\"matildas  \",\"sweden  \",\"swevaus  \"],\"type\":\"bar\",\"xaxis\":\"x4\",\"yaxis\":\"y4\"},{\"marker\":{\"color\":\"#56B4E9\"},\"orientation\":\"h\",\"x\":[0.19807823241063305,0.2165982599223506,0.21794153186433712,0.21998560669807035,0.26826352560939154],\"y\":[\"49kg  \",\"mirabaichanu  \",\"lifting  \",\"hearty  \",\"puneethrajkumar  \"],\"type\":\"bar\",\"xaxis\":\"x5\",\"yaxis\":\"y5\"},{\"marker\":{\"color\":\"#009E73\"},\"orientation\":\"h\",\"x\":[0.03647578450263484,0.03890570095481176,0.04965694392302115,0.06427342943481243,0.09073904234116305],\"y\":[\"olympicgames  \",\"ceremony  \",\"the  \",\"tokyo2020  \",\"olympics  \"],\"type\":\"bar\",\"xaxis\":\"x6\",\"yaxis\":\"y6\"},{\"marker\":{\"color\":\"#F0E442\"},\"orientation\":\"h\",\"x\":[0.0556814145870756,0.06448082734299279,0.08521094611479095,0.1326705761112949,0.13538491404955486],\"y\":[\"okazawa  \",\"round  \",\"krishan  \",\"boxing  \",\"vikas  \"],\"type\":\"bar\",\"xaxis\":\"x7\",\"yaxis\":\"y7\"},{\"marker\":{\"color\":\"#D55E00\"},\"orientation\":\"h\",\"x\":[0.027385396430967164,0.02781170693468939,0.0321376890257352,0.03702275679648716,0.10765387041870056],\"y\":[\"this  \",\"the  \",\"you  \",\"to  \",\"tokyo2020  \"],\"type\":\"bar\",\"xaxis\":\"x8\",\"yaxis\":\"y8\"}],                        {\"template\":{\"data\":{\"barpolar\":[{\"marker\":{\"line\":{\"color\":\"white\",\"width\":0.5},\"pattern\":{\"fillmode\":\"overlay\",\"size\":10,\"solidity\":0.2}},\"type\":\"barpolar\"}],\"bar\":[{\"error_x\":{\"color\":\"#2a3f5f\"},\"error_y\":{\"color\":\"#2a3f5f\"},\"marker\":{\"line\":{\"color\":\"white\",\"width\":0.5},\"pattern\":{\"fillmode\":\"overlay\",\"size\":10,\"solidity\":0.2}},\"type\":\"bar\"}],\"carpet\":[{\"aaxis\":{\"endlinecolor\":\"#2a3f5f\",\"gridcolor\":\"#C8D4E3\",\"linecolor\":\"#C8D4E3\",\"minorgridcolor\":\"#C8D4E3\",\"startlinecolor\":\"#2a3f5f\"},\"baxis\":{\"endlinecolor\":\"#2a3f5f\",\"gridcolor\":\"#C8D4E3\",\"linecolor\":\"#C8D4E3\",\"minorgridcolor\":\"#C8D4E3\",\"startlinecolor\":\"#2a3f5f\"},\"type\":\"carpet\"}],\"choropleth\":[{\"colorbar\":{\"outlinewidth\":0,\"ticks\":\"\"},\"type\":\"choropleth\"}],\"contourcarpet\":[{\"colorbar\":{\"outlinewidth\":0,\"ticks\":\"\"},\"type\":\"contourcarpet\"}],\"contour\":[{\"colorbar\":{\"outlinewidth\":0,\"ticks\":\"\"},\"colorscale\":[[0.0,\"#0d0887\"],[0.1111111111111111,\"#46039f\"],[0.2222222222222222,\"#7201a8\"],[0.3333333333333333,\"#9c179e\"],[0.4444444444444444,\"#bd3786\"],[0.5555555555555556,\"#d8576b\"],[0.6666666666666666,\"#ed7953\"],[0.7777777777777778,\"#fb9f3a\"],[0.8888888888888888,\"#fdca26\"],[1.0,\"#f0f921\"]],\"type\":\"contour\"}],\"heatmapgl\":[{\"colorbar\":{\"outlinewidth\":0,\"ticks\":\"\"},\"colorscale\":[[0.0,\"#0d0887\"],[0.1111111111111111,\"#46039f\"],[0.2222222222222222,\"#7201a8\"],[0.3333333333333333,\"#9c179e\"],[0.4444444444444444,\"#bd3786\"],[0.5555555555555556,\"#d8576b\"],[0.6666666666666666,\"#ed7953\"],[0.7777777777777778,\"#fb9f3a\"],[0.8888888888888888,\"#fdca26\"],[1.0,\"#f0f921\"]],\"type\":\"heatmapgl\"}],\"heatmap\":[{\"colorbar\":{\"outlinewidth\":0,\"ticks\":\"\"},\"colorscale\":[[0.0,\"#0d0887\"],[0.1111111111111111,\"#46039f\"],[0.2222222222222222,\"#7201a8\"],[0.3333333333333333,\"#9c179e\"],[0.4444444444444444,\"#bd3786\"],[0.5555555555555556,\"#d8576b\"],[0.6666666666666666,\"#ed7953\"],[0.7777777777777778,\"#fb9f3a\"],[0.8888888888888888,\"#fdca26\"],[1.0,\"#f0f921\"]],\"type\":\"heatmap\"}],\"histogram2dcontour\":[{\"colorbar\":{\"outlinewidth\":0,\"ticks\":\"\"},\"colorscale\":[[0.0,\"#0d0887\"],[0.1111111111111111,\"#46039f\"],[0.2222222222222222,\"#7201a8\"],[0.3333333333333333,\"#9c179e\"],[0.4444444444444444,\"#bd3786\"],[0.5555555555555556,\"#d8576b\"],[0.6666666666666666,\"#ed7953\"],[0.7777777777777778,\"#fb9f3a\"],[0.8888888888888888,\"#fdca26\"],[1.0,\"#f0f921\"]],\"type\":\"histogram2dcontour\"}],\"histogram2d\":[{\"colorbar\":{\"outlinewidth\":0,\"ticks\":\"\"},\"colorscale\":[[0.0,\"#0d0887\"],[0.1111111111111111,\"#46039f\"],[0.2222222222222222,\"#7201a8\"],[0.3333333333333333,\"#9c179e\"],[0.4444444444444444,\"#bd3786\"],[0.5555555555555556,\"#d8576b\"],[0.6666666666666666,\"#ed7953\"],[0.7777777777777778,\"#fb9f3a\"],[0.8888888888888888,\"#fdca26\"],[1.0,\"#f0f921\"]],\"type\":\"histogram2d\"}],\"histogram\":[{\"marker\":{\"pattern\":{\"fillmode\":\"overlay\",\"size\":10,\"solidity\":0.2}},\"type\":\"histogram\"}],\"mesh3d\":[{\"colorbar\":{\"outlinewidth\":0,\"ticks\":\"\"},\"type\":\"mesh3d\"}],\"parcoords\":[{\"line\":{\"colorbar\":{\"outlinewidth\":0,\"ticks\":\"\"}},\"type\":\"parcoords\"}],\"pie\":[{\"automargin\":true,\"type\":\"pie\"}],\"scatter3d\":[{\"line\":{\"colorbar\":{\"outlinewidth\":0,\"ticks\":\"\"}},\"marker\":{\"colorbar\":{\"outlinewidth\":0,\"ticks\":\"\"}},\"type\":\"scatter3d\"}],\"scattercarpet\":[{\"marker\":{\"colorbar\":{\"outlinewidth\":0,\"ticks\":\"\"}},\"type\":\"scattercarpet\"}],\"scattergeo\":[{\"marker\":{\"colorbar\":{\"outlinewidth\":0,\"ticks\":\"\"}},\"type\":\"scattergeo\"}],\"scattergl\":[{\"marker\":{\"colorbar\":{\"outlinewidth\":0,\"ticks\":\"\"}},\"type\":\"scattergl\"}],\"scattermapbox\":[{\"marker\":{\"colorbar\":{\"outlinewidth\":0,\"ticks\":\"\"}},\"type\":\"scattermapbox\"}],\"scatterpolargl\":[{\"marker\":{\"colorbar\":{\"outlinewidth\":0,\"ticks\":\"\"}},\"type\":\"scatterpolargl\"}],\"scatterpolar\":[{\"marker\":{\"colorbar\":{\"outlinewidth\":0,\"ticks\":\"\"}},\"type\":\"scatterpolar\"}],\"scatter\":[{\"fillpattern\":{\"fillmode\":\"overlay\",\"size\":10,\"solidity\":0.2},\"type\":\"scatter\"}],\"scatterternary\":[{\"marker\":{\"colorbar\":{\"outlinewidth\":0,\"ticks\":\"\"}},\"type\":\"scatterternary\"}],\"surface\":[{\"colorbar\":{\"outlinewidth\":0,\"ticks\":\"\"},\"colorscale\":[[0.0,\"#0d0887\"],[0.1111111111111111,\"#46039f\"],[0.2222222222222222,\"#7201a8\"],[0.3333333333333333,\"#9c179e\"],[0.4444444444444444,\"#bd3786\"],[0.5555555555555556,\"#d8576b\"],[0.6666666666666666,\"#ed7953\"],[0.7777777777777778,\"#fb9f3a\"],[0.8888888888888888,\"#fdca26\"],[1.0,\"#f0f921\"]],\"type\":\"surface\"}],\"table\":[{\"cells\":{\"fill\":{\"color\":\"#EBF0F8\"},\"line\":{\"color\":\"white\"}},\"header\":{\"fill\":{\"color\":\"#C8D4E3\"},\"line\":{\"color\":\"white\"}},\"type\":\"table\"}]},\"layout\":{\"annotationdefaults\":{\"arrowcolor\":\"#2a3f5f\",\"arrowhead\":0,\"arrowwidth\":1},\"autotypenumbers\":\"strict\",\"coloraxis\":{\"colorbar\":{\"outlinewidth\":0,\"ticks\":\"\"}},\"colorscale\":{\"diverging\":[[0,\"#8e0152\"],[0.1,\"#c51b7d\"],[0.2,\"#de77ae\"],[0.3,\"#f1b6da\"],[0.4,\"#fde0ef\"],[0.5,\"#f7f7f7\"],[0.6,\"#e6f5d0\"],[0.7,\"#b8e186\"],[0.8,\"#7fbc41\"],[0.9,\"#4d9221\"],[1,\"#276419\"]],\"sequential\":[[0.0,\"#0d0887\"],[0.1111111111111111,\"#46039f\"],[0.2222222222222222,\"#7201a8\"],[0.3333333333333333,\"#9c179e\"],[0.4444444444444444,\"#bd3786\"],[0.5555555555555556,\"#d8576b\"],[0.6666666666666666,\"#ed7953\"],[0.7777777777777778,\"#fb9f3a\"],[0.8888888888888888,\"#fdca26\"],[1.0,\"#f0f921\"]],\"sequentialminus\":[[0.0,\"#0d0887\"],[0.1111111111111111,\"#46039f\"],[0.2222222222222222,\"#7201a8\"],[0.3333333333333333,\"#9c179e\"],[0.4444444444444444,\"#bd3786\"],[0.5555555555555556,\"#d8576b\"],[0.6666666666666666,\"#ed7953\"],[0.7777777777777778,\"#fb9f3a\"],[0.8888888888888888,\"#fdca26\"],[1.0,\"#f0f921\"]]},\"colorway\":[\"#636efa\",\"#EF553B\",\"#00cc96\",\"#ab63fa\",\"#FFA15A\",\"#19d3f3\",\"#FF6692\",\"#B6E880\",\"#FF97FF\",\"#FECB52\"],\"font\":{\"color\":\"#2a3f5f\"},\"geo\":{\"bgcolor\":\"white\",\"lakecolor\":\"white\",\"landcolor\":\"white\",\"showlakes\":true,\"showland\":true,\"subunitcolor\":\"#C8D4E3\"},\"hoverlabel\":{\"align\":\"left\"},\"hovermode\":\"closest\",\"mapbox\":{\"style\":\"light\"},\"paper_bgcolor\":\"white\",\"plot_bgcolor\":\"white\",\"polar\":{\"angularaxis\":{\"gridcolor\":\"#EBF0F8\",\"linecolor\":\"#EBF0F8\",\"ticks\":\"\"},\"bgcolor\":\"white\",\"radialaxis\":{\"gridcolor\":\"#EBF0F8\",\"linecolor\":\"#EBF0F8\",\"ticks\":\"\"}},\"scene\":{\"xaxis\":{\"backgroundcolor\":\"white\",\"gridcolor\":\"#DFE8F3\",\"gridwidth\":2,\"linecolor\":\"#EBF0F8\",\"showbackground\":true,\"ticks\":\"\",\"zerolinecolor\":\"#EBF0F8\"},\"yaxis\":{\"backgroundcolor\":\"white\",\"gridcolor\":\"#DFE8F3\",\"gridwidth\":2,\"linecolor\":\"#EBF0F8\",\"showbackground\":true,\"ticks\":\"\",\"zerolinecolor\":\"#EBF0F8\"},\"zaxis\":{\"backgroundcolor\":\"white\",\"gridcolor\":\"#DFE8F3\",\"gridwidth\":2,\"linecolor\":\"#EBF0F8\",\"showbackground\":true,\"ticks\":\"\",\"zerolinecolor\":\"#EBF0F8\"}},\"shapedefaults\":{\"line\":{\"color\":\"#2a3f5f\"}},\"ternary\":{\"aaxis\":{\"gridcolor\":\"#DFE8F3\",\"linecolor\":\"#A2B1C6\",\"ticks\":\"\"},\"baxis\":{\"gridcolor\":\"#DFE8F3\",\"linecolor\":\"#A2B1C6\",\"ticks\":\"\"},\"bgcolor\":\"white\",\"caxis\":{\"gridcolor\":\"#DFE8F3\",\"linecolor\":\"#A2B1C6\",\"ticks\":\"\"}},\"title\":{\"x\":0.05},\"xaxis\":{\"automargin\":true,\"gridcolor\":\"#EBF0F8\",\"linecolor\":\"#EBF0F8\",\"ticks\":\"\",\"title\":{\"standoff\":15},\"zerolinecolor\":\"#EBF0F8\",\"zerolinewidth\":2},\"yaxis\":{\"automargin\":true,\"gridcolor\":\"#EBF0F8\",\"linecolor\":\"#EBF0F8\",\"ticks\":\"\",\"title\":{\"standoff\":15},\"zerolinecolor\":\"#EBF0F8\",\"zerolinewidth\":2}}},\"xaxis\":{\"anchor\":\"y\",\"domain\":[0.0,0.175],\"showgrid\":true},\"yaxis\":{\"anchor\":\"x\",\"domain\":[0.6000000000000001,1.0],\"showgrid\":true},\"xaxis2\":{\"anchor\":\"y2\",\"domain\":[0.275,0.45],\"showgrid\":true},\"yaxis2\":{\"anchor\":\"x2\",\"domain\":[0.6000000000000001,1.0],\"showgrid\":true},\"xaxis3\":{\"anchor\":\"y3\",\"domain\":[0.55,0.7250000000000001],\"showgrid\":true},\"yaxis3\":{\"anchor\":\"x3\",\"domain\":[0.6000000000000001,1.0],\"showgrid\":true},\"xaxis4\":{\"anchor\":\"y4\",\"domain\":[0.825,1.0],\"showgrid\":true},\"yaxis4\":{\"anchor\":\"x4\",\"domain\":[0.6000000000000001,1.0],\"showgrid\":true},\"xaxis5\":{\"anchor\":\"y5\",\"domain\":[0.0,0.175],\"showgrid\":true},\"yaxis5\":{\"anchor\":\"x5\",\"domain\":[0.0,0.4],\"showgrid\":true},\"xaxis6\":{\"anchor\":\"y6\",\"domain\":[0.275,0.45],\"showgrid\":true},\"yaxis6\":{\"anchor\":\"x6\",\"domain\":[0.0,0.4],\"showgrid\":true},\"xaxis7\":{\"anchor\":\"y7\",\"domain\":[0.55,0.7250000000000001],\"showgrid\":true},\"yaxis7\":{\"anchor\":\"x7\",\"domain\":[0.0,0.4],\"showgrid\":true},\"xaxis8\":{\"anchor\":\"y8\",\"domain\":[0.825,1.0],\"showgrid\":true},\"yaxis8\":{\"anchor\":\"x8\",\"domain\":[0.0,0.4],\"showgrid\":true},\"annotations\":[{\"font\":{\"size\":16},\"showarrow\":false,\"text\":\"Topic 0\",\"x\":0.0875,\"xanchor\":\"center\",\"xref\":\"paper\",\"y\":1.0,\"yanchor\":\"bottom\",\"yref\":\"paper\"},{\"font\":{\"size\":16},\"showarrow\":false,\"text\":\"Topic 1\",\"x\":0.36250000000000004,\"xanchor\":\"center\",\"xref\":\"paper\",\"y\":1.0,\"yanchor\":\"bottom\",\"yref\":\"paper\"},{\"font\":{\"size\":16},\"showarrow\":false,\"text\":\"Topic 2\",\"x\":0.6375000000000001,\"xanchor\":\"center\",\"xref\":\"paper\",\"y\":1.0,\"yanchor\":\"bottom\",\"yref\":\"paper\"},{\"font\":{\"size\":16},\"showarrow\":false,\"text\":\"Topic 3\",\"x\":0.9125,\"xanchor\":\"center\",\"xref\":\"paper\",\"y\":1.0,\"yanchor\":\"bottom\",\"yref\":\"paper\"},{\"font\":{\"size\":16},\"showarrow\":false,\"text\":\"Topic 4\",\"x\":0.0875,\"xanchor\":\"center\",\"xref\":\"paper\",\"y\":0.4,\"yanchor\":\"bottom\",\"yref\":\"paper\"},{\"font\":{\"size\":16},\"showarrow\":false,\"text\":\"Topic 5\",\"x\":0.36250000000000004,\"xanchor\":\"center\",\"xref\":\"paper\",\"y\":0.4,\"yanchor\":\"bottom\",\"yref\":\"paper\"},{\"font\":{\"size\":16},\"showarrow\":false,\"text\":\"Topic 6\",\"x\":0.6375000000000001,\"xanchor\":\"center\",\"xref\":\"paper\",\"y\":0.4,\"yanchor\":\"bottom\",\"yref\":\"paper\"},{\"font\":{\"size\":16},\"showarrow\":false,\"text\":\"Topic 7\",\"x\":0.9125,\"xanchor\":\"center\",\"xref\":\"paper\",\"y\":0.4,\"yanchor\":\"bottom\",\"yref\":\"paper\"}],\"title\":{\"font\":{\"size\":22,\"color\":\"Black\"},\"text\":\"<b>Topic Word Scores\",\"x\":0.5,\"xanchor\":\"center\",\"yanchor\":\"top\"},\"hoverlabel\":{\"font\":{\"size\":16,\"family\":\"Rockwell\"},\"bgcolor\":\"white\"},\"showlegend\":false,\"width\":1000,\"height\":500},                        {\"responsive\": true}                    ).then(function(){\n",
       "                            \n",
       "var gd = document.getElementById('bffdc651-00ba-42d2-83a1-f770587a431f');\n",
       "var x = new MutationObserver(function (mutations, observer) {{\n",
       "        var display = window.getComputedStyle(gd).display;\n",
       "        if (!display || display === 'none') {{\n",
       "            console.log([gd, 'removed!']);\n",
       "            Plotly.purge(gd);\n",
       "            observer.disconnect();\n",
       "        }}\n",
       "}});\n",
       "\n",
       "// Listen for the removal of the full notebook cells\n",
       "var notebookContainer = gd.closest('#notebook-container');\n",
       "if (notebookContainer) {{\n",
       "    x.observe(notebookContainer, {childList: true});\n",
       "}}\n",
       "\n",
       "// Listen for the clearing of the current output cell\n",
       "var outputEl = gd.closest('.output');\n",
       "if (outputEl) {{\n",
       "    x.observe(outputEl, {childList: true});\n",
       "}}\n",
       "\n",
       "                        })                };                });            </script>        </div>"
      ]
     },
     "metadata": {},
     "output_type": "display_data"
    }
   ],
   "source": [
    "model.visualize_barchart()"
   ]
  },
  {
   "cell_type": "code",
   "execution_count": 75,
   "metadata": {},
   "outputs": [
    {
     "data": {
      "application/vnd.plotly.v1+json": {
       "config": {
        "plotlyServerURL": "https://plot.ly"
       },
       "data": [
        {
         "coloraxis": "coloraxis",
         "hovertemplate": "x: %{x}<br>y: %{y}<br>Similarity Score: %{z}<extra></extra>",
         "name": "0",
         "type": "heatmap",
         "x": [
          "0_mirabaichanu_proud_congra...",
          "1_medal_mirabai_chanu",
          "2_silver_weightlifting_winn...",
          "3_swevaus_sweden_matildas",
          "4_puneethrajkumar_hearty_li...",
          "5_olympics_tokyo2020_the",
          "6_vikas_boxing_krishan",
          "7_tokyo2020_to_you",
          "8_banda_zambia_barbra",
          "9_smith_clareburt_swimming",
          "10_judo_gold_kosovo",
          "11_teamgb_football_japan",
          "12_badminton_doubles_peng",
          "13_butterfly_100m_rule",
          "14_swimming_tokyo2020_the"
         ],
         "xaxis": "x",
         "y": [
          "0_mirabaichanu_proud_congra...",
          "1_medal_mirabai_chanu",
          "2_silver_weightlifting_winn...",
          "3_swevaus_sweden_matildas",
          "4_puneethrajkumar_hearty_li...",
          "5_olympics_tokyo2020_the",
          "6_vikas_boxing_krishan",
          "7_tokyo2020_to_you",
          "8_banda_zambia_barbra",
          "9_smith_clareburt_swimming",
          "10_judo_gold_kosovo",
          "11_teamgb_football_japan",
          "12_badminton_doubles_peng",
          "13_butterfly_100m_rule",
          "14_swimming_tokyo2020_the"
         ],
         "yaxis": "y",
         "z": [
          [
           0.9999999999999999,
           0.8028929870684534,
           0.732313034599139,
           0.802948463595986,
           0.703995844247862,
           0.698044886782573,
           0.790599400863817,
           0.6736224068662158,
           0.8760747335860468,
           0.6724551068258651,
           0.6321472933335597,
           0.623278942684647,
           0.7043599447643247,
           0.6302716688616103,
           0.7827582690908768
          ],
          [
           0.8028929870684534,
           0.9999999999999998,
           0.8660582455860681,
           0.8816342814235283,
           0.7353419179376236,
           0.8052864336567126,
           0.7467775343338903,
           0.690789673745729,
           0.799101486765496,
           0.7509618633481349,
           0.6361379814398097,
           0.7179829861165666,
           0.7064133307762441,
           0.6905804384263612,
           0.7165713465973154
          ],
          [
           0.732313034599139,
           0.8660582455860681,
           1.0000000000000009,
           0.8802304408493604,
           0.7670029136743306,
           0.8059259269027068,
           0.7081330221530706,
           0.7438189377318734,
           0.712460368905709,
           0.7813771582092088,
           0.6996282854796834,
           0.7843589221301306,
           0.7333874657951227,
           0.7690935396831886,
           0.7466911078647066
          ],
          [
           0.802948463595986,
           0.8816342814235283,
           0.8802304408493604,
           1.0000000000000002,
           0.7074065587371341,
           0.8336325942043665,
           0.7228132110814567,
           0.7240254186730574,
           0.7181941340609352,
           0.6977972907499518,
           0.7233295364838875,
           0.7412572710798977,
           0.6768340118776581,
           0.7017264645700123,
           0.7661034576808671
          ],
          [
           0.703995844247862,
           0.7353419179376236,
           0.7670029136743306,
           0.7074065587371341,
           1,
           0.6872110220684726,
           0.6659190433713841,
           0.6897331414048465,
           0.6988684172375889,
           0.7182523436902147,
           0.6504446287199421,
           0.6755501388965466,
           0.705845245270343,
           0.6806872200013152,
           0.6907948974556573
          ],
          [
           0.698044886782573,
           0.8052864336567126,
           0.8059259269027068,
           0.8336325942043665,
           0.6872110220684726,
           0.9999999999999999,
           0.6258142264400478,
           0.6584759855188873,
           0.6634399957637236,
           0.6835083531915406,
           0.6817563936427065,
           0.6925192909371501,
           0.6570438327818017,
           0.6856532121068111,
           0.7401124958080323
          ],
          [
           0.790599400863817,
           0.7467775343338903,
           0.7081330221530706,
           0.7228132110814567,
           0.6659190433713841,
           0.6258142264400478,
           1.0000000000000004,
           0.6607929849616545,
           0.7979823728978821,
           0.6561654256896251,
           0.620353611981388,
           0.7272651871900775,
           0.7262430754044547,
           0.6761015569186775,
           0.6869277566511047
          ],
          [
           0.6736224068662158,
           0.690789673745729,
           0.7438189377318734,
           0.7240254186730574,
           0.6897331414048465,
           0.6584759855188873,
           0.6607929849616545,
           1,
           0.654707636832083,
           0.6808310828991786,
           0.6880612974472343,
           0.7377192140144092,
           0.6405340133272548,
           0.7169494866048469,
           0.676117005625603
          ],
          [
           0.8760747335860468,
           0.799101486765496,
           0.712460368905709,
           0.7181941340609352,
           0.6988684172375889,
           0.6634399957637236,
           0.7979823728978821,
           0.654707636832083,
           0.9999999999999998,
           0.6675109060236584,
           0.5792236676895063,
           0.6580050458288417,
           0.7322053584984409,
           0.6493466601852906,
           0.727698504486455
          ],
          [
           0.6724551068258651,
           0.7509618633481349,
           0.7813771582092088,
           0.6977972907499518,
           0.7182523436902147,
           0.6835083531915406,
           0.6561654256896251,
           0.6808310828991786,
           0.6675109060236584,
           0.9999999999999998,
           0.6482636884472848,
           0.7018633781354173,
           0.7400821205114866,
           0.7365351485118086,
           0.7040070952771246
          ],
          [
           0.6321472933335597,
           0.6361379814398097,
           0.6996282854796834,
           0.7233295364838875,
           0.6504446287199421,
           0.6817563936427065,
           0.620353611981388,
           0.6880612974472343,
           0.5792236676895063,
           0.6482636884472848,
           1.0000000000000009,
           0.671737938439364,
           0.6623737691038666,
           0.6808126260192782,
           0.8012018383895605
          ],
          [
           0.623278942684647,
           0.7179829861165666,
           0.7843589221301306,
           0.7412572710798977,
           0.6755501388965466,
           0.6925192909371501,
           0.7272651871900775,
           0.7377192140144092,
           0.6580050458288417,
           0.7018633781354173,
           0.671737938439364,
           1.0000000000000002,
           0.685810983287781,
           0.7042520151643272,
           0.6798513521185203
          ],
          [
           0.7043599447643247,
           0.7064133307762441,
           0.7333874657951227,
           0.6768340118776581,
           0.705845245270343,
           0.6570438327818017,
           0.7262430754044547,
           0.6405340133272548,
           0.7322053584984409,
           0.7400821205114866,
           0.6623737691038666,
           0.685810983287781,
           0.9999999999999994,
           0.6926275980309015,
           0.7102629816854467
          ],
          [
           0.6302716688616103,
           0.6905804384263612,
           0.7690935396831886,
           0.7017264645700123,
           0.6806872200013152,
           0.6856532121068111,
           0.6761015569186775,
           0.7169494866048469,
           0.6493466601852906,
           0.7365351485118086,
           0.6808126260192782,
           0.7042520151643272,
           0.6926275980309015,
           0.9999999999999996,
           0.6851221741907373
          ],
          [
           0.7827582690908768,
           0.7165713465973154,
           0.7466911078647066,
           0.7661034576808671,
           0.6907948974556573,
           0.7401124958080323,
           0.6869277566511047,
           0.676117005625603,
           0.727698504486455,
           0.7040070952771246,
           0.8012018383895605,
           0.6798513521185203,
           0.7102629816854467,
           0.6851221741907373,
           0.9999999999999994
          ]
         ]
        }
       ],
       "layout": {
        "coloraxis": {
         "colorbar": {
          "title": {
           "text": "Similarity Score"
          }
         },
         "colorscale": [
          [
           0,
           "rgb(247,252,240)"
          ],
          [
           0.125,
           "rgb(224,243,219)"
          ],
          [
           0.25,
           "rgb(204,235,197)"
          ],
          [
           0.375,
           "rgb(168,221,181)"
          ],
          [
           0.5,
           "rgb(123,204,196)"
          ],
          [
           0.625,
           "rgb(78,179,211)"
          ],
          [
           0.75,
           "rgb(43,140,190)"
          ],
          [
           0.875,
           "rgb(8,104,172)"
          ],
          [
           1,
           "rgb(8,64,129)"
          ]
         ]
        },
        "height": 800,
        "hoverlabel": {
         "bgcolor": "white",
         "font": {
          "family": "Rockwell",
          "size": 16
         }
        },
        "legend": {
         "title": {
          "text": "Trend"
         }
        },
        "margin": {
         "t": 60
        },
        "showlegend": true,
        "template": {
         "data": {
          "bar": [
           {
            "error_x": {
             "color": "#2a3f5f"
            },
            "error_y": {
             "color": "#2a3f5f"
            },
            "marker": {
             "line": {
              "color": "#E5ECF6",
              "width": 0.5
             },
             "pattern": {
              "fillmode": "overlay",
              "size": 10,
              "solidity": 0.2
             }
            },
            "type": "bar"
           }
          ],
          "barpolar": [
           {
            "marker": {
             "line": {
              "color": "#E5ECF6",
              "width": 0.5
             },
             "pattern": {
              "fillmode": "overlay",
              "size": 10,
              "solidity": 0.2
             }
            },
            "type": "barpolar"
           }
          ],
          "carpet": [
           {
            "aaxis": {
             "endlinecolor": "#2a3f5f",
             "gridcolor": "white",
             "linecolor": "white",
             "minorgridcolor": "white",
             "startlinecolor": "#2a3f5f"
            },
            "baxis": {
             "endlinecolor": "#2a3f5f",
             "gridcolor": "white",
             "linecolor": "white",
             "minorgridcolor": "white",
             "startlinecolor": "#2a3f5f"
            },
            "type": "carpet"
           }
          ],
          "choropleth": [
           {
            "colorbar": {
             "outlinewidth": 0,
             "ticks": ""
            },
            "type": "choropleth"
           }
          ],
          "contour": [
           {
            "colorbar": {
             "outlinewidth": 0,
             "ticks": ""
            },
            "colorscale": [
             [
              0,
              "#0d0887"
             ],
             [
              0.1111111111111111,
              "#46039f"
             ],
             [
              0.2222222222222222,
              "#7201a8"
             ],
             [
              0.3333333333333333,
              "#9c179e"
             ],
             [
              0.4444444444444444,
              "#bd3786"
             ],
             [
              0.5555555555555556,
              "#d8576b"
             ],
             [
              0.6666666666666666,
              "#ed7953"
             ],
             [
              0.7777777777777778,
              "#fb9f3a"
             ],
             [
              0.8888888888888888,
              "#fdca26"
             ],
             [
              1,
              "#f0f921"
             ]
            ],
            "type": "contour"
           }
          ],
          "contourcarpet": [
           {
            "colorbar": {
             "outlinewidth": 0,
             "ticks": ""
            },
            "type": "contourcarpet"
           }
          ],
          "heatmap": [
           {
            "colorbar": {
             "outlinewidth": 0,
             "ticks": ""
            },
            "colorscale": [
             [
              0,
              "#0d0887"
             ],
             [
              0.1111111111111111,
              "#46039f"
             ],
             [
              0.2222222222222222,
              "#7201a8"
             ],
             [
              0.3333333333333333,
              "#9c179e"
             ],
             [
              0.4444444444444444,
              "#bd3786"
             ],
             [
              0.5555555555555556,
              "#d8576b"
             ],
             [
              0.6666666666666666,
              "#ed7953"
             ],
             [
              0.7777777777777778,
              "#fb9f3a"
             ],
             [
              0.8888888888888888,
              "#fdca26"
             ],
             [
              1,
              "#f0f921"
             ]
            ],
            "type": "heatmap"
           }
          ],
          "heatmapgl": [
           {
            "colorbar": {
             "outlinewidth": 0,
             "ticks": ""
            },
            "colorscale": [
             [
              0,
              "#0d0887"
             ],
             [
              0.1111111111111111,
              "#46039f"
             ],
             [
              0.2222222222222222,
              "#7201a8"
             ],
             [
              0.3333333333333333,
              "#9c179e"
             ],
             [
              0.4444444444444444,
              "#bd3786"
             ],
             [
              0.5555555555555556,
              "#d8576b"
             ],
             [
              0.6666666666666666,
              "#ed7953"
             ],
             [
              0.7777777777777778,
              "#fb9f3a"
             ],
             [
              0.8888888888888888,
              "#fdca26"
             ],
             [
              1,
              "#f0f921"
             ]
            ],
            "type": "heatmapgl"
           }
          ],
          "histogram": [
           {
            "marker": {
             "pattern": {
              "fillmode": "overlay",
              "size": 10,
              "solidity": 0.2
             }
            },
            "type": "histogram"
           }
          ],
          "histogram2d": [
           {
            "colorbar": {
             "outlinewidth": 0,
             "ticks": ""
            },
            "colorscale": [
             [
              0,
              "#0d0887"
             ],
             [
              0.1111111111111111,
              "#46039f"
             ],
             [
              0.2222222222222222,
              "#7201a8"
             ],
             [
              0.3333333333333333,
              "#9c179e"
             ],
             [
              0.4444444444444444,
              "#bd3786"
             ],
             [
              0.5555555555555556,
              "#d8576b"
             ],
             [
              0.6666666666666666,
              "#ed7953"
             ],
             [
              0.7777777777777778,
              "#fb9f3a"
             ],
             [
              0.8888888888888888,
              "#fdca26"
             ],
             [
              1,
              "#f0f921"
             ]
            ],
            "type": "histogram2d"
           }
          ],
          "histogram2dcontour": [
           {
            "colorbar": {
             "outlinewidth": 0,
             "ticks": ""
            },
            "colorscale": [
             [
              0,
              "#0d0887"
             ],
             [
              0.1111111111111111,
              "#46039f"
             ],
             [
              0.2222222222222222,
              "#7201a8"
             ],
             [
              0.3333333333333333,
              "#9c179e"
             ],
             [
              0.4444444444444444,
              "#bd3786"
             ],
             [
              0.5555555555555556,
              "#d8576b"
             ],
             [
              0.6666666666666666,
              "#ed7953"
             ],
             [
              0.7777777777777778,
              "#fb9f3a"
             ],
             [
              0.8888888888888888,
              "#fdca26"
             ],
             [
              1,
              "#f0f921"
             ]
            ],
            "type": "histogram2dcontour"
           }
          ],
          "mesh3d": [
           {
            "colorbar": {
             "outlinewidth": 0,
             "ticks": ""
            },
            "type": "mesh3d"
           }
          ],
          "parcoords": [
           {
            "line": {
             "colorbar": {
              "outlinewidth": 0,
              "ticks": ""
             }
            },
            "type": "parcoords"
           }
          ],
          "pie": [
           {
            "automargin": true,
            "type": "pie"
           }
          ],
          "scatter": [
           {
            "fillpattern": {
             "fillmode": "overlay",
             "size": 10,
             "solidity": 0.2
            },
            "type": "scatter"
           }
          ],
          "scatter3d": [
           {
            "line": {
             "colorbar": {
              "outlinewidth": 0,
              "ticks": ""
             }
            },
            "marker": {
             "colorbar": {
              "outlinewidth": 0,
              "ticks": ""
             }
            },
            "type": "scatter3d"
           }
          ],
          "scattercarpet": [
           {
            "marker": {
             "colorbar": {
              "outlinewidth": 0,
              "ticks": ""
             }
            },
            "type": "scattercarpet"
           }
          ],
          "scattergeo": [
           {
            "marker": {
             "colorbar": {
              "outlinewidth": 0,
              "ticks": ""
             }
            },
            "type": "scattergeo"
           }
          ],
          "scattergl": [
           {
            "marker": {
             "colorbar": {
              "outlinewidth": 0,
              "ticks": ""
             }
            },
            "type": "scattergl"
           }
          ],
          "scattermapbox": [
           {
            "marker": {
             "colorbar": {
              "outlinewidth": 0,
              "ticks": ""
             }
            },
            "type": "scattermapbox"
           }
          ],
          "scatterpolar": [
           {
            "marker": {
             "colorbar": {
              "outlinewidth": 0,
              "ticks": ""
             }
            },
            "type": "scatterpolar"
           }
          ],
          "scatterpolargl": [
           {
            "marker": {
             "colorbar": {
              "outlinewidth": 0,
              "ticks": ""
             }
            },
            "type": "scatterpolargl"
           }
          ],
          "scatterternary": [
           {
            "marker": {
             "colorbar": {
              "outlinewidth": 0,
              "ticks": ""
             }
            },
            "type": "scatterternary"
           }
          ],
          "surface": [
           {
            "colorbar": {
             "outlinewidth": 0,
             "ticks": ""
            },
            "colorscale": [
             [
              0,
              "#0d0887"
             ],
             [
              0.1111111111111111,
              "#46039f"
             ],
             [
              0.2222222222222222,
              "#7201a8"
             ],
             [
              0.3333333333333333,
              "#9c179e"
             ],
             [
              0.4444444444444444,
              "#bd3786"
             ],
             [
              0.5555555555555556,
              "#d8576b"
             ],
             [
              0.6666666666666666,
              "#ed7953"
             ],
             [
              0.7777777777777778,
              "#fb9f3a"
             ],
             [
              0.8888888888888888,
              "#fdca26"
             ],
             [
              1,
              "#f0f921"
             ]
            ],
            "type": "surface"
           }
          ],
          "table": [
           {
            "cells": {
             "fill": {
              "color": "#EBF0F8"
             },
             "line": {
              "color": "white"
             }
            },
            "header": {
             "fill": {
              "color": "#C8D4E3"
             },
             "line": {
              "color": "white"
             }
            },
            "type": "table"
           }
          ]
         },
         "layout": {
          "annotationdefaults": {
           "arrowcolor": "#2a3f5f",
           "arrowhead": 0,
           "arrowwidth": 1
          },
          "autotypenumbers": "strict",
          "coloraxis": {
           "colorbar": {
            "outlinewidth": 0,
            "ticks": ""
           }
          },
          "colorscale": {
           "diverging": [
            [
             0,
             "#8e0152"
            ],
            [
             0.1,
             "#c51b7d"
            ],
            [
             0.2,
             "#de77ae"
            ],
            [
             0.3,
             "#f1b6da"
            ],
            [
             0.4,
             "#fde0ef"
            ],
            [
             0.5,
             "#f7f7f7"
            ],
            [
             0.6,
             "#e6f5d0"
            ],
            [
             0.7,
             "#b8e186"
            ],
            [
             0.8,
             "#7fbc41"
            ],
            [
             0.9,
             "#4d9221"
            ],
            [
             1,
             "#276419"
            ]
           ],
           "sequential": [
            [
             0,
             "#0d0887"
            ],
            [
             0.1111111111111111,
             "#46039f"
            ],
            [
             0.2222222222222222,
             "#7201a8"
            ],
            [
             0.3333333333333333,
             "#9c179e"
            ],
            [
             0.4444444444444444,
             "#bd3786"
            ],
            [
             0.5555555555555556,
             "#d8576b"
            ],
            [
             0.6666666666666666,
             "#ed7953"
            ],
            [
             0.7777777777777778,
             "#fb9f3a"
            ],
            [
             0.8888888888888888,
             "#fdca26"
            ],
            [
             1,
             "#f0f921"
            ]
           ],
           "sequentialminus": [
            [
             0,
             "#0d0887"
            ],
            [
             0.1111111111111111,
             "#46039f"
            ],
            [
             0.2222222222222222,
             "#7201a8"
            ],
            [
             0.3333333333333333,
             "#9c179e"
            ],
            [
             0.4444444444444444,
             "#bd3786"
            ],
            [
             0.5555555555555556,
             "#d8576b"
            ],
            [
             0.6666666666666666,
             "#ed7953"
            ],
            [
             0.7777777777777778,
             "#fb9f3a"
            ],
            [
             0.8888888888888888,
             "#fdca26"
            ],
            [
             1,
             "#f0f921"
            ]
           ]
          },
          "colorway": [
           "#636efa",
           "#EF553B",
           "#00cc96",
           "#ab63fa",
           "#FFA15A",
           "#19d3f3",
           "#FF6692",
           "#B6E880",
           "#FF97FF",
           "#FECB52"
          ],
          "font": {
           "color": "#2a3f5f"
          },
          "geo": {
           "bgcolor": "white",
           "lakecolor": "white",
           "landcolor": "#E5ECF6",
           "showlakes": true,
           "showland": true,
           "subunitcolor": "white"
          },
          "hoverlabel": {
           "align": "left"
          },
          "hovermode": "closest",
          "mapbox": {
           "style": "light"
          },
          "paper_bgcolor": "white",
          "plot_bgcolor": "#E5ECF6",
          "polar": {
           "angularaxis": {
            "gridcolor": "white",
            "linecolor": "white",
            "ticks": ""
           },
           "bgcolor": "#E5ECF6",
           "radialaxis": {
            "gridcolor": "white",
            "linecolor": "white",
            "ticks": ""
           }
          },
          "scene": {
           "xaxis": {
            "backgroundcolor": "#E5ECF6",
            "gridcolor": "white",
            "gridwidth": 2,
            "linecolor": "white",
            "showbackground": true,
            "ticks": "",
            "zerolinecolor": "white"
           },
           "yaxis": {
            "backgroundcolor": "#E5ECF6",
            "gridcolor": "white",
            "gridwidth": 2,
            "linecolor": "white",
            "showbackground": true,
            "ticks": "",
            "zerolinecolor": "white"
           },
           "zaxis": {
            "backgroundcolor": "#E5ECF6",
            "gridcolor": "white",
            "gridwidth": 2,
            "linecolor": "white",
            "showbackground": true,
            "ticks": "",
            "zerolinecolor": "white"
           }
          },
          "shapedefaults": {
           "line": {
            "color": "#2a3f5f"
           }
          },
          "ternary": {
           "aaxis": {
            "gridcolor": "white",
            "linecolor": "white",
            "ticks": ""
           },
           "baxis": {
            "gridcolor": "white",
            "linecolor": "white",
            "ticks": ""
           },
           "bgcolor": "#E5ECF6",
           "caxis": {
            "gridcolor": "white",
            "linecolor": "white",
            "ticks": ""
           }
          },
          "title": {
           "x": 0.05
          },
          "xaxis": {
           "automargin": true,
           "gridcolor": "white",
           "linecolor": "white",
           "ticks": "",
           "title": {
            "standoff": 15
           },
           "zerolinecolor": "white",
           "zerolinewidth": 2
          },
          "yaxis": {
           "automargin": true,
           "gridcolor": "white",
           "linecolor": "white",
           "ticks": "",
           "title": {
            "standoff": 15
           },
           "zerolinecolor": "white",
           "zerolinewidth": 2
          }
         }
        },
        "title": {
         "font": {
          "color": "Black",
          "size": 22
         },
         "text": "<b>Similarity Matrix",
         "x": 0.55,
         "xanchor": "center",
         "y": 0.95,
         "yanchor": "top"
        },
        "width": 800,
        "xaxis": {
         "anchor": "y",
         "constrain": "domain",
         "domain": [
          0,
          1
         ],
         "scaleanchor": "y"
        },
        "yaxis": {
         "anchor": "x",
         "autorange": "reversed",
         "constrain": "domain",
         "domain": [
          0,
          1
         ]
        }
       }
      },
      "text/html": [
       "<div>                            <div id=\"aeec2a41-834c-46f3-9fd2-5a17b1bc7c33\" class=\"plotly-graph-div\" style=\"height:800px; width:800px;\"></div>            <script type=\"text/javascript\">                require([\"plotly\"], function(Plotly) {                    window.PLOTLYENV=window.PLOTLYENV || {};                                    if (document.getElementById(\"aeec2a41-834c-46f3-9fd2-5a17b1bc7c33\")) {                    Plotly.newPlot(                        \"aeec2a41-834c-46f3-9fd2-5a17b1bc7c33\",                        [{\"coloraxis\":\"coloraxis\",\"name\":\"0\",\"x\":[\"0_mirabaichanu_proud_congra...\",\"1_medal_mirabai_chanu\",\"2_silver_weightlifting_winn...\",\"3_swevaus_sweden_matildas\",\"4_puneethrajkumar_hearty_li...\",\"5_olympics_tokyo2020_the\",\"6_vikas_boxing_krishan\",\"7_tokyo2020_to_you\",\"8_banda_zambia_barbra\",\"9_smith_clareburt_swimming\",\"10_judo_gold_kosovo\",\"11_teamgb_football_japan\",\"12_badminton_doubles_peng\",\"13_butterfly_100m_rule\",\"14_swimming_tokyo2020_the\"],\"y\":[\"0_mirabaichanu_proud_congra...\",\"1_medal_mirabai_chanu\",\"2_silver_weightlifting_winn...\",\"3_swevaus_sweden_matildas\",\"4_puneethrajkumar_hearty_li...\",\"5_olympics_tokyo2020_the\",\"6_vikas_boxing_krishan\",\"7_tokyo2020_to_you\",\"8_banda_zambia_barbra\",\"9_smith_clareburt_swimming\",\"10_judo_gold_kosovo\",\"11_teamgb_football_japan\",\"12_badminton_doubles_peng\",\"13_butterfly_100m_rule\",\"14_swimming_tokyo2020_the\"],\"z\":[[0.9999999999999999,0.8028929870684534,0.732313034599139,0.802948463595986,0.703995844247862,0.698044886782573,0.790599400863817,0.6736224068662158,0.8760747335860468,0.6724551068258651,0.6321472933335597,0.623278942684647,0.7043599447643247,0.6302716688616103,0.7827582690908768],[0.8028929870684534,0.9999999999999998,0.8660582455860681,0.8816342814235283,0.7353419179376236,0.8052864336567126,0.7467775343338903,0.690789673745729,0.799101486765496,0.7509618633481349,0.6361379814398097,0.7179829861165666,0.7064133307762441,0.6905804384263612,0.7165713465973154],[0.732313034599139,0.8660582455860681,1.0000000000000009,0.8802304408493604,0.7670029136743306,0.8059259269027068,0.7081330221530706,0.7438189377318734,0.712460368905709,0.7813771582092088,0.6996282854796834,0.7843589221301306,0.7333874657951227,0.7690935396831886,0.7466911078647066],[0.802948463595986,0.8816342814235283,0.8802304408493604,1.0000000000000002,0.7074065587371341,0.8336325942043665,0.7228132110814567,0.7240254186730574,0.7181941340609352,0.6977972907499518,0.7233295364838875,0.7412572710798977,0.6768340118776581,0.7017264645700123,0.7661034576808671],[0.703995844247862,0.7353419179376236,0.7670029136743306,0.7074065587371341,1.0,0.6872110220684726,0.6659190433713841,0.6897331414048465,0.6988684172375889,0.7182523436902147,0.6504446287199421,0.6755501388965466,0.705845245270343,0.6806872200013152,0.6907948974556573],[0.698044886782573,0.8052864336567126,0.8059259269027068,0.8336325942043665,0.6872110220684726,0.9999999999999999,0.6258142264400478,0.6584759855188873,0.6634399957637236,0.6835083531915406,0.6817563936427065,0.6925192909371501,0.6570438327818017,0.6856532121068111,0.7401124958080323],[0.790599400863817,0.7467775343338903,0.7081330221530706,0.7228132110814567,0.6659190433713841,0.6258142264400478,1.0000000000000004,0.6607929849616545,0.7979823728978821,0.6561654256896251,0.620353611981388,0.7272651871900775,0.7262430754044547,0.6761015569186775,0.6869277566511047],[0.6736224068662158,0.690789673745729,0.7438189377318734,0.7240254186730574,0.6897331414048465,0.6584759855188873,0.6607929849616545,1.0,0.654707636832083,0.6808310828991786,0.6880612974472343,0.7377192140144092,0.6405340133272548,0.7169494866048469,0.676117005625603],[0.8760747335860468,0.799101486765496,0.712460368905709,0.7181941340609352,0.6988684172375889,0.6634399957637236,0.7979823728978821,0.654707636832083,0.9999999999999998,0.6675109060236584,0.5792236676895063,0.6580050458288417,0.7322053584984409,0.6493466601852906,0.727698504486455],[0.6724551068258651,0.7509618633481349,0.7813771582092088,0.6977972907499518,0.7182523436902147,0.6835083531915406,0.6561654256896251,0.6808310828991786,0.6675109060236584,0.9999999999999998,0.6482636884472848,0.7018633781354173,0.7400821205114866,0.7365351485118086,0.7040070952771246],[0.6321472933335597,0.6361379814398097,0.6996282854796834,0.7233295364838875,0.6504446287199421,0.6817563936427065,0.620353611981388,0.6880612974472343,0.5792236676895063,0.6482636884472848,1.0000000000000009,0.671737938439364,0.6623737691038666,0.6808126260192782,0.8012018383895605],[0.623278942684647,0.7179829861165666,0.7843589221301306,0.7412572710798977,0.6755501388965466,0.6925192909371501,0.7272651871900775,0.7377192140144092,0.6580050458288417,0.7018633781354173,0.671737938439364,1.0000000000000002,0.685810983287781,0.7042520151643272,0.6798513521185203],[0.7043599447643247,0.7064133307762441,0.7333874657951227,0.6768340118776581,0.705845245270343,0.6570438327818017,0.7262430754044547,0.6405340133272548,0.7322053584984409,0.7400821205114866,0.6623737691038666,0.685810983287781,0.9999999999999994,0.6926275980309015,0.7102629816854467],[0.6302716688616103,0.6905804384263612,0.7690935396831886,0.7017264645700123,0.6806872200013152,0.6856532121068111,0.6761015569186775,0.7169494866048469,0.6493466601852906,0.7365351485118086,0.6808126260192782,0.7042520151643272,0.6926275980309015,0.9999999999999996,0.6851221741907373],[0.7827582690908768,0.7165713465973154,0.7466911078647066,0.7661034576808671,0.6907948974556573,0.7401124958080323,0.6869277566511047,0.676117005625603,0.727698504486455,0.7040070952771246,0.8012018383895605,0.6798513521185203,0.7102629816854467,0.6851221741907373,0.9999999999999994]],\"type\":\"heatmap\",\"xaxis\":\"x\",\"yaxis\":\"y\",\"hovertemplate\":\"x: %{x}<br>y: %{y}<br>Similarity Score: %{z}<extra></extra>\"}],                        {\"template\":{\"data\":{\"histogram2dcontour\":[{\"type\":\"histogram2dcontour\",\"colorbar\":{\"outlinewidth\":0,\"ticks\":\"\"},\"colorscale\":[[0.0,\"#0d0887\"],[0.1111111111111111,\"#46039f\"],[0.2222222222222222,\"#7201a8\"],[0.3333333333333333,\"#9c179e\"],[0.4444444444444444,\"#bd3786\"],[0.5555555555555556,\"#d8576b\"],[0.6666666666666666,\"#ed7953\"],[0.7777777777777778,\"#fb9f3a\"],[0.8888888888888888,\"#fdca26\"],[1.0,\"#f0f921\"]]}],\"choropleth\":[{\"type\":\"choropleth\",\"colorbar\":{\"outlinewidth\":0,\"ticks\":\"\"}}],\"histogram2d\":[{\"type\":\"histogram2d\",\"colorbar\":{\"outlinewidth\":0,\"ticks\":\"\"},\"colorscale\":[[0.0,\"#0d0887\"],[0.1111111111111111,\"#46039f\"],[0.2222222222222222,\"#7201a8\"],[0.3333333333333333,\"#9c179e\"],[0.4444444444444444,\"#bd3786\"],[0.5555555555555556,\"#d8576b\"],[0.6666666666666666,\"#ed7953\"],[0.7777777777777778,\"#fb9f3a\"],[0.8888888888888888,\"#fdca26\"],[1.0,\"#f0f921\"]]}],\"heatmap\":[{\"type\":\"heatmap\",\"colorbar\":{\"outlinewidth\":0,\"ticks\":\"\"},\"colorscale\":[[0.0,\"#0d0887\"],[0.1111111111111111,\"#46039f\"],[0.2222222222222222,\"#7201a8\"],[0.3333333333333333,\"#9c179e\"],[0.4444444444444444,\"#bd3786\"],[0.5555555555555556,\"#d8576b\"],[0.6666666666666666,\"#ed7953\"],[0.7777777777777778,\"#fb9f3a\"],[0.8888888888888888,\"#fdca26\"],[1.0,\"#f0f921\"]]}],\"heatmapgl\":[{\"type\":\"heatmapgl\",\"colorbar\":{\"outlinewidth\":0,\"ticks\":\"\"},\"colorscale\":[[0.0,\"#0d0887\"],[0.1111111111111111,\"#46039f\"],[0.2222222222222222,\"#7201a8\"],[0.3333333333333333,\"#9c179e\"],[0.4444444444444444,\"#bd3786\"],[0.5555555555555556,\"#d8576b\"],[0.6666666666666666,\"#ed7953\"],[0.7777777777777778,\"#fb9f3a\"],[0.8888888888888888,\"#fdca26\"],[1.0,\"#f0f921\"]]}],\"contourcarpet\":[{\"type\":\"contourcarpet\",\"colorbar\":{\"outlinewidth\":0,\"ticks\":\"\"}}],\"contour\":[{\"type\":\"contour\",\"colorbar\":{\"outlinewidth\":0,\"ticks\":\"\"},\"colorscale\":[[0.0,\"#0d0887\"],[0.1111111111111111,\"#46039f\"],[0.2222222222222222,\"#7201a8\"],[0.3333333333333333,\"#9c179e\"],[0.4444444444444444,\"#bd3786\"],[0.5555555555555556,\"#d8576b\"],[0.6666666666666666,\"#ed7953\"],[0.7777777777777778,\"#fb9f3a\"],[0.8888888888888888,\"#fdca26\"],[1.0,\"#f0f921\"]]}],\"surface\":[{\"type\":\"surface\",\"colorbar\":{\"outlinewidth\":0,\"ticks\":\"\"},\"colorscale\":[[0.0,\"#0d0887\"],[0.1111111111111111,\"#46039f\"],[0.2222222222222222,\"#7201a8\"],[0.3333333333333333,\"#9c179e\"],[0.4444444444444444,\"#bd3786\"],[0.5555555555555556,\"#d8576b\"],[0.6666666666666666,\"#ed7953\"],[0.7777777777777778,\"#fb9f3a\"],[0.8888888888888888,\"#fdca26\"],[1.0,\"#f0f921\"]]}],\"mesh3d\":[{\"type\":\"mesh3d\",\"colorbar\":{\"outlinewidth\":0,\"ticks\":\"\"}}],\"scatter\":[{\"fillpattern\":{\"fillmode\":\"overlay\",\"size\":10,\"solidity\":0.2},\"type\":\"scatter\"}],\"parcoords\":[{\"type\":\"parcoords\",\"line\":{\"colorbar\":{\"outlinewidth\":0,\"ticks\":\"\"}}}],\"scatterpolargl\":[{\"type\":\"scatterpolargl\",\"marker\":{\"colorbar\":{\"outlinewidth\":0,\"ticks\":\"\"}}}],\"bar\":[{\"error_x\":{\"color\":\"#2a3f5f\"},\"error_y\":{\"color\":\"#2a3f5f\"},\"marker\":{\"line\":{\"color\":\"#E5ECF6\",\"width\":0.5},\"pattern\":{\"fillmode\":\"overlay\",\"size\":10,\"solidity\":0.2}},\"type\":\"bar\"}],\"scattergeo\":[{\"type\":\"scattergeo\",\"marker\":{\"colorbar\":{\"outlinewidth\":0,\"ticks\":\"\"}}}],\"scatterpolar\":[{\"type\":\"scatterpolar\",\"marker\":{\"colorbar\":{\"outlinewidth\":0,\"ticks\":\"\"}}}],\"histogram\":[{\"marker\":{\"pattern\":{\"fillmode\":\"overlay\",\"size\":10,\"solidity\":0.2}},\"type\":\"histogram\"}],\"scattergl\":[{\"type\":\"scattergl\",\"marker\":{\"colorbar\":{\"outlinewidth\":0,\"ticks\":\"\"}}}],\"scatter3d\":[{\"type\":\"scatter3d\",\"line\":{\"colorbar\":{\"outlinewidth\":0,\"ticks\":\"\"}},\"marker\":{\"colorbar\":{\"outlinewidth\":0,\"ticks\":\"\"}}}],\"scattermapbox\":[{\"type\":\"scattermapbox\",\"marker\":{\"colorbar\":{\"outlinewidth\":0,\"ticks\":\"\"}}}],\"scatterternary\":[{\"type\":\"scatterternary\",\"marker\":{\"colorbar\":{\"outlinewidth\":0,\"ticks\":\"\"}}}],\"scattercarpet\":[{\"type\":\"scattercarpet\",\"marker\":{\"colorbar\":{\"outlinewidth\":0,\"ticks\":\"\"}}}],\"carpet\":[{\"aaxis\":{\"endlinecolor\":\"#2a3f5f\",\"gridcolor\":\"white\",\"linecolor\":\"white\",\"minorgridcolor\":\"white\",\"startlinecolor\":\"#2a3f5f\"},\"baxis\":{\"endlinecolor\":\"#2a3f5f\",\"gridcolor\":\"white\",\"linecolor\":\"white\",\"minorgridcolor\":\"white\",\"startlinecolor\":\"#2a3f5f\"},\"type\":\"carpet\"}],\"table\":[{\"cells\":{\"fill\":{\"color\":\"#EBF0F8\"},\"line\":{\"color\":\"white\"}},\"header\":{\"fill\":{\"color\":\"#C8D4E3\"},\"line\":{\"color\":\"white\"}},\"type\":\"table\"}],\"barpolar\":[{\"marker\":{\"line\":{\"color\":\"#E5ECF6\",\"width\":0.5},\"pattern\":{\"fillmode\":\"overlay\",\"size\":10,\"solidity\":0.2}},\"type\":\"barpolar\"}],\"pie\":[{\"automargin\":true,\"type\":\"pie\"}]},\"layout\":{\"autotypenumbers\":\"strict\",\"colorway\":[\"#636efa\",\"#EF553B\",\"#00cc96\",\"#ab63fa\",\"#FFA15A\",\"#19d3f3\",\"#FF6692\",\"#B6E880\",\"#FF97FF\",\"#FECB52\"],\"font\":{\"color\":\"#2a3f5f\"},\"hovermode\":\"closest\",\"hoverlabel\":{\"align\":\"left\"},\"paper_bgcolor\":\"white\",\"plot_bgcolor\":\"#E5ECF6\",\"polar\":{\"bgcolor\":\"#E5ECF6\",\"angularaxis\":{\"gridcolor\":\"white\",\"linecolor\":\"white\",\"ticks\":\"\"},\"radialaxis\":{\"gridcolor\":\"white\",\"linecolor\":\"white\",\"ticks\":\"\"}},\"ternary\":{\"bgcolor\":\"#E5ECF6\",\"aaxis\":{\"gridcolor\":\"white\",\"linecolor\":\"white\",\"ticks\":\"\"},\"baxis\":{\"gridcolor\":\"white\",\"linecolor\":\"white\",\"ticks\":\"\"},\"caxis\":{\"gridcolor\":\"white\",\"linecolor\":\"white\",\"ticks\":\"\"}},\"coloraxis\":{\"colorbar\":{\"outlinewidth\":0,\"ticks\":\"\"}},\"colorscale\":{\"sequential\":[[0.0,\"#0d0887\"],[0.1111111111111111,\"#46039f\"],[0.2222222222222222,\"#7201a8\"],[0.3333333333333333,\"#9c179e\"],[0.4444444444444444,\"#bd3786\"],[0.5555555555555556,\"#d8576b\"],[0.6666666666666666,\"#ed7953\"],[0.7777777777777778,\"#fb9f3a\"],[0.8888888888888888,\"#fdca26\"],[1.0,\"#f0f921\"]],\"sequentialminus\":[[0.0,\"#0d0887\"],[0.1111111111111111,\"#46039f\"],[0.2222222222222222,\"#7201a8\"],[0.3333333333333333,\"#9c179e\"],[0.4444444444444444,\"#bd3786\"],[0.5555555555555556,\"#d8576b\"],[0.6666666666666666,\"#ed7953\"],[0.7777777777777778,\"#fb9f3a\"],[0.8888888888888888,\"#fdca26\"],[1.0,\"#f0f921\"]],\"diverging\":[[0,\"#8e0152\"],[0.1,\"#c51b7d\"],[0.2,\"#de77ae\"],[0.3,\"#f1b6da\"],[0.4,\"#fde0ef\"],[0.5,\"#f7f7f7\"],[0.6,\"#e6f5d0\"],[0.7,\"#b8e186\"],[0.8,\"#7fbc41\"],[0.9,\"#4d9221\"],[1,\"#276419\"]]},\"xaxis\":{\"gridcolor\":\"white\",\"linecolor\":\"white\",\"ticks\":\"\",\"title\":{\"standoff\":15},\"zerolinecolor\":\"white\",\"automargin\":true,\"zerolinewidth\":2},\"yaxis\":{\"gridcolor\":\"white\",\"linecolor\":\"white\",\"ticks\":\"\",\"title\":{\"standoff\":15},\"zerolinecolor\":\"white\",\"automargin\":true,\"zerolinewidth\":2},\"scene\":{\"xaxis\":{\"backgroundcolor\":\"#E5ECF6\",\"gridcolor\":\"white\",\"linecolor\":\"white\",\"showbackground\":true,\"ticks\":\"\",\"zerolinecolor\":\"white\",\"gridwidth\":2},\"yaxis\":{\"backgroundcolor\":\"#E5ECF6\",\"gridcolor\":\"white\",\"linecolor\":\"white\",\"showbackground\":true,\"ticks\":\"\",\"zerolinecolor\":\"white\",\"gridwidth\":2},\"zaxis\":{\"backgroundcolor\":\"#E5ECF6\",\"gridcolor\":\"white\",\"linecolor\":\"white\",\"showbackground\":true,\"ticks\":\"\",\"zerolinecolor\":\"white\",\"gridwidth\":2}},\"shapedefaults\":{\"line\":{\"color\":\"#2a3f5f\"}},\"annotationdefaults\":{\"arrowcolor\":\"#2a3f5f\",\"arrowhead\":0,\"arrowwidth\":1},\"geo\":{\"bgcolor\":\"white\",\"landcolor\":\"#E5ECF6\",\"subunitcolor\":\"white\",\"showland\":true,\"showlakes\":true,\"lakecolor\":\"white\"},\"title\":{\"x\":0.05},\"mapbox\":{\"style\":\"light\"}}},\"xaxis\":{\"anchor\":\"y\",\"domain\":[0.0,1.0],\"scaleanchor\":\"y\",\"constrain\":\"domain\"},\"yaxis\":{\"anchor\":\"x\",\"domain\":[0.0,1.0],\"autorange\":\"reversed\",\"constrain\":\"domain\"},\"coloraxis\":{\"colorbar\":{\"title\":{\"text\":\"Similarity Score\"}},\"colorscale\":[[0.0,\"rgb(247,252,240)\"],[0.125,\"rgb(224,243,219)\"],[0.25,\"rgb(204,235,197)\"],[0.375,\"rgb(168,221,181)\"],[0.5,\"rgb(123,204,196)\"],[0.625,\"rgb(78,179,211)\"],[0.75,\"rgb(43,140,190)\"],[0.875,\"rgb(8,104,172)\"],[1.0,\"rgb(8,64,129)\"]]},\"margin\":{\"t\":60},\"title\":{\"font\":{\"size\":22,\"color\":\"Black\"},\"text\":\"<b>Similarity Matrix\",\"y\":0.95,\"x\":0.55,\"xanchor\":\"center\",\"yanchor\":\"top\"},\"hoverlabel\":{\"font\":{\"size\":16,\"family\":\"Rockwell\"},\"bgcolor\":\"white\"},\"width\":800,\"height\":800,\"showlegend\":true,\"legend\":{\"title\":{\"text\":\"Trend\"}}},                        {\"responsive\": true}                    ).then(function(){\n",
       "                            \n",
       "var gd = document.getElementById('aeec2a41-834c-46f3-9fd2-5a17b1bc7c33');\n",
       "var x = new MutationObserver(function (mutations, observer) {{\n",
       "        var display = window.getComputedStyle(gd).display;\n",
       "        if (!display || display === 'none') {{\n",
       "            console.log([gd, 'removed!']);\n",
       "            Plotly.purge(gd);\n",
       "            observer.disconnect();\n",
       "        }}\n",
       "}});\n",
       "\n",
       "// Listen for the removal of the full notebook cells\n",
       "var notebookContainer = gd.closest('#notebook-container');\n",
       "if (notebookContainer) {{\n",
       "    x.observe(notebookContainer, {childList: true});\n",
       "}}\n",
       "\n",
       "// Listen for the clearing of the current output cell\n",
       "var outputEl = gd.closest('.output');\n",
       "if (outputEl) {{\n",
       "    x.observe(outputEl, {childList: true});\n",
       "}}\n",
       "\n",
       "                        })                };                });            </script>        </div>"
      ]
     },
     "metadata": {},
     "output_type": "display_data"
    }
   ],
   "source": [
    "# Checking the Topic Similarity of the new reduced topic model\n",
    "model.visualize_heatmap()"
   ]
  },
  {
   "cell_type": "markdown",
   "metadata": {},
   "source": [
    "##### To predict a topic of a new document, you need to add a new instance(s) on the transform method."
   ]
  },
  {
   "cell_type": "code",
   "execution_count": 81,
   "metadata": {},
   "outputs": [],
   "source": [
    "new_docs = df[6001:7000].text.to_list()"
   ]
  },
  {
   "cell_type": "code",
   "execution_count": 97,
   "metadata": {},
   "outputs": [
    {
     "data": {
      "text/plain": [
       "['I think that 2nd goal was quick. Not fast, just quick. #Tokyo2020',\n",
       " '#emptyolympicgames it’s doing my head in seeing no spectators at the Tokyo games.  Anyone else having this problem?  #Tokyo2020',\n",
       " 'I repeat VAR will not work in South Africa 🇿🇦 \\n\\n#TokyoOlympics \\n#Tokyo2020',\n",
       " \"We're being treated to Blow by blow stuff here in this China vs Zambia #Tokyo2020 match\",\n",
       " 'Off to a flying start! Huge congratulations to #MirabaiChanu on winning the silver for weightlifting at the… https://t.co/zqSdxkKy1R',\n",
       " 'That was not handball na. I hope Zambia scores a 5th.\\n\\nChina 4 Zambia 4 #Tokyo2020',\n",
       " 'Many many congratulations to #MirabaiChanu on winning silver medal for india in 49 kgs category of weightlifting in #Tokyo2020',\n",
       " 'Just rubbish defending. #SWEvAUS #Tokyo2020',\n",
       " 'Sweden pull it back to 2-2!\\n\\nCome on Matildas, you can come out on top of this goal-fest! \\n\\n📸 - Channel 7\\n\\n#SWEvAUS… https://t.co/Sxz90hKq0D',\n",
       " 'I’m in sports watching heaven. Look to my left for the #Panthers game in Brisbane &amp; to my right for the #Matildas i… https://t.co/0NyHoc4Uw0',\n",
       " '@PuneethRajkumar @mirabai_chanu Boss\\n\\n#Dvitva #James @PuneethRajkumar\\n\\n#TokyoOlympics\\n#Cheer4India\\n#Tokyo2020\\n#TeamIndia 222',\n",
       " 'This watching sport can be a  tough #Tokyo2020 @TheMatildas #AUSvSWE #NRL #NRLPanthersBroncos #AFL #AFLDeesDogs https://t.co/TM1cHsJZYS',\n",
       " 'Congratulations to our zambia sisters making Africa proud #Tokyo2020',\n",
       " 'You get a goal, you get a goal, you all get goals. 4-4 now. #Tokyo2020 #CHNZAM',\n",
       " '#Tokyo2020 rubbish penalty against Zambia 🇿🇲 #football #Olympics2021',\n",
       " 'Why don’t they let Japan have the Olympics in 2028 so they can have the true experience for their people? #Tokyo2020',\n",
       " 'Do you know that the Czech team🇨🇿 olympic clothing💃🕺🎎 is rated in the TOP 6👍🥳👏🙌 #OlympicGames #Clothing contest of… https://t.co/14HYtcSpBu',\n",
       " 'Weightlifter Mirabai Chanu has secured first medal 🥈for the country at #Tokyo2020\\xa0  Olympics, winning the silver me… https://t.co/A12EaaO7pN',\n",
       " '52’ Goallll Lina Hurtig equalizes for Sweden, her 2nd goal of the tournament \\n\\nSweden 2-2 Australia \\n\\nWomen’s Summer Olympics #Tokyo2020',\n",
       " 'Big fan of the hats the Korean team are wearing. #Archery #Tokyo2020',\n",
       " \"🥊@kurtwalker7 has a tough draw against Uzbekistan's Mirazizbek Mirzakhalilov in the next round, but @ericdonovanbox… https://t.co/lyNy5BwCQC\",\n",
       " '\"I am really happy on winning a 🥈 medal in #Tokyo2020 for my country\"- @mirabai_chanu \\n#OlympicGames #TeamIndia… https://t.co/KFBECNForS',\n",
       " 'PM Modiji invited ANI and asked them to video shoot this moment ? Good PR.\\n #Tokyo2020 \\n #Tokyo2021… https://t.co/VnWC1Ypr2F',\n",
       " '@PuneethRajkumar @mirabai_chanu Boss\\n\\n#Dvitva #James @PuneethRajkumar\\n\\n#TokyoOlympics\\n#Cheer4India\\n#Tokyo2020\\n#TeamIndia 22',\n",
       " '#SWE and #AUS battle it out in the group stage #SWEAUS #Olympics #Tokyo2020',\n",
       " 'Taekwondo jin Kurt Barbosa still grateful after his Olympic campaign ended Saturday. #tokyo2020🇵🇭\\n\\nREAD:… https://t.co/YhYFQ4Wcpl',\n",
       " 'Congratulations 👏 #Tokyo2020 #IndiaAtTokyo2020 https://t.co/OV8L2LWSCD',\n",
       " \"Goal: China PR 4 - 4 Zambia, Wang Shuang 84', Olympic Women's Tournament Tokyo 2020  #womensfootball #soccer… https://t.co/9G4nDkQnvz\",\n",
       " 'That’s a handball. Referee got it right. She called off the first one. But this won’t be nullified. \\n\\n84’ China 4-4 Zambia\\n\\n#Tokyo2020',\n",
       " \"Ecuador's Richard Carapaz won Olympic gold in the men's cycling road race on Saturday, while Stefan de Bod finished… https://t.co/lcQKg8PGVY\",\n",
       " 'congratulations, Team Japan‼️ #Tokyo2020 #TokyoTogether #TokyoOlympics2021 https://t.co/U5kyTqXvO5',\n",
       " 'In sport, there is nothing quite like seeing an Indian win an Olympic Medal 🏅. Goosebumps. \\n\\nChamp #MirabaiChanu ma… https://t.co/yrwAyAyJoq',\n",
       " 'C’mon the ‘girls’ ⚽️🥇 #TeamGB #womensfootball #Tokyo2020 https://t.co/U3daEtLtgA',\n",
       " 'We were thrilled to see the recipient of the very first Sydney Peace Prize, @Yunus_Centre, awarded with the Olympic… https://t.co/yk95XZcqRI',\n",
       " 'Congratulations to #MirabaiChanu for opening India’s medals tally at #Tokyo2020 with a Silver medal. 🇮🇳 #Cheer4India https://t.co/cZL2scZi02',\n",
       " '@PuneethRajkumar @mirabai_chanu Boss\\n\\n#Dvitva #James @PuneethRajkumar\\n\\n#TokyoOlympics\\n#Cheer4India\\n#Tokyo2020\\n#TeamIndia 2',\n",
       " 'the daddies menang ges #Tokyo2020',\n",
       " '3x3 Basketball is my new summer olympic passion #Tokyo2020',\n",
       " 'Oh dear. #Matildas #Tokyo2020',\n",
       " '🇮🇹💪 #Tokyo2020 @Olympics @ItaliaTeam_it \\n\\n📸: Adam Pretty https://t.co/7AnE2t5kgA',\n",
       " \"Keep shinning Indonesia's Athlete, we're so proud of you♥\\n\\n#Olympics #Tokyo2020 #INA\",\n",
       " 'Congratulations to @mirabai_chanu for winning the silver medal in #Tokyo2020 Olympics in #Weightlifting . Proud moment for India 🇮🇳.',\n",
       " 'Barbara Banda has SIX goals already in TWO games for Zambia! \\n\\n#Olympics #Tokyo2020 \\n#womenfootball #football\\n#ZAM vs #Chn',\n",
       " 'Sweden and China equalising basically at the same time is not ideal #Tokyo2020 #football',\n",
       " '@PuneethRajkumar @mirabai_chanu Boss\\n\\n#Dvitva #James @PuneethRajkumar\\n\\n#TokyoOlympics\\n#Cheer4India\\n#Tokyo2020\\n#TeamIndia 1111',\n",
       " 'Insomnia in full effect. Welp, atleast I can catch up on the Olympics and some NJPW. #Tokyo2020 #njpwSTRONG',\n",
       " 'What if I want to accept the cookies but I currently feel rather sad? 🤔\\n#Tokyo2020 #TokyoOlympics https://t.co/YgHZiXlKwG',\n",
       " 'Yoh..\\nGood decision.\\nRed card\\n#Tokyo2020',\n",
       " 'The REAL streaming home of the Olympics: https://t.co/Kx1Pu150vM #Tokyo2020',\n",
       " \"What an outstanding opening by #MirabaiChanu First time ever India's secured a medal on the first day of Tokyo Olym… https://t.co/XqF5ScR1kg\",\n",
       " 'Goal ... #Tokyo2020 #OlympicFootball⚽️ #SWEvAUS 2-2. Sweden 🇸🇪 strike back.',\n",
       " \"Join us to win the Indian Contingent all the best for the #Tokyo2020 Olympics.\\n\\nLet's come together &amp; #Cheer4India.… https://t.co/90ZtZo5bYX\",\n",
       " \"🚴\\n\\nEcuador's Richard Carapaz is the winner of the men's cycling road race at #Tokyo2020 \\n\\n#Olympics #CyclingRoad… https://t.co/eJvNqJEod2\",\n",
       " \"After 29 years without a win in Women's #TableTennis at the #Olympics , #TeamIndia have won TWO games on the openin… https://t.co/Lkp8ILFrhu\",\n",
       " '@PuneethRajkumar @mirabai_chanu Boss\\n\\n#Dvitva #James @PuneethRajkumar\\n\\n#TokyoOlympics\\n#Cheer4India\\n#Tokyo2020\\n#TeamIndia 111',\n",
       " 'As of now, India is at second place in medals tally in Tokyo Olympics. This of course , a feat never seen before...#Tokyo2020',\n",
       " '@jbdunster It’s a wonderful intermission of unity and solidarity during the usual anti-everyone else. \\n\\n#Tokyo2020',\n",
       " 'Thank you @mirabai_chanu \\n#Tokyo2020 \\n#TeamIndia \\n#TokyoOlympics',\n",
       " \"⚽️Sweden get the equalizer.  Lina Hurtig gets a great cross from Jakobsson and slots it in.\\n\\n52'| Sweden🇸🇪2-2🇦🇺Aust… https://t.co/sFx0GXM0rO\",\n",
       " 'time for some swimming 🥰 #Tokyo2020',\n",
       " '@BBCSport where can we watch the @Olympics dressage and equestrian events on the @BBC please?\\n\\n@TeamGB #Tokyo2020',\n",
       " \"DAY 4 - Pang Wei wins China's first bronze medal of the #Tokyo2020 Olympics in the Shooting - 10m Air pistol Men. https://t.co/5fiIQLeaE5\",\n",
       " \"Gymnast Carlos Yulo kicks off his gold medal bid in the men's artistic gymnastics qualification at 6:30 pm.\\n\\nSwimme… https://t.co/G8eNx1huDN\",\n",
       " \"Gymnast Carlos Yulo kicks off his gold medal bid in the men's artistic gymnastics qualification at 6:30 pm.\\n\\nSwimme… https://t.co/VksAjuUayV\",\n",
       " '#AUS  Sam Kerr two wons duel over Magdalena Eriksson. and Sam can be scored. Magda here is not yet integrated into… https://t.co/S2Sgr5uuZe',\n",
       " '@PuneethRajkumar @mirabai_chanu Boss\\n\\n#Dvitva #James @PuneethRajkumar\\n\\n#TokyoOlympics\\n#Cheer4India\\n#Tokyo2020\\n#TeamIndia 11',\n",
       " '@USWNT @NBCSN @TelemundoSports @NBCOlympics This is it. Let’s do this already! 💪🏻⚽️🇺🇸 #USWNT #USA #USAvNZL #Tokyo2020 #TokyoOlympics',\n",
       " \"C'mon malaysia, settle kan straight set! U can do it!! 💪\\n#SokongMalaysia\\n#Tokyo2020\\n#Badminton\",\n",
       " '@OKEx Done,i have following @OKEx ,like ,and retweet this tweet Sparkles\\n\\nThe 5 sports on the logo is\\n#Athletics… https://t.co/0D2Tl8OthN',\n",
       " \"#Tokyo2020 | #TeamIndia | Day 2# Sutirtha \\n#TableTennis: India's Sutirtha Mukherjee fights back to beat Linda Bergs… https://t.co/tYZjvF2D4s\",\n",
       " 'Greetings &amp; Best wishes @mirabai_chanu  for achieve silver medal in #Tokyo2020\\n🙏🌸🌸\\n#MonsoonMedalKa\\n#TeamIndia… https://t.co/8XOI7bZ4Mv',\n",
       " '“Mirabai wanted to be an archer but when she read about Kunjarani Devi, another iconic weightlifter from Manipur, t… https://t.co/d51cBLrWru',\n",
       " \"Congratulations to our gem #MirabaiChanu for India's first medal in #Tokyo2020 hope we cross double digit gold 🏅\",\n",
       " 'The last 1 second.\\n\\n#tokyostation \\n#Tokyo2020 https://t.co/bxb3RTpRuJ',\n",
       " 'Congratulations India! @mirabai_chanu wins a silver in 49kgs weightlifting category.🏋️\\nHer family, coach Dronachary… https://t.co/3ujkJ832NN',\n",
       " '#Tokyo2020 #TokyoOlympics \\n\\n@DjokerNole beats Hugo Dellien to begin quest for @Olympics  gold 🎾\\n\\nWorld number one… https://t.co/SJ3i9LcqPd',\n",
       " '#Tokyo2020 #Olympics #Olympics2021 #Olympics2020 #IndiaAtTokyo2020 #OlympicGamesTokyo2020 #womenpower #IND #Silver… https://t.co/VTAuaPgZwe',\n",
       " '@PuneethRajkumar @mirabai_chanu Boss\\n\\n#Dvitva #James @PuneethRajkumar\\n\\n#TokyoOlympics\\n#Cheer4India\\n#Tokyo2020\\n#TeamIndia 1',\n",
       " 'Congratulations @mirabai_chanu !! What an incredible win!! Making us proud! #Tokyo2020 #TokyoOlympics #Olympics #TeamIndia',\n",
       " \"Scripted history today, India's pride @mirabai_chanu herculean performance. Congratulations on winning the Silver m… https://t.co/RpPoJCpyto\",\n",
       " 'Epic 🚵! Very well done #Tamaupogi🥉 #TeamSlovenia 🇸🇮 #Tokyo2020 https://t.co/xZ3zVXMbWz',\n",
       " 'if needed, i’ll be by the tv for the 2 upcoming weeks watching the olympics. seriously, #Tokyo2020’s making my whole summer!',\n",
       " 'Proud moment for india.\\nCongratulations🎉🎉 @mirabai_chanu for winning indias 🇮🇳  first medal at #Tokyo2020… https://t.co/eqTLRh81NU',\n",
       " '@Tokyo2020 The “That’s it. That’s the tweet.” part isn’t necessary cause we know that already.😷\\n#Tokyo2020',\n",
       " \"@ShashiTharoor Mirabai Chanu wins India's first medal at the Tokyo Olympics 2020 as she bags Silver after lifting 2… https://t.co/bb1cWNiLl7\",\n",
       " 'Next time any one throws racial slurs at our brethren from the north east do remember this day where stars like… https://t.co/9iCPbLClbm',\n",
       " 'Serbia won its first #Tokyo2020 medal 🥈 and I’ve already watched a minimum of 10 random minutes of (skiff) rowing,… https://t.co/cEcnYKq5BZ',\n",
       " 'Congratulations @mirabai_chanu on making #INDIA proud and bringing us GLORY. \\nOur first medal at the #Tokyo2020… https://t.co/8c0pxZ5Sx8',\n",
       " 'Proud moment for India at #Tokyo2020! #AAI joins all Indians in celebrating and congratulating S. Mirabai Chanu… https://t.co/YT83fMFYs5',\n",
       " 'Both goals have come from being found out with 3 at the back.\\n\\nNeed to get a flat 4. Plug these balls around our ba… https://t.co/xfVPS7JTWn',\n",
       " 'Indian hockey team takes revenge from NZ of WTC final.\\n\\nKudos team India 🙌🙌\\n\\n#IndianHockeyTeam\\n#Tokyo2020',\n",
       " 'Sam Kerr and Lina Hurtig have exchanged goals again. \\n\\n#SWE 2-2 #AUS \\n\\n#Tokyo2020',\n",
       " 'This is the first time since the 1972 games in Munich where the USA have not won a medal on day one of the Olympic… https://t.co/mrKxDkc4W2',\n",
       " '#ModiVsFarmersParliament\\n#CongressBetrayedBharat\\n#DhamkiNahiNaukriDo\\n#MirabaiChanu\\n#Tokyo2020\\n#ManmohanSingh\\nCongra… https://t.co/APyVUZOZFH',\n",
       " \"Many Many Congratulations to #Mirabai_Chanu For SILVER in women's 49kg weightlifting! 🥈🏋️\\n #Tokyo2020 🇮🇳… https://t.co/fbqcIzWPMR\",\n",
       " \"Rubbish Refereeing,how's that an Handball???😒\\n\\n#Tokyo2020 #CHNZAM\",\n",
       " '1st medal of 2021 olampics for india .\\nWell done C. Mirabai 🙏\\n#TokyoOlympics2021 \\n#Cheer4India \\n#Tokyo2020',\n",
       " 'From the street to the Olympic #Tokyo2020 @FIBA3x3 https://t.co/p4cuJ8rK1u',\n",
       " \"PROUD MOMENT FOR INDIA 🇮🇳\\n\\n#MirabaiChanu wins India's 1st medal at #Tokyo2020 after winning a Silver medal in the w… https://t.co/Y5xZ4ze10I\",\n",
       " 'And @mirabai_chanu’s ecstatic mother says, “Tonight, we are going to have fish.” ❤️ #MirabaiChanu #Tokyo2020 https://t.co/v7syiu0ELs',\n",
       " 'Silver medal 🥈 for India at Tokyo २०२० !!\\nWhat a mesmerizing day for India and मीराबाई चानू @mirabai_chanu ... Whol… https://t.co/1W2yhoWfhq',\n",
       " 'FIRST WIN 🇯🇵🇯🇵🇯🇵🇯🇵\\n\\n#nippon #Olympics #Tokyo2020 https://t.co/TwjfOEXs3r',\n",
       " 'Definitely more goals in this game.\\n\\n#Matildas #SWEvAUS #Tokyo2020',\n",
       " 'Heartiest Congratulations @mirabai_chanu for bringing Cheer to Entire Nation 🇮🇳 After 21 Years long Thirst ...❤️\\n\\nI… https://t.co/eEKJClMYRo',\n",
       " 'China equalize from the spot. \\n\\n84’ China 4 - 4 Zambia \\n\\n#CHNvZAM #Tokyo2020',\n",
       " 'Congratulations @mirabai_chanu for turning the medal dreams into reality and bringing the first medal for India at… https://t.co/c6HNwKPqYy',\n",
       " 'Amazing comeback from Indian paddler Sutirtha Mukherjee. Trailing at 1-3, she had to win the remaining 3 sets and h… https://t.co/R4PMReM0kf',\n",
       " \"Congratulations Mirabai Chanu for securing Silver Medal in Women's 49Kg Weightlifting 👏🏻👏🏻\\n\\n#Tokyoolympics2021 #Tokyo2020\\n@mirabai_chanu\",\n",
       " '“Cuuuuuuupid!\\nDraw back your bowww\\nAnd let your arrow goooo...”\\n\\n😁\\n#Archery #Olympics #Tokyo2020',\n",
       " 'Name the first Indian woman athlete to win a gold model at the Olympics ?\\n#Olympicsgames #Cheer4India #motivationalspeakerishan #Tokyo2020',\n",
       " \"And WE'RE ON !!!!! \\nCONGRATULATIONS #MirabaiChanu \\nPROUD PROUD PROUD !!!!\\nNow, that's just the beginning....\\nGO IND… https://t.co/UGeP5vueqs\",\n",
       " \"Congratulations India #MirabaiChanu on making #India  Proud and bringing us GLORY. India's 1st  medal at the… https://t.co/YHKYrlkpkf\",\n",
       " 'From 1.3 billion Indians.. A massive THANK YOU! 🙏🇮🇳\\nYou made us all proud!\\n#MirabaiChanu #Tokyo2020 #TokyoOlympics https://t.co/wVm5OjKgaD',\n",
       " 'Congratulations @mirabai_chanu \\n#TokyoOlympics #Tokyo2020 #TeamIndia',\n",
       " 'GOAL! SWEDEN! Jakobsson races in behind the Matildas backline and squares to Hurtig who slots without trouble to eq… https://t.co/q2zVM8MegY',\n",
       " 'Off to a flying start! Huge congratulations to #MirabaiChanu on winning the silver for weightlifting at the… https://t.co/vih6cgkxyF',\n",
       " 'When is @NigeriaBasket having their first game at the #Tokyo2020 #Basketball ?',\n",
       " 'One of the proud goosebumps moment … \\n\\n#TeamIndia #Tokyo2020 #Olympics \\n\\nhttps://t.co/VKSq5gsc8t',\n",
       " 'In case you missed it...\\n\\nCOVID-19 expert criticises \"holes\" in Tokyo 2020 playbooks\\n\\nhttps://t.co/hkiXkMVggI\\n\\n#Tokyo2020',\n",
       " '@TheMatildas @7olympics #GOAALLLLLLLLL\\nwooooooo #foordkerr what a pair ! #Matildas##Tokyo2020 #TokyoTogether #GOOZ💚… https://t.co/OPlpu6sCw1',\n",
       " 'Love watching random sports when the Olympics are on! 3 x 3 basketball right now 🏀⛹️  #Tokyo2020',\n",
       " \"It's only day one of the Olympics and I'm already overwhelmed.\\n\\nIs there any way in 🇬🇧you can chose what to watch?… https://t.co/SegGC8vDra\",\n",
       " \"She's going strong 💪🏾.\\n\\n#Tokyo2020 https://t.co/IIybjt8pPi\",\n",
       " \"Lol at the rate this game is going, it is seeming... not impossible that the US won't make it past the group stage \\U0001f978 #SWEAUS #Tokyo2020\",\n",
       " '1800 drones starting their formation to form a shiny globe as part of the Tokyo 2020 olympics opening ceremony… https://t.co/EQ1kIJvAp3',\n",
       " 'not me crying into left over pizza this morning because the bbc wouldn’t show the gymnastics live #Tokyo2020 https://t.co/92pHT4KBjX',\n",
       " '🥈PROUD!!! @mirabai_chanu 🇮🇳 #Tokyo2020 https://t.co/bHnMxR4vK7',\n",
       " 'Penalty says VAR\\n\\nCHIZAM   \\n\\n3-4.  \\n\\n#football #Tokyo2020',\n",
       " 'Loving watching #hockey again on the @bbcsport at the #TokyoOlympics come on @GBHockey - cheering you on 🎉👏… https://t.co/hsbJMMcTQA',\n",
       " \"We definitely weren't expecting so many goals this morning and so many 👀 results #Tokyo2020\",\n",
       " 'just a reminder to U.K. sports fans @Eurosport_UK has 9 channels showing the @Olympics 24/7 you don’t need @BBCSport #Tokyo2020 #Olympics',\n",
       " 'Handball really? VAR was kidding there #CHNZAM #Tokyo2020',\n",
       " 'CONGRATULATIONS!\\n\\nChirag Shetty and Satwik Sairaj Rankireddy beat World No. 3 Chinese Taipei pair of Lee Yang and W… https://t.co/LIMa8CLDvQ',\n",
       " 'Good luck tour athletes participating in Tokyo #Olympics! @UAENOC \\n\\n#UAE #Tokyo2020 https://t.co/kAJpfGMhEl',\n",
       " '#TokyoOlympics\\n#Tokyo2020 \\nAttention❗️❗️what you are looking at is China🇨🇳, ❤️❤️❤️which won the first place in the… https://t.co/7ta5KNZ5ZI',\n",
       " '@mirabai_chanu @Media_SAI @IndiaSports @RailMinIndia @iosindiaoff @virenrasquinha @imrahultrehan Congratulations 🎉… https://t.co/YiP2Qemmxe',\n",
       " \"Yesterday's #OpeningCeremony for the #TokyoOlympics was incredible - watching the nations of the world… https://t.co/tGq1Sk5jQv\",\n",
       " 'Mirabai Chanu from Manipur has got the first medal for India ❤\\nFirst day, First Medal 🔥💯\\nShe has made everyone of u… https://t.co/Ag5zap2KVV',\n",
       " \"#SWEvAUS Noooooooo. Damn it's equal  again #couchgames #Tokyo2020 #7olympics\",\n",
       " 'GOAL!!! China level from 12 yards out. 4-4. #Tokyo2020',\n",
       " \"Zambia with 20 odds playing a 4 all score draw with China with 1.10 odds, the beauty of women's football\\n#Tokyo2020 #Olympics\",\n",
       " '🏋️🙇👏 @mirabai_chanu\\n#Tokyo2020 #Olympics #Weightlifting #Silver #IndiaAtTokyo2020 Congratulations @virenrasquinha… https://t.co/kG7wg30hxL',\n",
       " 'And an equalizer from the Steel Roses as well. #Tokyo2020 #CHNZAM',\n",
       " '#Tokyo2020 has finally started! Read about parity, hardships &amp; training as told by legendary hockey umpire… https://t.co/PP45eN76xh',\n",
       " 'The idea for the KIMONO Project was born upon the announcement that Tokyo would host the 2020 Games. \\nThis day has… https://t.co/VjXrI8iUW0',\n",
       " 'Brilliant come back by Sutirtha \\n#Tokyo2020',\n",
       " \"India's 1st medal on Day 1\\nMirabai Chanu Wins SILWER in womens 49kg weightlifting.\\nCongratulations Mira.\\n\\nIndia is… https://t.co/D1ok8bLTN7\",\n",
       " 'Indian captain Virat Kohli lauds Mirabai Chanu for winning the Silver medal at Tokyo Olympics 2020.\\n\\n#MirabaiChanu… https://t.co/eiYvvVPlQS',\n",
       " '2-2! Such an interesting game! #SWEAUS #Tokyo2020',\n",
       " 'First medal on the first day!\\n\\nCongratulations to Saikhom Mirabai Chanu for winning Silver medal in 49kg weightlift… https://t.co/YouYfWpAbV',\n",
       " 'Congratulations Mirabai Chanu ! You have made us Proud. All the best Team INDIA. #tokyoolympics #tokyo2020… https://t.co/QwKqMJ3trP',\n",
       " \"Chanu Saikhom Mirabai wins SILVER in women's 49kg #Weightlifting! 🥈🏋️\\n#IndiaAtTokyo2020 #Olympics\\nIndia won their F… https://t.co/rOfbOc6hKB\",\n",
       " 'HOCKEY! GB men @ 1030hrs against South Africa today! Women sunday 1330 against ze Germans. Come and join… https://t.co/8atyZWIekt',\n",
       " 'To state over and over that Cameroon is Africa in miniature and at every #Olympics incl #Tokyo2020 present just one… https://t.co/gOoVoeG3xX',\n",
       " 'Heartiest congratulations Chanu Saikhom Mirabai . The whole nation is proud of you. #Tokyo2020 https://t.co/QXUn6MVl46',\n",
       " '4-4 between Zambia and China\\n\\n2-2 between Sweden and Australia\\n\\n#Olympics #Tokyo2020',\n",
       " 'I reckon the #basketball #3x3 court depicted in the #Olympics Broadcasting Service ident/animation for #Tokyo2020 (… https://t.co/TQvStG1RxG',\n",
       " 'Genocidal Fascist China should not be admitted to the Olympics Shame and  are not fair. \\nChina Zİ #Tokyo2020 https://t.co/vRZT7blLKa',\n",
       " \"07/24 JAPAN VS VENEZUELA \\n\\nThat's my team right there! \\n\\n#TokyoOlympics #Olympics #Tokyo2020 https://t.co/vSgsuw8LRb\",\n",
       " 'Heartiest congratulations @mirabai_chanu . We are so proud of you. 🙌🏻👏🏻 #Cheer4India #Tokyo2020 #Olympics #TeamIndia  #Weightlifting',\n",
       " '#CHN Yang Quan claims the first 🥇 of  #Tokyo2020 #Olympics in 10m air rifle #Shooting 👏🏿👏🏿',\n",
       " '#GoodwillGesture Smiling face with heart-shaped eyesFlag of India\\nIndia Proud on BSF Hands Over Minor Boy to… https://t.co/RnMLBOEJ9T',\n",
       " 'AFRICAN MOTHERS\\n.\\n.\\n.\\n#Olympics #Tokyo2020 #heartsforbillie #July24Coup #BBNaija Dave Laycon Erica… https://t.co/eOB7pEi00x',\n",
       " \"Mirabai Chanu wins SILVER in women's 49kg weightlifting! 🥈🏋️\\n\\nIndia have won their FIRST medal at #Tokyo2020 🇮🇳 https://t.co/HbJiszfEoP\",\n",
       " 'Facebook has the Games’ mood on.\\n\\n#Tokyo2020 @Facebook https://t.co/4TZU6akK5b',\n",
       " 'Congratulations to ace Indian weightlifter @mirabai_chanu for winning a Silver Medal in the women’s weightlifting e… https://t.co/kH2dbmL4dk',\n",
       " 'Bahrain nearly managed to get the 1st upset of the Olympics against Sweden by playing out their attacks slowly (nea… https://t.co/2qfJZzK1wA',\n",
       " 'She wonnn!I had lost hopes but she won absolutely stunning performance by S.Mukherjee \\n#Tokyo2020 #Cheer4India… https://t.co/hJ0yNTI70E',\n",
       " 'Congratulations to us that we have #MirabaiChanu. 🥳🔥 \\n#Olympics  #Tokyo2020 #TeamIndia',\n",
       " 'Many congratulations to you...\\nYour Olympic journey from Rio to Tokyo is inspiring that right effort, mindset and s… https://t.co/TDUE0yqAgj',\n",
       " \"Goal: Sweden 2 - 2 Australia, Lina Hurtig 52', Olympic Women's Tournament Tokyo 2020  #womensfootball #soccer… https://t.co/W5n2qE6mHS\",\n",
       " '@mirabai_chanu  You made India proud!! 🇮🇳 \\nCongratulations!!!\\nFirst Silver medal for India from Tokyo Olympics 2020… https://t.co/o9qZ7ewHsO',\n",
       " '📌 2020 Summer Olympics Timeline \\n\\n#TokyoOlympics #OnuaSports #Tokyo2020 https://t.co/iShf45Dd4z',\n",
       " \"Shuang Wang makes no mistake from the spot. 4-4. Hazel Nali guessed right, but wasn't quick enough. \\n\\nCrazy game. \\n\\n#Tokyo2020\",\n",
       " '#Tokyo2020 Women’s #Football - Goal Alert: China *4-4 Zambia *(Pen: Wang Shuang 84‘) #SSOlympics',\n",
       " \"WOMEN’S OLYMPIC FOOTBALL TOURNAMENT TOKYO 2020\\n\\n83' China 4-4 Zambia \\n\\nWang converts from the spot to make it 4-4\\n\\n#Tokyo2020\",\n",
       " '@Aariarujunan Congratulations 💐👏👏\\nProud to be Indian \\n#Aari \\n#MeerabaiChanu \\n#TokyoOlympics2021 \\n#Tokyo2020 \\n#TokyoOlympics',\n",
       " 'What a comeback by Sutirtha Mukherjee Congratulations India 🇮🇳\\n#SutirthaMukherjee #Tokyo2020 #TokyoOlympics… https://t.co/nPURrA6e4O',\n",
       " 'Congratulations girl!!! Such a proud moment for all of us❤️ @mirabai_chanu #Tokyo2020 #TokyoOlympics #Olympics https://t.co/dum0oHlHHP',\n",
       " 'Way to go gentlemen 🇮🇩 #winner #Badminton #Tokyo2020 @hendra_HS &amp; Ahsan https://t.co/cBkDFrGwHm',\n",
       " '.@Copper_Queens Barbra Banda. Two hattricks in two games in the first two games of the Olympics for Zambia. \\n\\nWow.… https://t.co/KSECidiSuL',\n",
       " '@mirabai_chanu @Media_SAI @IndiaSports @RailMinIndia @iosindiaoff @virenrasquinha @imrahultrehan Congratulations ma… https://t.co/HVZ20CcNGA',\n",
       " 'Damn it, Sweden equalizes😑😑😑 #SWEvAUS #Olympics #Tokyo2020',\n",
       " 'Congratulations and celebrations Madam.🎉🥳💣\\n\\n#Tokyo2020 \\n#TokyoOlympics \\n#TokyoOlympics2021 \\n#Tokyo2021 https://t.co/218UpP8XLJ',\n",
       " '#Tokyo2020: From nearly quitting #weightlifting to #Olympics silver, #MirabaiChanu’s inspiring story… https://t.co/QP8aJk6k7E',\n",
       " 'Looks like it could be a bit of a bloodbath in the Water Polo, with Spain up 9-2 v South Africa. #Tokyo2020',\n",
       " 'Harsh penalty.\\n\\n🇨🇳 4-4 🇿🇲\\n\\n#Tokyo2020',\n",
       " 'Just a quick note on the women’s football. Zambia from 3-1 down to 4-3 up against China, and Barbra Banda with her… https://t.co/p4CFbxIxpS',\n",
       " 'The picture which brings smile on the face of 1.3bn Indians🇮🇳 well-done champ @mirabai_chanu. Entire nation is prou… https://t.co/1stzgJnwkQ',\n",
       " \"India strikes first medal at Olympic #Tokyo2020 \\nMirabai Chanu wins silver Medal in 49 kg Women's Weightlifting and… https://t.co/mMzeF3ocod\",\n",
       " \"@_amberaggarwal_ The post doesn't say about #Tokyo2020\",\n",
       " 'Horrid defence from Australia allows Sweden the equaliser. 2-2. #SWEvAUS #Tokyo2020',\n",
       " '4-4. Back to Fencing #Tokyo2020',\n",
       " 'Back and forth they go. #Swe equalizes 2-2 early in the second half. WOW. What a match. #Tokyo2020 52nd min and we’re tied again. #Football',\n",
       " \"The beauty of Olympics is, it brings nation together in celebrating victories of athletes that you're least aware o… https://t.co/daLp24eryV\",\n",
       " \"@tomgodsman22 Thanks for your #Tokyo2020 #RequestABet! Your request has now been passed on to our traders and we'll… https://t.co/2dFcqZF89g\",\n",
       " '#Tokyo2020 Olympic games women \\n\\nChile 1-2 Canada\\n\\nCanada top Group E with 4 points, they are a point above Great B… https://t.co/Kzop8Olo8u',\n",
       " 'Goal- 52 minutes\\n\\nSweden 2-2 Australia\\n\\n(SWE) Lina Hurtig\\n\\nSWE 2-2 AUS #Tokyo2020 #Football #Olympics https://t.co/IYbjGCm6o1',\n",
       " 'It would be pretty funny if Van Aert also has silver in the time trial next week. 😅 #CyclingRoad #Tokyo2020 https://t.co/dNiShzIhQI',\n",
       " 'Congratulations 🥳💐💪\\n#Cheer4India #Tokyo2020 #TeamIndia https://t.co/b4pGuomcvV',\n",
       " 'first #gold already hell yeahhhh #Tokyo2020 https://t.co/fjLXnnYGxC',\n",
       " 'Excitement at the Manipur residence of @mirabai_chanu as she attempts a medal for the nation at #Tokyo2020… https://t.co/CCbXh1s7kS',\n",
       " '#Tokyo2020  \\n\\n#MirabaiChanu won India’s first medal at Tokyo Olympics with a silver in women’s 49kg weightlifting.… https://t.co/2oPy1T7I3G',\n",
       " \"Fantastic comeback by Sutirtha Mukherjee to get past Sweden's Linda Bergstroem in her opening match of #TableTennis… https://t.co/JpMioHbX0d\",\n",
       " 'Very proud on #MirabaiChanu’s success at #Tokyo2020 and she has brought North East India a huge achievement!!! Brig… https://t.co/Vwy8pYNYiL',\n",
       " 'In the practice games leading into #Tokyo2020 #TheMatildas were getting smashed!! #AUS\\n\\nJust as I tweet #SWE level… https://t.co/XvY82rbaEI',\n",
       " 'That GOLD medal feeling 🎉\\n\\n@RichardCarapazM 👏\\n\\n#CyclingRoad | #Olympics | #Tokyo2020 https://t.co/MizaVO5Fca',\n",
       " 'French President Emmanuel Macron and First Lady of the United States Jill Biden are in attendance as the U.S. takes… https://t.co/RTW6VPZvOn',\n",
       " 'Zambia 4-4 China!\\n\\nWang Shuang with her FOURTH goal of the day!\\n\\n#Tokyo2020',\n",
       " 'Sofia Jakobsson with the assist again, her 3rd and the 2nd in this game. Hurtig there to tap it in. #SWE #Tokyo2020',\n",
       " 'Congrats! More #medals have been won at #Tokyo2020. \\nTweet automatically posted when more medals are won in… https://t.co/ttEhgIVy7O',\n",
       " 'Decent counter though, lightening quick #Tokyo2020',\n",
       " 'Heartfelt congratulations to @mirabai_chanu on the joy of winning the very first medal for india at  #Tokyo2020… https://t.co/jT6IJqE49T',\n",
       " 'Another fantastic role model in @Joefrasergb for @TeamGB. #Tokyo2020 #gymnastics',\n",
       " 'What a great start! 🇮🇳\\n#MirabaiChanu #Tokyo2020 \\n#TokyoOlympics',\n",
       " 'Congratulations \\n@mirabai_chanu \\n#मीराबाई_चानू #Tokyo2020',\n",
       " 'First #Olympics sport I’m watching is the horse prancin’. #Tokyo2020',\n",
       " 'Sam Kerr is just a machine 🇦🇺\\n\\n#SWEvAUS #Matildas #Tokyo2020',\n",
       " \"@Kavya249 Kavyaji,\\n\\nThe post doesn't say about #Tokyo2020\",\n",
       " \"Good day for Indian women's #tabletennis: Manika Batra beats Tin-Tin Ho in straight games, Sutirtha Mukherjee bounc… https://t.co/EvfVBE5qVm\",\n",
       " 'Housemates Jade Jones and Bianca Walkden aiming to make history at Olympics\\n\\n#Tokyo2020 \\n\\nhttps://t.co/9MoY0nC8On',\n",
       " 'Congrats #TeamUSA on ur debut win. #3On3Basketball #Olympics #Tokyo2020 #OlympicGames #LetsGo.',\n",
       " 'Ugggggh ok that was good from Sweden 2-2 #AUSvSWE #SWEAUS #OlympicFootball #Tokyo2020',\n",
       " 'I can’t lie I love the Olympics. It’s just the switching channel every now and then and watching a sport I would ne… https://t.co/cL0bNiSWuM',\n",
       " 'does anyone have a video / recording of the time when  Haikyuu opening song was played during the Japan vs. Venezue… https://t.co/8NQGWT9GPU',\n",
       " 'Penalty to China &amp; this time it stands. #Tokyo2020',\n",
       " 'What a good feeling this is 🤩 \\n\\n#OlympicGames \\n#MirabaiChanu \\n#Tokyo2020 https://t.co/uEOKzgVVew',\n",
       " 'Premium #domainname for sale\\n\\nBuy @ https://t.co/ZYCyq73F1X\\n\\nDragon .tv SOLD for $15,000\\n\\nHuge #GameOfThrones poten… https://t.co/UfOObv6Gtd',\n",
       " 'There has been some quality crosses and goals in this match. 2-all. @TheMatildas #GoAussies #Tokyo2020 #TokyoTogether #football',\n",
       " 'BREAKING NEWS: @jhally11 leaves @NewmarketTownFC to join @TeamGB #gymnastics just in time for #Tokyo2020 https://t.co/0XkHpvz4dq',\n",
       " 'Proud on Wout ✌️ @WoutvanAert @teambelgium  #Tokyo2020 https://t.co/IiTzv9dXHP',\n",
       " 'Look at that jacket!! 🤩 Edward Gal riding bright for @KNHSNederland as the evening draws in @Tokyo2020.… https://t.co/MKWxVYa7mA',\n",
       " 'Sheesh that was good play tho #SWE  #Tokyo2020',\n",
       " \"Lina, why you Hurtig the Matilda's feelings? #SWEvAUS #Tokyo2020\",\n",
       " 'Could not have asked for a happier start to @Tokyo2020! India is elated by @mirabai_chanu’s stupendous performance.… https://t.co/bu4sOv2ANO',\n",
       " \"Flash scores around the grounds\\n\\nGOAL SWEDEN!\\n\\n#Tokyo2020 - Football, Women's (Group Stage)\\n52' at Saitama\\n🇸🇪 SWE 2\\n🇦🇺 AUS 2\",\n",
       " 'Congratulations to Mirabai Chanu ❤ Won Silver Medal in Weightlifting 🥈 #49kgs #Tokyo2020 #Olympics\\n@mirabai_chanu https://t.co/SbdcsaBia1',\n",
       " 'Hosts #Japan are into both gold medal bouts on the first night of #Tokyo2020 #judo finals. \\n\\nCould be quite a celeb… https://t.co/R4h0CYNkIu',\n",
       " 'Joe Fraser’s parallel bars routine was something else! Go guys! 👏👌👍💪#Tokyo2020 https://t.co/6dnaYk1xG9',\n",
       " \"@sathiyantt @bigBdesign All the Best! We will cheer you all the way from India.. Let's go #Tokyo2020\",\n",
       " '#SWE gets the equalizer. Dammit. #Tokyo2020',\n",
       " 'Watching @Channel7\\'s #Olympics telecast. Could the Channel 7 \"presenters\" just shut up and allow the \"guest present… https://t.co/uqctltPXed',\n",
       " 'LE podium de la course en ligne 🤩 / THE podium of the road race 🤩\\n\\n🥇 Richard Carapaz 🇪🇨\\n🥈 Wout van Aert 🇧🇪\\n🥉 Tadej… https://t.co/Azwcf0Id5X',\n",
       " \"But that wasn't a penalty it hit her head .....#Tokyo2020 #CHNZAM\",\n",
       " 'Excitement at the Manipur residence of @mirabai_chanu as she attempts a medal for the nation at #Tokyo2020… https://t.co/ptf8Zin8xD',\n",
       " 'Noooo.\\nMad about our Matildas! You’ll do it! @TheMatildas #matildas #Tokyo2020',\n",
       " 'Damn it Lead didn’t last long    #SWEvAUS #Tokyo2020',\n",
       " 'F*** that was too easy. Damn it #football #Tokyo2020 #SWE #AUS.',\n",
       " \"India strikes first medal at Olympic #Tokyo2020 !\\nMirabai Chanu wins silver Medal in 49 kg Women's Weightlifting an… https://t.co/AqvhpFk7Bk\",\n",
       " 'What a terrific win for Sutirtha Mukherjee 🤩\\n\\nShe comes back from 3-1 down to win 4-3 in the deciding game to beat… https://t.co/rPAdNmHLqV',\n",
       " '@mirabai_chanu @Media_SAI @IndiaSports @RailMinIndia @iosindiaoff @virenrasquinha @imrahultrehan Heartiest Congratu… https://t.co/LG4WUxILnS',\n",
       " 'Nole\\n#Tokyo2020 #getty https://t.co/SE39Mork2h',\n",
       " 'What an equaliser, the speed!!! #SWEAUS #Tokyo2020 #Football',\n",
       " '🏋️\\u200d♀️ Lifting her way to the #silver medal and making the entire nation proud;Congrats @Mirabai_Chanu ❤️🙌🏻🇮🇳...… https://t.co/FjQKa432uv',\n",
       " 'Barbara Banda iwe🇿🇲🇿🇲🇿🇲🇿🇲.\\nThe only name that matters now.\\n#Tokyo2020 \\n#TokyoOlympics',\n",
       " 'Time for the first full day of #Tokyo2020 Olympic action https://t.co/al4A8QkCVl',\n",
       " '@mirabai_chanu Take a bow 🙇\\u200d♂️! #Tokyo2020 has started with a bang. Thanks to #MirabaiChanu. This #Silver will igni… https://t.co/Id8hrmJaG2',\n",
       " 'I’ve just got up, now catching up on the #Tokyo2020 Men’s Road Race. I DON’T KNOW WHO THEY ARE. THEY’RE WEARING THE WRONG CLOTHES.',\n",
       " 'Congratulations #MirabaiChanu @mirabai_chanu Madam 🙏. You made our INDIA 🇮🇳 proud again.\\n#Weightlifting #Tokyo2020… https://t.co/HTElTHUuKP',\n",
       " 'That Hurtig #SWEvAUS #AUS #Tokyo2020',\n",
       " \"🥈 Mirabai Chanu wins silver in Weightlifting Women's 49kg category, First medal for India in #Tokyo2020 Olympics.… https://t.co/PEfdb8ixqi\",\n",
       " 'Penalty to China 🇨🇳 again #Tokyo2020 #CHNZAM',\n",
       " 'Japan won their game against Venezuela in straight sets!! That was so amazing, you guys! 🇯🇵✨\\n\\n#Tokyo2020 #Olympics… https://t.co/Pld1OXryGm',\n",
       " 'Well, shit. #Matildas #SWEvAUS #Tokyo2020',\n",
       " 'pretty good start!!🇲🇨\\n#Tokyo2020 \\n#INA \\n#DukungAtletIndonesia',\n",
       " 'Heartiest congratulations Mirabai Chanu @mirabai_chanu on winning the Silver Medal in Women’s #Weightlifting! We ar… https://t.co/YAcHLIyPIO',\n",
       " '@mirabai_chanu @Media_SAI @IndiaSports @RailMinIndia @iosindiaoff @virenrasquinha @imrahultrehan Congratulations 👏👏… https://t.co/gPP5xsC0zY',\n",
       " 'BADMINTON IS COMING HOME #Badminton #Tokyo2020',\n",
       " 'I bloody love you Sam Kerr 🇦🇺💚💛💚💛 #Tokyo2020 #Matildas',\n",
       " \"Saurabh Chaudhary Finished 7th In Finals Of Men's 10m Air Pistol Event.\\nScored 137.4 In The Final. With Time On His… https://t.co/vknWXFnBvf\",\n",
       " \"Lifeline China... \\nPenalty. \\n\\nHandball from Zambia's Mweemba. She's booked too\\n\\n#Tokyo2020\",\n",
       " \"Proud mom of #MirabaiChanu “We're happy that she got the first medal for India. We expected her to win a gold medal… https://t.co/J2DE2KT18o\",\n",
       " 'Sweden equalise... #SWEvAUS #Tokyo2020 https://t.co/iP5RnxTyw1',\n",
       " '#Gold\\xa0 for @RichardCarapazM in the #cyclingroad\\xa0 men’s race! #ECU\\xa0\\n\\n#StrongerTogether | @tokyo2020 | @UCI_cycling… https://t.co/JSj2ZRaR6n',\n",
       " \"WOMEN’S OLYMPIC FOOTBALL TOURNAMENT TOKYO 2020\\n\\n82' China 3-4 Zambia \\n\\nPenalty to China after VAR confirms handball… https://t.co/CSTSNh6uYv\",\n",
       " 'Ugh.  Just too easy. #matildas #Tokyo2020 #football',\n",
       " 'Anyone else watching the floor routines and reverting to the wonderful Roy &amp; HG’s terminology for the various gymna… https://t.co/r2OUe8iH6X',\n",
       " \"Peter McGrail bows out to Thailand's Chatchai-decha Butdee in his opening match. A tough opening draw for the… https://t.co/F6JXRvC4Tm\",\n",
       " 'Video of मीराबाई चानू\\nWhat a wonderful start to #Tokyo2020 !\\n\\nMany congratulations to \\nSaikhom Mirabai Chanu… https://t.co/EYdOS8BqL8',\n",
       " 'What a fantastic start for India at  #Tokyo2020 \\n\\n#Cheer4India \\n#IndiaAtTokyo2020',\n",
       " 'Congratulations India 🇮🇳 \\nMany more to go …!!\\n#Cheer4India #Tokyo2020 https://t.co/AlRixJwhpO',\n",
       " 'Mera Bharat Mahaan💪🇮🇳..Mainly congratulations to #MirabaiChanu\\nFor winning first silver medal for India in… https://t.co/SFfDpXf1xf',\n",
       " \"Congratulations chanu maa'm for wining silver medal in #tokyo2020\\n   Jai hind https://t.co/SkMdFYxWhB\",\n",
       " \"Richard Carapaz (Ecuador) has won the Men’s Road Race at the 20201 Tokyo Olympics\\nEcuador's Richard Carapaz Wins Me… https://t.co/dkOhPVeCEh\",\n",
       " \"💥 It's Barbra #Banda's world. We are just living in it!\\n⚽ Six goals in two games for the Zambia WNT captain\\n#CHIZAM… https://t.co/3oFmy2Cztx\",\n",
       " '@mirabai_chanu @Media_SAI @IndiaSports @RailMinIndia @iosindiaoff @virenrasquinha @imrahultrehan Congratulations to… https://t.co/nHkEi1v8SJ',\n",
       " '@realimrannazir4 #TalibanFighting4Pakistan and winning #Gold everyday. \\nSo why fight for fake #medals in… https://t.co/Zng1IWYCUa',\n",
       " 'What a super start by India 🇮🇳 💪\\nWeightlifter #MirabaiChanu won Silver Medal 🥈 in women’s 49 kg category.She lifted… https://t.co/h3Cy4axt5G',\n",
       " 'Off to a flying start! Huge congratulations to #MirabaiChanu on winning the silver for weightlifting at the… https://t.co/mpamEyOLfV',\n",
       " \"This ref is doing everything she can to help Sweden.\\n\\nShe's ignored a clear penalty and a clear yellow-card, someon… https://t.co/hIbXef6Cst\",\n",
       " '.@SwimmingCanada confirms that Sydney Pickrem is withdrawing from the 400m individual medley due to medical reasons… https://t.co/ToMmqETVqW',\n",
       " 'Daddies congratss\\n#Badminton   #Tokyo2020',\n",
       " '#TokyoOlympics\\n#Tokyo2020\\nIn #Weightlifting \\n@mirabai_chanu #MirabaiChanu won first silver medal 🥇 for #India .\\nMan… https://t.co/rHQJ45i3S5',\n",
       " 'You won’t find a better Olympic set up than this! \\n\\n#Tokyo2020 @Channel7 https://t.co/KrICuk3tD7',\n",
       " 'China awarded a penalty. Mweemba  hand ball\\n#Tokyo2020',\n",
       " \"This is what's happened on day one so far! #Tokyo2020 #bbcolympics ⤵\\n\\nhttps://t.co/gB5YSqYupJ\",\n",
       " 'Judo 60kg Semifinals \\n\\n🇫🇷Mkheidze VS Yang 🇹🇼\\n\\nA great game‼️\\n\\n#Judo\\xa0 #OlympicGames\\xa0 #Tokyo2020',\n",
       " 'Bow down to the champ! 🏆\\nOvercoming a chronic shoulder and muscle injury, After fighting against all odds, \\nShe won… https://t.co/puhASZFM9o',\n",
       " \"GET IN THERE!!! \\nWe're on here people. If you aren't watching, you're missing out. \\n\\n#SWEvAUS #Tokyo2020 #Olympics https://t.co/xjEBof2fhy\",\n",
       " 'What an epic race! Carapaz was just sensational, his last 5km were 💪🏼 #Tokyo2020 #Olympics https://t.co/j4HMTQDEXN',\n",
       " 'How is hockey\\'s meta not just \"hit it into the opponent\\'s feet at every opportunity\" #Tokyo2020',\n",
       " \"Will definitely be watching the skateboarding now that it's finally part of the Olympics 🛹 #Tokyo2020\",\n",
       " '🙌🏾\\n\\n📸Courtesy\\n\\n#Tokyo2020 #BarbaraBanda https://t.co/oNXhVcM05I',\n",
       " \"#Tokyo2020\\nFirst gold of Games goes to China's Yang Qian in shooting\\n\\nhttps://t.co/k9e0RqFalO\",\n",
       " 'Amazing games from women football\\n\\nhttps://t.co/vGy5ou71Ai\\n\\n#Chile #womenpower #Canada #chilevscanada #chilewomen… https://t.co/3knTKtzRvl',\n",
       " 'Un Dream Team con asterisco https://t.co/GPlusZ1vre Por @EmiliovEscudero  #Tokyo2020',\n",
       " 'TTs [11:40] 🇪🇸 \\n1⃣ Adriana Cerezo  \\n2⃣ Carapaz  \\n3⃣ Van Aert  \\n4⃣ #Hispanos  \\n5⃣ #Tokyo2020 🔝',\n",
       " \"⚽️And @samkerr1 puts another one in!\\n\\n48'| Sweden🇸🇪1-2🇦🇺Australia\\n\\n#WeAreMatildas #GoAustralia #HeJaSverige #SWEvAUS #football #Tokyo2020\",\n",
       " '@mirabai_chanu @Media_SAI @IndiaSports @RailMinIndia @iosindiaoff @virenrasquinha @imrahultrehan Superstar #JaiHind #Tokyo2020',\n",
       " \"#USA have broken a whole host of @Olympics records in women's water polo after defeating hosts #JPN on the opening… https://t.co/iz2sL6Hsmi\",\n",
       " 'The Matildas have the lead against Sweden but they may have been robbed of a penalty in the first half. #Tokyo2020\\n\\nhttps://t.co/wAv3wSxOrs',\n",
       " '#Indian weightlifter @mirabai_chanu ensured that #India was second on the medals tally, a feat that has never been… https://t.co/KlqhfGGMbp',\n",
       " 'Oh fuck off. #SWEvAUS #Tokyo2020',\n",
       " 'भारतीय नारी, सब पे भारी !\\nHope that this historic achievement by #MirabaiChanu will encourage more girls to take up… https://t.co/4yIuC1MleV',\n",
       " 'Penalty to China 😭 #tokyo2020',\n",
       " 'Oh bugger. Just out of position and caught off guard. 2-2 #Tokyo2020',\n",
       " 'Congratulations @mirabai_chanu so proud of you ! First day first medal for India 🇮🇳 \\n#Tokyo2020 #olympics… https://t.co/9LeBzIYzcA',\n",
       " 'Satwiksairaj Rankireddy and Chirag Shetty registered a crucial victory at the Tokyo Olympics.😍🔥👇\\n\\n#Badminton… https://t.co/06AmJIoLOv',\n",
       " '#Tokyo2020 a proud Aussie but I hope Sweden thump the shit out of the Woke Matildas. At least Sweden are proud to s… https://t.co/xxMM6UOhUo',\n",
       " 'Yep thought so. No defender is up for it.\\n⬇️\\n#Tokyo2020 \\n#Matildas https://t.co/DAFBayvXy0',\n",
       " \"We've got @TeamGB's men in hockey action right now against South Africa. \\n\\nGreat Britain opened the scoring, but it… https://t.co/ozPuqJOhyo\",\n",
       " 'We’re in for a cracker of a game, finish and a half\\n\\n#Tokyo2020',\n",
       " 'Olympic Swimming after Footy? I think I may stay up a little longer… #CanWNT #Swimming #Tokyo2020',\n",
       " \"Scotland's Kim Little captain #TeamGB for their second match at the #Tokyo2020 #Olympics against @jfa_nadeshiko… https://t.co/rlBvd3Zet8\",\n",
       " 'Wow Wow Wow !!!!🇮🇳👏\\nWhat a comeback by Sutirtha Mujherjee🇮🇳🇮🇳\\nShe made it 4-3 even after trailing by 1-3 👏🤘\\nMany Co… https://t.co/1MOtKLQSBH',\n",
       " 'Proud moment\\nCongratulations\\n#MirabaiChanu #TokyoOlympics2021 #Tokyo2020',\n",
       " 'Omg yessss!! Gorgeous run from Foord, and then a delightful little chipped cross to Kerr 😍 They made it look easy 🔥… https://t.co/JOzh85Ja58',\n",
       " 'What a superstar. This is Sam Kerr’s stage. \\n\\n🇦🇺 2 🇸🇪 1\\n\\n@7olympics @TheMatildas #Tokyo2020',\n",
       " 'Olympics remain big business, even during a pandemic.\\n\\n#Olympics #Tokyo2020\\n\\nVia @AdamMaguire @RTEbusiness\\n\\nhttps://t.co/EX5Z1gtnAP',\n",
       " 'Soh Wooi Yik’s backhand smash improves a lot and stronger.\\n\\n#Badminton\\xa0 #Tokyo2020\\xa0 #Olympics\\xa0 #SukanOlimpik\\xa0… https://t.co/iRkH9Pw9r4',\n",
       " \"I missed five fucking minutes and a goal. And I can't even rewind on the 7+ app to watch it. #Tokyo2020 #SWEvAUS\",\n",
       " '#Tokyo2020\\nWishing our dynamic contingent very best: PM @narendramodi Ji cheers for Indian athletes participating i… https://t.co/mcuZDe0rtW',\n",
       " \"I'm so prouddddddd\\n#東京2020 #Tokyo2020 #Olympics #OpeningCeremony #Badminton #OlympicGames #INA https://t.co/BXZSTFOgC0\",\n",
       " 'The 🥈 shined brighter with that smile! 🙌🏽\\n\\nCongratulations @mirabai_chanu 💙\\n\\n#Tokyo2020 #Olympics https://t.co/e4el9yHAvO',\n",
       " \"Mirabai Chanu wins SILVER in women's 49kg weightlifting! 🥈🏋️\\n\\nIndia have won their FIRST medal at #Tokyo2020 🇮🇳\",\n",
       " 'Hearty Congratulations to \\nIndian Railways 🏋️\\u200d♀️ player @mirabai_chanu, for winning the first medal for India🇮🇳, Si… https://t.co/Hh4OyTu3HV',\n",
       " '#Tokyo2020 actually watched the 6 hours of the mens road race from Tokyo to Fuji (me in air conditioning). Was tota… https://t.co/hN03AOxNAA',\n",
       " '@iingwen Congratulations to Taiwanese Yang player for advancing to the final and confirming the medal! \\nI look forw… https://t.co/bDQoTlU6Bi',\n",
       " 'Sophie Ingle starts for #TeamGB as they face host Japan in the 2nd group game\\n#Tokyo2020 \\n#CFCW https://t.co/eJ37LcXxtU',\n",
       " 'Kerr (02) SCORES her 2nd on a walk-in one-timer header in minute 48! \\nTeam Australia Women 🇦🇺 (@AUSOlympicTeam/… https://t.co/596bFym2nM',\n",
       " 'Engrossed in #Tokyo2020? It’s #OneMonthToGo to the #Paralympics and we’re very excited! https://t.co/Deh0p8lgjG',\n",
       " 'GOAT!!!!! #SWEvAUS #Tokyo2020 #Matildas https://t.co/d9h2lEUEaz',\n",
       " 'India is cheering for @mirabai_chanu, her remarkable performance has won India its first Silver medal in weightlift… https://t.co/88b0K7ocev',\n",
       " \"Silver medal! 🥈\\n\\nAfter a tough battle, Chanu Saikhom Mirabai finishes in second place in the #Weightlifting women's… https://t.co/J3Sulg7dqS\",\n",
       " \"India strikes first medal at Olympic #Tokyo2020\\xa0 \\nMirabai Chanu wins silver Medal in 49 kg Women's Weightlifting an… https://t.co/ChJnAmK0m6\",\n",
       " \"NO SLEEP 'TIL VICTORY! WE'RE BACK FOR 45 MINUTES! \\n\\nGAME BACK ON at Saitama Stadium 02: \\nTeam Australia Women 🇦🇺 (… https://t.co/dVZEfq2UDJ\",\n",
       " 'Great Britain’s Geraint Thomas and Tao Geoghegan Hart were two of 41 riders who did not finish the hot and humid ra… https://t.co/wPUypyS8dt',\n",
       " '🇮🇳 tight slap to those who insult north eastern people 💗\\n\\n#MirabaiChanu #मीराबाई_चानू #ProudMoment #India… https://t.co/8HfcU6E3fU',\n",
       " 'What a player! Barbra Banda gets her second hat trick of the tournament.\\n80’ - Zambia 🇿🇲 4 - 3 China 🇨🇳 \\n#Tokyo2020',\n",
       " \"Barbra Banda.\\n\\nThat's it. That's the tweet.\\n\\n#CHNZAM #OlympicFootball #Tokyo2020\",\n",
       " 'Congratulations to Mirabai Chanu for her outstanding performance in Tokyo Olympics 2020. Her silver medal will insp… https://t.co/l8OrYiAqYE',\n",
       " 'Kerr with the duble 😍 #Tokyo2020',\n",
       " \"Barbra Banda emerged as the Chinese Women's Super League top scorer in her debut season. Just as Oshoala moved from… https://t.co/SY3eXy9bfR\",\n",
       " \"Heartiest congratulations to Mirabai Chanu on winning the silver medal in the Women's 49kg weightlifting category a… https://t.co/nUugSve75N\",\n",
       " 'Hi #Kpop and #Kdrama lovers!\\n\\nTo feel the #TokyoOlympics euphoria, we want to know which sports are you best at?… https://t.co/j5TsNrNobU',\n",
       " \"KERR AGAIN! 🤯\\n\\nSAM'S PUT US IN FRONT! 2-1 OVER SWEDEN! 💚💛\\n\\n📸 - Channel 7\\n\\n#SWEvAUS #Tokyo2020 https://t.co/hP7LNie3Am\",\n",
       " 'Manika Batra becomes the first woman to win a #TableTennis match after 29 years.\\n\\nSumit Nagal becomes the first sin… https://t.co/BMiq2cVrIu',\n",
       " 'Unreal performance from Kerr - should have a hattrick. So proud of our Matildas ⚽️👌😍 #SWEvAUS #Matildas #SamKerr… https://t.co/ewxV0i5TTi',\n",
       " '#Tokyo2020 \\n#TokyoOlympics \\n\\nEvery BJP leader from state to centre is wishing #MirabaiChanu .\\n\\n#MirabaiChanu \\n\\nWork… https://t.co/Io8j63qYb6',\n",
       " '#SWEvAUS 1-2. Australia hits the lead - as the indomitable @samkerr1 @thematildas scores another goal in the air ag… https://t.co/xbVSEvbGHg',\n",
       " 'WE SHALL MANIFEST THIS MATCH🇯🇵🇦🇷 #Haikyuu #Tokyo2020 #OlympicGames https://t.co/rHOcFksodM',\n",
       " 'Proud of Country 🇮🇳🇮🇳 #MirabaiChanu #Tokyo2020',\n",
       " 'Congratulations #MirabaiChanu on winning Silver medal for the country!🇮🇳🥈\\nYou have made us all proud 🙌🏻\\n#Tokyo2020 https://t.co/6VhEVHo4OL',\n",
       " 'Possible penalty futi😩\\n#Tokyo2020',\n",
       " 'Being the 25th appearance for India, we are back with the biggest team ever at Olympics. \\nBest wishes to the Indian… https://t.co/Pzj622FXRw',\n",
       " 'Bro shooting Qualifications are never telecasted. Koi bhi event ho 💁 #Tokyo2020',\n",
       " 'Huge congratulations to #MirabaiChanu on winning the silver for weightlifting at the #Tokyo2020 Olympics. 🇮🇳… https://t.co/9qSaKj7TPz',\n",
       " '2. set Struff/Zelev - Hurkacz/Kubot 6:6 1⃣:0⃣\\n#tennis\\n#Tokio2020 #Tokyo2020 #IgrzyskaOlimpijskie',\n",
       " \"😨BLINK AND YOU'LL MISS IT! \\n\\nGame two of the day coming up for @basketbols 🇱🇻 as they take on @belgianlions 🇧🇪 Will… https://t.co/19GELhSNiD\",\n",
       " \"#OlympicGames India's #SutrithaMukherjee won\\nenters 2nd round #TableTennis single event\\n\\n#ZEE5News \\n#Olympics… https://t.co/BQ5dwLgKOT\",\n",
       " \"Ricardo Peres praised Korea's first gold medalist in #Tokyo2020 An San, Kim Je-deok at the press conference.\",\n",
       " 'Foord ⤵️ Kerr 🥅\\n\\nJust love hearing the players\\' celebrations. 🤭😂\\n\"****ING BRILLIANT!\"\\n\\n2-1 Australia now lead. #Tokyo2020',\n",
       " '🔔 &amp; we’re back for Group B. \\n\\nLet us know which two you think will be qualifying for the Freestyle?!!\\n\\n#Tokyo2020… https://t.co/7ZHpykqDNU',\n",
       " \"C'mon the @TheMatildas #Tokyo2020 #Australia #Olympics\",\n",
       " '@mirabai_chanu @Media_SAI @IndiaSports @RailMinIndia @iosindiaoff @virenrasquinha @imrahultrehan Congratulations… https://t.co/M2Shzv8eUO',\n",
       " '@samkerr1 finds the back of the net again!!! @TheMatildas @AUSOlympicTeam  #Football\\xa0#SWEvAUS #Tokyo2020\\xa0 #AUS\\xa0 #Olympics',\n",
       " '@mirabai_chanu we are so so proud of you 👍👏👏\\n\\n#MirabaiShines at the #TokyoOlympics\\n \\n#IndiaWinsSilver … our first s… https://t.co/JGfD9LLV2i',\n",
       " 'Devastated for McGrail. Just shows you no guarantee gold medal handouts in Olympic boxing. #Tokyo2020',\n",
       " \"Carapaz wins men's road race for Ecuador's first cycling medal. https://t.co/jp11ruRvFx\\n#Tokyo2020\",\n",
       " 'Team GB star Matthew Hudson-Smith WITHDRAWS from Olympics on medical grounds but it is NOT Covid related #Tokyo2020 https://t.co/9ZL3bh4aNZ',\n",
       " '#TeamIndia  | #Tokyo2020 | #Weightlifting \\nSilver lined beginning for India! \\nWe support your dedication… https://t.co/WVbo89Cczi',\n",
       " \"#MirabaiChanu wins first medal at Tokyo 2020, Silver medal in the women's 49kg category. \\nWhat a proud moment for I… https://t.co/5Amfwm7cXY\",\n",
       " \"Thank you #MirabaiChanu for our country's first medal. 🇮🇳🥈\\nProud moment for every Indian.\\n\\n#India #Olympics… https://t.co/TsLuP1Ahqj\",\n",
       " '@LeopoldLoveday @rickygervais @bella_beddywhip @Titchprincess @meowitsjoey @olliecomicstrip Our #Bollocks question… https://t.co/d84XlHECsZ',\n",
       " 'India is cheering for @mirabai_chanu, her remarkable performance has won India its first Silver medal in weightlift… https://t.co/RdEnySoqai',\n",
       " 'Bollywood gearing up to direct #MirabaiChanu Biopic 😂😂😂\\n\\n#TokyoOlympics \\n#TokyoOlympics2021 \\n#Tokyo2020 https://t.co/L5rOo1mKom',\n",
       " \"AIN'T NOTHIN' STOPPING SAM AS SHE GETS THE BRACE!\\n\\n#WLeague #Tokyo2020 https://t.co/lvzTcK6FeF\",\n",
       " 'GOAL ⚽️⚽️⚽️!!! Sam Kerr!!! Let’s go @TheMatildas \\n#AUSvSWE \\n#Tokyo2020',\n",
       " 'Best start for India in #TokyoOlympics from @mirabai_chanu ❤👑\\nSilver medal for india.❤\\n\\n#Tokyo2020 https://t.co/Ak1QZZLGaD',\n",
       " '@samkerr1 and @CaitlinFoord  😱 \\nLove this team!!\\n#swevaus\\n#football \\n#Tokyo2020',\n",
       " \"Very encouraged that the IOC's decision to encourage male &amp; female flag bearers has been taken up by so many NOCs a… https://t.co/KwO85lCfms\",\n",
       " \"#Judo: TAKATO Naohisa has just defeated Kazakhstan's Yeldos Smetov by waza-ari in the men's -60kg judo competition,… https://t.co/UmrGNzHKGr\",\n",
       " 'With Australia taking the lead against Sweden in the football, could the USA be the 3rd best team in Group G? #Tokyo2020',\n",
       " \"Congratulations India #MirabaiChanu on making #India  Proud and bringing us GLORY. India's 1st  medal at the… https://t.co/0U2fTwVnAY\",\n",
       " 'A proud moment for #India. Sumadhura Group Congratulates #MirabaiChanu for the Silver medal in the Women’s 49 kg… https://t.co/XVHaVljilT',\n",
       " 'Congratulations to Mirabai Chanu for winning the first medal for India in #Tokyo2020 Olympic.\\nYou have brought chee… https://t.co/0ydLypUjnp',\n",
       " 'WATCH NOW👇👇\\n\\nhttps://t.co/GYWfrWpVhT\\n\\n#MirabaiChanu #Tokyo2020 #Olympics #Mirabai_chanu',\n",
       " \"Under 10 minutes to play at Miyagi Stadium but it's still Zambia with the 3-4 advantage against the Steel Roses #CHNvZAM #Tokyo2020\",\n",
       " 'What a through ball, what a chip and what a finish #WorldClass  #GOOOOOOOOOOAL #SWEAUS #Tokyo2020 @TheMatildas',\n",
       " 'Great ride from Carapaz. Ecuador second-ever gold at the Olympics. \\n\\nBut much like football, I’m not convinced that… https://t.co/DBgNi1fnqx',\n",
       " \"@ianuragthakur India's first medal in Tokyo olympic 2020 on day 1 !!! \\n\\nIndia...India !\\n#Cheer4India #Tokyo2020 https://t.co/1UWXdrcUfQ\",\n",
       " 'CONGRATS JAPAN!!!! FIRST WIN!!!\\n#Tokyo2020 \\n#OlympicGames https://t.co/Gu6hp5nvIu',\n",
       " 'Proud moment for India at #Tokyo2020 #TeamUdaipurAirportAAI rejoices and congratulates S. Mirabai Chanu… https://t.co/haGLjk0yrZ',\n",
       " 'A proud moment for India, Congratulations #MirabaiChanu for winning silver medal in #Weightlifting at #Tokyo2020.… https://t.co/5r3iKKaa5M',\n",
       " 'Mirabai Chanu makes India proud with its first medal at the #TokyoOlympics2021 . She has won the Silver Medal in th… https://t.co/QqqS0dp4dV',\n",
       " 'Congratulations @mirabai_chanu mam 💥 #Silver \\n#Tokyo2020 https://t.co/SSAHfLyscN',\n",
       " '. @nagalsumit wins 🇮🇳 first Olympic singles match in 2️⃣5️⃣ years beating Dennis Istomin 6-4, 7-6, 6-4 to advance t… https://t.co/3G3662WXv6',\n",
       " 'Congratulations @mirabai_chanu to bag the first medal for India 🇮🇳 in @Tokyo2020 #Tokyo2020 \\n#India #Cheer4India https://t.co/25Y55f7DZh',\n",
       " 'The European Champions, Spain now running rampant. 7-2. Spain defensively very good. Not giving SA any chances… https://t.co/jM3tVmVCGJ',\n",
       " '#Tokyo2020  #Cheer4India\\n\\nChirag Shetty-Satwiksairaj Rankireddy stuns World No. 3 🏸\\n\\n@satwiksairaj and… https://t.co/f0n6gXGjEn',\n",
       " 'Heartiest congratulations to @mirabai_chanu for winning silver medal in #Tokyo2020 #Olympics',\n",
       " '#SaurabhChaudhary performed wonderfully at the #Tokyo2020 #Olympics and this young boy has just began his journey.… https://t.co/Mk9dfjZwME',\n",
       " 'GET IT UP YA @TheMatildas its now 2-1 to the Aussies in a crucial clash here in Saitama and it was once again comin… https://t.co/EkAeslEfyD',\n",
       " 'Congratulations @mirabai_chanu 💐🎊🎉 for bringing laurels to the Nation. 👏👏\\nDefinitely, a proud moment for India🇮🇳… https://t.co/KL6awnKxtO',\n",
       " '.@SamKerr1 at the double! The #CFCW star gives #AUS the lead (48’)! ✨🙌\\n\\n#Olympics #Tokyo2020 #Football #AUSvSWE',\n",
       " 'Why is there so much water on the men’s hockey pitch? It’s like they’re playing in a big puddle. Must affect the sp… https://t.co/4bREbnmnIF',\n",
       " 'Our First Medal ! ! \\nCongratulations #MirabaiChanu for winning silver medal and bringing glory after 21 years in we… https://t.co/evRjGCCDET',\n",
       " 'Honourable Chief Minister of Tamilnadu @mkstalin  conveys his hearty congratulations to Weightlifter @mirabai_chanu… https://t.co/mslrGvt1XD',\n",
       " 'Congratulations India A big salute  @mirabai_chanu fwinning  first silver in #Weightliftingin two decades to kickst… https://t.co/O0O9LIn8iL',\n",
       " '👀 In case you missed it 🚣🏻\\n\\nEarlier this morning at the #Tokyo2020 #OlympicGames  @CardiffAlumni @Joshbugajski comp… https://t.co/3hZ9tuvQgh',\n",
       " 'Yess daddies 🔥 #Tokyo2020',\n",
       " 'Nice one Nali!!\\n#Tokyo2020 #CHNZAM',\n",
       " 'What a player back to back hatrick @ArsenalWFC should sign him #Tokyo2020 https://t.co/qzNmUFZguL',\n",
       " 'Slice of cheese every day of the week #SWEvAUS #Olympics #Tokyo2020',\n",
       " 'Man, we really fooled the Europeans in those friendlies, huh? #Matildas #SWEvAUS #Tokyo2020',\n",
       " 'Pretty nice 1-2 combination. 👏👏#SWEvAUS #Tokyo2020 https://t.co/Qfb4nsv64Z',\n",
       " '@sutirthamukher4 🎉👏CONGRATULATIONS\\n#India 🇮🇳\\n\\nShe fights back to beat Linda of Sweden (5-11, 11-9, 11-13, 9-11, 11-… https://t.co/CSkfurmwGN',\n",
       " 'Player of the tournament.\\nBarbara Banda\\n#Tokyo2020',\n",
       " 'Congrats to the Mexican team. 🇲🇽 #Tokyo2020 https://t.co/GWG4uvCDEM',\n",
       " \"And let's not forget the contribution of @CaitlinFoord Let's win this now @TheMatildas #Tokyo2020\",\n",
       " 'Prime Minister @narendramodi extended his best wishes to the Indian contingent for #TokyoOlympics 2020 at the openi… https://t.co/VfTbHmvfO6',\n",
       " 'There is no one like the @DjokerNole #Tokyo2020 #TokyoOlympics \\n\\nhttps://t.co/kmgrEe6gI4',\n",
       " 'Sam Kerr for Australia in #Tokyo2020 \\n\\n🏟 2 games \\n⚽️ 2 goals\\n🅰️ 1 assist https://t.co/u0tm7aAl4I',\n",
       " '#Tokyo2020\\n\\nThe only female Head Coach in the Waterpolo tournament (male or female) Delaine Mentoor is in action ri… https://t.co/iBf5rJWAV4',\n",
       " 'Today’s competition schedule!\\n #Tokyo2020 https://t.co/b4jVKdJclC',\n",
       " 'First medal on the first day.\\nCongo to @mirabai_chanu for silver medal 🥈 #Tokyo2020 #Cheers4India https://t.co/Iy62cqZLzM',\n",
       " 'Great Thanks for commentary @HajimeBeppu 👏\\n#Tokyo2020 #CyclingRoad  #自転車ロード',\n",
       " 'This ref has eyes painted on. #Tokyo2020',\n",
       " 'First medal for India at #Tokyo2020 \\nCongratulations #MirabaiChanu India is proud of you💓',\n",
       " \"Congratulations India #MirabaiChanu on making #India  Proud and bringing us GLORY. India's 1st  medal at the… https://t.co/1RyDdWzvPh\",\n",
       " 'Proud moment for #TeamIndia\\n#MirabaiChanu gets first medal for India\\nAfter winning #Silver medal in #Tokyo2020 Indi… https://t.co/m45l6LsHDD',\n",
       " '@mirabai_chanu Proud Moment\\n\\n#TeamIndia #Tokyo2020 #Olympics #MirabaiChanu #Silver https://t.co/VVq6G3o2eS',\n",
       " 'What a comeback by the Matildas #SWEvAUS #Tokyo2020',\n",
       " 'Congratulations JAPAN!!!! On to the next!!! #Tokyo2020 #volleyball https://t.co/gVSKv6Ml0X',\n",
       " 'How good are the @TheMatildas @samkerr1 is next level! #Tokyo2020 #TokyoTogether',\n",
       " 'Sam Kerr is not going to get an easier goal than that one!\\n\\n2 - 1\\n\\n#Mathildas\\n#Tokyo2020',\n",
       " 'Sam Kerr is one of the special ones!! C’mon @TheMatildas! #Tokyo2020',\n",
       " 'The countdown is almost complete to the first swimming action of #Tokyo2020 😁\\n\\nHeats start at 11am with… https://t.co/l1wfgc1Ve9',\n",
       " \"Day 1 of #Tokyo2020 is too early for us to become arm chair experts and start disagreeing with the judging isn't it… https://t.co/4nEcM9KRDG\",\n",
       " 'Our first medal at #TokyoOlympics #Tokyo2020 on day-1 ❤ 🇮🇳 #IndiaAtTokyo2020 #MirabaiChanu \\nThanks to the efforts o… https://t.co/9fixnFXdCN',\n",
       " '#AUS  wing-backs are always the target of attacks. #SWE Fridolina Rolfo takes advantage of defensive slack Clare Po… https://t.co/scfvlOz6X0',\n",
       " 'Sorry @GKamworor for the Injury. In our prayers 🙏.  #Tokyo2020 #Olympics2020 Wishing all the best to #TeamKenya… https://t.co/99NvibPpOJ',\n",
       " 'Tokyo 2021 Olympic Games Text (2020 Scratched Out) Premium Tshirt...\\n\\n📌link in bio\\n\\n#tokyoolympics #tokyo2021… https://t.co/UKdVkbJQsX',\n",
       " '@DjokerNole @OKSrbije Welcome back to 🇯🇵Tokyo🇯🇵 😀\\n#Tokyo2020',\n",
       " \"Japan vs Great Britain in football in just under an hour's time.\\n\\nHere's everything you need to know\\n\\n#Olympics… https://t.co/dGr2XRjoGo\",\n",
       " 'Hey there Volleyball Fans \\nJapan 🇯🇵  🏐   Venezuela 🇻🇪\\nFinal Set Japan 25:15\\n\\nThe red Dragons win their first match… https://t.co/f1bd6Oqukr',\n",
       " 'Some snapshots of our Baazigars as they all got suited up for @tokyo2020 Opening ceremony at Main Olympic Stadium,… https://t.co/QcvC0oti3n',\n",
       " 'What a comeback by Sutirtha Mukherjee Congratulations India 🇮🇳\\n#SutirthaMukherjee #Tokyo2020 #TokyoOlympics… https://t.co/fv04aQCoOV',\n",
       " '#7Olympics #Tokyo2020 Sam Kerr and Kyah Simon are Absolute class.....',\n",
       " \"Loving RTE showing Taekwando and some other sports you'd never see in Ireland \\n(We'll ignore the fact it's just coz… https://t.co/HP1p9OlawS\",\n",
       " '#Tokyo2020 #Olympics #Olympicmedalcount is taking momentum https://t.co/rSL4jgwn2B',\n",
       " 'Could not have asked for a happier start to @Tokyo2020! India is elated by @mirabai_chanu’s stupendous performance.… https://t.co/TOE1AG7ahQ',\n",
       " 'Pergh \\n\\n#Tokyo2020 \\n#Badminton',\n",
       " 'I fancied McGrail to medal, but quickly went back on my prediction when the draw was revealed on Thursday. Butdee i… https://t.co/QvCK7EiRzY',\n",
       " 'SAM KERR YOU SUPERSTAR 💚💛💚💛💚💛 #gomatildas #SWEvAUS #olympics #tokyo2020 https://t.co/TKlqHy07Et',\n",
       " '48’  Goalllllllllllllllllllllllllll Sam Kerr BRACE 🔥🔥\\n\\nSweden 1-2 Australia \\n\\nWomen’s Summer Olympics #Tokyo2020',\n",
       " 'Well, Hockey is shit. #Tokyo2020',\n",
       " 'All the best to team Pakistan for the Olympics \\n#Tokyo2020 \\n#pakJeetyGa 💪\\n#PakistanZindabaad 🤲🏼 🇵🇰 https://t.co/dXTxb3bpii',\n",
       " '.@hendra_HS and #Ahsan win comfortably in their 1st group game against the 🇨🇦 pair\\n2️⃣1️⃣ - 1️⃣2️⃣; 2️⃣1️⃣ - 1️⃣1️⃣… https://t.co/HJTxW968sF',\n",
       " 'yaayyy! Congratulations #MirabaiChanu\\n #Tokyo2020 https://t.co/oVwA7KUWy6',\n",
       " 'Someone tell me we’re wearing the away for the US game #GreenShorts #SWEvAUS #AUS #Tokyo2020',\n",
       " \"India strikes first medal at Olympic #Tokyo2020 ! Mirabai Chanu wins silver Medal in 49 kg Women's Weightlifting an… https://t.co/2CSdG1X1cM\",\n",
       " 'Enjoy the Olympic Games! 🥇🥈🥉😀 https://t.co/YcSJFauq9k #Tokyo2020 https://t.co/XYv4E89xFn',\n",
       " 'Where in Uganda do these rowing guys train from? #Tokyo2020',\n",
       " 'should’ve received a yellow card for that. #football #Tokyo2020 #TokyoTogether',\n",
       " \"UPDATE\\n\\nIt's the Barbra Banda show for the Zambian ladies yet again\\nA 2nd Hattrick 👏🏾👏🏾👏🏾\\n#CHIZAM #Tokyo2020 https://t.co/5KoCLvZwlO\",\n",
       " 'Congratulations to @mirabai_chanu on securing a 🥈 for @WeAreTeamIndia at the #Olympics \\n\\nWhat a superb performance!… https://t.co/csJ71s2iL7',\n",
       " 'Sutirtha Mukherjee won against Swedish player by 4-3. #TableTennis\\n#Tokyo2020 #OlympicGames',\n",
       " \"Weightlifter Mirabai Chanu bags Silver medal in Women's 49kg, India's first medal in #Tokyo2020. A proud moment for all Indians.🎊🎉🥂💪\",\n",
       " 'Well bodied by Foord to keep her feet and wrap her foot around that and find Kerr in the box. A few moments of grit… https://t.co/zpAJM19RaK',\n",
       " 'WHAT A GOAL!!!! #Tokyo2020 #couchgames #7olympics',\n",
       " '#MirabaiChanu  made us proud by winning silver medal in #Olympics #Tokyo2020',\n",
       " '#MirabaiChanu congratulations! India begin with silver medal. #Tokyo2020 https://t.co/rhRmZSjyE1',\n",
       " 'My fiancé just said something really sweet to me, distracting me from the game… and I missed the second goal and no… https://t.co/wL469qDfW1',\n",
       " 'Many congratulations to #MirabaiChanu for winning India’s first medal in the ongoing #Tokyo2020 #Olympics. https://t.co/rkyyLQvSFD',\n",
       " 'Congratulations #Chanu_Saikhom_Mirabai madam.\\nYou made us proud.\\nIndia is now  on 5th position  with a silver medal… https://t.co/5kKwrQ8LSD',\n",
       " \"Saikhom Mirabhai Chanu 🇮🇳\\n\\nSilver Medal Winner 🥈\\n\\nWeightlifting Women's 49 Kg 🏋🏻\\u200d♀️\\n\\nFirst Medal for India 🇮🇳 at To… https://t.co/npX3KdqKLk\",\n",
       " 'WHO OTHER THAN SAM KERR???? 🐐 #Tokyo2020 #SWEvAUS',\n",
       " \"Hey @stephenamell ...🙋🏿\\u200d♂️\\n\\nWhat do you say,you come on through and teach these lots,a lil' bit about how to make a… https://t.co/4bQrwa1QG8\",\n",
       " 'Miraitowa and Someity\\n#Tokyo2020 https://t.co/pewcCrLWBZ',\n",
       " \"Congratulation's Mirabai Chanu 🎉\\nTokyo Olympics 2020: Weightlifter Mirabai Chanu wins silver medal in women's 49kg… https://t.co/lbs6aG554m\",\n",
       " 'Parris, Ingle, Stokes and Williamson come in for #TeamGB  as they look to qualify from their group in the Women’s… https://t.co/Wn6RZiefr6',\n",
       " \"#Tokyo2020 Weightlifter Mirabai Chanu Wins Silver, India's 1st Medal At Tokyo 2020\\nHearty Congratulations....! 🙌💪✌👌… https://t.co/josRTvctuo\",\n",
       " 'Sam Kerr in the air is just standard procedure. Huge if the Matildas keep the lead and take all three points here! #SWEvAUS #Tokyo2020',\n",
       " 'Congratulations to the #MenInWhites @Tajinder_Singh3 , #MPJabir &amp; @muhammedanasyah  for qualifying #Olympics2021 Yo… https://t.co/A5ZPwxwkIE',\n",
       " \"🇮🇳  @SChaudhary2002 finishes 7th in the Men's 10 M Air Pistol final!\\n#HumHongeKamyab #Tokyo2020\",\n",
       " 'Build the statue #Tokyo2020 https://t.co/I780LCR19o',\n",
       " '🇷🇸 shooter Damir Mikec won 🥈 medal at the Olympics in the discipline air pistol 10 meters. \\nFirst medal for… https://t.co/edmQbutQef',\n",
       " 'Can’t keep my eyes open….\\nWatching #OlympicGames #volleyball \\n\\nPlayed on 🏐 teams in elementary school, Jr. High (hi… https://t.co/kBHoHTmUU1',\n",
       " \"I do love an Olympics! So far seen some stunning scenery during a very tough men's cycling road race (poor… https://t.co/hnCNf7seqk\",\n",
       " 'That ball in from Foord was sublime \\n👌🏼👌🏼👌🏼\\n\\n#SWEvAUS #AUS\\xa0#Football\\xa0\\n#Tokyo2020 #TokyoTogether\\xa0 #Olympics',\n",
       " 'I can’t wait to see Simone tomorrow. Her skill and talent is flawless 👌🏾👌🏾👌🏾👌🏾\\n\\n#SimoneBiles #Tokyo2020 #Simone',\n",
       " 'Brazilian referee is rubbish #7Olympics #Tokyo2020 #matildas',\n",
       " 'Zambia women game is a beauty. Banda is phenomenal #Tokyo2020',\n",
       " 'Some Video Games Music It plays In #Tokyo2020 Might like #DragonQuest, #FinalFantasy and kinds more.\\n\\n#OlympicGames #Tokyo2020',\n",
       " 'Sweden looks shocked after that Kerr goal. Or should I say, they look...\\n\\n#SWEvAUS #Tokyo2020 https://t.co/oCdQB3Yw76',\n",
       " \"The arena where the #boxing is taking place at #Tokyo2020 is where Rendall Munroe boxed Toshiaki Nishioka in 2010. It's the big sumo arena.\",\n",
       " '🇯🇵🆚🇬🇧 | 12:30 CET | #Tokyo2020 \\n\\nTeam news for @TeamGB 👇 https://t.co/KwD3XIvJV8',\n",
       " 'CONGRATULATIONS! \\n\\nIndia\\'s Mirabai_chanu wins \"SILVER\"  medal- our first medal in #Tokyo2020 https://t.co/kEt8d4ewtq',\n",
       " 'Many congratulations to #MirabaiChanu for winning India’s first medal in the ongoing #Tokyo2020\\xa0 #Olympics\\xa0.… https://t.co/i9qS1sTtLO',\n",
       " 'Off a flying start ! Huge Congratulations to @mirabai_chanu  on winning the silver for weightlifting at the… https://t.co/01Iic9xsty',\n",
       " 'Yes!!! Perfect combo between Foord and Kerr! @TheMatildas up 2-1 against Sweden! #Tokyo2020 #TokyoTogether #Olympics',\n",
       " 'Also, is there such a thing as being TOO good? You watch Van Aert in that road race and can’t help but think so. #Tokyo2020',\n",
       " 'Eargely waiting to watch 🔥🔥🔥🔥🔥🇮🇳✌️✌️✌️ #Olympics #OlympicGames #Olympics2021 #Tokyo2020 #TokyoOlympics2021… https://t.co/nH5L1CdhGt',\n",
       " 'Congrats 👏... Take a bow 🙌😊🙏🔥 .. .. u really have made the country so proud ...❤️❤️ #TokyoOlympics2021 #Tokyo2020… https://t.co/BdkRJW5TdL',\n",
       " '#TheMatildas\\n\\nSuperstar #kerr #AUS  what a goal\\n\\n#SWEvsAUS #Tokyo2020',\n",
       " 'Congratulations Mirabai. Great achievement.. we are so proud of you 👏 🇮🇳 #Tokyo2020 #TeamIndia #MirabaiChanu https://t.co/Qg66RomAih',\n",
       " 'Class, Caitlin. The step-up from Foord and Raso early in this tournament to take some pressure off Kerr has been cr… https://t.co/99mfJ5egH8',\n",
       " 'Send this referee home ASAP! Absolutely awful #SWEvAUS #Tokyo2020',\n",
       " 'Thailand fighting ✌🏻✌🏻✌🏻#Tokyo2020',\n",
       " 'Japan won in straight sets!! #Tokyo2020',\n",
       " 'This ref is bent AF. Getting no calls #SWEvAUS #Tokyo2020 #football https://t.co/5SvdCB7u9b',\n",
       " 'First day ✅\\nWell done Team #Badminton #INA \\n#Olympics #Tokyo2020',\n",
       " '#Repost @my_rajasthan \\n\\nBeautiful sand art by @sandartistajay from Pushkar, wishing the Indian contingent the very… https://t.co/xElc8Apl7L',\n",
       " \"It's Sam Kerr at the double for the Matildas! Follow all tonight's #Tokyo2020 action with @DanielCherny:  https://t.co/CR49xqpLZW\",\n",
       " 'YOOOO JAPAN JUST WON WITH 3 STRAIGHT SETS. LES GOOOO\\n\\n#Haikyuu #Tokyo2020 #Olympics #OlympicGames #oikawa #japan… https://t.co/E0H4pjnvEk',\n",
       " 'Wonder where you favourites finished or did not? Only 85 riders crossed the line. 👇 #couchpeloton #couchgames… https://t.co/zT8G7byt7B',\n",
       " \"#TeamIndia 's First Medal in Tokyo Olympics🥈🇮🇳♥️\\n.\\n.\\n.\\n#Tokyo2020 | #Olympics\\n#MirabaiChanu | #Cheer4India https://t.co/zaOvyWDN9M\",\n",
       " '#samkerr ‘s head is golden. #Tokyo2020',\n",
       " '@PuneethRajkumar @mirabai_chanu Boss\\n\\n#Dvitva #James @PuneethRajkumar\\n\\n#TokyoOlympics\\n#Cheer4India\\n#Tokyo2020\\n#TeamIndia zzz',\n",
       " 'France might be a marginal favourite, buts it’s the Olympics and it’s USA. Coin toss I reckon. Should be a cracking… https://t.co/DeHeyfS1i5',\n",
       " 'GGGGGGGOOOOOOOAAAAAAAALLLLLLLLL\\nSam kerrrrrrr 2 header, 3rd goal of the tournament\\nLets fvcking gooooooooooo\\n#Tokyo2020',\n",
       " 'Tokyo Olympics: Manika Batra makes a comeback with straight-set win\\n\\n#TokyoOlympics #Olympics #Olympics2020… https://t.co/PyC5qWI2Wq',\n",
       " 'Great beginning @mirabai_chanu \\nCongratulations India\\n#MirabaiChanu #IndiaAtTokyo2020 #Tokyo2020 #TokyoOlympics https://t.co/IzBa4xj39R',\n",
       " 'Decline of Sports in Pakistan, A thread.\\n\\nHockey\\n3 time Olympics Gold Medalist and 4 Times World Cup winners now ra… https://t.co/3bl22mQ5gn',\n",
       " \"Couldn't be much happier, what a great start we are having! \\n\\nSuper proud ❤️\\u200d🔥\\n#Cheer4India #Tokyo2020 #Olympics https://t.co/4QfSDPVeVg\",\n",
       " 'Nice to actually see the goal, too #SWEAUS #Tokyo2020 #Football https://t.co/dxefSabXnz',\n",
       " \"Proud mom of #MirabaiChanu “We're happy that she got the first medal for India. We expected her to win a gold medal… https://t.co/bOKnqai94o\",\n",
       " 'How good is @samkerr1. #7Olympics #OlympicGames #Tokyo2020 #TokyoOlympics @TheMatildas',\n",
       " '🥇 ⛳2020 Tokyo Olympics Facts | Everything You Need To Know | Puja Mahendras | 6:00 PM 🥅🏋️\\u200d♀️… https://t.co/oMzsxLXnqT',\n",
       " 'Barbra Banda , Hat-trick ⚽️⚽️⚽️\\n🔥🔥🔥🔥🔥🙌🙌🙌🙌🙌🙌\\n#Tokyo2020',\n",
       " 'Love, love, love that Dr. @FLOTUS was there to support @usab3x3 in their first #Tokyo2020 #3x3 🏀game! (Yes,… https://t.co/535aOLa4X5',\n",
       " 'What a wonderful start to #Tokyo2020!\\n\\nMany congratulations to @mirabai_chanu for winning the Silver medal in weigh… https://t.co/gvG8ZGP0IU',\n",
       " 'Can we change the broadcaster !! #Tokyo2020',\n",
       " 'What’s with this ref? #Tokyo2020',\n",
       " 'Lmao this ref. Missed penalty and now a missed yellow. #Tokyo2020',\n",
       " 'Sam Kerr beats Magda Eriksson in the air to give Aus the lead, love to see it #Tokyo2020 #womensfootball',\n",
       " 'What a cross! #SWEvAUS #Tokyo2020',\n",
       " '#equestrian Dressage Gal is to perform! #Tokyo2020',\n",
       " 'Brilliant by @CaitlinFoord to @samkerr1 @TheMatildas 2-1 up.\\n#GoAussies #TokyoTogether #Tokyo2020 #SWEvAUS #football',\n",
       " \"It's a win for Japan🇯🇵! They swept Venezuela🇻🇪, 25-21, 25-20, 25-15. #Tokyo2020 #volleyball #RyujinNippon https://t.co/45Bbqjrgtz\",\n",
       " 'Gutted for Peter McGrail. \\n\\n#Tokyo2020',\n",
       " 'That gold medal feeling. 🥇🤩\\n\\n@RichardCarapazM comes out on top in a tightly contested Men’s Road Race, becoming Ecu… https://t.co/5Yz9oxvOHa',\n",
       " '@PuneethRajkumar @mirabai_chanu Boss\\n\\n#Dvitva #James @PuneethRajkumar\\n\\n#TokyoOlympics\\n#Cheer4India\\n#Tokyo2020\\n#TeamIndia z',\n",
       " 'YESSSSSSSSSSSSSS\\n\\nCaitlin Foord what a ball. \\n\\nSam Kerr golden boot is a lock.\\n\\n#SWEvAUS #Tokyo2020',\n",
       " 'I’m confused!  Where can I watch the #Tokyo2020 Swimming Heats live?  Eurosports or do I need to sign up to Discovery? #help',\n",
       " 'Onward @McClenaghanRhys! #Tokyo2020 https://t.co/mrSQ5fe0Aq',\n",
       " 'Yes Sammy!! @TheMatildas #Tokyo2020',\n",
       " 'Is anybody able to watch the coverage of #Tokyo2020 in UK? @BBCSport and @BBCiPlayer seem to cover  competitions in… https://t.co/zH7V0yO0tt',\n",
       " 'Foord with a DELICIOUS chipped cross to the back stick and Kerr heads home from close range to put the Matildas a g… https://t.co/K112vL2BBg',\n",
       " 'Proud proud proud... Thanks for geting India a silver @mirabai_chanu \\n#Tokyo2020 #TokyoOlympics #Tokyo2021… https://t.co/3Wwd5FapFL',\n",
       " \"And Here it is India's 1st Silver Medal for @mirabai_chanu.. Woahhhh.!! Proud of You. Grateful... Events.… https://t.co/7kpbDO6tFD\",\n",
       " \"Sam Kerr!!!! That's the tweet #Tokyo2020 #Matildas @TheMatildas\",\n",
       " \"Mirabai Chanu won India's first Olympic medal, a silver in 49kg weightlifting with a total lift of 202 kg, at the T… https://t.co/yyv28g95vs\",\n",
       " 'Weightlifter @mirabai_chanu won the first medal for the country at the #Tokyo2020 Olympics by winning a silver meda… https://t.co/VGkvA4ko8T',\n",
       " \"Zambia's #BabraBanda gets her second #hatrick  #olympics  \\nIt's second half #China🇨🇳 3:4 #Zambia 🇿🇲 79 minutes.\\nFir… https://t.co/2wxp4MB4vc\",\n",
       " '2️⃣ goals from @janinebeckie ensure Canada is victorious in their match against Chile! 💪\\n\\n⚽ #Tokyo2020 \\n🔷 #ManCity… https://t.co/2abYrb8xPj',\n",
       " 'Congratulations @mirabai_chanu for the silver medal in weightlifting.\\n#Cheer4India #Tokyo2020\\n#MirabaiChanu https://t.co/ozdfkjau06',\n",
       " 'Tokyo Olympics 2020 Day 1 Recap: Mirabai Chanu Wins Silver, Here’s How Other Athletes Fared\\n\\n@mirabai_chanu… https://t.co/9QBMswblOE',\n",
       " \"We're gonna beat USA Womens soccer team 10-0\\n#SWEvAUS \\n#Tokyo2020 \\n#Matildas\",\n",
       " 'Best Wishes to the Pride of India, our athletes who are representing India at the #TokyoOlympics2020 \\nMay your Hard… https://t.co/ZsBKPwx78C',\n",
       " 'Congratulations to Saikhom Mirabai Chanu for winning silver medal in weight lifting. This is first medal for India… https://t.co/qf75BNtPl4',\n",
       " 'Every time I turn an Aussie sport on today, we score! First the hockey, now the soccer! BANG. #Matildas #Tokyo2020',\n",
       " '@PuneethRajkumar @mirabai_chanu Boss\\n\\n#Dvitva #James @PuneethRajkumar\\n\\n#TokyoOlympics\\n#Cheer4India\\n#Tokyo2020\\n#TeamIndia ccc',\n",
       " \"Cheer for @SChaudhary2002 who has qualified for the Finals of Men's 10m Air Pistol Shooting by finishing 1st in the… https://t.co/cKV7J3s8Hn\",\n",
       " 'Come on the boys! 🇬🇧 #Tokyo2020 #TeamGB https://t.co/L1rwMXKHNI',\n",
       " 'Alright! C’mon #TeamGB let’s put the SHOCK into #MenSHOCKey! #Tokyo2020 #BBCOlympics early lead four minutes in … w… https://t.co/j19kljZImh',\n",
       " '#ManikaBatra wins her game, without the presence of a coach. #Tokyo2020 #TableTennis \\n\\n#haddhaibc #haddhaibcmemes… https://t.co/LDu9lBU886',\n",
       " 'KERR AGAIN!!\\nLESSSS GO!!\\n\\n💛💚💛💚\\n\\n#Matildas #TokyoTogether #Tokyo2020',\n",
       " 'Let’s go Matildas!!!! @TheMatildas  #WeAreMatildas #Tokyo2020',\n",
       " \"SURF'S UP! Day 1 of surfing's #Olympics debut is expected to start tomorrow/July 25 at 7 a.m. JT. I'll be there! #Tokyo2020\",\n",
       " '\" Hitler being high on meth in the 1936 Olympics⚡\\n\\n#Tokyo2020 #TokyoOlympics #History #Hitler https://t.co/OHIuSmVBis',\n",
       " '#MirabaiChanu becomes 1st Indian weightlifter to win silver in Olympics\\n#Tokyo2020 https://t.co/Fcrf2vhVwq',\n",
       " 'Off to a flying start! Huge congratulations to #MirabaiChanu on winning the silver for weightlifting at the… https://t.co/InxZgAIPym',\n",
       " 'SAMMY KERR AGAIN!!\\nNATIONAL HERO 🇦🇺🇦🇺🇦🇺\\n\\n#SWEvAUS #AUS\\xa0#Football\\xa0\\n#Tokyo2020 #TokyoTogether\\xa0 #Olympics',\n",
       " '#MirabaiChanu\\nA daughter has won India its first silver medal of #Tokyo2020\\n#Olympics \\n@mirabai_chanu congratulatio… https://t.co/9o6dO7YIpR',\n",
       " 'Is VAR even watching the match though? #Tokyo2020 #SWEvAUS',\n",
       " '@PuneethRajkumar @mirabai_chanu Boss\\n\\n#Dvitva #James @PuneethRajkumar\\n\\n#TokyoOlympics\\n#Cheer4India\\n#Tokyo2020\\n#TeamIndia c',\n",
       " 'I hope Sam Kerr’s head is insured for more at least seven figures. #Tokyo2020',\n",
       " 'TURNAROUND COMPLETE 🔥 \\n\\nSam Kerr’s forehead = 🐐 \\n\\n#SWEvAUS #Tokyo2020 #TokyoTogether',\n",
       " 'What a goal .... #Tokyo2020 #OlympicFootball #SWEvAUS 1-2.',\n",
       " 'Excuse me Catley’s ball to Foord 🔥 #SWEAUS #Tokyo2020',\n",
       " 'Meg has discovered hockey! #TeamGB #Tokyo2020 https://t.co/EWlae1kYjp',\n",
       " 'Sam Kerr you 💫\\n#AUSvSWE \\n#Tokyo2020',\n",
       " 'JUST IN: #JPN swept #VEN in the pool play of the #Olympics #Volleyball in straight sets! #Tokyo2020 https://t.co/7x6G5nOwI6',\n",
       " 'GOAL!! 💚💛💚💛\\n\\nCOME ON YOU AUSSIES YEEOWW @TheMatildas \\n\\n#TeamAustralia #SWEvAUS \\n#Tokyo2020',\n",
       " 'Tight slap on them who treats North Eastern People as Outsiders \\n\\n#MirabaiChanuWinsMedal \\n#Tokyo2020… https://t.co/mpIQOzVuLp',\n",
       " 'Good luck @GBHockey men’s team for your first #Tokyo2020 match 🤞🏼 🇬🇧@TeamGB @Tokyo2020 #MensHockey #Hockey https://t.co/M4jvw4Gv2b',\n",
       " \"Up Next:\\n\\n#Boxing : India's Vikas Krishan will open India's boxing campaign. Match at 3.50 pm IST. \\n\\n#Hockey : Indi… https://t.co/Q2EOZTBkcb\",\n",
       " 'Saammmyyyy kerrr you bloody goat #Tokyo2020 #swevaus #7olympics',\n",
       " 'Referee gave a penalty in the China Vs Zambia Women Soccer match in the #Tokyo2020 # Olympics \\n\\nBut after consultat… https://t.co/b0iJ9EoRRy',\n",
       " \"Kurt Walker of Ireland following his Men's Featherweight round of 32 bout victory over Jose Quiles Brotons of Spain… https://t.co/X5OWcAoL0w\",\n",
       " \"Our first medalist is here! 🏅❤️Congratulations @mirabai_chanu !!👏🌟 You've made India so proud\\nJai Hind🇮🇳 Go INDIA… https://t.co/TMh9zAZ1iX\",\n",
       " 'India 🇮🇳 beats Sweden 🇸🇪 in table tennis 🏓 #TableTennis \\n\\n#Olympics2020 #India #TokyoOlympics2020 #IND #7Olympics #Tokyo2020 #OlympicGames',\n",
       " '\"I simply have to be willing to lose in order to win\"\\n\\n@lizziedeignan will face a familiar question in Sunday\\'s Oly… https://t.co/DUGtVAH9RU',\n",
       " 'Wooooo! 2nd goal for Sam Kerr 💚💛\\nLet’s go @TheMatildas #aus #Tokyo2020 #SWEvAUS #GoAustralia https://t.co/sLOCikXgE9',\n",
       " \"That's it! Japan Men's Volleyball Te flexed on their 2020 Olympic debut after dominating Venezuela in straight sets! #Olympics #Tokyo2020\",\n",
       " '@PuneethRajkumar @mirabai_chanu Boss\\n\\n#Dvitva #James @PuneethRajkumar\\n\\n#TokyoOlympics\\n#Cheer4India\\n#Tokyo2020\\n#TeamIndia vvvv',\n",
       " '#MirabaiChanu #Tokyo2020 #Olympics #Cheers4India #OlympicGames #TokyoOlympics2020 #Olympics2021 #Tokyo2021 \\nHeartie… https://t.co/bUdbUM2J1G',\n",
       " 'Lets go Sammy. Get that brace\\n#SWEvAUS #AUS #Tokyo2020',\n",
       " 'Sam Kerr will always be an absolute star!! #matildas #Tokyo2020',\n",
       " \"Flash scores around the grounds\\n\\nGOAL AUSTRALIA!\\n\\n#Tokyo2020 - Football, Women's (Group Stage)\\n47' at Saitama\\n🇸🇪 SWE 1\\n🇦🇺 AUS 2\",\n",
       " 'What an amazing performance\\nCreating records \\nWell done @mirabai_chanu  🎇🎇🥳🥈\\nFirst day first medal\\n#Cheers4India… https://t.co/enSJY4aWkd',\n",
       " 'IMO Chinese athletes shouldn’t have been allowed to compete in the #Olympics #Tokyo2020',\n",
       " 'How good is Sam Kerr! @TheMatildas take the lead 2-1.\\n#Tokyo2020 #Olympics',\n",
       " 'The news of #MirabaiChanu  winning silver in #Tokyo2020  \\ndid not yet reach this sh!tty, muderous anti-Indian outfi… https://t.co/fvN6BObGad',\n",
       " 'Sammy Kerr!!! Take a bow girl!! 👑👑 #Tokyo2020',\n",
       " 'RETWEET #Tokyo2020 #Olympics https://t.co/TxoBFSqP6C',\n",
       " '@PuneethRajkumar @mirabai_chanu Boss\\n\\n#Dvitva #James @PuneethRajkumar\\n\\n#TokyoOlympics\\n#Cheer4India\\n#Tokyo2020\\n#TeamIndia vvv',\n",
       " 'also, where are the swimming highlights on @BBCiPlayer ? that was on at like 2am GMT. I wanna watch that too 😭… https://t.co/SQ3b4KnnTX',\n",
       " '@mirabai_chanu 🇮🇳INDIA PROUD \\n#Tokyo2020',\n",
       " 'Well I was critical of Matildas defending. That is horrific from Sweden....great delivery and Kerr provides the fin… https://t.co/cuSU1KMcLR',\n",
       " \"Zambia's skipper doing the most in Tokyo. So proud. #Tokyo2020 #TokyoOlympics\",\n",
       " 'What a goal, simple stuff on the build up then picks the cross out perfectly! Suck on that says Sam Kerr! #GoAustralia #Tokyo2020',\n",
       " \"India’s 1st medal on day 1 !\\n\\n@mirabai_chanu wins SILVER in women's 49kg weightlifting! 🥈🏋️\\n\\nIndia 🇮🇳 is so proud o… https://t.co/N83znnQL3T\",\n",
       " \"We're less than 30 minutes away from the first swimming action of #Tokyo2020 🎉🏊\\n\\nThe first heats session will get u… https://t.co/dgWSJxqg1H\",\n",
       " 'Q1: 🇬🇧1-1🇿🇦\\n\\nGOAL! What a response! Matt Guise-Brown rips a penalty corner drag-flick inside the right post of the… https://t.co/W2cKMbKGbx',\n",
       " 'Sexiest flag in the world 🇪🇨. \\n #JuegosOlimpicos2021 \\n#Olympics \\n#Tokyo2020 \\n#ECU https://t.co/e4gJbckQAu',\n",
       " 'Switched from the Tigers woeful loss to the second half of the Matildas. Hope i don’t jinx them #matildas #OlympicGames #Tokyo2020',\n",
       " 'Heartiest Congratulations to @mirabai_chanu On winning silver medal in #Tokyo2020\\n\\n#MirabaiChanu🙏🙏\\n#Olympics… https://t.co/saDDori8e7',\n",
       " 'Congrats Nippon! #Japan #Tokyo2020',\n",
       " 'Amazing! Sam Kerr scores again and Australia goes 2-1 up! #SWEvAUS #Tokyo2020',\n",
       " 'Sam Kerr at the double to give Australia the lead over Sweden. \\n\\nThat’s my captain!!! 2-1 to the Matildas. \\n\\n#Tokyo2020 #AUSvSWE',\n",
       " 'Congratulations🇨🇳\\n#TeamChina \\n#TokyoOlympics\\n#Tokyo2020 https://t.co/MD3nipCkSj https://t.co/xL53aSkABX',\n",
       " 'SAM KERRRRRRRR!! Brilliant delivery from Ford. #SWEvAUS #Tokyo2020',\n",
       " '#Tokyo2020Olympics \\n#Tokyo2020 \\n#OlympicGames \\n#Olympics \\nTo all members of the IOC and Boss of Japan etc\\nLet the w… https://t.co/N3whNFJn0X',\n",
       " 'Oh Sam Kerr and Caitlin Foord you two are just BRILLIANT!!!!!!! #Tokyo2020',\n",
       " 'Loving the #Archery #Tokyo2020',\n",
       " 'Yesss Sam!!!! #Tokyo2020 #Olympics',\n",
       " 'This waking up early is actually totally worth it (not sarcasm) #Tokyo2020',\n",
       " \"3' - 🇬🇧 1-1 🇿🇦\\n\\nIt's all action at the start of this one as the South Africans fire in a corner of their own to lev… https://t.co/xYoRnFc8h9\",\n",
       " 'Sam Kerr you Beauty! #AUSvSWE #Tokyo2020',\n",
       " 'Sam Kerr 🤝 Tim Cahill\\nHeading geniuses, Aussie legends, love to see it #SWEvAUS #Tokyo2020 #TokyoTogether',\n",
       " 'Beautiful goal. Proper English football goal haha. Yiiew!! #AUS #Tokyo2020',\n",
       " 'A historic silver medal and a radiant smile were not the only eye-catching things about #MirabaiChanu on Saturday… https://t.co/4SdNEbgzzu',\n",
       " 'First medal on the first day!\\n\\nCongratulations to Saikhom Mirabai Chanu for winning Silver medal in 49kg weightlift… https://t.co/NoTZ7UWHUA',\n",
       " '@PuneethRajkumar @mirabai_chanu Boss\\n\\n#Dvitva #James @PuneethRajkumar\\n\\n#TokyoOlympics\\n#Cheer4India\\n#Tokyo2020\\n#TeamIndia v',\n",
       " \"Who Else Has Been Watching The #Tokyo2020 #OlympicGames From Their Lounges In #COVID19nsw ??\\nI'm Staying Nice and C… https://t.co/hI73an7P2w\",\n",
       " \"There's Sam's head again! #Tokyo2020\",\n",
       " \"(1/5) During the #Olympics #Tokyo2020 there are countries' hashflags. Beautiful!\\n#EOR #AFG #ALB #ALG #AND #ANG #ANT… https://t.co/kDrRbb64hR\",\n",
       " 'I dislike a lot of things, hockey is right up there! #Tokyo2020',\n",
       " 'Kerr again!!!!!! Geez we are looking promising this year! #Tokyo2020 #SWEvAUS',\n",
       " 'Get in! #Matildas #Tokyo2020 https://t.co/AYedhpMjeE',\n",
       " \"Tokyo Olympics: Paddler Sutirtha Mukherjee enters next round of women's singles event\\n\\nREAD:… https://t.co/j6jz9HYrQg\",\n",
       " \"I'm not a big hockey fan, but real hockey is way better than field hockey. #Tokyo2020\",\n",
       " 'JAPAN WOOOON!!!!!! that wing spiker nashida yuji.... my god what a beast #volleyball #Tokyo2020',\n",
       " 'Goat @samkerr1 🤘🏻👏🏻 #Tokyo2020',\n",
       " \"Boxing commentary during the women's football. What's going on @Eurosport_UK #SWEvAUS #Tokyo2020 https://t.co/cNlYp8BV1K\",\n",
       " 'GO MALAYSIA GO #Tokyo2020 #TeamMAS https://t.co/cavziONI76',\n",
       " 'If there were events in #Tokyo2020 like TV sets breaking, suicide bomb exploding, match fixing ,then Paxtan would h… https://t.co/i7GRtV2WvW',\n",
       " '.@Mirabai_chanu was a weightlifter since childhood. \\n\\nAt the age of 12, she carried huge bundles of firewood from t… https://t.co/LvoIhsUHpn',\n",
       " 'Again @TheMatildas. Score!!!!! #Tokyo2020',\n",
       " 'The Matildas have improved a lot more since the friendly games #Tokyo2020',\n",
       " 'The African Giants. 🇳🇬🇳🇬 \\n\\nTokyo, we’re here. 😏\\n\\n#Tokyo2020 https://t.co/NJBTawKywm',\n",
       " 'Sam Kerr you star #Tokyo2020 #AUSvSWE',\n",
       " 'Watched the Opening Ceremony for the Tokyo Olympics into the early hours last night. Good job!\\n\\nI love love love wa… https://t.co/Hv5RgAXd4F',\n",
       " 'Sam Kerr 🤝 A header.\\n#Tokyo2020 #OlympicGames',\n",
       " 'God bless all theses Nigerians that live abroad, coming to represent this country wey no send anybody father.… https://t.co/vvJbNDIfkp',\n",
       " 'Sammy Kerr!!!! 3 goals in leas than 2 games ⚽️⚽️⚽️\\n#Tokyo2020',\n",
       " 'Many congratulations to #MirabaiChanu for winning India’s first medal in the ongoing #Tokyo2020 #Olympics.\\n@mirabai_chanu',\n",
       " '#Tokyo2020 just started. Time to find out who are the biggest 🥇🥈🥉 contenders. Lets have a look at the mixed doubles… https://t.co/9cnrxTWRrL',\n",
       " 'Absolutely brilliant, Matildas making me believe all over again.\\n\\n#Matildas #SWEvAUS #Tokyo2020',\n",
       " \"Guise-Brown's moustache is hella smart #Tokyo2020\",\n",
       " 'Mamma Mia Sweden, here we go again #SWEvAUS #AUS #Tokyo2020',\n",
       " 'Announce BARBARA BANDA @LiverpoolWomens #Tokyo2020',\n",
       " 'NOTHING STOPPING SAMMY 🇦🇺🔥🔥🔥🔥🔥 #SWEvsAUS #Tokyo2020',\n",
       " '@PuneethRajkumar @mirabai_chanu Boss\\n\\n#Dvitva #James @PuneethRajkumar\\n\\n#TokyoOlympics\\n#Cheer4India\\n#Tokyo2020\\n#TeamIndia bbb',\n",
       " 'Guess who? #SamKerr #SWEvsAUS #Tokyo2020',\n",
       " '#TokyoOlympics2021\\n#Congrats to #MirabaiChanu and India 🇮🇳\\n#MirabaiChanuWinsMedal 🇮🇳🙏🏻\\n#Olympics #Tokyo2020 https://t.co/YI7vl5LIF5',\n",
       " 'This lady Barbara Benda is something else. Legit goals only. \\nGreetings from Uganda. \\n#TokyoOlympics #Tokyo2020 \\nGo… https://t.co/fS9R7gEKA5',\n",
       " 'Congratulations to Mirabai Chanu for winning the first medal for India in #Tokyo2020 Olympic.\\nYou have brought chee… https://t.co/qTKAzYrpgW',\n",
       " '@PuneethRajkumar @mirabai_chanu Boss\\n\\n#Dvitva #James @PuneethRajkumar\\n\\n#TokyoOlympics\\n#Cheer4India\\n#Tokyo2020\\n#TeamIndia b',\n",
       " 'Good luck local #Birmingham lad @Joefrasergb in gymnastics parallel bars final. #goforgold #Gymnastics #Olympics… https://t.co/tIzllvdysx',\n",
       " '\"Let\\'s take some souvenir photos in front of Olympic symbol.\"\\n#Tokyo2020 #TokyoOlympics #SONY #SEL2470Z #tokyo… https://t.co/rAKes8VV2O',\n",
       " 'Pravin jadhav lost in his mix doubles quarterfinal because of this international panaauti 😭😭😭😭\\n#Tokyo2020… https://t.co/pwafeBUcpJ',\n",
       " 'So gutting….. such a superb gymnast!! Final won’t be the same without him #Tokyo2020 #gymnastics #uchimura #Olympics https://t.co/cGf4yIULdC',\n",
       " 'Many congratulations to #MirabaiChanu for winning India’s first medal in the ongoing #Tokyo2020 #Olympics https://t.co/iKe2dM22b1',\n",
       " 'What a great start to Tokyo 2020  Congratulations to @mirabai_chanu for winning the Silver medal in weightlifting.… https://t.co/aM57LCZTff',\n",
       " 'Olympics-Shooting-Iran’s Foroughi Takes Pistol Title \\n\\n#JavadForoughi comfortably beat an elite field to win #Iran’… https://t.co/mHfKHom4Wg',\n",
       " 'FUJII LEE GOT THAT MATCH POINT!!! CONGRATS ON YOUR FIRST WIN IN #Tokyo2020  JAPAN!!!!!!!',\n",
       " 'Yesss. What a goal. Great pass #Tokyo2020 #matildas',\n",
       " 'By some rule of Takewando, He is going to play for Bronze medal in 45 minutes!\\nGet the Medal #SolomonTufa!\\n#Eth… https://t.co/1BaGsarnyf',\n",
       " '#Tennis\\n\\n🇷🇸 Novak Djokovic launched his pursuit of Olympic gold with a 6-2, 6-2 victory over Bolivia’s Hugo Dellien… https://t.co/WjOPhAKWO8',\n",
       " 'Now watching @TeamGB vs South Africa in the hockey.\\nGo on, fellas!!!\\n#TeamGB #Tokyo2020 #Olympics #BBCOlympics',\n",
       " 'Men’s indoor VB matches today beautifully covered live by Eurosport. We’re about to get our first look at Poland as… https://t.co/mOPwfjtUps',\n",
       " 'Bobrisky took to her Twitter handle to praise the singer but it seems the fans are having none of it 😂.\\ncc: Cruise… https://t.co/GtLiIbyTZT',\n",
       " '@PuneethRajkumar @mirabai_chanu Boss\\n\\n#Dvitva #James @PuneethRajkumar\\n\\n#TokyoOlympics\\n#Cheer4India\\n#Tokyo2020\\n#TeamIndia nnn',\n",
       " 'Congratulations to Mirabai Chanu for winning the first medal for India in #Tokyo2020Olympics  🥈.  Mirabai Chanu lif… https://t.co/GlIEKdp55m',\n",
       " \"South Korea's Kim Je Deok and An San have won South Korea's first gold medals of the #Tokyo2020 Olympics, in the Ar… https://t.co/pvqYf2cCje\",\n",
       " \"SHE'S A GENIUS...SAM KERR DOES IT AGAIN!!!!\\n#SWEvAUS #Tokyo2020\",\n",
       " 'With incredible number of sportspersons qualified for Olympics from Manipur, a small state in the North East of Ind… https://t.co/yv6x4g4h2R',\n",
       " 'A glorious start for #India on the very first day of the #Olympics. Big congratulations to @mirabai_chanu who has b… https://t.co/y7giz5lDZY',\n",
       " 'A Hearty Congratulations to Saikhom Mirabai Chanu on clinching the first Silver Medal in Weightlifting 49kg.\\n\\nExtre… https://t.co/YqyB1FqQb9',\n",
       " 'Matildas take the lead! #SWEvAUS #Tokyo2020',\n",
       " 'Saw that one!!!!! #SWEvAUS #Tokyo2020',\n",
       " 'Knew we had another goal in us!! #Tokyo2020 #SWEvAUS',\n",
       " '#Aari \\n#MeerabaiChanu \\n#TokyoOlympics2021 \\n#Tokyo2020 \\n#TokyoOlympics \\nProud of u 💕 💕 🔥 \\nCongratulations Meerabaich… https://t.co/Lfip0GwACa',\n",
       " 'Yessss super sammy Kerrrrr @ChelseaFCW #CFCW #Matildas #olypics #Tokyo2020',\n",
       " 'YEEESSS SPAINS NEW #Taekwondo\\xa0 TALENT ADRIANA CEREZO IS IN THE FINAL AND SHES ONLY 17!!!\\nIM SOOO PROUD 🇪🇸🇪🇸🇪🇸\\n#Tokyo2020',\n",
       " 'well played the daddies, ahsan/hendra!👏🏻🔥🇮🇩 #Tokyo2020',\n",
       " 'Easy as you like, that one. Great link up between Foord and Kerr. Bang. Matildas lead. #Tokyo2020',\n",
       " 'Twitter about to crash. 💥 \\n\\nSAMMMMYYYY | 2-1\\n\\n#Tokyo2020 #SWEvAUS #AUS',\n",
       " 'Sam bloody Kerr! What a goal. Takes so much to leave Hedvig Lindahl looking that hapless. \\n\\n#Olympics | #Tokyo2020',\n",
       " 'Get in Sam Kerr goal machine!! #SWEAUS #Tokyo2020 #Football',\n",
       " 'Have you ever hired a life, business, or career coach? Are you wondering what they can do for you? Start with this… https://t.co/0oGF1nmzkC',\n",
       " 'Come on one more for Kerr for the backflips!!!!!!!! #GoAustralia #Football #Tokyo2020',\n",
       " '@DjokerNole @OKSrbije Let’s go Novak,Let’s go 🇷🇸\\nIdemooo💪\\n#TeamSerbia #Tokyo2020',\n",
       " \"As if we didn't love her enough, she goes and gets a double 💥⚽️ our @samkerr1 goes bang!!!!! #Tokyo2020\",\n",
       " 'Tight slap on those who treats North-Eastern people as outsiders.\\n\\nCongratulations #MirabaiChanu, you really made t… https://t.co/oZSBIyzKMQ',\n",
       " 'They played Imagination! 🤣❤️ Congratulation Japan!! 🥳👍🏻 #Olympics #Tokyo2020 #volleyball https://t.co/cCRtXq5ERg',\n",
       " 'Next up, the Men’s 3x3 Basketball Competition continues with another Preliminary Round game, this time with Belgium… https://t.co/DDx6tOPH9v',\n",
       " 'A second hat-trick in two games for Barbra Banda as Zambia now leads China 4-3 having been 3-1 down after just 23 m… https://t.co/xmKJ7Hv3SY',\n",
       " '2/4 underway. Spain score on their first attack. 6-2. #TeamSA #Tokyo2020 #Tokyo2021 #Tokyo2021 #TokyoOlympics2021',\n",
       " \"India’s 1st medal on day 1 !\\n\\n@mirabai_chanu wins SILVER in women's 49kg weightlifting! 🥈🏋️\\n\\nIndia 🇮🇳 is so proud o… https://t.co/EV1KOqQAXi\",\n",
       " 'TAKE THAT YOU FLAT PACK JERKS #SWEvAUS #Tokyo2020',\n",
       " \"#TeamIndia  | #Tokyo2020 | #TableTennis \\nWomen's Singles Round 1 Results\\n\\nIndia paddler @manikabatra_TT cruised pas… https://t.co/D0JwBy9mur\",\n",
       " 'JAPAN WON IN A STRAIGHT SET!!! CONGRATULATIONS TEAM JAPAN 🇯🇵 #Olympics #Tokyo2020',\n",
       " 'BRACE SAM KERR!! COMEBACK!!\\n\\n#Tokyo2020',\n",
       " 'Sammy Kerr if you don’t mind!! Ripping these Swedes up lets goo 🇦🇺🇦🇺 #Tokyo2020',\n",
       " 'SAMMY AGAIN! #SWEvAUS #Tokyo2020',\n",
       " '@PuneethRajkumar @mirabai_chanu Boss\\n\\n#Dvitva #James @PuneethRajkumar\\n\\n#TokyoOlympics\\n#Cheer4India\\n#Tokyo2020\\n#TeamIndia n',\n",
       " \"Happier start for India @Tokyo2020\\nMirabai Chanu,won a silver medal in a weightlifting ,  women's 49kg category.\\nCo… https://t.co/WV8VipZtuy\",\n",
       " 'GOOOOOAAAAAAL! Sam Kerr with another header. GOAT  #matildas #Tokyo2020',\n",
       " 'LETS GOOO SAMMY KERR 💚💛 #Tokyo2020',\n",
       " 'JAPAN 🇯🇵 wins the match vs VENEZUELA 🇻🇪in 3 sets!\\n\\n#Olympics \\n#volleyball \\n#Tokyo2020 https://t.co/zED3MwiHx4',\n",
       " \"Goal: Sweden 1 - 2 Australia, Sam Kerr 48', Olympic Women's Tournament Tokyo 2020  #womensfootball #soccer… https://t.co/cG7sHbYddl\",\n",
       " 'Feeling for Nina 💔\\n#Tokyo2020 https://t.co/8GIBmYllRk',\n",
       " 'Who’s just arrived at the Olympic  Village? \\n\\nWelcome to #Tokyo2020 @gavinkgreen7 &amp; Gary. \\n\\nCredit: @ccboo97 @ Toky… https://t.co/rjdobIxfCj',\n",
       " 'Proud of @mirabai_chanu who secured the silver medal for Weightlifting!!\\n\\nCheers to this moment of triumph! 🇮🇳\\nAnd… https://t.co/1pCn58xMjw',\n",
       " 'Why aren’t the likes of @v_pendleton, @LauraKenny31 and @BeckAdlington dames? Multiple Olympic gold medal winners.… https://t.co/Ui2X1dNwZc',\n",
       " 'Go @TheMatildas!!! A thing of beauty indeed @BrentonSpeed! #Olympics #Tokyo2020',\n",
       " 'Sam Kerr scores goals @TheMatildas #Tokyo2020 #Olympics',\n",
       " 'Sam Kerr again with a spectacular goal! #OlympicGames #Tokyo2020',\n",
       " 'Many many congratulations #Tokyo2020 🇮🇳 #JaiHind https://t.co/NuZcOx3jN8',\n",
       " 'Pls straight set Malaysia 🔥🙏\\n\\n2nd round:\\n🇲🇾 9 - 8 🇰🇷\\n\\nArghh 😱\\n\\n#SokongMalaysia #GanbatteMalaysia #OlympicGames… https://t.co/TzA6u8A4F9',\n",
       " 'Great goal @TheMatildas @CaitlinFoord @samkerr1 #aussies #gomatildas #Tokyo2020 #football',\n",
       " \"Matilda's in again!! Sam Kerr is a gun! #Matildas #Tokyo2020\",\n",
       " 'Sam Kerr is absolutely extraordinary. A genius, a superstar, a wonder. Use whatever word you want #matildas #olympics #Tokyo2020',\n",
       " '@PuneethRajkumar @mirabai_chanu Boss\\n\\n#Dvitva #James @PuneethRajkumar\\n\\n#TokyoOlympics\\n#Cheer4India\\n#Tokyo2020\\n#TeamIndia mmm',\n",
       " 'Off to a flying start! Huge congratulations to #MirabaiChanu on winning the silver for weightlifting at the… https://t.co/oyNnovNLn3',\n",
       " 'Saw that one live! Yes! @samkerr1 #SWEvAUS #Tokyo2020 🤝⚽️',\n",
       " \"Carapaz wins men's road race for Ecuador's first cycling medal. https://t.co/lR1UuvcexA\\n#Tokyo2020\",\n",
       " '@Qamarcheema \\nGhazab.\\nBhartiya Naari Sab par Bhaari.\\n#MirabaiChanu , remember the name.\\nThank you for making us all… https://t.co/UR3o3wqFf6',\n",
       " 'Goalllllllll\\n#Tokyo2020',\n",
       " 'Lose My Mind yun song #Tokyo2020 #Olympics #Volleyball',\n",
       " '@mirabai_chanu @Media_SAI @IndiaSports @RailMinIndia @iosindiaoff @virenrasquinha @imrahultrehan Congratulations on… https://t.co/1OdC9IKwsH',\n",
       " 'Get in!!!! What a cross! #Olympics #Tokyo2020',\n",
       " \"India's 1st Medal At #Tokyo2020\\n#MirabaiChanu wins SILVER in Weightlifting Women's 49kg category. 🏋🏻\\u200d♀️🥇\\n\\nCongratul… https://t.co/EjC7e355cy\",\n",
       " 'Congratulations #IND #Tokyo2020 #Olympics https://t.co/eW5ri8Xb6r',\n",
       " 'Sonego is IN\\n#Tokyo2020 https://t.co/tGjLDqMz3s',\n",
       " \"Yayyyy!!! Congratulations #MirabaiChanu it's a #Silver\\n#India #Tokyo2020 https://t.co/8DIAbwhGt7\",\n",
       " 'Listen, Barbra Banda to the WSL. 6 goals (two hat-tricks) in 2 games!!! 🥶🥶🥶 #Tokyo2020',\n",
       " 'VERRRRRY QUICK- WE GETTTT THE LEADDDDDD!!! #Tokyo2020 #GoAustralia #SWEvAUS',\n",
       " '#Tokyo2020 finally gets underway today, and the Petter family has an even greater interest in it than most!\\n\\nBest o… https://t.co/H3iFdzLxWW',\n",
       " 'KERR AGAIN SO SOON AFTER THE BREAK! Oh my golly goodness! #Matildas #SWEvAUS #Tokyo2020',\n",
       " 'How was it not a penalty?! 🤯 #Tokyo2020 \\n\\nhttps://t.co/HwR0GerJ3b',\n",
       " \"Weightlifter Mirabai Chanu Wins Silver, India's 1st Medal At Tokyo 2020\\nYaaaay!!\\n#IndiaAtTokyo2020\\n@mirabai_chanu… https://t.co/6vGhlxupAP\",\n",
       " 'Great team goal!!!!!! @TheMatildas #SWEvAUS #Tokyo2020',\n",
       " 'What a ball by Foord. 2-1!!!!! @TheMatildas #Tokyo2020',\n",
       " '2020 Tokyo Olympic Games Women’s Football Goalscorers after Chile 1-2 Canada\\n\\n#Tokyo2020 #OlympicGames… https://t.co/ZNj0dmUvVf',\n",
       " '#Tokyo2020 \\nYiwen Sun #CHN 15-8 Aizanat Murtazaeva #ROC in the semifinals. \\nYiewen goes to the gold medal match.… https://t.co/G6KhaUX7JM',\n",
       " 'ah boxing\\n#Tokyo2020',\n",
       " '¡Grande #Carapaz!\\n#Tokyo2020 https://t.co/hqqln3js12',\n",
       " '@PuneethRajkumar @mirabai_chanu Boss\\n\\n#Dvitva #James @PuneethRajkumar\\n\\n#TokyoOlympics\\n#Cheer4India\\n#Tokyo2020\\n#TeamIndia m',\n",
       " '#MirabaiChanu wins Silver medal in weight lifting at #Tokyo2020.🇮🇳',\n",
       " '@goal keeping silent on Barbra Banda breaking goal records at #Tokyo2020 they’d have tweeted had we been losing...😒😏',\n",
       " '#Tokyo2020 \\nMatch Results 🇨🇱-🇨🇦\\n#東京2020 \\n\\n#Olympics #Football #オリンピック #サッカー https://t.co/wOsshPVpqe',\n",
       " 'What a great start!\\n🇮🇳🇮🇳\\n\\nIND beats NZ by 3-2\\n\\nHeartiest congratulationsto team india for its glorious victoryin it… https://t.co/u3GTgRFWQP',\n",
       " 'Congratulations #MirabaiChanu...❤\\nYou have made us all proud. 🇮🇳 🙌🏻\\n#Tokyo2020 https://t.co/UpNcZPNuB1',\n",
       " '#Tennis @TennysSandgren breaks back and 4-4 with Carreno Busta in #Tokyo2020 \\nAll Tennis Live on @olympicchannel (a… https://t.co/L7B9pxxllu',\n",
       " '@PuneethRajkumar @mirabai_chanu Boss\\n\\n#Dvitva #James @PuneethRajkumar\\n\\n#TokyoOlympics\\n#Cheer4India\\n#Tokyo2020\\n#TeamIndia qqq',\n",
       " 'Water polo is mad #Tokyo2020',\n",
       " \"#Tokyo2020 \\n\\nBiggest joke of century \\n\\n2020 still trending in 2021 \\n\\n&amp; joke of Billion yrs \\n\\nJapan doesn't care abo… https://t.co/WpSKPzXZdQ\",\n",
       " 'Hearty Congratulations to \\nIndian Railways🏋️\\u200d♀️player @mirabai_chanu, for winning the first medal for India🇮🇳, Silv… https://t.co/MDwwuWSnmB',\n",
       " 'Fucking BANG! #Matildas #Tokyo2020',\n",
       " 'Another Olympic summer kimono coordination (great sports obi) #Tokyo2020 #TokyoOlympics https://t.co/xNrgPszPEx',\n",
       " 'Kerr only scores headers lol\\n\\n#Tokyo2020',\n",
       " 'Richaaaard!!! #Tokyo2020 https://t.co/nYrvU2hJUl',\n",
       " 'wow another great goal sam kerr #Tokyo2020',\n",
       " 'SAMMMMMY. 2-1. MATILDAS LEAD #SWEvAUS #Tokyo2020',\n",
       " '@StripBear I seen that we got a fabulous striker a well Bunny Shaw💯 btw Barbara Banda is only 21 she going to be go… https://t.co/MsSVQVBONz',\n",
       " '@OKEx Answer is 😘 \\n\\n#ATHLETICS\\n#ARCHERY\\n#BASEBALL or #SOFTBALL\\n#TABLETENNIS\\n#SWIMMING\\n\\n#OKExWeekendQuiz #Olympics\\n#Tokyo2020',\n",
       " \"I really really wish I was good at #Archery. I think that's the Olympic sport I would be best at. #Tokyo2020\",\n",
       " 'India 🇮🇳 👏🙌\\n\\nWeight lifting 🏋️💪\\n#MirabaiChanuWinsMedal \\n#Tokyo2020 https://t.co/3uv5jW8s93',\n",
       " '@PuneethRajkumar @mirabai_chanu Boss\\n\\n#Dvitva #James @PuneethRajkumar\\n\\n#TokyoOlympics\\n#Cheer4India\\n#Tokyo2020\\n#TeamIndia q',\n",
       " 'Take a bow #ManikaBatra won 4 sets in a row #Tokyo2020 #Cheer4India #Olympics https://t.co/TBaPOjiLSk',\n",
       " 'Many congratulations to \\n@mirabai_chanu for winning the Silver medal in weightlifting. \\n\\n#Cheer4India #MirabaiChanu… https://t.co/Ndqhycih4t',\n",
       " \"What a triumphant beginning for India. Mirabai Chanu's silver medal 🥈is India's first at the Tokyo Olympics. She be… https://t.co/wNFE3f3RuS\",\n",
       " \"Sutirtha Mukherjee stages an amazing comeback in her opening-round match to beat Sweden's Linda Bergström 👏\\n\\nShe wo… https://t.co/9WRoCOqgkI\",\n",
       " 'Waiting for Bhakts to give credits of Olympics medal wins of India to Modi Ji. ⏳\\n\\n#Tokyo2020 #TokyoOlympics2021 #TeamIndia #TokyoOlympics',\n",
       " 'Check it out! \\nDo You Want professional logo or website logo with with source file?\\n\\nContact Here :… https://t.co/9RpNMac7zW',\n",
       " '#Tokyo2020 #Weightlifting \\n\\nMirabai Chanu hopes this is just the beginning and so does the rest of India. \\n\\nUpdates… https://t.co/27DDtZMaST',\n",
       " 'GOAL!!! 2-1!! That cross was BEAUTIFUL!!! #Tokyo2020',\n",
       " '@OptaJabu Stealing #Tokyo2020 show ♥👌',\n",
       " '@PuneethRajkumar @mirabai_chanu Boss\\n\\n#Dvitva #James @PuneethRajkumar\\n\\n#TokyoOlympics\\n#Cheer4India\\n#Tokyo2020\\n#TeamIndia www',\n",
       " 'Congratulations #MirabaiChanu for winning silver in #Tokyo2020 . #IndianOlympicMedallist2020',\n",
       " 'Archery now.... #Tokyo2020 https://t.co/C8T9REGuOA',\n",
       " 'Dutch rower Finn Florijn becomes first athlete to test positive for Covid-19 AFTER competing at the Tokyo Olympics… https://t.co/TOTZQGeeXT',\n",
       " 'Japan MVT wins their first match in #Tokyo2020 after sweeping Venezuela! Congratulations, Japan! #volleyball #Olympics',\n",
       " 'Second half underway #Swe and #Aus tied at 1-1. #Football #Olympics #Tokyo2020',\n",
       " \"congratulations to @mirabai_chanu\\n for winning silver medal in women's 49kg weightlifting. It's a big proud moment… https://t.co/jD26k7NcHZ\",\n",
       " 'Another match with hat tricks for each team, and Zambia in the lead!! Have yourself an Olympics, Barbra Banda!!!… https://t.co/AC0jn0CTpb',\n",
       " 'Really. #NoCommment #Olympics  #Tokyo2020 #TokyoOlympics #Trademark #MISIA #NBC #BroadcastingRights #MediaRights… https://t.co/IWzgt2w8J8',\n",
       " '@fakharzai7\\n Ghazab.\\nBhartiya Naari Sab par Bhaari.\\n#MirabaiChanu , remember the name.\\nThank you for making us all… https://t.co/JuiXxORZrM',\n",
       " '2 HATTRICK in 2 games for Barbra Banda 🔥🔥\\n\\nEuropeans teams should be all over her after this tournament \\n\\n#Tokyo2020',\n",
       " \"Mirabai won India's first-ever silver medal in weightlifting in Olympics. #Tokyo2020\",\n",
       " \"India strikes first medal at Olympic #Tokyo2020\\xa0\\xa0 \\nMirabai Chanu wins silver Medal in 49 kg Women's Weightlifting i… https://t.co/f21MV9lyUc\",\n",
       " \"It's finally here game day #Tokyo2020 good luck @IreWomenHockey 🍀1.15pm smash it @shirleymccay @Ayeeishaa #proud… https://t.co/44IaSY3GAl\",\n",
       " 'Captain Barbra Banda has scored another hat-trick - as Zambia lead China 4-3 https://t.co/BV1UIZWAjQ #Tokyo2020 #Olympics 🇿🇲',\n",
       " '@PuneethRajkumar @mirabai_chanu Boss\\n\\n#Dvitva #James @PuneethRajkumar\\n\\n#TokyoOlympics\\n#Cheer4India\\n#Tokyo2020\\n#TeamIndia ww',\n",
       " 'Morning hockey fix GBRvRSA\\nYes Sammy.......Goalllllllll!!!!!\\n@gbhockey @samuel_ward13 \\n#tokyo2020 #hockey https://t.co/y3vkpC7he8',\n",
       " 'Yayyy!!! Congrats #JPN #Tokyo2020 #Olympics #Volleyball',\n",
       " \"Latvia giving us metallics, giving us fanny pack, giving us Eurovision meets space tourists. Let's go! 👏👏👏… https://t.co/v2EqrqymSA\",\n",
       " \"THIS JUST IN: Men's Tennis schedule just been released!\\n\\nCanadian 🇨🇦Felix Auger-Aliassime play 🇬🇧Andy Murray at 10p… https://t.co/WRGEdIBm55\",\n",
       " 'We got our first one! What a feeling it must be! #MirabaiChanu\\nMany more to come #TeamIndia… https://t.co/jSSh6rHwS1',\n",
       " 'Good luck to @DavidAmes5 and all the @GBHockey guys and gals @Tokyo2020 🏑🇬🇧 T-shirt at the ready! #Tokyo2020 https://t.co/yAtHxBdg7l',\n",
       " '@PuneethRajkumar @mirabai_chanu Boss\\n\\n#Dvitva #James @PuneethRajkumar\\n\\n#TokyoOlympics\\n#Cheer4India\\n#Tokyo2020\\n#TeamIndia w',\n",
       " 'What a fantastic start to #TeamIndia’s @Tokyo2020 run on Day 1! @mirabai_chanu you certainly set the tone for the O… https://t.co/xYB9NzH1qB',\n",
       " 'A little male gymnast eye candy is a great way to start your Saturday 😍 #OlympicGames #Tokyo2020 #TeamGB',\n",
       " 'Casa #Doge, still available on @withFND #nft #foundationapp #nftcommunity #nftasia #Tokyo2020… https://t.co/oPAGcuAW7T',\n",
       " 'Tokyo Olympics: Mirabai Chanu wins silver medal in weightlifting\\nCheck\\nhttps://t.co/lke9tbxc8s\\n\\n#Weightlifting… https://t.co/ZaFzevTElc',\n",
       " 'What a comeback by Sutirtha Mukherjee Congratulations India 🇮🇳\\n#SutirthaMukherjee #Tokyo2020 https://t.co/jErKW7bnMK',\n",
       " '#MirabaiChanu 😍😍😍\\nThanks  😊 for first medal 🏅 of this season of #Tokyo2020\\n#Olympics \\n#TeamIndia',\n",
       " '@PuneethRajkumar @mirabai_chanu Boss\\n\\n#Dvitva #James @PuneethRajkumar\\n\\n#TokyoOlympics\\n#Cheer4India\\n#Tokyo2020\\n#TeamIndia eee',\n",
       " 'Big match at the #Olympics! \\n\\n‣ @Stefaniie92 is in the starting XI 🙂\\n‣ @LizeKop &amp; Pelova are on the bench \\n\\n#Tokyo2020 #NEDBRA',\n",
       " '@meltcandles @robhatchtv We had it on in the caravan. But then we’re biased too 👍🏻 #Tokyo2020 https://t.co/LvAu8E5bKI',\n",
       " 'If you’re interested in how Australia is faring at the #Tokyo2020 #Olympics it really is worth giving @LMcKirdy7 a… https://t.co/isDIUibzqI',\n",
       " \"#MirabaiChanu\\n#Tokyo2020 \\n#Weightlifting \\nC'Mon india.\\nWhat a brilliant start.\\nProud of you girl . https://t.co/EDguYyQCQ2\",\n",
       " 'Congrats #MirabaiChanu for winning in Silver 👏👏\\n\\nIndia 1st medal very 1st Day at #Tokyo2020 \\n#Ind ❤ https://t.co/0eXKuGM9RW',\n",
       " '@mirabai_chanu @Media_SAI @IndiaSports @RailMinIndia @iosindiaoff @virenrasquinha @imrahultrehan Congratulations… https://t.co/3ISZL3rLHU',\n",
       " 'Congrats again indonesia!! #Badminton #Tokyo2020',\n",
       " 'Many congratulations to #MirabaiChanu for winning India’s first medal in the ongoing #Tokyo2020 #Olympics. https://t.co/5JsQA0gNaK',\n",
       " 'men’s double match is just very fast like you blinked and the game is over #Badminton #Tokyo2020',\n",
       " 'HT Sweden women 1-1 Australia women, Samantha Kerr the Chelsea women striker level things up for the Aussies after… https://t.co/MaggHLxlAM',\n",
       " 'Watching #Tokyo2020 pretending it’s 2020.',\n",
       " \"Mirabai Chanu wins SILVER in women's 49kg weightlifting! 🥈🏋️\\n\\nIndia have won their FIRST medal at #Tokyo2020 🇮🇳 https://t.co/1HOX9QlhSc\",\n",
       " 'Better commentary on @7plus and no interruptions. #SWEvAUS #Tokyo2020 #Olympics',\n",
       " '@PuneethRajkumar @mirabai_chanu Boss\\n\\n#Dvitva #James @PuneethRajkumar\\n\\n#TokyoOlympics\\n#Cheer4India\\n#Tokyo2020\\n#TeamIndia e',\n",
       " \"Now that's a podium #TokyoOlympics #Tokyo2020 #TokyoOlympics2021 https://t.co/KvOhFlarqb\",\n",
       " 'All I really want to know about the #Olympics #Tokyo2020 is when is Simone Biles doing stuff?',\n",
       " 'Congratulations @mirabai_chanu on winning silver medal at #TokyoOlympics2021.\\n\\n#TeamIndia #Tokyo2020 https://t.co/nTQWrHMmga',\n",
       " \"Chinese Taipei's Yang Yung-Wei reaches the #Tokyo2020 #Judo 60kg final with an ippon in golden score over France's… https://t.co/LfCdeCvkHb\",\n",
       " 'What a moment!! #Cheer4India #Tokyo2020 #Olympics https://t.co/k2QF4MKiCY',\n",
       " 'In the first session of #Tokyo2020 there are a number of Brits to keep an eye out for 🇬🇧 \\n\\nM 400 IM - @maxlitch1995… https://t.co/I4qnbWKSYf',\n",
       " \"Your #TeamGB women's football line-up versus the hosts Japan. \\n\\nFour changes to the side that defeated Chile in the… https://t.co/qRUrVXJfSM\",\n",
       " 'Manika Batra becomes the first woman to win a #TableTennis match after 29 years.\\n\\nSumit Nagal becomes the first sin… https://t.co/JMwGPHGCD0',\n",
       " '@PuneethRajkumar @mirabai_chanu Boss\\n\\n#Dvitva #James @PuneethRajkumar\\n\\n#TokyoOlympics\\n#Cheer4India\\n#Tokyo2020\\n#TeamIndia rrr',\n",
       " 'Off to a flying start! Huge congratulations to @mirabai_chanu on winning the silver for weightlifting at the… https://t.co/nW1YOFajeA',\n",
       " 'The Dead Space revival is finally a reality.\\n.\\n#playhalt #deadspace #deadspace2 #deadspace3 #deadspace4… https://t.co/g7HKRxTD8z',\n",
       " '𝗠𝗜𝗥𝗔𝗕𝗔𝗜 𝗖𝗛𝗔𝗡𝗨!🥈👏🏻 🏋🏻\\u200d♀️ \\n\\nYou have made 🇮🇳 very proud. \\n\\n#Cheer4India #Tokyo2020 #Olympics',\n",
       " \"Tokyo Olympics 2020: Mirabai Chanu Weightlifter won silver medal in women's 49kg category\\nhttps://t.co/ZDWp6eJ7Ju… https://t.co/vGKX6KMDLe\",\n",
       " \"#TokyoOlympics: Ecuador's Richard Carapaz won Olympic gold in the men's cycling road race. After a tough 234-kilome… https://t.co/tIc4BwyJq7\",\n",
       " 'It’s all about game management now for the Copper Queens \\n\\n#CHNvZAM #Tokyo2020',\n",
       " '2. set Struff/Zelev - Hurkacz/Kubot 6:5 1⃣:0⃣\\n#tennis\\n#Tokio2020 #Tokyo2020 #IgrzyskaOlimpijskie',\n",
       " 'Salve, oh Richard\\n¡Mil veces! \\nOh @RichardCarapazM 🚴🏽\\u200d♂️\\n#Tokyo2020 \\n#EcuadorEnTokyo 🇪🇨 https://t.co/vBi5eyWshN',\n",
       " 'Second half has started. Come on you...\\n\\n#SWEvAUS #Tokyo2020 https://t.co/o5DY2YIkyC',\n",
       " \"Congratulations to Saikhom Mirabai Chanu for bringing India's first medal in #Tokyo2020 #olympics2020 silver in weight lifting.\",\n",
       " 'Just before the Europeans in April, Artur Dalaloyan tore his Achilles tendon. Yet, a little over 3 months later, he… https://t.co/8dgfBF06l6',\n",
       " 'Bow down to the Queen! #MirabaiChanu #Tokyo2020 #Weightlifting #Olympics https://t.co/ow57uYcA29',\n",
       " 'Out here creating history #Tokyo2020',\n",
       " 'Weightlifter Mirabai Chanu has secured first medal 🥈for the country at #Tokyo2020\\xa0  Olympics, winning the silver me… https://t.co/gZUSsLant5',\n",
       " '@PuneethRajkumar @mirabai_chanu Boss\\n\\n#Dvitva #James @PuneethRajkumar\\n\\n#TokyoOlympics\\n#Cheer4India\\n#Tokyo2020\\n#TeamIndia r',\n",
       " 'Massive congratulations @karriss_imogen on her win in Tokyo this morning 😊🙌🥊🇬🇧\\n#Olympics #Tokyo2020 #boxing',\n",
       " 'Chinese Taipe won gold at judo\\n😂😂😂😂\\nHe bullied this French guy\\n#Tokyo2020',\n",
       " '#Tokyo2020  #Cheer4India\\n\\nChirag Shetty-Satwiksairaj Rankireddy stuns World No. 3 Badminton racquet and shuttlecock… https://t.co/xbZ51IBdGY',\n",
       " 'Remember the name @mirabai_chanu \\nThank you for making all us proud mam 🙏🏼 and wishing us a silver at Olympics… https://t.co/P18hoI5Wm4',\n",
       " 'Second half underway in Saitama\\n\\nSWE 1-1 AUS #Tokyo2020 #Football #Olympics https://t.co/mJ9UIo3LZV',\n",
       " '@mirabai_chanu @Media_SAI @IndiaSports @RailMinIndia @iosindiaoff @virenrasquinha @imrahultrehan Congratulations Gi… https://t.co/PrRHfbuUAX',\n",
       " '@UsherKomugisha Babra Banda has single-handedly taught Chinese total football. Respect this talented Copper Queen 👸… https://t.co/AZcwraQxG5',\n",
       " 'What a proud moment for the country. Medal on the very first day. Yet again it proves that the sports &amp; economic de… https://t.co/kD2FMcXxbP',\n",
       " 'What a Revelation🔥🔥🔥\\n#Tokyo2020 #Olympics2021 #Zambia\\n#Banda https://t.co/Y4BqJtnDtt',\n",
       " '@PuneethRajkumar @mirabai_chanu Boss\\n\\n#Dvitva #James @PuneethRajkumar\\n\\n#TokyoOlympics\\n#Cheer4India\\n#Tokyo2020\\n#TeamIndia ttt',\n",
       " '🤽\\u200d♀️ #Waterpolo\\xa0 #Tokyo2020 #Olympics\\n\\nWomen Preliminary Round\\nGroup A\\n\\nEnd 1st Quarter \\n\\n#RSA 2-5 #ESP \\n\\n#TeamESP',\n",
       " 'In 7 days my fave athlete &amp; idol @dinaashersmith wins Olympic Gold in Tokyo &amp; I’m super rich!\\n👌💪⚡️🥇\\n#TeamGB… https://t.co/X37nFKNlY7',\n",
       " 'A tweet worthy of millions, today is the day @eringall123 and we are still behind you with @PrimeHPI @KZNDSRSA… https://t.co/SkgHEhaLrF',\n",
       " 'Brother man is feeling ashamed of his mouth😆 @DoctorEmto @instablog9ja #Tokyo2020 #TokyoOlympics https://t.co/MUg7HPkBLw',\n",
       " 'Getting hyped for Simone Biles tomorrow #Tokyo2020',\n",
       " 'Take a bow 🙇\\u200d♂️ #JaiHind 🇮🇳 #Tokyo2020 https://t.co/BGJZo3Zwcd',\n",
       " 'Ladies and gentlemen, this is OSAKA-NAOMI Super Express bound for Tokyo. (cv: Donna Burke) #東京五輪 #Tokyo2020… https://t.co/QINrz4IRpT',\n",
       " 'Congratulations @mirabai_chanu on winning silver medal in #Tokyo2020\\xa0for our country 🇮🇳🇮🇳 https://t.co/sI6oRsN9jT',\n",
       " 'Proud Moment to all Indians 🇮🇳❤️\\nFirst Olympic medal for India at  #Tokyo2020 \\n#MirabaiChanu\\n@mirabai_chanu https://t.co/08rnQCi4vb',\n",
       " '#Tokyo2020 men’s road race was superb.\\nTruly unbelievable athletes.\\n#CyclingRoad #Olympics',\n",
       " '𝗠𝗜𝗥𝗔𝗕𝗔𝗜 𝗖𝗛𝗔𝗡𝗨!🥈👏🏻 🏋🏻\\u200d♀️ @mirabai_chanu \\n\\nAbsolutely amazing display of weightlifting. \\n\\nThe way you have transforme… https://t.co/0gbyvUUcP8',\n",
       " 'Live action on @ddsportschannel \\n\\n#Olympics #Tokyo2020 https://t.co/N8dD3YtHaa',\n",
       " \"2' - 🇬🇧 1-0 🇿🇦\\n\\nThe PERFECT start 🔥\\n\\n@Samuel_Ward13 continues his stunning form by firing home a corner 💪\\n\\n📺… https://t.co/aQvbGQnGdp\",\n",
       " \"WOMEN’S OLYMPIC FOOTBALL TOURNAMENT TOKYO 2020\\n\\n77' China 3-4 Zambia \\n\\nOchumba Oseke paves way for Hellen Mubanga.\\n\\n#Tokyo2020\",\n",
       " '@PuneethRajkumar @mirabai_chanu Boss\\n\\n#Dvitva #James @PuneethRajkumar\\n\\n#TokyoOlympics\\n#Cheer4India\\n#Tokyo2020\\n#TeamIndia t',\n",
       " 'Horrible 1ere journee...#Tokyo2020',\n",
       " \"Live footy on a Saturday....!? Whatever next! 😀\\n\\nWe'll be settling down in an hour for @TeamGB second group match v… https://t.co/3VcYKbVR0Y\",\n",
       " 'Banda is a lone warrior #Tokyo2020',\n",
       " 'Have I messed the opening day of boxing?\\n#Tokyo2020',\n",
       " 'Happiness is reflecting on #MirabaiChanu ‘s face. She kisses the medal and says mein bhut khush hoon #Tokyo2020… https://t.co/yjn3AyXRvk',\n",
       " 'Congratulations India 🎉..\\nIndia get First Silver 🏅 in Tokyo Olympic 2020..\\nWe Salute You @mirabai_chanu  mam...… https://t.co/bsNVsz1FsN',\n",
       " 'Team news: 7️⃣ @ManCityWomen stars line up for Team GB in their #Tokyo2020\\xa0game against Japan:\\n\\n🇬🇧 Ellie Roebuck\\n🇬🇧… https://t.co/xo4iQb73Hl',\n",
       " '@PuneethRajkumar @mirabai_chanu Boss\\n\\n#Dvitva #James @PuneethRajkumar\\n\\n#TokyoOlympics\\n#Cheer4India\\n#Tokyo2020\\n#TeamIndia yyy',\n",
       " 'Awesome #beachvolleyball match ends with a #SUI win after dropping set 1. Huberli and Betschart defeat #GER #Tokyo2020',\n",
       " 'Matildas fans right now #AUSvSWE #Tokyo2020 https://t.co/KSGUf0lj7D',\n",
       " 'this should’ve been shimizu-fukuzawa-yanagida’s olympics stint buuuut…🤧🤧🤧 #Tokyo2020 #龍神NIPPON',\n",
       " 'Ecuador has only ever had two gold medals, so I was inordinately delighted for Richard and Ecuador! #Tokyo2020 https://t.co/h6PJMkLsW3',\n",
       " 'Chloe Meacham pulls one back. 4-2. Spain hit back straight away 5-2. 1st Quarter ends. South Africa up against the… https://t.co/QgdSsEFBi4',\n",
       " 'India is cheering for @mirabai_chanu, her remarkable performance has won India its first Silver medal in weightlift… https://t.co/aTMuyRyg15',\n",
       " 'Great start for #TeamGB in the Men’s #Hockey\\n\\n#GBR lead #RSA inside 2 minutes 1-0!\\n\\n#Tokyo2020 #Olympics',\n",
       " 'Congratulations!\\n#tokyo2020\\n#CyclingRoad\\n#自転車ロード https://t.co/0QaUHR3oUD',\n",
       " '1-0 to #TeamGB in the men’s hockey early doors! Come on GB! @opmhc #Tokyo2020',\n",
       " \"If anyone is trying to find it, here's a solution for 2nd half. I heard it went to Ch7 after channel flick but what… https://t.co/YJcDbD2sbM\",\n",
       " '24 July - 1900 Japan Standard Time\\n\\nMatch #6\\nCanada VS Germany\\n#Tokyo2020\\n\\nFor Thorough Updates Follow this Link:… https://t.co/2L9cD47X8C',\n",
       " 'Proud Moment For All Indians. 🇮🇳 Heartiest Congratulations @mirabai_chanu 🥈💐👏🏻\\n\\n#Tokyo2020',\n",
       " 'Congratulations to #MirabaiChanu for winning India’s first medal in the #Tokyo2020 #Olympics https://t.co/5pPbinLSZC',\n",
       " '@PuneethRajkumar @mirabai_chanu Boss\\n\\n#Dvitva #James @PuneethRajkumar\\n\\n#TokyoOlympics\\n#Cheer4India\\n#Tokyo2020\\n#TeamIndia yy',\n",
       " '#Tokyo2020 | PM Modi, President Ram Nath Kovind &amp; Union Sports Minister Anurag Thakur congratulated India’s ace wei… https://t.co/myzSxRXDx2',\n",
       " \"Cycling: Men's Road Race\\n🥇 Richard Carapaz of Eduador\\n🥈 Wout van Aert of Belgium\\n🥉 Tadej Pogacar of Slovenia\\n\\nUSA:… https://t.co/vwdq6JItRQ\",\n",
       " \"🥈silver medal for @mirabai_chanu in Weightlifting 🏋Women's 49kg category.\\nFirst medal for India in #Tokyo2020 Olympics.\",\n",
       " 'Water polo is just football but in a pool #Tokyo2020',\n",
       " \"PSA: in the 7+ app there is an alternative showing of @TheMatildas match that doesn't have speedy commentating nor… https://t.co/kjasm49jQt\",\n",
       " \"Day 1, race 1 ✅\\n\\nA tough day of racing for the trio, but they showed the 🌎 they're tougher. \\n\\nTo say that we are ex… https://t.co/WxPbkT2LTV\",\n",
       " '𝗦𝗮𝗶𝗸𝗵𝗼𝗺 𝗠𝗶𝗿𝗮𝗯𝗮𝗶 𝗖𝗵𝗮𝗻𝘂 - You have lifted the spirits of billions of #Indians\\n\\nThanks for making us all Proud !!… https://t.co/GSjplfPXw8',\n",
       " '@ThumsUpOfficial \"Congratulation for the amazing win!\"\\nThis is what you guys will hear. I am sure. And India is.… https://t.co/M6FWOrFrhG',\n",
       " '@mirabai_chanu @Media_SAI @IndiaSports @RailMinIndia @iosindiaoff @virenrasquinha @imrahultrehan For the first time… https://t.co/XwH8kXGXrg',\n",
       " 'Hearty congratulations to ace Indian weightlifter @mirabai_chanu for winning a Silver Medal in the women’s weightli… https://t.co/m5oNETsDdu',\n",
       " \"#MirabaiChanu wins India's first medal in Tokyo Olympics 2020. Weightlifter Mirabai Chanu secures Silver medal by l… https://t.co/pirVkTnuZz\",\n",
       " 'Perfect start boys! 👏 #TeamGB #Tokyo2020',\n",
       " '@PuneethRajkumar @mirabai_chanu Boss\\n\\n#Dvitva #James @PuneethRajkumar\\n\\n#TokyoOlympics\\n#Cheer4India\\n#Tokyo2020\\n#TeamIndia y',\n",
       " \"I just can't sleep. #Tokyo2020  is happening now!!!\",\n",
       " 'Can Zambia 🇿🇲 hold this lead?\\nThey deserve this..\\nbaba God run am for them.. 🤲🌟\\n\\n#Olympics\\n#Tokyo2020',\n",
       " 'NSS, Rajasthan, Greets and Cheers The Indian Olympic Team.#HumaraVictoryPunch #Cheers4India #Tokyo2020 #TeamIndia… https://t.co/XrUDfyTcVY',\n",
       " 'Oosh... Peter McGrail lost in a tricky bout against Chatchai-Decha Butdee of Thailand. These prelims can be brutal in the boxing #Tokyo2020',\n",
       " '@PuneethRajkumar @mirabai_chanu Boss\\n\\n#Dvitva #James @PuneethRajkumar\\n\\n#TokyoOlympics\\n#Cheer4India\\n#Tokyo2020\\n#TeamIndia uuu',\n",
       " 'Oh no, not Bjorn again ... #SWEvAUS #Tokyo2020',\n",
       " 'Could not have asked for a happier start to @Tokyo2020! India is elated by @mirabai_chanu’s stupendous performance.… https://t.co/tKgJPDMSqi',\n",
       " \"First medal on the first day! We're so so proud!\\n\\n#Tokyo2020  #MirabaiChanu https://t.co/8AMlrgsz1q\",\n",
       " 'We are all @TeamGB for the next 2 weeks #TeamGB #Tokyo2020',\n",
       " 'So #Bollywood who will announce biopic on @mirabai_chanu !\\n\\nWhat do you think? Who can reprise her role in the biop… https://t.co/6OBeGf4vRi',\n",
       " 'First medal on day one of the Tokyo Olympics !! \\nCongratulations Mirabai !! You have made India proud… https://t.co/QFKMVzlK2h',\n",
       " 'Proud Moment for us🔥🇮🇳\\n#Tokyo2020 \\n#silvermedal \\n#mirabai https://t.co/KpFtswjJK4',\n",
       " '21-12 21-11\\nYeayyy daddies menang\\nvery good start dads\\ndefense tembok, placing, smash, change the pace, so amazing… https://t.co/9J5slHOhub',\n",
       " \"Well Done Mahoor 🙌🏼\\nDon't Lose Hope Something Better is Comming☺️ \\n#Tokyo2020 @OfficialMahoor\",\n",
       " 'You have brought a smile to 135 crore Indians today: Sports Minister @ianuragthakur congratulates @mirabai_chanu on… https://t.co/AEHbxtfdY8',\n",
       " '#Tokyo2020 #Olympics #TokyoOlympics #OlympicGames #Cheer4India #TokyoOlympics2021 #Tokyo2021 #Olympics2020… https://t.co/MPqXMc5Id9',\n",
       " '@PuneethRajkumar @mirabai_chanu Boss\\n\\n#Dvitva #James @PuneethRajkumar\\n\\n#TokyoOlympics\\n#Cheer4India\\n#Tokyo2020\\n#TeamIndia u',\n",
       " 'Congratulations  #MirabaiChanu on winning the silver medal for #Weightlifting at #Tokyo2020 what a feat you have ma… https://t.co/VtnBrb3T75',\n",
       " '#BarbraBanda another ⚽⚽⚽ (W)\\n#CHNvZAM #Tokyo2020',\n",
       " 'Congratulations @mirabai_chanu 🏋️\\u200d♀️ 👏 You made us proud 🇮🇳 #TeamIndia  \\n\\n#Tokyo2020 @Olympics https://t.co/jTP1krrBM7',\n",
       " '#Tokyo2020 The first RSA v Lions dust up of the day ##LionsSA2021 https://t.co/XGIR6LjpDN',\n",
       " 'Watching @CBCOlympics and love the fact that the guy interviewing Michael Woods #cyclingroad focused on the positiv… https://t.co/3ykt91CFFg',\n",
       " \".@aikfotboll midfielder Honoka Hayashi is starting for @jfa_nadeshiko  tonight against Team GB - you've still got s… https://t.co/qfaQKeMqqz\",\n",
       " 'Q1: 🇬🇧1-0🇿🇦\\n\\nGOAL! Great Britain take the lead, with Sam Ward despatching a low penalty corner to give his team the… https://t.co/oonkc3hZLG',\n",
       " 'If you wanna watch all the olympic boxing and not just the @gbboxing lot, you need to get the discovery+ app on you… https://t.co/8WBcXmkDA3',\n",
       " 'Weightlifter Mirabai Chanu has secured first medal Second place medalfor the country at #Tokyo2020  Olympics, winni… https://t.co/Kw0l28ZJYE',\n",
       " 'India may have won the Silver Medal In Olympic Games but it was the Pak Army which won the silver medal in 1971 Ban… https://t.co/7EgX1ErUvh',\n",
       " 'The Netherlands thrashed Zambia 10-3 to break the record for the most goals scored by a single team. #Tokyo2020… https://t.co/jkGCaZ4v8J',\n",
       " 'Let’s go Tokyo!! #Idemooo #TeamSerbia #Tokyo2020 https://t.co/zXtyrocaBH',\n",
       " '💪🏼The winning Moment❤️🇮🇳 Proud of you @mirabai_chanu #Manipur #India #SaikhomMirabaiChanu\\n#FirstMedal4India #Silver… https://t.co/d1p7VImV2M',\n",
       " 'Congrats, Ahsan - Hendra! #Tokyo2020',\n",
       " \"India strikes first medal at Olympic #Tokyo2020   \\n\\nMirabai Chanu wins silver Medal in 49 kg Women's Weightlifting… https://t.co/JfIbINctZZ\",\n",
       " 'The #Tokyo2020 is about to begin. Let’s cheer for our TeamGalaxy athletes and contribute to the Olympic spirit!… https://t.co/sYJ6WpLj81',\n",
       " '@mirabai_chanu @Media_SAI @IndiaSports @RailMinIndia @iosindiaoff @virenrasquinha @imrahultrehan Wow wow wow you ma… https://t.co/8rbNGcHxdh',\n",
       " '@PuneethRajkumar @mirabai_chanu Boss\\n\\n#Dvitva #James @PuneethRajkumar\\n\\n#TokyoOlympics\\n#Cheer4India\\n#Tokyo2020\\n#TeamIndia ii',\n",
       " 'Way to go #mirabai first day, first medal #Tokyo2020 https://t.co/KXgz9qPRtX',\n",
       " 'As #Tokyo2020 gets underway, our customer Solidéo is already looking ahead to 2024 as they plan the infrastructure… https://t.co/WJusVqE8wf',\n",
       " '🏓 Yet another moment of pride! \\n#SutirthaMukherjee beats Linda Bergstrom 4-3 to win her 1st  round match.… https://t.co/P8ex8smkdW',\n",
       " 'For Australia, Richie Porte finished 48th, 6:15:38 behind the gold medalist. Luke Durbridge and Lucas Hamilton came… https://t.co/oVjOT09HaI',\n",
       " '@PuneethRajkumar @mirabai_chanu Boss\\n\\n#Dvitva #James @PuneethRajkumar\\n\\n#TokyoOlympics\\n#Cheer4India\\n#Tokyo2020\\n#TeamIndia i',\n",
       " 'Congratulations to Mirabai Chanu for winning #Silver  medal in weightlifting  #Tokyo2020 #Olympics',\n",
       " \"#MirabaiChanu #Congratulations @mirabai_chanu #Tokyo2020 it's #Cheer4India \\nKeep it up all athletes of #Tokyo2020… https://t.co/h8T8vpdHdo\",\n",
       " \"#Tokyo2020 #football \\n\\nAROUND THE GROUNDS:\\n\\nFT' 🇨🇦 2 🇨🇱 1\\n75' 🇿🇲 4 🇨🇳 3\",\n",
       " 'Yes We Got Silver Medal\\nJai ho\\n\\n#Tokyo2020',\n",
       " 'Takato vs. Yang\\nIntriguing final finishing the first OG judo day! 🥋\\nEnjoying #judoworld \\n#Tokyo2020',\n",
       " 'Liz Chetkovich commentating the gymnastics might be the most distinct of the Olympics sounds… #Tokyo2020',\n",
       " '＃QUEEN\\u3000 #Tokyo2020\\xa0 Queen-Teo Torriatte (×) https://t.co/L3XcEoUDVX',\n",
       " 'Just saw this on Amazon: Tokyo 2021 Olympic Games Text (2020 Scratched Out) Premium Tshirt by Generic for $18.95… https://t.co/decbNtgwO6',\n",
       " 'CONGRATULATIONS INDIA 🎉🍰🎇\\n\\nFor the first medal #TokyoOlympics \\n\\n#mirabai Chanu Rocks(Silver Medal)\\n🎇 🤘✌️👍🎉… https://t.co/vS0waYRJKe',\n",
       " 'Heartiest congratulations to @mirabai_chanu on winning the first Olympic medal. 1.3 billion Indians proud of you si… https://t.co/7my3sTpyZk',\n",
       " '@PuneethRajkumar @mirabai_chanu Boss\\n\\n#Dvitva #James @PuneethRajkumar\\n\\n#TokyoOlympics\\n#Cheer4India\\n#Tokyo2020\\n#TeamIndia ooo',\n",
       " 'This Judo semifinal is fucking intense, I have no idea wtf is going on but I am living! #Tokyo2020 #Olympics',\n",
       " 'Video of मीराबाई चानू\\nWhat a wonderful start to #Tokyo2020!\\n\\nMany congratulations to \\n@mirabai_chanu\\n for winning t… https://t.co/FYCo2Z6Hk6',\n",
       " 'Dont let this Indian guy pin you.\\n\\n#Tokyo2020 \\n#tvnz https://t.co/dBJYWPzd9W',\n",
       " '@BBCSport @BBC Loving the #Tokyo2020 #Olympics coverage. Any chance you could add a ‘Live’ icon on screen when even… https://t.co/NcEVOcSmhB',\n",
       " 'Let’s play to win #Cheer4India #Tokyo2020 https://t.co/95jP0D3XZ1',\n",
       " \"2nd session of Boxing has started at @Tokyo2020 ! 😍\\n\\nJust the matter of few minutes and we'll witness some dumdaar… https://t.co/T1JQpkZxZO\",\n",
       " \"🌟Congratulations @mirabai_chanu \\nAs She Opened Account For 🇮🇳 At @Tokyo2020 By Winning 🥈 In Women's 49Kg Weightlift… https://t.co/soLpEkWnta\",\n",
       " 'Warmest congratulations  to #MirabaiChanu for winning India’s first medal in the ongoing #Tokyo2020 \\n#olympics2021… https://t.co/u4WLBJBgxu',\n",
       " '#MirabaiChanu\\n🇮🇳Heartiest congratulation. 🇮🇳🇮🇳\\n#Tokyo2020 \\n#TokyoOlympics\\n#मीराबाई_चानू https://t.co/JyUDbK64Ww',\n",
       " '#Tokyo2020 \\n\\n- She’s the nightmare. 2 Hat-tricks in 2 Matches. 🔥 🔥 🔥 \\n\\n#Tokyo2020 https://t.co/qcOhEsAn26',\n",
       " 'when @BBCOne says they’re broadcasting #Gymnastics for #OlympicGames and it’s Hockey instead 🙄\\n\\nI wanna watch the Gymnastics 😭 #Tokyo2020',\n",
       " \"What's better than this? Guys being dudes. #CyclingRoad #Olympics #Tokyo2020 https://t.co/4kXB9AFEmw\",\n",
       " 'Barbra Banda has scored 2 hattricks #Tokyo2020 #CopperQueens',\n",
       " 'When can I watch Olympic waterpolo on the BBC? #Tokyo2020  #waterpolo #BBCOlympics',\n",
       " '@PuneethRajkumar @mirabai_chanu Boss\\n\\n#Dvitva #James @PuneethRajkumar\\n\\n#TokyoOlympics\\n#Cheer4India\\n#Tokyo2020\\n#TeamIndia oo',\n",
       " \"Second half started: Sweden 1 - 1 Australia, Olympic Women's Tournament Tokyo 2020  #womensfootball #soccer… https://t.co/AlEN6KCcxB\"]"
      ]
     },
     "execution_count": 97,
     "metadata": {},
     "output_type": "execute_result"
    }
   ],
   "source": [
    "new_docs"
   ]
  },
  {
   "cell_type": "code",
   "execution_count": 99,
   "metadata": {},
   "outputs": [
    {
     "data": {
      "application/vnd.jupyter.widget-view+json": {
       "model_id": "00c7ad9e6fea4e619b021728b145f4b8",
       "version_major": 2,
       "version_minor": 0
      },
      "text/plain": [
       "HBox(children=(HTML(value='Batches'), FloatProgress(value=0.0, max=32.0), HTML(value='')))"
      ]
     },
     "metadata": {},
     "output_type": "display_data"
    },
    {
     "name": "stderr",
     "output_type": "stream",
     "text": [
      "2022-06-21 19:22:12,763 - BERTopic - Transformed documents to Embeddings\n"
     ]
    },
    {
     "name": "stdout",
     "output_type": "stream",
     "text": [
      "\n"
     ]
    },
    {
     "name": "stderr",
     "output_type": "stream",
     "text": [
      "2022-06-21 19:22:19,366 - BERTopic - Reduced dimensionality\n",
      "2022-06-21 19:22:19,468 - BERTopic - Clustered reduced embeddings\n",
      "2022-06-21 19:22:20,377 - BERTopic - Reduced number of topics from 18 to 11\n"
     ]
    }
   ],
   "source": [
    "#Define a new model for the new document prediction\n",
    "\n",
    "new_model = BERTopic(nr_topics=10, verbose=True)\n",
    "\n",
    "topics, probs = new_model.fit_transform(new_docs)"
   ]
  },
  {
   "cell_type": "code",
   "execution_count": 103,
   "metadata": {},
   "outputs": [
    {
     "data": {
      "text/html": [
       "<div>\n",
       "<style scoped>\n",
       "    .dataframe tbody tr th:only-of-type {\n",
       "        vertical-align: middle;\n",
       "    }\n",
       "\n",
       "    .dataframe tbody tr th {\n",
       "        vertical-align: top;\n",
       "    }\n",
       "\n",
       "    .dataframe thead th {\n",
       "        text-align: right;\n",
       "    }\n",
       "</style>\n",
       "<table border=\"1\" class=\"dataframe\">\n",
       "  <thead>\n",
       "    <tr style=\"text-align: right;\">\n",
       "      <th></th>\n",
       "      <th>Topic</th>\n",
       "      <th>Count</th>\n",
       "    </tr>\n",
       "  </thead>\n",
       "  <tbody>\n",
       "    <tr>\n",
       "      <th>0</th>\n",
       "      <td>-1</td>\n",
       "      <td>279</td>\n",
       "    </tr>\n",
       "    <tr>\n",
       "      <th>1</th>\n",
       "      <td>0</td>\n",
       "      <td>172</td>\n",
       "    </tr>\n",
       "    <tr>\n",
       "      <th>2</th>\n",
       "      <td>1</td>\n",
       "      <td>103</td>\n",
       "    </tr>\n",
       "    <tr>\n",
       "      <th>3</th>\n",
       "      <td>2</td>\n",
       "      <td>99</td>\n",
       "    </tr>\n",
       "    <tr>\n",
       "      <th>4</th>\n",
       "      <td>3</td>\n",
       "      <td>99</td>\n",
       "    </tr>\n",
       "    <tr>\n",
       "      <th>5</th>\n",
       "      <td>4</td>\n",
       "      <td>72</td>\n",
       "    </tr>\n",
       "    <tr>\n",
       "      <th>6</th>\n",
       "      <td>5</td>\n",
       "      <td>48</td>\n",
       "    </tr>\n",
       "    <tr>\n",
       "      <th>7</th>\n",
       "      <td>6</td>\n",
       "      <td>43</td>\n",
       "    </tr>\n",
       "    <tr>\n",
       "      <th>8</th>\n",
       "      <td>7</td>\n",
       "      <td>30</td>\n",
       "    </tr>\n",
       "    <tr>\n",
       "      <th>9</th>\n",
       "      <td>8</td>\n",
       "      <td>27</td>\n",
       "    </tr>\n",
       "    <tr>\n",
       "      <th>10</th>\n",
       "      <td>9</td>\n",
       "      <td>27</td>\n",
       "    </tr>\n",
       "  </tbody>\n",
       "</table>\n",
       "</div>"
      ],
      "text/plain": [
       "    Topic  Count\n",
       "0      -1    279\n",
       "1       0    172\n",
       "2       1    103\n",
       "3       2     99\n",
       "4       3     99\n",
       "5       4     72\n",
       "6       5     48\n",
       "7       6     43\n",
       "8       7     30\n",
       "9       8     27\n",
       "10      9     27"
      ]
     },
     "execution_count": 103,
     "metadata": {},
     "output_type": "execute_result"
    }
   ],
   "source": [
    "new_model.get_topic_freq()"
   ]
  },
  {
   "cell_type": "code",
   "execution_count": 104,
   "metadata": {},
   "outputs": [
    {
     "data": {
      "text/plain": [
       "[('mirabaichanu', 0.100881506947252),\n",
       " ('congratulations', 0.07987956352868127),\n",
       " ('medal', 0.06901490743662535),\n",
       " ('for', 0.06582369682331314),\n",
       " ('india', 0.06329066359231866),\n",
       " ('proud', 0.06086608200024882),\n",
       " ('first', 0.05092554533427974),\n",
       " ('to', 0.04712712733302283),\n",
       " ('winning', 0.0430336574660832),\n",
       " ('tokyo2020', 0.0404263723040927)]"
      ]
     },
     "execution_count": 104,
     "metadata": {},
     "output_type": "execute_result"
    }
   ],
   "source": [
    "new_model.get_topic(0)"
   ]
  },
  {
   "cell_type": "code",
   "execution_count": 102,
   "metadata": {},
   "outputs": [
    {
     "data": {
      "application/vnd.plotly.v1+json": {
       "config": {
        "plotlyServerURL": "https://plot.ly"
       },
       "data": [
        {
         "marker": {
          "color": "#D55E00"
         },
         "orientation": "h",
         "type": "bar",
         "x": [
          0.06329066359231866,
          0.06582369682331314,
          0.06901490743662535,
          0.07987956352868127,
          0.100881506947252
         ],
         "xaxis": "x",
         "y": [
          "india  ",
          "for  ",
          "medal  ",
          "congratulations  ",
          "mirabaichanu  "
         ],
         "yaxis": "y"
        },
        {
         "marker": {
          "color": "#0072B2"
         },
         "orientation": "h",
         "type": "bar",
         "x": [
          0.0556262278052783,
          0.060440432950588624,
          0.062454312094269826,
          0.06742298424753354,
          0.08179128579990064
         ],
         "xaxis": "x2",
         "y": [
          "the  ",
          "football  ",
          "tokyo2020  ",
          "goal  ",
          "swevaus  "
         ],
         "yaxis": "y2"
        },
        {
         "marker": {
          "color": "#CC79A7"
         },
         "orientation": "h",
         "type": "bar",
         "x": [
          0.07655925477865216,
          0.07752563778185399,
          0.1005690618212685,
          0.11213747927902513,
          0.11287745766928976
         ],
         "xaxis": "x3",
         "y": [
          "chanu  ",
          "mirabai  ",
          "medal  ",
          "weightlifting  ",
          "silver  "
         ],
         "yaxis": "y3"
        },
        {
         "marker": {
          "color": "#E69F00"
         },
         "orientation": "h",
         "type": "bar",
         "x": [
          0.036787171911181304,
          0.036867651633778246,
          0.05243966110426261,
          0.06888628645460684,
          0.08916648453937874
         ],
         "xaxis": "x4",
         "y": [
          "on  ",
          "hockey  ",
          "the  ",
          "teamgb  ",
          "tokyo2020  "
         ],
         "yaxis": "y4"
        },
        {
         "marker": {
          "color": "#56B4E9"
         },
         "orientation": "h",
         "type": "bar",
         "x": [
          0.060897415431958174,
          0.07031728392860204,
          0.07068274530595117,
          0.16943458105718553,
          0.22310144883932162
         ],
         "xaxis": "x5",
         "y": [
          "swevaus  ",
          "tokyo2020  ",
          "matildas  ",
          "sam  ",
          "kerr  "
         ],
         "yaxis": "y5"
        },
        {
         "marker": {
          "color": "#009E73"
         },
         "orientation": "h",
         "type": "bar",
         "x": [
          0.04328260876379636,
          0.046337740321938437,
          0.046925019488420136,
          0.06746254604448254,
          0.1142765118563219
         ],
         "xaxis": "x6",
         "y": [
          "olympicgames  ",
          "olympic  ",
          "the  ",
          "tokyo2020  ",
          "olympics  "
         ],
         "yaxis": "y6"
        },
        {
         "marker": {
          "color": "#F0E442"
         },
         "orientation": "h",
         "type": "bar",
         "x": [
          0.2636910716999288,
          0.2997051588028702,
          0.3017928145159129,
          0.3017928145159129,
          0.48794114916163145
         ],
         "xaxis": "x7",
         "y": [
          "teamindia  ",
          "boss  ",
          "dvitva  ",
          "james  ",
          "puneethrajkumar  "
         ],
         "yaxis": "y7"
        },
        {
         "marker": {
          "color": "#D55E00"
         },
         "orientation": "h",
         "type": "bar",
         "x": [
          0.062328621834150194,
          0.09794497716795031,
          0.10543145479232517,
          0.1127735173410096,
          0.16567800038793956
         ],
         "xaxis": "x8",
         "y": [
          "two  ",
          "barbra  ",
          "china  ",
          "banda  ",
          "zambia  "
         ],
         "yaxis": "y8"
        }
       ],
       "layout": {
        "annotations": [
         {
          "font": {
           "size": 16
          },
          "showarrow": false,
          "text": "Topic 0",
          "x": 0.0875,
          "xanchor": "center",
          "xref": "paper",
          "y": 1,
          "yanchor": "bottom",
          "yref": "paper"
         },
         {
          "font": {
           "size": 16
          },
          "showarrow": false,
          "text": "Topic 1",
          "x": 0.36250000000000004,
          "xanchor": "center",
          "xref": "paper",
          "y": 1,
          "yanchor": "bottom",
          "yref": "paper"
         },
         {
          "font": {
           "size": 16
          },
          "showarrow": false,
          "text": "Topic 2",
          "x": 0.6375000000000001,
          "xanchor": "center",
          "xref": "paper",
          "y": 1,
          "yanchor": "bottom",
          "yref": "paper"
         },
         {
          "font": {
           "size": 16
          },
          "showarrow": false,
          "text": "Topic 3",
          "x": 0.9125,
          "xanchor": "center",
          "xref": "paper",
          "y": 1,
          "yanchor": "bottom",
          "yref": "paper"
         },
         {
          "font": {
           "size": 16
          },
          "showarrow": false,
          "text": "Topic 4",
          "x": 0.0875,
          "xanchor": "center",
          "xref": "paper",
          "y": 0.4,
          "yanchor": "bottom",
          "yref": "paper"
         },
         {
          "font": {
           "size": 16
          },
          "showarrow": false,
          "text": "Topic 5",
          "x": 0.36250000000000004,
          "xanchor": "center",
          "xref": "paper",
          "y": 0.4,
          "yanchor": "bottom",
          "yref": "paper"
         },
         {
          "font": {
           "size": 16
          },
          "showarrow": false,
          "text": "Topic 6",
          "x": 0.6375000000000001,
          "xanchor": "center",
          "xref": "paper",
          "y": 0.4,
          "yanchor": "bottom",
          "yref": "paper"
         },
         {
          "font": {
           "size": 16
          },
          "showarrow": false,
          "text": "Topic 7",
          "x": 0.9125,
          "xanchor": "center",
          "xref": "paper",
          "y": 0.4,
          "yanchor": "bottom",
          "yref": "paper"
         }
        ],
        "height": 500,
        "hoverlabel": {
         "bgcolor": "white",
         "font": {
          "family": "Rockwell",
          "size": 16
         }
        },
        "showlegend": false,
        "template": {
         "data": {
          "bar": [
           {
            "error_x": {
             "color": "#2a3f5f"
            },
            "error_y": {
             "color": "#2a3f5f"
            },
            "marker": {
             "line": {
              "color": "white",
              "width": 0.5
             },
             "pattern": {
              "fillmode": "overlay",
              "size": 10,
              "solidity": 0.2
             }
            },
            "type": "bar"
           }
          ],
          "barpolar": [
           {
            "marker": {
             "line": {
              "color": "white",
              "width": 0.5
             },
             "pattern": {
              "fillmode": "overlay",
              "size": 10,
              "solidity": 0.2
             }
            },
            "type": "barpolar"
           }
          ],
          "carpet": [
           {
            "aaxis": {
             "endlinecolor": "#2a3f5f",
             "gridcolor": "#C8D4E3",
             "linecolor": "#C8D4E3",
             "minorgridcolor": "#C8D4E3",
             "startlinecolor": "#2a3f5f"
            },
            "baxis": {
             "endlinecolor": "#2a3f5f",
             "gridcolor": "#C8D4E3",
             "linecolor": "#C8D4E3",
             "minorgridcolor": "#C8D4E3",
             "startlinecolor": "#2a3f5f"
            },
            "type": "carpet"
           }
          ],
          "choropleth": [
           {
            "colorbar": {
             "outlinewidth": 0,
             "ticks": ""
            },
            "type": "choropleth"
           }
          ],
          "contour": [
           {
            "colorbar": {
             "outlinewidth": 0,
             "ticks": ""
            },
            "colorscale": [
             [
              0,
              "#0d0887"
             ],
             [
              0.1111111111111111,
              "#46039f"
             ],
             [
              0.2222222222222222,
              "#7201a8"
             ],
             [
              0.3333333333333333,
              "#9c179e"
             ],
             [
              0.4444444444444444,
              "#bd3786"
             ],
             [
              0.5555555555555556,
              "#d8576b"
             ],
             [
              0.6666666666666666,
              "#ed7953"
             ],
             [
              0.7777777777777778,
              "#fb9f3a"
             ],
             [
              0.8888888888888888,
              "#fdca26"
             ],
             [
              1,
              "#f0f921"
             ]
            ],
            "type": "contour"
           }
          ],
          "contourcarpet": [
           {
            "colorbar": {
             "outlinewidth": 0,
             "ticks": ""
            },
            "type": "contourcarpet"
           }
          ],
          "heatmap": [
           {
            "colorbar": {
             "outlinewidth": 0,
             "ticks": ""
            },
            "colorscale": [
             [
              0,
              "#0d0887"
             ],
             [
              0.1111111111111111,
              "#46039f"
             ],
             [
              0.2222222222222222,
              "#7201a8"
             ],
             [
              0.3333333333333333,
              "#9c179e"
             ],
             [
              0.4444444444444444,
              "#bd3786"
             ],
             [
              0.5555555555555556,
              "#d8576b"
             ],
             [
              0.6666666666666666,
              "#ed7953"
             ],
             [
              0.7777777777777778,
              "#fb9f3a"
             ],
             [
              0.8888888888888888,
              "#fdca26"
             ],
             [
              1,
              "#f0f921"
             ]
            ],
            "type": "heatmap"
           }
          ],
          "heatmapgl": [
           {
            "colorbar": {
             "outlinewidth": 0,
             "ticks": ""
            },
            "colorscale": [
             [
              0,
              "#0d0887"
             ],
             [
              0.1111111111111111,
              "#46039f"
             ],
             [
              0.2222222222222222,
              "#7201a8"
             ],
             [
              0.3333333333333333,
              "#9c179e"
             ],
             [
              0.4444444444444444,
              "#bd3786"
             ],
             [
              0.5555555555555556,
              "#d8576b"
             ],
             [
              0.6666666666666666,
              "#ed7953"
             ],
             [
              0.7777777777777778,
              "#fb9f3a"
             ],
             [
              0.8888888888888888,
              "#fdca26"
             ],
             [
              1,
              "#f0f921"
             ]
            ],
            "type": "heatmapgl"
           }
          ],
          "histogram": [
           {
            "marker": {
             "pattern": {
              "fillmode": "overlay",
              "size": 10,
              "solidity": 0.2
             }
            },
            "type": "histogram"
           }
          ],
          "histogram2d": [
           {
            "colorbar": {
             "outlinewidth": 0,
             "ticks": ""
            },
            "colorscale": [
             [
              0,
              "#0d0887"
             ],
             [
              0.1111111111111111,
              "#46039f"
             ],
             [
              0.2222222222222222,
              "#7201a8"
             ],
             [
              0.3333333333333333,
              "#9c179e"
             ],
             [
              0.4444444444444444,
              "#bd3786"
             ],
             [
              0.5555555555555556,
              "#d8576b"
             ],
             [
              0.6666666666666666,
              "#ed7953"
             ],
             [
              0.7777777777777778,
              "#fb9f3a"
             ],
             [
              0.8888888888888888,
              "#fdca26"
             ],
             [
              1,
              "#f0f921"
             ]
            ],
            "type": "histogram2d"
           }
          ],
          "histogram2dcontour": [
           {
            "colorbar": {
             "outlinewidth": 0,
             "ticks": ""
            },
            "colorscale": [
             [
              0,
              "#0d0887"
             ],
             [
              0.1111111111111111,
              "#46039f"
             ],
             [
              0.2222222222222222,
              "#7201a8"
             ],
             [
              0.3333333333333333,
              "#9c179e"
             ],
             [
              0.4444444444444444,
              "#bd3786"
             ],
             [
              0.5555555555555556,
              "#d8576b"
             ],
             [
              0.6666666666666666,
              "#ed7953"
             ],
             [
              0.7777777777777778,
              "#fb9f3a"
             ],
             [
              0.8888888888888888,
              "#fdca26"
             ],
             [
              1,
              "#f0f921"
             ]
            ],
            "type": "histogram2dcontour"
           }
          ],
          "mesh3d": [
           {
            "colorbar": {
             "outlinewidth": 0,
             "ticks": ""
            },
            "type": "mesh3d"
           }
          ],
          "parcoords": [
           {
            "line": {
             "colorbar": {
              "outlinewidth": 0,
              "ticks": ""
             }
            },
            "type": "parcoords"
           }
          ],
          "pie": [
           {
            "automargin": true,
            "type": "pie"
           }
          ],
          "scatter": [
           {
            "fillpattern": {
             "fillmode": "overlay",
             "size": 10,
             "solidity": 0.2
            },
            "type": "scatter"
           }
          ],
          "scatter3d": [
           {
            "line": {
             "colorbar": {
              "outlinewidth": 0,
              "ticks": ""
             }
            },
            "marker": {
             "colorbar": {
              "outlinewidth": 0,
              "ticks": ""
             }
            },
            "type": "scatter3d"
           }
          ],
          "scattercarpet": [
           {
            "marker": {
             "colorbar": {
              "outlinewidth": 0,
              "ticks": ""
             }
            },
            "type": "scattercarpet"
           }
          ],
          "scattergeo": [
           {
            "marker": {
             "colorbar": {
              "outlinewidth": 0,
              "ticks": ""
             }
            },
            "type": "scattergeo"
           }
          ],
          "scattergl": [
           {
            "marker": {
             "colorbar": {
              "outlinewidth": 0,
              "ticks": ""
             }
            },
            "type": "scattergl"
           }
          ],
          "scattermapbox": [
           {
            "marker": {
             "colorbar": {
              "outlinewidth": 0,
              "ticks": ""
             }
            },
            "type": "scattermapbox"
           }
          ],
          "scatterpolar": [
           {
            "marker": {
             "colorbar": {
              "outlinewidth": 0,
              "ticks": ""
             }
            },
            "type": "scatterpolar"
           }
          ],
          "scatterpolargl": [
           {
            "marker": {
             "colorbar": {
              "outlinewidth": 0,
              "ticks": ""
             }
            },
            "type": "scatterpolargl"
           }
          ],
          "scatterternary": [
           {
            "marker": {
             "colorbar": {
              "outlinewidth": 0,
              "ticks": ""
             }
            },
            "type": "scatterternary"
           }
          ],
          "surface": [
           {
            "colorbar": {
             "outlinewidth": 0,
             "ticks": ""
            },
            "colorscale": [
             [
              0,
              "#0d0887"
             ],
             [
              0.1111111111111111,
              "#46039f"
             ],
             [
              0.2222222222222222,
              "#7201a8"
             ],
             [
              0.3333333333333333,
              "#9c179e"
             ],
             [
              0.4444444444444444,
              "#bd3786"
             ],
             [
              0.5555555555555556,
              "#d8576b"
             ],
             [
              0.6666666666666666,
              "#ed7953"
             ],
             [
              0.7777777777777778,
              "#fb9f3a"
             ],
             [
              0.8888888888888888,
              "#fdca26"
             ],
             [
              1,
              "#f0f921"
             ]
            ],
            "type": "surface"
           }
          ],
          "table": [
           {
            "cells": {
             "fill": {
              "color": "#EBF0F8"
             },
             "line": {
              "color": "white"
             }
            },
            "header": {
             "fill": {
              "color": "#C8D4E3"
             },
             "line": {
              "color": "white"
             }
            },
            "type": "table"
           }
          ]
         },
         "layout": {
          "annotationdefaults": {
           "arrowcolor": "#2a3f5f",
           "arrowhead": 0,
           "arrowwidth": 1
          },
          "autotypenumbers": "strict",
          "coloraxis": {
           "colorbar": {
            "outlinewidth": 0,
            "ticks": ""
           }
          },
          "colorscale": {
           "diverging": [
            [
             0,
             "#8e0152"
            ],
            [
             0.1,
             "#c51b7d"
            ],
            [
             0.2,
             "#de77ae"
            ],
            [
             0.3,
             "#f1b6da"
            ],
            [
             0.4,
             "#fde0ef"
            ],
            [
             0.5,
             "#f7f7f7"
            ],
            [
             0.6,
             "#e6f5d0"
            ],
            [
             0.7,
             "#b8e186"
            ],
            [
             0.8,
             "#7fbc41"
            ],
            [
             0.9,
             "#4d9221"
            ],
            [
             1,
             "#276419"
            ]
           ],
           "sequential": [
            [
             0,
             "#0d0887"
            ],
            [
             0.1111111111111111,
             "#46039f"
            ],
            [
             0.2222222222222222,
             "#7201a8"
            ],
            [
             0.3333333333333333,
             "#9c179e"
            ],
            [
             0.4444444444444444,
             "#bd3786"
            ],
            [
             0.5555555555555556,
             "#d8576b"
            ],
            [
             0.6666666666666666,
             "#ed7953"
            ],
            [
             0.7777777777777778,
             "#fb9f3a"
            ],
            [
             0.8888888888888888,
             "#fdca26"
            ],
            [
             1,
             "#f0f921"
            ]
           ],
           "sequentialminus": [
            [
             0,
             "#0d0887"
            ],
            [
             0.1111111111111111,
             "#46039f"
            ],
            [
             0.2222222222222222,
             "#7201a8"
            ],
            [
             0.3333333333333333,
             "#9c179e"
            ],
            [
             0.4444444444444444,
             "#bd3786"
            ],
            [
             0.5555555555555556,
             "#d8576b"
            ],
            [
             0.6666666666666666,
             "#ed7953"
            ],
            [
             0.7777777777777778,
             "#fb9f3a"
            ],
            [
             0.8888888888888888,
             "#fdca26"
            ],
            [
             1,
             "#f0f921"
            ]
           ]
          },
          "colorway": [
           "#636efa",
           "#EF553B",
           "#00cc96",
           "#ab63fa",
           "#FFA15A",
           "#19d3f3",
           "#FF6692",
           "#B6E880",
           "#FF97FF",
           "#FECB52"
          ],
          "font": {
           "color": "#2a3f5f"
          },
          "geo": {
           "bgcolor": "white",
           "lakecolor": "white",
           "landcolor": "white",
           "showlakes": true,
           "showland": true,
           "subunitcolor": "#C8D4E3"
          },
          "hoverlabel": {
           "align": "left"
          },
          "hovermode": "closest",
          "mapbox": {
           "style": "light"
          },
          "paper_bgcolor": "white",
          "plot_bgcolor": "white",
          "polar": {
           "angularaxis": {
            "gridcolor": "#EBF0F8",
            "linecolor": "#EBF0F8",
            "ticks": ""
           },
           "bgcolor": "white",
           "radialaxis": {
            "gridcolor": "#EBF0F8",
            "linecolor": "#EBF0F8",
            "ticks": ""
           }
          },
          "scene": {
           "xaxis": {
            "backgroundcolor": "white",
            "gridcolor": "#DFE8F3",
            "gridwidth": 2,
            "linecolor": "#EBF0F8",
            "showbackground": true,
            "ticks": "",
            "zerolinecolor": "#EBF0F8"
           },
           "yaxis": {
            "backgroundcolor": "white",
            "gridcolor": "#DFE8F3",
            "gridwidth": 2,
            "linecolor": "#EBF0F8",
            "showbackground": true,
            "ticks": "",
            "zerolinecolor": "#EBF0F8"
           },
           "zaxis": {
            "backgroundcolor": "white",
            "gridcolor": "#DFE8F3",
            "gridwidth": 2,
            "linecolor": "#EBF0F8",
            "showbackground": true,
            "ticks": "",
            "zerolinecolor": "#EBF0F8"
           }
          },
          "shapedefaults": {
           "line": {
            "color": "#2a3f5f"
           }
          },
          "ternary": {
           "aaxis": {
            "gridcolor": "#DFE8F3",
            "linecolor": "#A2B1C6",
            "ticks": ""
           },
           "baxis": {
            "gridcolor": "#DFE8F3",
            "linecolor": "#A2B1C6",
            "ticks": ""
           },
           "bgcolor": "white",
           "caxis": {
            "gridcolor": "#DFE8F3",
            "linecolor": "#A2B1C6",
            "ticks": ""
           }
          },
          "title": {
           "x": 0.05
          },
          "xaxis": {
           "automargin": true,
           "gridcolor": "#EBF0F8",
           "linecolor": "#EBF0F8",
           "ticks": "",
           "title": {
            "standoff": 15
           },
           "zerolinecolor": "#EBF0F8",
           "zerolinewidth": 2
          },
          "yaxis": {
           "automargin": true,
           "gridcolor": "#EBF0F8",
           "linecolor": "#EBF0F8",
           "ticks": "",
           "title": {
            "standoff": 15
           },
           "zerolinecolor": "#EBF0F8",
           "zerolinewidth": 2
          }
         }
        },
        "title": {
         "font": {
          "color": "Black",
          "size": 22
         },
         "text": "<b>Topic Word Scores",
         "x": 0.5,
         "xanchor": "center",
         "yanchor": "top"
        },
        "width": 1000,
        "xaxis": {
         "anchor": "y",
         "domain": [
          0,
          0.175
         ],
         "showgrid": true
        },
        "xaxis2": {
         "anchor": "y2",
         "domain": [
          0.275,
          0.45
         ],
         "showgrid": true
        },
        "xaxis3": {
         "anchor": "y3",
         "domain": [
          0.55,
          0.7250000000000001
         ],
         "showgrid": true
        },
        "xaxis4": {
         "anchor": "y4",
         "domain": [
          0.825,
          1
         ],
         "showgrid": true
        },
        "xaxis5": {
         "anchor": "y5",
         "domain": [
          0,
          0.175
         ],
         "showgrid": true
        },
        "xaxis6": {
         "anchor": "y6",
         "domain": [
          0.275,
          0.45
         ],
         "showgrid": true
        },
        "xaxis7": {
         "anchor": "y7",
         "domain": [
          0.55,
          0.7250000000000001
         ],
         "showgrid": true
        },
        "xaxis8": {
         "anchor": "y8",
         "domain": [
          0.825,
          1
         ],
         "showgrid": true
        },
        "yaxis": {
         "anchor": "x",
         "domain": [
          0.6000000000000001,
          1
         ],
         "showgrid": true
        },
        "yaxis2": {
         "anchor": "x2",
         "domain": [
          0.6000000000000001,
          1
         ],
         "showgrid": true
        },
        "yaxis3": {
         "anchor": "x3",
         "domain": [
          0.6000000000000001,
          1
         ],
         "showgrid": true
        },
        "yaxis4": {
         "anchor": "x4",
         "domain": [
          0.6000000000000001,
          1
         ],
         "showgrid": true
        },
        "yaxis5": {
         "anchor": "x5",
         "domain": [
          0,
          0.4
         ],
         "showgrid": true
        },
        "yaxis6": {
         "anchor": "x6",
         "domain": [
          0,
          0.4
         ],
         "showgrid": true
        },
        "yaxis7": {
         "anchor": "x7",
         "domain": [
          0,
          0.4
         ],
         "showgrid": true
        },
        "yaxis8": {
         "anchor": "x8",
         "domain": [
          0,
          0.4
         ],
         "showgrid": true
        }
       }
      },
      "text/html": [
       "<div>                            <div id=\"c7e131b3-25a0-4838-a2f1-b4aa1ec550a9\" class=\"plotly-graph-div\" style=\"height:500px; width:1000px;\"></div>            <script type=\"text/javascript\">                require([\"plotly\"], function(Plotly) {                    window.PLOTLYENV=window.PLOTLYENV || {};                                    if (document.getElementById(\"c7e131b3-25a0-4838-a2f1-b4aa1ec550a9\")) {                    Plotly.newPlot(                        \"c7e131b3-25a0-4838-a2f1-b4aa1ec550a9\",                        [{\"marker\":{\"color\":\"#D55E00\"},\"orientation\":\"h\",\"x\":[0.06329066359231866,0.06582369682331314,0.06901490743662535,0.07987956352868127,0.100881506947252],\"y\":[\"india  \",\"for  \",\"medal  \",\"congratulations  \",\"mirabaichanu  \"],\"type\":\"bar\",\"xaxis\":\"x\",\"yaxis\":\"y\"},{\"marker\":{\"color\":\"#0072B2\"},\"orientation\":\"h\",\"x\":[0.0556262278052783,0.060440432950588624,0.062454312094269826,0.06742298424753354,0.08179128579990064],\"y\":[\"the  \",\"football  \",\"tokyo2020  \",\"goal  \",\"swevaus  \"],\"type\":\"bar\",\"xaxis\":\"x2\",\"yaxis\":\"y2\"},{\"marker\":{\"color\":\"#CC79A7\"},\"orientation\":\"h\",\"x\":[0.07655925477865216,0.07752563778185399,0.1005690618212685,0.11213747927902513,0.11287745766928976],\"y\":[\"chanu  \",\"mirabai  \",\"medal  \",\"weightlifting  \",\"silver  \"],\"type\":\"bar\",\"xaxis\":\"x3\",\"yaxis\":\"y3\"},{\"marker\":{\"color\":\"#E69F00\"},\"orientation\":\"h\",\"x\":[0.036787171911181304,0.036867651633778246,0.05243966110426261,0.06888628645460684,0.08916648453937874],\"y\":[\"on  \",\"hockey  \",\"the  \",\"teamgb  \",\"tokyo2020  \"],\"type\":\"bar\",\"xaxis\":\"x4\",\"yaxis\":\"y4\"},{\"marker\":{\"color\":\"#56B4E9\"},\"orientation\":\"h\",\"x\":[0.060897415431958174,0.07031728392860204,0.07068274530595117,0.16943458105718553,0.22310144883932162],\"y\":[\"swevaus  \",\"tokyo2020  \",\"matildas  \",\"sam  \",\"kerr  \"],\"type\":\"bar\",\"xaxis\":\"x5\",\"yaxis\":\"y5\"},{\"marker\":{\"color\":\"#009E73\"},\"orientation\":\"h\",\"x\":[0.04328260876379636,0.046337740321938437,0.046925019488420136,0.06746254604448254,0.1142765118563219],\"y\":[\"olympicgames  \",\"olympic  \",\"the  \",\"tokyo2020  \",\"olympics  \"],\"type\":\"bar\",\"xaxis\":\"x6\",\"yaxis\":\"y6\"},{\"marker\":{\"color\":\"#F0E442\"},\"orientation\":\"h\",\"x\":[0.2636910716999288,0.2997051588028702,0.3017928145159129,0.3017928145159129,0.48794114916163145],\"y\":[\"teamindia  \",\"boss  \",\"dvitva  \",\"james  \",\"puneethrajkumar  \"],\"type\":\"bar\",\"xaxis\":\"x7\",\"yaxis\":\"y7\"},{\"marker\":{\"color\":\"#D55E00\"},\"orientation\":\"h\",\"x\":[0.062328621834150194,0.09794497716795031,0.10543145479232517,0.1127735173410096,0.16567800038793956],\"y\":[\"two  \",\"barbra  \",\"china  \",\"banda  \",\"zambia  \"],\"type\":\"bar\",\"xaxis\":\"x8\",\"yaxis\":\"y8\"}],                        {\"template\":{\"data\":{\"barpolar\":[{\"marker\":{\"line\":{\"color\":\"white\",\"width\":0.5},\"pattern\":{\"fillmode\":\"overlay\",\"size\":10,\"solidity\":0.2}},\"type\":\"barpolar\"}],\"bar\":[{\"error_x\":{\"color\":\"#2a3f5f\"},\"error_y\":{\"color\":\"#2a3f5f\"},\"marker\":{\"line\":{\"color\":\"white\",\"width\":0.5},\"pattern\":{\"fillmode\":\"overlay\",\"size\":10,\"solidity\":0.2}},\"type\":\"bar\"}],\"carpet\":[{\"aaxis\":{\"endlinecolor\":\"#2a3f5f\",\"gridcolor\":\"#C8D4E3\",\"linecolor\":\"#C8D4E3\",\"minorgridcolor\":\"#C8D4E3\",\"startlinecolor\":\"#2a3f5f\"},\"baxis\":{\"endlinecolor\":\"#2a3f5f\",\"gridcolor\":\"#C8D4E3\",\"linecolor\":\"#C8D4E3\",\"minorgridcolor\":\"#C8D4E3\",\"startlinecolor\":\"#2a3f5f\"},\"type\":\"carpet\"}],\"choropleth\":[{\"colorbar\":{\"outlinewidth\":0,\"ticks\":\"\"},\"type\":\"choropleth\"}],\"contourcarpet\":[{\"colorbar\":{\"outlinewidth\":0,\"ticks\":\"\"},\"type\":\"contourcarpet\"}],\"contour\":[{\"colorbar\":{\"outlinewidth\":0,\"ticks\":\"\"},\"colorscale\":[[0.0,\"#0d0887\"],[0.1111111111111111,\"#46039f\"],[0.2222222222222222,\"#7201a8\"],[0.3333333333333333,\"#9c179e\"],[0.4444444444444444,\"#bd3786\"],[0.5555555555555556,\"#d8576b\"],[0.6666666666666666,\"#ed7953\"],[0.7777777777777778,\"#fb9f3a\"],[0.8888888888888888,\"#fdca26\"],[1.0,\"#f0f921\"]],\"type\":\"contour\"}],\"heatmapgl\":[{\"colorbar\":{\"outlinewidth\":0,\"ticks\":\"\"},\"colorscale\":[[0.0,\"#0d0887\"],[0.1111111111111111,\"#46039f\"],[0.2222222222222222,\"#7201a8\"],[0.3333333333333333,\"#9c179e\"],[0.4444444444444444,\"#bd3786\"],[0.5555555555555556,\"#d8576b\"],[0.6666666666666666,\"#ed7953\"],[0.7777777777777778,\"#fb9f3a\"],[0.8888888888888888,\"#fdca26\"],[1.0,\"#f0f921\"]],\"type\":\"heatmapgl\"}],\"heatmap\":[{\"colorbar\":{\"outlinewidth\":0,\"ticks\":\"\"},\"colorscale\":[[0.0,\"#0d0887\"],[0.1111111111111111,\"#46039f\"],[0.2222222222222222,\"#7201a8\"],[0.3333333333333333,\"#9c179e\"],[0.4444444444444444,\"#bd3786\"],[0.5555555555555556,\"#d8576b\"],[0.6666666666666666,\"#ed7953\"],[0.7777777777777778,\"#fb9f3a\"],[0.8888888888888888,\"#fdca26\"],[1.0,\"#f0f921\"]],\"type\":\"heatmap\"}],\"histogram2dcontour\":[{\"colorbar\":{\"outlinewidth\":0,\"ticks\":\"\"},\"colorscale\":[[0.0,\"#0d0887\"],[0.1111111111111111,\"#46039f\"],[0.2222222222222222,\"#7201a8\"],[0.3333333333333333,\"#9c179e\"],[0.4444444444444444,\"#bd3786\"],[0.5555555555555556,\"#d8576b\"],[0.6666666666666666,\"#ed7953\"],[0.7777777777777778,\"#fb9f3a\"],[0.8888888888888888,\"#fdca26\"],[1.0,\"#f0f921\"]],\"type\":\"histogram2dcontour\"}],\"histogram2d\":[{\"colorbar\":{\"outlinewidth\":0,\"ticks\":\"\"},\"colorscale\":[[0.0,\"#0d0887\"],[0.1111111111111111,\"#46039f\"],[0.2222222222222222,\"#7201a8\"],[0.3333333333333333,\"#9c179e\"],[0.4444444444444444,\"#bd3786\"],[0.5555555555555556,\"#d8576b\"],[0.6666666666666666,\"#ed7953\"],[0.7777777777777778,\"#fb9f3a\"],[0.8888888888888888,\"#fdca26\"],[1.0,\"#f0f921\"]],\"type\":\"histogram2d\"}],\"histogram\":[{\"marker\":{\"pattern\":{\"fillmode\":\"overlay\",\"size\":10,\"solidity\":0.2}},\"type\":\"histogram\"}],\"mesh3d\":[{\"colorbar\":{\"outlinewidth\":0,\"ticks\":\"\"},\"type\":\"mesh3d\"}],\"parcoords\":[{\"line\":{\"colorbar\":{\"outlinewidth\":0,\"ticks\":\"\"}},\"type\":\"parcoords\"}],\"pie\":[{\"automargin\":true,\"type\":\"pie\"}],\"scatter3d\":[{\"line\":{\"colorbar\":{\"outlinewidth\":0,\"ticks\":\"\"}},\"marker\":{\"colorbar\":{\"outlinewidth\":0,\"ticks\":\"\"}},\"type\":\"scatter3d\"}],\"scattercarpet\":[{\"marker\":{\"colorbar\":{\"outlinewidth\":0,\"ticks\":\"\"}},\"type\":\"scattercarpet\"}],\"scattergeo\":[{\"marker\":{\"colorbar\":{\"outlinewidth\":0,\"ticks\":\"\"}},\"type\":\"scattergeo\"}],\"scattergl\":[{\"marker\":{\"colorbar\":{\"outlinewidth\":0,\"ticks\":\"\"}},\"type\":\"scattergl\"}],\"scattermapbox\":[{\"marker\":{\"colorbar\":{\"outlinewidth\":0,\"ticks\":\"\"}},\"type\":\"scattermapbox\"}],\"scatterpolargl\":[{\"marker\":{\"colorbar\":{\"outlinewidth\":0,\"ticks\":\"\"}},\"type\":\"scatterpolargl\"}],\"scatterpolar\":[{\"marker\":{\"colorbar\":{\"outlinewidth\":0,\"ticks\":\"\"}},\"type\":\"scatterpolar\"}],\"scatter\":[{\"fillpattern\":{\"fillmode\":\"overlay\",\"size\":10,\"solidity\":0.2},\"type\":\"scatter\"}],\"scatterternary\":[{\"marker\":{\"colorbar\":{\"outlinewidth\":0,\"ticks\":\"\"}},\"type\":\"scatterternary\"}],\"surface\":[{\"colorbar\":{\"outlinewidth\":0,\"ticks\":\"\"},\"colorscale\":[[0.0,\"#0d0887\"],[0.1111111111111111,\"#46039f\"],[0.2222222222222222,\"#7201a8\"],[0.3333333333333333,\"#9c179e\"],[0.4444444444444444,\"#bd3786\"],[0.5555555555555556,\"#d8576b\"],[0.6666666666666666,\"#ed7953\"],[0.7777777777777778,\"#fb9f3a\"],[0.8888888888888888,\"#fdca26\"],[1.0,\"#f0f921\"]],\"type\":\"surface\"}],\"table\":[{\"cells\":{\"fill\":{\"color\":\"#EBF0F8\"},\"line\":{\"color\":\"white\"}},\"header\":{\"fill\":{\"color\":\"#C8D4E3\"},\"line\":{\"color\":\"white\"}},\"type\":\"table\"}]},\"layout\":{\"annotationdefaults\":{\"arrowcolor\":\"#2a3f5f\",\"arrowhead\":0,\"arrowwidth\":1},\"autotypenumbers\":\"strict\",\"coloraxis\":{\"colorbar\":{\"outlinewidth\":0,\"ticks\":\"\"}},\"colorscale\":{\"diverging\":[[0,\"#8e0152\"],[0.1,\"#c51b7d\"],[0.2,\"#de77ae\"],[0.3,\"#f1b6da\"],[0.4,\"#fde0ef\"],[0.5,\"#f7f7f7\"],[0.6,\"#e6f5d0\"],[0.7,\"#b8e186\"],[0.8,\"#7fbc41\"],[0.9,\"#4d9221\"],[1,\"#276419\"]],\"sequential\":[[0.0,\"#0d0887\"],[0.1111111111111111,\"#46039f\"],[0.2222222222222222,\"#7201a8\"],[0.3333333333333333,\"#9c179e\"],[0.4444444444444444,\"#bd3786\"],[0.5555555555555556,\"#d8576b\"],[0.6666666666666666,\"#ed7953\"],[0.7777777777777778,\"#fb9f3a\"],[0.8888888888888888,\"#fdca26\"],[1.0,\"#f0f921\"]],\"sequentialminus\":[[0.0,\"#0d0887\"],[0.1111111111111111,\"#46039f\"],[0.2222222222222222,\"#7201a8\"],[0.3333333333333333,\"#9c179e\"],[0.4444444444444444,\"#bd3786\"],[0.5555555555555556,\"#d8576b\"],[0.6666666666666666,\"#ed7953\"],[0.7777777777777778,\"#fb9f3a\"],[0.8888888888888888,\"#fdca26\"],[1.0,\"#f0f921\"]]},\"colorway\":[\"#636efa\",\"#EF553B\",\"#00cc96\",\"#ab63fa\",\"#FFA15A\",\"#19d3f3\",\"#FF6692\",\"#B6E880\",\"#FF97FF\",\"#FECB52\"],\"font\":{\"color\":\"#2a3f5f\"},\"geo\":{\"bgcolor\":\"white\",\"lakecolor\":\"white\",\"landcolor\":\"white\",\"showlakes\":true,\"showland\":true,\"subunitcolor\":\"#C8D4E3\"},\"hoverlabel\":{\"align\":\"left\"},\"hovermode\":\"closest\",\"mapbox\":{\"style\":\"light\"},\"paper_bgcolor\":\"white\",\"plot_bgcolor\":\"white\",\"polar\":{\"angularaxis\":{\"gridcolor\":\"#EBF0F8\",\"linecolor\":\"#EBF0F8\",\"ticks\":\"\"},\"bgcolor\":\"white\",\"radialaxis\":{\"gridcolor\":\"#EBF0F8\",\"linecolor\":\"#EBF0F8\",\"ticks\":\"\"}},\"scene\":{\"xaxis\":{\"backgroundcolor\":\"white\",\"gridcolor\":\"#DFE8F3\",\"gridwidth\":2,\"linecolor\":\"#EBF0F8\",\"showbackground\":true,\"ticks\":\"\",\"zerolinecolor\":\"#EBF0F8\"},\"yaxis\":{\"backgroundcolor\":\"white\",\"gridcolor\":\"#DFE8F3\",\"gridwidth\":2,\"linecolor\":\"#EBF0F8\",\"showbackground\":true,\"ticks\":\"\",\"zerolinecolor\":\"#EBF0F8\"},\"zaxis\":{\"backgroundcolor\":\"white\",\"gridcolor\":\"#DFE8F3\",\"gridwidth\":2,\"linecolor\":\"#EBF0F8\",\"showbackground\":true,\"ticks\":\"\",\"zerolinecolor\":\"#EBF0F8\"}},\"shapedefaults\":{\"line\":{\"color\":\"#2a3f5f\"}},\"ternary\":{\"aaxis\":{\"gridcolor\":\"#DFE8F3\",\"linecolor\":\"#A2B1C6\",\"ticks\":\"\"},\"baxis\":{\"gridcolor\":\"#DFE8F3\",\"linecolor\":\"#A2B1C6\",\"ticks\":\"\"},\"bgcolor\":\"white\",\"caxis\":{\"gridcolor\":\"#DFE8F3\",\"linecolor\":\"#A2B1C6\",\"ticks\":\"\"}},\"title\":{\"x\":0.05},\"xaxis\":{\"automargin\":true,\"gridcolor\":\"#EBF0F8\",\"linecolor\":\"#EBF0F8\",\"ticks\":\"\",\"title\":{\"standoff\":15},\"zerolinecolor\":\"#EBF0F8\",\"zerolinewidth\":2},\"yaxis\":{\"automargin\":true,\"gridcolor\":\"#EBF0F8\",\"linecolor\":\"#EBF0F8\",\"ticks\":\"\",\"title\":{\"standoff\":15},\"zerolinecolor\":\"#EBF0F8\",\"zerolinewidth\":2}}},\"xaxis\":{\"anchor\":\"y\",\"domain\":[0.0,0.175],\"showgrid\":true},\"yaxis\":{\"anchor\":\"x\",\"domain\":[0.6000000000000001,1.0],\"showgrid\":true},\"xaxis2\":{\"anchor\":\"y2\",\"domain\":[0.275,0.45],\"showgrid\":true},\"yaxis2\":{\"anchor\":\"x2\",\"domain\":[0.6000000000000001,1.0],\"showgrid\":true},\"xaxis3\":{\"anchor\":\"y3\",\"domain\":[0.55,0.7250000000000001],\"showgrid\":true},\"yaxis3\":{\"anchor\":\"x3\",\"domain\":[0.6000000000000001,1.0],\"showgrid\":true},\"xaxis4\":{\"anchor\":\"y4\",\"domain\":[0.825,1.0],\"showgrid\":true},\"yaxis4\":{\"anchor\":\"x4\",\"domain\":[0.6000000000000001,1.0],\"showgrid\":true},\"xaxis5\":{\"anchor\":\"y5\",\"domain\":[0.0,0.175],\"showgrid\":true},\"yaxis5\":{\"anchor\":\"x5\",\"domain\":[0.0,0.4],\"showgrid\":true},\"xaxis6\":{\"anchor\":\"y6\",\"domain\":[0.275,0.45],\"showgrid\":true},\"yaxis6\":{\"anchor\":\"x6\",\"domain\":[0.0,0.4],\"showgrid\":true},\"xaxis7\":{\"anchor\":\"y7\",\"domain\":[0.55,0.7250000000000001],\"showgrid\":true},\"yaxis7\":{\"anchor\":\"x7\",\"domain\":[0.0,0.4],\"showgrid\":true},\"xaxis8\":{\"anchor\":\"y8\",\"domain\":[0.825,1.0],\"showgrid\":true},\"yaxis8\":{\"anchor\":\"x8\",\"domain\":[0.0,0.4],\"showgrid\":true},\"annotations\":[{\"font\":{\"size\":16},\"showarrow\":false,\"text\":\"Topic 0\",\"x\":0.0875,\"xanchor\":\"center\",\"xref\":\"paper\",\"y\":1.0,\"yanchor\":\"bottom\",\"yref\":\"paper\"},{\"font\":{\"size\":16},\"showarrow\":false,\"text\":\"Topic 1\",\"x\":0.36250000000000004,\"xanchor\":\"center\",\"xref\":\"paper\",\"y\":1.0,\"yanchor\":\"bottom\",\"yref\":\"paper\"},{\"font\":{\"size\":16},\"showarrow\":false,\"text\":\"Topic 2\",\"x\":0.6375000000000001,\"xanchor\":\"center\",\"xref\":\"paper\",\"y\":1.0,\"yanchor\":\"bottom\",\"yref\":\"paper\"},{\"font\":{\"size\":16},\"showarrow\":false,\"text\":\"Topic 3\",\"x\":0.9125,\"xanchor\":\"center\",\"xref\":\"paper\",\"y\":1.0,\"yanchor\":\"bottom\",\"yref\":\"paper\"},{\"font\":{\"size\":16},\"showarrow\":false,\"text\":\"Topic 4\",\"x\":0.0875,\"xanchor\":\"center\",\"xref\":\"paper\",\"y\":0.4,\"yanchor\":\"bottom\",\"yref\":\"paper\"},{\"font\":{\"size\":16},\"showarrow\":false,\"text\":\"Topic 5\",\"x\":0.36250000000000004,\"xanchor\":\"center\",\"xref\":\"paper\",\"y\":0.4,\"yanchor\":\"bottom\",\"yref\":\"paper\"},{\"font\":{\"size\":16},\"showarrow\":false,\"text\":\"Topic 6\",\"x\":0.6375000000000001,\"xanchor\":\"center\",\"xref\":\"paper\",\"y\":0.4,\"yanchor\":\"bottom\",\"yref\":\"paper\"},{\"font\":{\"size\":16},\"showarrow\":false,\"text\":\"Topic 7\",\"x\":0.9125,\"xanchor\":\"center\",\"xref\":\"paper\",\"y\":0.4,\"yanchor\":\"bottom\",\"yref\":\"paper\"}],\"title\":{\"font\":{\"size\":22,\"color\":\"Black\"},\"text\":\"<b>Topic Word Scores\",\"x\":0.5,\"xanchor\":\"center\",\"yanchor\":\"top\"},\"hoverlabel\":{\"font\":{\"size\":16,\"family\":\"Rockwell\"},\"bgcolor\":\"white\"},\"showlegend\":false,\"width\":1000,\"height\":500},                        {\"responsive\": true}                    ).then(function(){\n",
       "                            \n",
       "var gd = document.getElementById('c7e131b3-25a0-4838-a2f1-b4aa1ec550a9');\n",
       "var x = new MutationObserver(function (mutations, observer) {{\n",
       "        var display = window.getComputedStyle(gd).display;\n",
       "        if (!display || display === 'none') {{\n",
       "            console.log([gd, 'removed!']);\n",
       "            Plotly.purge(gd);\n",
       "            observer.disconnect();\n",
       "        }}\n",
       "}});\n",
       "\n",
       "// Listen for the removal of the full notebook cells\n",
       "var notebookContainer = gd.closest('#notebook-container');\n",
       "if (notebookContainer) {{\n",
       "    x.observe(notebookContainer, {childList: true});\n",
       "}}\n",
       "\n",
       "// Listen for the clearing of the current output cell\n",
       "var outputEl = gd.closest('.output');\n",
       "if (outputEl) {{\n",
       "    x.observe(outputEl, {childList: true});\n",
       "}}\n",
       "\n",
       "                        })                };                });            </script>        </div>"
      ]
     },
     "metadata": {},
     "output_type": "display_data"
    }
   ],
   "source": [
    "new_model.visualize_barchart()"
   ]
  },
  {
   "cell_type": "code",
   "execution_count": 105,
   "metadata": {},
   "outputs": [
    {
     "data": {
      "application/vnd.plotly.v1+json": {
       "config": {
        "plotlyServerURL": "https://plot.ly"
       },
       "data": [
        {
         "coloraxis": "coloraxis",
         "hovertemplate": "x: %{x}<br>y: %{y}<br>Similarity Score: %{z}<extra></extra>",
         "name": "0",
         "type": "heatmap",
         "x": [
          "0_mirabaichanu_congratulati...",
          "1_swevaus_goal_tokyo2020",
          "2_silver_weightlifting_medal",
          "3_tokyo2020_teamgb_the",
          "4_kerr_sam_matildas",
          "5_olympics_tokyo2020_the",
          "6_puneethrajkumar_james_dvi...",
          "7_zambia_banda_china",
          "8_matildas_swevaus_tokyo2020",
          "9_japan_volleyball_venezuela"
         ],
         "xaxis": "x",
         "y": [
          "0_mirabaichanu_congratulati...",
          "1_swevaus_goal_tokyo2020",
          "2_silver_weightlifting_medal",
          "3_tokyo2020_teamgb_the",
          "4_kerr_sam_matildas",
          "5_olympics_tokyo2020_the",
          "6_puneethrajkumar_james_dvi...",
          "7_zambia_banda_china",
          "8_matildas_swevaus_tokyo2020",
          "9_japan_volleyball_venezuela"
         ],
         "yaxis": "y",
         "z": [
          [
           0.9999999999999993,
           0.7961812067632057,
           0.7546484802146947,
           0.7280290447067388,
           0.881897169746123,
           0.6439536472195319,
           0.8188706806775887,
           0.6542898102737741,
           0.7076697777860744,
           0.6295999988357475
          ],
          [
           0.7961812067632057,
           1.0000000000000002,
           0.7748050320427866,
           0.8119502741074578,
           0.7551412110436818,
           0.6784251518967142,
           0.7131321903037633,
           0.7227938178541026,
           0.726875274312987,
           0.6485821201407019
          ],
          [
           0.7546484802146947,
           0.7748050320427866,
           1.0000000000000002,
           0.7424753482754053,
           0.7975745739845692,
           0.7451083273370581,
           0.7383435400632152,
           0.757101836752291,
           0.740039518603036,
           0.7809686106491877
          ],
          [
           0.7280290447067388,
           0.8119502741074578,
           0.7424753482754053,
           0.9999999999999998,
           0.6972501499982197,
           0.7117233810123678,
           0.6929370347379858,
           0.7003118196818169,
           0.7081806811769303,
           0.6319282582562852
          ],
          [
           0.881897169746123,
           0.7551412110436818,
           0.7975745739845692,
           0.6972501499982197,
           1.0000000000000004,
           0.6459986367283443,
           0.8198816150322633,
           0.7448045017994889,
           0.730375629628967,
           0.6467536651459782
          ],
          [
           0.6439536472195319,
           0.6784251518967142,
           0.7451083273370581,
           0.7117233810123678,
           0.6459986367283443,
           0.9999999999999992,
           0.6214256996978935,
           0.7131162424413203,
           0.6251227034885812,
           0.7097147848244972
          ],
          [
           0.8188706806775887,
           0.7131321903037633,
           0.7383435400632152,
           0.6929370347379858,
           0.8198816150322633,
           0.6214256996978935,
           0.9999999999999993,
           0.6531213490065899,
           0.6633538013705167,
           0.5747390043192335
          ],
          [
           0.6542898102737741,
           0.7227938178541026,
           0.757101836752291,
           0.7003118196818169,
           0.7448045017994889,
           0.7131162424413203,
           0.6531213490065899,
           0.9999999999999998,
           0.6861632004877543,
           0.6959833169957411
          ],
          [
           0.7076697777860744,
           0.726875274312987,
           0.740039518603036,
           0.7081806811769303,
           0.730375629628967,
           0.6251227034885812,
           0.6633538013705167,
           0.6861632004877543,
           0.9999999999999998,
           0.6356848873023238
          ],
          [
           0.6295999988357475,
           0.6485821201407019,
           0.7809686106491877,
           0.6319282582562852,
           0.6467536651459782,
           0.7097147848244972,
           0.5747390043192335,
           0.6959833169957411,
           0.6356848873023238,
           1.0000000000000004
          ]
         ]
        }
       ],
       "layout": {
        "coloraxis": {
         "colorbar": {
          "title": {
           "text": "Similarity Score"
          }
         },
         "colorscale": [
          [
           0,
           "rgb(247,252,240)"
          ],
          [
           0.125,
           "rgb(224,243,219)"
          ],
          [
           0.25,
           "rgb(204,235,197)"
          ],
          [
           0.375,
           "rgb(168,221,181)"
          ],
          [
           0.5,
           "rgb(123,204,196)"
          ],
          [
           0.625,
           "rgb(78,179,211)"
          ],
          [
           0.75,
           "rgb(43,140,190)"
          ],
          [
           0.875,
           "rgb(8,104,172)"
          ],
          [
           1,
           "rgb(8,64,129)"
          ]
         ]
        },
        "height": 800,
        "hoverlabel": {
         "bgcolor": "white",
         "font": {
          "family": "Rockwell",
          "size": 16
         }
        },
        "legend": {
         "title": {
          "text": "Trend"
         }
        },
        "margin": {
         "t": 60
        },
        "showlegend": true,
        "template": {
         "data": {
          "bar": [
           {
            "error_x": {
             "color": "#2a3f5f"
            },
            "error_y": {
             "color": "#2a3f5f"
            },
            "marker": {
             "line": {
              "color": "#E5ECF6",
              "width": 0.5
             },
             "pattern": {
              "fillmode": "overlay",
              "size": 10,
              "solidity": 0.2
             }
            },
            "type": "bar"
           }
          ],
          "barpolar": [
           {
            "marker": {
             "line": {
              "color": "#E5ECF6",
              "width": 0.5
             },
             "pattern": {
              "fillmode": "overlay",
              "size": 10,
              "solidity": 0.2
             }
            },
            "type": "barpolar"
           }
          ],
          "carpet": [
           {
            "aaxis": {
             "endlinecolor": "#2a3f5f",
             "gridcolor": "white",
             "linecolor": "white",
             "minorgridcolor": "white",
             "startlinecolor": "#2a3f5f"
            },
            "baxis": {
             "endlinecolor": "#2a3f5f",
             "gridcolor": "white",
             "linecolor": "white",
             "minorgridcolor": "white",
             "startlinecolor": "#2a3f5f"
            },
            "type": "carpet"
           }
          ],
          "choropleth": [
           {
            "colorbar": {
             "outlinewidth": 0,
             "ticks": ""
            },
            "type": "choropleth"
           }
          ],
          "contour": [
           {
            "colorbar": {
             "outlinewidth": 0,
             "ticks": ""
            },
            "colorscale": [
             [
              0,
              "#0d0887"
             ],
             [
              0.1111111111111111,
              "#46039f"
             ],
             [
              0.2222222222222222,
              "#7201a8"
             ],
             [
              0.3333333333333333,
              "#9c179e"
             ],
             [
              0.4444444444444444,
              "#bd3786"
             ],
             [
              0.5555555555555556,
              "#d8576b"
             ],
             [
              0.6666666666666666,
              "#ed7953"
             ],
             [
              0.7777777777777778,
              "#fb9f3a"
             ],
             [
              0.8888888888888888,
              "#fdca26"
             ],
             [
              1,
              "#f0f921"
             ]
            ],
            "type": "contour"
           }
          ],
          "contourcarpet": [
           {
            "colorbar": {
             "outlinewidth": 0,
             "ticks": ""
            },
            "type": "contourcarpet"
           }
          ],
          "heatmap": [
           {
            "colorbar": {
             "outlinewidth": 0,
             "ticks": ""
            },
            "colorscale": [
             [
              0,
              "#0d0887"
             ],
             [
              0.1111111111111111,
              "#46039f"
             ],
             [
              0.2222222222222222,
              "#7201a8"
             ],
             [
              0.3333333333333333,
              "#9c179e"
             ],
             [
              0.4444444444444444,
              "#bd3786"
             ],
             [
              0.5555555555555556,
              "#d8576b"
             ],
             [
              0.6666666666666666,
              "#ed7953"
             ],
             [
              0.7777777777777778,
              "#fb9f3a"
             ],
             [
              0.8888888888888888,
              "#fdca26"
             ],
             [
              1,
              "#f0f921"
             ]
            ],
            "type": "heatmap"
           }
          ],
          "heatmapgl": [
           {
            "colorbar": {
             "outlinewidth": 0,
             "ticks": ""
            },
            "colorscale": [
             [
              0,
              "#0d0887"
             ],
             [
              0.1111111111111111,
              "#46039f"
             ],
             [
              0.2222222222222222,
              "#7201a8"
             ],
             [
              0.3333333333333333,
              "#9c179e"
             ],
             [
              0.4444444444444444,
              "#bd3786"
             ],
             [
              0.5555555555555556,
              "#d8576b"
             ],
             [
              0.6666666666666666,
              "#ed7953"
             ],
             [
              0.7777777777777778,
              "#fb9f3a"
             ],
             [
              0.8888888888888888,
              "#fdca26"
             ],
             [
              1,
              "#f0f921"
             ]
            ],
            "type": "heatmapgl"
           }
          ],
          "histogram": [
           {
            "marker": {
             "pattern": {
              "fillmode": "overlay",
              "size": 10,
              "solidity": 0.2
             }
            },
            "type": "histogram"
           }
          ],
          "histogram2d": [
           {
            "colorbar": {
             "outlinewidth": 0,
             "ticks": ""
            },
            "colorscale": [
             [
              0,
              "#0d0887"
             ],
             [
              0.1111111111111111,
              "#46039f"
             ],
             [
              0.2222222222222222,
              "#7201a8"
             ],
             [
              0.3333333333333333,
              "#9c179e"
             ],
             [
              0.4444444444444444,
              "#bd3786"
             ],
             [
              0.5555555555555556,
              "#d8576b"
             ],
             [
              0.6666666666666666,
              "#ed7953"
             ],
             [
              0.7777777777777778,
              "#fb9f3a"
             ],
             [
              0.8888888888888888,
              "#fdca26"
             ],
             [
              1,
              "#f0f921"
             ]
            ],
            "type": "histogram2d"
           }
          ],
          "histogram2dcontour": [
           {
            "colorbar": {
             "outlinewidth": 0,
             "ticks": ""
            },
            "colorscale": [
             [
              0,
              "#0d0887"
             ],
             [
              0.1111111111111111,
              "#46039f"
             ],
             [
              0.2222222222222222,
              "#7201a8"
             ],
             [
              0.3333333333333333,
              "#9c179e"
             ],
             [
              0.4444444444444444,
              "#bd3786"
             ],
             [
              0.5555555555555556,
              "#d8576b"
             ],
             [
              0.6666666666666666,
              "#ed7953"
             ],
             [
              0.7777777777777778,
              "#fb9f3a"
             ],
             [
              0.8888888888888888,
              "#fdca26"
             ],
             [
              1,
              "#f0f921"
             ]
            ],
            "type": "histogram2dcontour"
           }
          ],
          "mesh3d": [
           {
            "colorbar": {
             "outlinewidth": 0,
             "ticks": ""
            },
            "type": "mesh3d"
           }
          ],
          "parcoords": [
           {
            "line": {
             "colorbar": {
              "outlinewidth": 0,
              "ticks": ""
             }
            },
            "type": "parcoords"
           }
          ],
          "pie": [
           {
            "automargin": true,
            "type": "pie"
           }
          ],
          "scatter": [
           {
            "fillpattern": {
             "fillmode": "overlay",
             "size": 10,
             "solidity": 0.2
            },
            "type": "scatter"
           }
          ],
          "scatter3d": [
           {
            "line": {
             "colorbar": {
              "outlinewidth": 0,
              "ticks": ""
             }
            },
            "marker": {
             "colorbar": {
              "outlinewidth": 0,
              "ticks": ""
             }
            },
            "type": "scatter3d"
           }
          ],
          "scattercarpet": [
           {
            "marker": {
             "colorbar": {
              "outlinewidth": 0,
              "ticks": ""
             }
            },
            "type": "scattercarpet"
           }
          ],
          "scattergeo": [
           {
            "marker": {
             "colorbar": {
              "outlinewidth": 0,
              "ticks": ""
             }
            },
            "type": "scattergeo"
           }
          ],
          "scattergl": [
           {
            "marker": {
             "colorbar": {
              "outlinewidth": 0,
              "ticks": ""
             }
            },
            "type": "scattergl"
           }
          ],
          "scattermapbox": [
           {
            "marker": {
             "colorbar": {
              "outlinewidth": 0,
              "ticks": ""
             }
            },
            "type": "scattermapbox"
           }
          ],
          "scatterpolar": [
           {
            "marker": {
             "colorbar": {
              "outlinewidth": 0,
              "ticks": ""
             }
            },
            "type": "scatterpolar"
           }
          ],
          "scatterpolargl": [
           {
            "marker": {
             "colorbar": {
              "outlinewidth": 0,
              "ticks": ""
             }
            },
            "type": "scatterpolargl"
           }
          ],
          "scatterternary": [
           {
            "marker": {
             "colorbar": {
              "outlinewidth": 0,
              "ticks": ""
             }
            },
            "type": "scatterternary"
           }
          ],
          "surface": [
           {
            "colorbar": {
             "outlinewidth": 0,
             "ticks": ""
            },
            "colorscale": [
             [
              0,
              "#0d0887"
             ],
             [
              0.1111111111111111,
              "#46039f"
             ],
             [
              0.2222222222222222,
              "#7201a8"
             ],
             [
              0.3333333333333333,
              "#9c179e"
             ],
             [
              0.4444444444444444,
              "#bd3786"
             ],
             [
              0.5555555555555556,
              "#d8576b"
             ],
             [
              0.6666666666666666,
              "#ed7953"
             ],
             [
              0.7777777777777778,
              "#fb9f3a"
             ],
             [
              0.8888888888888888,
              "#fdca26"
             ],
             [
              1,
              "#f0f921"
             ]
            ],
            "type": "surface"
           }
          ],
          "table": [
           {
            "cells": {
             "fill": {
              "color": "#EBF0F8"
             },
             "line": {
              "color": "white"
             }
            },
            "header": {
             "fill": {
              "color": "#C8D4E3"
             },
             "line": {
              "color": "white"
             }
            },
            "type": "table"
           }
          ]
         },
         "layout": {
          "annotationdefaults": {
           "arrowcolor": "#2a3f5f",
           "arrowhead": 0,
           "arrowwidth": 1
          },
          "autotypenumbers": "strict",
          "coloraxis": {
           "colorbar": {
            "outlinewidth": 0,
            "ticks": ""
           }
          },
          "colorscale": {
           "diverging": [
            [
             0,
             "#8e0152"
            ],
            [
             0.1,
             "#c51b7d"
            ],
            [
             0.2,
             "#de77ae"
            ],
            [
             0.3,
             "#f1b6da"
            ],
            [
             0.4,
             "#fde0ef"
            ],
            [
             0.5,
             "#f7f7f7"
            ],
            [
             0.6,
             "#e6f5d0"
            ],
            [
             0.7,
             "#b8e186"
            ],
            [
             0.8,
             "#7fbc41"
            ],
            [
             0.9,
             "#4d9221"
            ],
            [
             1,
             "#276419"
            ]
           ],
           "sequential": [
            [
             0,
             "#0d0887"
            ],
            [
             0.1111111111111111,
             "#46039f"
            ],
            [
             0.2222222222222222,
             "#7201a8"
            ],
            [
             0.3333333333333333,
             "#9c179e"
            ],
            [
             0.4444444444444444,
             "#bd3786"
            ],
            [
             0.5555555555555556,
             "#d8576b"
            ],
            [
             0.6666666666666666,
             "#ed7953"
            ],
            [
             0.7777777777777778,
             "#fb9f3a"
            ],
            [
             0.8888888888888888,
             "#fdca26"
            ],
            [
             1,
             "#f0f921"
            ]
           ],
           "sequentialminus": [
            [
             0,
             "#0d0887"
            ],
            [
             0.1111111111111111,
             "#46039f"
            ],
            [
             0.2222222222222222,
             "#7201a8"
            ],
            [
             0.3333333333333333,
             "#9c179e"
            ],
            [
             0.4444444444444444,
             "#bd3786"
            ],
            [
             0.5555555555555556,
             "#d8576b"
            ],
            [
             0.6666666666666666,
             "#ed7953"
            ],
            [
             0.7777777777777778,
             "#fb9f3a"
            ],
            [
             0.8888888888888888,
             "#fdca26"
            ],
            [
             1,
             "#f0f921"
            ]
           ]
          },
          "colorway": [
           "#636efa",
           "#EF553B",
           "#00cc96",
           "#ab63fa",
           "#FFA15A",
           "#19d3f3",
           "#FF6692",
           "#B6E880",
           "#FF97FF",
           "#FECB52"
          ],
          "font": {
           "color": "#2a3f5f"
          },
          "geo": {
           "bgcolor": "white",
           "lakecolor": "white",
           "landcolor": "#E5ECF6",
           "showlakes": true,
           "showland": true,
           "subunitcolor": "white"
          },
          "hoverlabel": {
           "align": "left"
          },
          "hovermode": "closest",
          "mapbox": {
           "style": "light"
          },
          "paper_bgcolor": "white",
          "plot_bgcolor": "#E5ECF6",
          "polar": {
           "angularaxis": {
            "gridcolor": "white",
            "linecolor": "white",
            "ticks": ""
           },
           "bgcolor": "#E5ECF6",
           "radialaxis": {
            "gridcolor": "white",
            "linecolor": "white",
            "ticks": ""
           }
          },
          "scene": {
           "xaxis": {
            "backgroundcolor": "#E5ECF6",
            "gridcolor": "white",
            "gridwidth": 2,
            "linecolor": "white",
            "showbackground": true,
            "ticks": "",
            "zerolinecolor": "white"
           },
           "yaxis": {
            "backgroundcolor": "#E5ECF6",
            "gridcolor": "white",
            "gridwidth": 2,
            "linecolor": "white",
            "showbackground": true,
            "ticks": "",
            "zerolinecolor": "white"
           },
           "zaxis": {
            "backgroundcolor": "#E5ECF6",
            "gridcolor": "white",
            "gridwidth": 2,
            "linecolor": "white",
            "showbackground": true,
            "ticks": "",
            "zerolinecolor": "white"
           }
          },
          "shapedefaults": {
           "line": {
            "color": "#2a3f5f"
           }
          },
          "ternary": {
           "aaxis": {
            "gridcolor": "white",
            "linecolor": "white",
            "ticks": ""
           },
           "baxis": {
            "gridcolor": "white",
            "linecolor": "white",
            "ticks": ""
           },
           "bgcolor": "#E5ECF6",
           "caxis": {
            "gridcolor": "white",
            "linecolor": "white",
            "ticks": ""
           }
          },
          "title": {
           "x": 0.05
          },
          "xaxis": {
           "automargin": true,
           "gridcolor": "white",
           "linecolor": "white",
           "ticks": "",
           "title": {
            "standoff": 15
           },
           "zerolinecolor": "white",
           "zerolinewidth": 2
          },
          "yaxis": {
           "automargin": true,
           "gridcolor": "white",
           "linecolor": "white",
           "ticks": "",
           "title": {
            "standoff": 15
           },
           "zerolinecolor": "white",
           "zerolinewidth": 2
          }
         }
        },
        "title": {
         "font": {
          "color": "Black",
          "size": 22
         },
         "text": "<b>Similarity Matrix",
         "x": 0.55,
         "xanchor": "center",
         "y": 0.95,
         "yanchor": "top"
        },
        "width": 800,
        "xaxis": {
         "anchor": "y",
         "constrain": "domain",
         "domain": [
          0,
          1
         ],
         "scaleanchor": "y"
        },
        "yaxis": {
         "anchor": "x",
         "autorange": "reversed",
         "constrain": "domain",
         "domain": [
          0,
          1
         ]
        }
       }
      },
      "text/html": [
       "<div>                            <div id=\"794f12b8-587c-46be-b55a-1963fda18cb3\" class=\"plotly-graph-div\" style=\"height:800px; width:800px;\"></div>            <script type=\"text/javascript\">                require([\"plotly\"], function(Plotly) {                    window.PLOTLYENV=window.PLOTLYENV || {};                                    if (document.getElementById(\"794f12b8-587c-46be-b55a-1963fda18cb3\")) {                    Plotly.newPlot(                        \"794f12b8-587c-46be-b55a-1963fda18cb3\",                        [{\"coloraxis\":\"coloraxis\",\"name\":\"0\",\"x\":[\"0_mirabaichanu_congratulati...\",\"1_swevaus_goal_tokyo2020\",\"2_silver_weightlifting_medal\",\"3_tokyo2020_teamgb_the\",\"4_kerr_sam_matildas\",\"5_olympics_tokyo2020_the\",\"6_puneethrajkumar_james_dvi...\",\"7_zambia_banda_china\",\"8_matildas_swevaus_tokyo2020\",\"9_japan_volleyball_venezuela\"],\"y\":[\"0_mirabaichanu_congratulati...\",\"1_swevaus_goal_tokyo2020\",\"2_silver_weightlifting_medal\",\"3_tokyo2020_teamgb_the\",\"4_kerr_sam_matildas\",\"5_olympics_tokyo2020_the\",\"6_puneethrajkumar_james_dvi...\",\"7_zambia_banda_china\",\"8_matildas_swevaus_tokyo2020\",\"9_japan_volleyball_venezuela\"],\"z\":[[0.9999999999999993,0.7961812067632057,0.7546484802146947,0.7280290447067388,0.881897169746123,0.6439536472195319,0.8188706806775887,0.6542898102737741,0.7076697777860744,0.6295999988357475],[0.7961812067632057,1.0000000000000002,0.7748050320427866,0.8119502741074578,0.7551412110436818,0.6784251518967142,0.7131321903037633,0.7227938178541026,0.726875274312987,0.6485821201407019],[0.7546484802146947,0.7748050320427866,1.0000000000000002,0.7424753482754053,0.7975745739845692,0.7451083273370581,0.7383435400632152,0.757101836752291,0.740039518603036,0.7809686106491877],[0.7280290447067388,0.8119502741074578,0.7424753482754053,0.9999999999999998,0.6972501499982197,0.7117233810123678,0.6929370347379858,0.7003118196818169,0.7081806811769303,0.6319282582562852],[0.881897169746123,0.7551412110436818,0.7975745739845692,0.6972501499982197,1.0000000000000004,0.6459986367283443,0.8198816150322633,0.7448045017994889,0.730375629628967,0.6467536651459782],[0.6439536472195319,0.6784251518967142,0.7451083273370581,0.7117233810123678,0.6459986367283443,0.9999999999999992,0.6214256996978935,0.7131162424413203,0.6251227034885812,0.7097147848244972],[0.8188706806775887,0.7131321903037633,0.7383435400632152,0.6929370347379858,0.8198816150322633,0.6214256996978935,0.9999999999999993,0.6531213490065899,0.6633538013705167,0.5747390043192335],[0.6542898102737741,0.7227938178541026,0.757101836752291,0.7003118196818169,0.7448045017994889,0.7131162424413203,0.6531213490065899,0.9999999999999998,0.6861632004877543,0.6959833169957411],[0.7076697777860744,0.726875274312987,0.740039518603036,0.7081806811769303,0.730375629628967,0.6251227034885812,0.6633538013705167,0.6861632004877543,0.9999999999999998,0.6356848873023238],[0.6295999988357475,0.6485821201407019,0.7809686106491877,0.6319282582562852,0.6467536651459782,0.7097147848244972,0.5747390043192335,0.6959833169957411,0.6356848873023238,1.0000000000000004]],\"type\":\"heatmap\",\"xaxis\":\"x\",\"yaxis\":\"y\",\"hovertemplate\":\"x: %{x}<br>y: %{y}<br>Similarity Score: %{z}<extra></extra>\"}],                        {\"template\":{\"data\":{\"histogram2dcontour\":[{\"type\":\"histogram2dcontour\",\"colorbar\":{\"outlinewidth\":0,\"ticks\":\"\"},\"colorscale\":[[0.0,\"#0d0887\"],[0.1111111111111111,\"#46039f\"],[0.2222222222222222,\"#7201a8\"],[0.3333333333333333,\"#9c179e\"],[0.4444444444444444,\"#bd3786\"],[0.5555555555555556,\"#d8576b\"],[0.6666666666666666,\"#ed7953\"],[0.7777777777777778,\"#fb9f3a\"],[0.8888888888888888,\"#fdca26\"],[1.0,\"#f0f921\"]]}],\"choropleth\":[{\"type\":\"choropleth\",\"colorbar\":{\"outlinewidth\":0,\"ticks\":\"\"}}],\"histogram2d\":[{\"type\":\"histogram2d\",\"colorbar\":{\"outlinewidth\":0,\"ticks\":\"\"},\"colorscale\":[[0.0,\"#0d0887\"],[0.1111111111111111,\"#46039f\"],[0.2222222222222222,\"#7201a8\"],[0.3333333333333333,\"#9c179e\"],[0.4444444444444444,\"#bd3786\"],[0.5555555555555556,\"#d8576b\"],[0.6666666666666666,\"#ed7953\"],[0.7777777777777778,\"#fb9f3a\"],[0.8888888888888888,\"#fdca26\"],[1.0,\"#f0f921\"]]}],\"heatmap\":[{\"type\":\"heatmap\",\"colorbar\":{\"outlinewidth\":0,\"ticks\":\"\"},\"colorscale\":[[0.0,\"#0d0887\"],[0.1111111111111111,\"#46039f\"],[0.2222222222222222,\"#7201a8\"],[0.3333333333333333,\"#9c179e\"],[0.4444444444444444,\"#bd3786\"],[0.5555555555555556,\"#d8576b\"],[0.6666666666666666,\"#ed7953\"],[0.7777777777777778,\"#fb9f3a\"],[0.8888888888888888,\"#fdca26\"],[1.0,\"#f0f921\"]]}],\"heatmapgl\":[{\"type\":\"heatmapgl\",\"colorbar\":{\"outlinewidth\":0,\"ticks\":\"\"},\"colorscale\":[[0.0,\"#0d0887\"],[0.1111111111111111,\"#46039f\"],[0.2222222222222222,\"#7201a8\"],[0.3333333333333333,\"#9c179e\"],[0.4444444444444444,\"#bd3786\"],[0.5555555555555556,\"#d8576b\"],[0.6666666666666666,\"#ed7953\"],[0.7777777777777778,\"#fb9f3a\"],[0.8888888888888888,\"#fdca26\"],[1.0,\"#f0f921\"]]}],\"contourcarpet\":[{\"type\":\"contourcarpet\",\"colorbar\":{\"outlinewidth\":0,\"ticks\":\"\"}}],\"contour\":[{\"type\":\"contour\",\"colorbar\":{\"outlinewidth\":0,\"ticks\":\"\"},\"colorscale\":[[0.0,\"#0d0887\"],[0.1111111111111111,\"#46039f\"],[0.2222222222222222,\"#7201a8\"],[0.3333333333333333,\"#9c179e\"],[0.4444444444444444,\"#bd3786\"],[0.5555555555555556,\"#d8576b\"],[0.6666666666666666,\"#ed7953\"],[0.7777777777777778,\"#fb9f3a\"],[0.8888888888888888,\"#fdca26\"],[1.0,\"#f0f921\"]]}],\"surface\":[{\"type\":\"surface\",\"colorbar\":{\"outlinewidth\":0,\"ticks\":\"\"},\"colorscale\":[[0.0,\"#0d0887\"],[0.1111111111111111,\"#46039f\"],[0.2222222222222222,\"#7201a8\"],[0.3333333333333333,\"#9c179e\"],[0.4444444444444444,\"#bd3786\"],[0.5555555555555556,\"#d8576b\"],[0.6666666666666666,\"#ed7953\"],[0.7777777777777778,\"#fb9f3a\"],[0.8888888888888888,\"#fdca26\"],[1.0,\"#f0f921\"]]}],\"mesh3d\":[{\"type\":\"mesh3d\",\"colorbar\":{\"outlinewidth\":0,\"ticks\":\"\"}}],\"scatter\":[{\"fillpattern\":{\"fillmode\":\"overlay\",\"size\":10,\"solidity\":0.2},\"type\":\"scatter\"}],\"parcoords\":[{\"type\":\"parcoords\",\"line\":{\"colorbar\":{\"outlinewidth\":0,\"ticks\":\"\"}}}],\"scatterpolargl\":[{\"type\":\"scatterpolargl\",\"marker\":{\"colorbar\":{\"outlinewidth\":0,\"ticks\":\"\"}}}],\"bar\":[{\"error_x\":{\"color\":\"#2a3f5f\"},\"error_y\":{\"color\":\"#2a3f5f\"},\"marker\":{\"line\":{\"color\":\"#E5ECF6\",\"width\":0.5},\"pattern\":{\"fillmode\":\"overlay\",\"size\":10,\"solidity\":0.2}},\"type\":\"bar\"}],\"scattergeo\":[{\"type\":\"scattergeo\",\"marker\":{\"colorbar\":{\"outlinewidth\":0,\"ticks\":\"\"}}}],\"scatterpolar\":[{\"type\":\"scatterpolar\",\"marker\":{\"colorbar\":{\"outlinewidth\":0,\"ticks\":\"\"}}}],\"histogram\":[{\"marker\":{\"pattern\":{\"fillmode\":\"overlay\",\"size\":10,\"solidity\":0.2}},\"type\":\"histogram\"}],\"scattergl\":[{\"type\":\"scattergl\",\"marker\":{\"colorbar\":{\"outlinewidth\":0,\"ticks\":\"\"}}}],\"scatter3d\":[{\"type\":\"scatter3d\",\"line\":{\"colorbar\":{\"outlinewidth\":0,\"ticks\":\"\"}},\"marker\":{\"colorbar\":{\"outlinewidth\":0,\"ticks\":\"\"}}}],\"scattermapbox\":[{\"type\":\"scattermapbox\",\"marker\":{\"colorbar\":{\"outlinewidth\":0,\"ticks\":\"\"}}}],\"scatterternary\":[{\"type\":\"scatterternary\",\"marker\":{\"colorbar\":{\"outlinewidth\":0,\"ticks\":\"\"}}}],\"scattercarpet\":[{\"type\":\"scattercarpet\",\"marker\":{\"colorbar\":{\"outlinewidth\":0,\"ticks\":\"\"}}}],\"carpet\":[{\"aaxis\":{\"endlinecolor\":\"#2a3f5f\",\"gridcolor\":\"white\",\"linecolor\":\"white\",\"minorgridcolor\":\"white\",\"startlinecolor\":\"#2a3f5f\"},\"baxis\":{\"endlinecolor\":\"#2a3f5f\",\"gridcolor\":\"white\",\"linecolor\":\"white\",\"minorgridcolor\":\"white\",\"startlinecolor\":\"#2a3f5f\"},\"type\":\"carpet\"}],\"table\":[{\"cells\":{\"fill\":{\"color\":\"#EBF0F8\"},\"line\":{\"color\":\"white\"}},\"header\":{\"fill\":{\"color\":\"#C8D4E3\"},\"line\":{\"color\":\"white\"}},\"type\":\"table\"}],\"barpolar\":[{\"marker\":{\"line\":{\"color\":\"#E5ECF6\",\"width\":0.5},\"pattern\":{\"fillmode\":\"overlay\",\"size\":10,\"solidity\":0.2}},\"type\":\"barpolar\"}],\"pie\":[{\"automargin\":true,\"type\":\"pie\"}]},\"layout\":{\"autotypenumbers\":\"strict\",\"colorway\":[\"#636efa\",\"#EF553B\",\"#00cc96\",\"#ab63fa\",\"#FFA15A\",\"#19d3f3\",\"#FF6692\",\"#B6E880\",\"#FF97FF\",\"#FECB52\"],\"font\":{\"color\":\"#2a3f5f\"},\"hovermode\":\"closest\",\"hoverlabel\":{\"align\":\"left\"},\"paper_bgcolor\":\"white\",\"plot_bgcolor\":\"#E5ECF6\",\"polar\":{\"bgcolor\":\"#E5ECF6\",\"angularaxis\":{\"gridcolor\":\"white\",\"linecolor\":\"white\",\"ticks\":\"\"},\"radialaxis\":{\"gridcolor\":\"white\",\"linecolor\":\"white\",\"ticks\":\"\"}},\"ternary\":{\"bgcolor\":\"#E5ECF6\",\"aaxis\":{\"gridcolor\":\"white\",\"linecolor\":\"white\",\"ticks\":\"\"},\"baxis\":{\"gridcolor\":\"white\",\"linecolor\":\"white\",\"ticks\":\"\"},\"caxis\":{\"gridcolor\":\"white\",\"linecolor\":\"white\",\"ticks\":\"\"}},\"coloraxis\":{\"colorbar\":{\"outlinewidth\":0,\"ticks\":\"\"}},\"colorscale\":{\"sequential\":[[0.0,\"#0d0887\"],[0.1111111111111111,\"#46039f\"],[0.2222222222222222,\"#7201a8\"],[0.3333333333333333,\"#9c179e\"],[0.4444444444444444,\"#bd3786\"],[0.5555555555555556,\"#d8576b\"],[0.6666666666666666,\"#ed7953\"],[0.7777777777777778,\"#fb9f3a\"],[0.8888888888888888,\"#fdca26\"],[1.0,\"#f0f921\"]],\"sequentialminus\":[[0.0,\"#0d0887\"],[0.1111111111111111,\"#46039f\"],[0.2222222222222222,\"#7201a8\"],[0.3333333333333333,\"#9c179e\"],[0.4444444444444444,\"#bd3786\"],[0.5555555555555556,\"#d8576b\"],[0.6666666666666666,\"#ed7953\"],[0.7777777777777778,\"#fb9f3a\"],[0.8888888888888888,\"#fdca26\"],[1.0,\"#f0f921\"]],\"diverging\":[[0,\"#8e0152\"],[0.1,\"#c51b7d\"],[0.2,\"#de77ae\"],[0.3,\"#f1b6da\"],[0.4,\"#fde0ef\"],[0.5,\"#f7f7f7\"],[0.6,\"#e6f5d0\"],[0.7,\"#b8e186\"],[0.8,\"#7fbc41\"],[0.9,\"#4d9221\"],[1,\"#276419\"]]},\"xaxis\":{\"gridcolor\":\"white\",\"linecolor\":\"white\",\"ticks\":\"\",\"title\":{\"standoff\":15},\"zerolinecolor\":\"white\",\"automargin\":true,\"zerolinewidth\":2},\"yaxis\":{\"gridcolor\":\"white\",\"linecolor\":\"white\",\"ticks\":\"\",\"title\":{\"standoff\":15},\"zerolinecolor\":\"white\",\"automargin\":true,\"zerolinewidth\":2},\"scene\":{\"xaxis\":{\"backgroundcolor\":\"#E5ECF6\",\"gridcolor\":\"white\",\"linecolor\":\"white\",\"showbackground\":true,\"ticks\":\"\",\"zerolinecolor\":\"white\",\"gridwidth\":2},\"yaxis\":{\"backgroundcolor\":\"#E5ECF6\",\"gridcolor\":\"white\",\"linecolor\":\"white\",\"showbackground\":true,\"ticks\":\"\",\"zerolinecolor\":\"white\",\"gridwidth\":2},\"zaxis\":{\"backgroundcolor\":\"#E5ECF6\",\"gridcolor\":\"white\",\"linecolor\":\"white\",\"showbackground\":true,\"ticks\":\"\",\"zerolinecolor\":\"white\",\"gridwidth\":2}},\"shapedefaults\":{\"line\":{\"color\":\"#2a3f5f\"}},\"annotationdefaults\":{\"arrowcolor\":\"#2a3f5f\",\"arrowhead\":0,\"arrowwidth\":1},\"geo\":{\"bgcolor\":\"white\",\"landcolor\":\"#E5ECF6\",\"subunitcolor\":\"white\",\"showland\":true,\"showlakes\":true,\"lakecolor\":\"white\"},\"title\":{\"x\":0.05},\"mapbox\":{\"style\":\"light\"}}},\"xaxis\":{\"anchor\":\"y\",\"domain\":[0.0,1.0],\"scaleanchor\":\"y\",\"constrain\":\"domain\"},\"yaxis\":{\"anchor\":\"x\",\"domain\":[0.0,1.0],\"autorange\":\"reversed\",\"constrain\":\"domain\"},\"coloraxis\":{\"colorbar\":{\"title\":{\"text\":\"Similarity Score\"}},\"colorscale\":[[0.0,\"rgb(247,252,240)\"],[0.125,\"rgb(224,243,219)\"],[0.25,\"rgb(204,235,197)\"],[0.375,\"rgb(168,221,181)\"],[0.5,\"rgb(123,204,196)\"],[0.625,\"rgb(78,179,211)\"],[0.75,\"rgb(43,140,190)\"],[0.875,\"rgb(8,104,172)\"],[1.0,\"rgb(8,64,129)\"]]},\"margin\":{\"t\":60},\"title\":{\"font\":{\"size\":22,\"color\":\"Black\"},\"text\":\"<b>Similarity Matrix\",\"y\":0.95,\"x\":0.55,\"xanchor\":\"center\",\"yanchor\":\"top\"},\"hoverlabel\":{\"font\":{\"size\":16,\"family\":\"Rockwell\"},\"bgcolor\":\"white\"},\"width\":800,\"height\":800,\"showlegend\":true,\"legend\":{\"title\":{\"text\":\"Trend\"}}},                        {\"responsive\": true}                    ).then(function(){\n",
       "                            \n",
       "var gd = document.getElementById('794f12b8-587c-46be-b55a-1963fda18cb3');\n",
       "var x = new MutationObserver(function (mutations, observer) {{\n",
       "        var display = window.getComputedStyle(gd).display;\n",
       "        if (!display || display === 'none') {{\n",
       "            console.log([gd, 'removed!']);\n",
       "            Plotly.purge(gd);\n",
       "            observer.disconnect();\n",
       "        }}\n",
       "}});\n",
       "\n",
       "// Listen for the removal of the full notebook cells\n",
       "var notebookContainer = gd.closest('#notebook-container');\n",
       "if (notebookContainer) {{\n",
       "    x.observe(notebookContainer, {childList: true});\n",
       "}}\n",
       "\n",
       "// Listen for the clearing of the current output cell\n",
       "var outputEl = gd.closest('.output');\n",
       "if (outputEl) {{\n",
       "    x.observe(outputEl, {childList: true});\n",
       "}}\n",
       "\n",
       "                        })                };                });            </script>        </div>"
      ]
     },
     "metadata": {},
     "output_type": "display_data"
    }
   ],
   "source": [
    "new_model.visualize_heatmap()"
   ]
  },
  {
   "cell_type": "code",
   "execution_count": 106,
   "metadata": {},
   "outputs": [],
   "source": [
    "# Saving the Topic Model\n",
    "\n",
    "model.save(\"Topic_model_6k\")\n",
    "new_model.save(\"Topic_model_1k\")"
   ]
  },
  {
   "cell_type": "code",
   "execution_count": 111,
   "metadata": {},
   "outputs": [],
   "source": [
    "#To recall a saved model\n",
    "saved_model = BERTopic.load(\"Topic_model_1k\")"
   ]
  },
  {
   "cell_type": "code",
   "execution_count": 112,
   "metadata": {},
   "outputs": [
    {
     "data": {
      "text/html": [
       "<div>\n",
       "<style scoped>\n",
       "    .dataframe tbody tr th:only-of-type {\n",
       "        vertical-align: middle;\n",
       "    }\n",
       "\n",
       "    .dataframe tbody tr th {\n",
       "        vertical-align: top;\n",
       "    }\n",
       "\n",
       "    .dataframe thead th {\n",
       "        text-align: right;\n",
       "    }\n",
       "</style>\n",
       "<table border=\"1\" class=\"dataframe\">\n",
       "  <thead>\n",
       "    <tr style=\"text-align: right;\">\n",
       "      <th></th>\n",
       "      <th>Topic</th>\n",
       "      <th>Count</th>\n",
       "    </tr>\n",
       "  </thead>\n",
       "  <tbody>\n",
       "    <tr>\n",
       "      <th>0</th>\n",
       "      <td>-1</td>\n",
       "      <td>279</td>\n",
       "    </tr>\n",
       "    <tr>\n",
       "      <th>1</th>\n",
       "      <td>0</td>\n",
       "      <td>172</td>\n",
       "    </tr>\n",
       "    <tr>\n",
       "      <th>2</th>\n",
       "      <td>1</td>\n",
       "      <td>103</td>\n",
       "    </tr>\n",
       "    <tr>\n",
       "      <th>3</th>\n",
       "      <td>2</td>\n",
       "      <td>99</td>\n",
       "    </tr>\n",
       "    <tr>\n",
       "      <th>4</th>\n",
       "      <td>3</td>\n",
       "      <td>99</td>\n",
       "    </tr>\n",
       "    <tr>\n",
       "      <th>5</th>\n",
       "      <td>4</td>\n",
       "      <td>72</td>\n",
       "    </tr>\n",
       "    <tr>\n",
       "      <th>6</th>\n",
       "      <td>5</td>\n",
       "      <td>48</td>\n",
       "    </tr>\n",
       "    <tr>\n",
       "      <th>7</th>\n",
       "      <td>6</td>\n",
       "      <td>43</td>\n",
       "    </tr>\n",
       "    <tr>\n",
       "      <th>8</th>\n",
       "      <td>7</td>\n",
       "      <td>30</td>\n",
       "    </tr>\n",
       "    <tr>\n",
       "      <th>9</th>\n",
       "      <td>8</td>\n",
       "      <td>27</td>\n",
       "    </tr>\n",
       "    <tr>\n",
       "      <th>10</th>\n",
       "      <td>9</td>\n",
       "      <td>27</td>\n",
       "    </tr>\n",
       "  </tbody>\n",
       "</table>\n",
       "</div>"
      ],
      "text/plain": [
       "    Topic  Count\n",
       "0      -1    279\n",
       "1       0    172\n",
       "2       1    103\n",
       "3       2     99\n",
       "4       3     99\n",
       "5       4     72\n",
       "6       5     48\n",
       "7       6     43\n",
       "8       7     30\n",
       "9       8     27\n",
       "10      9     27"
      ]
     },
     "execution_count": 112,
     "metadata": {},
     "output_type": "execute_result"
    }
   ],
   "source": [
    "saved_model.get_topic_freq()"
   ]
  },
  {
   "cell_type": "code",
   "execution_count": null,
   "metadata": {},
   "outputs": [],
   "source": []
  }
 ],
 "metadata": {
  "kernelspec": {
   "display_name": "Python 3",
   "language": "python",
   "name": "python3"
  },
  "language_info": {
   "codemirror_mode": {
    "name": "ipython",
    "version": 3
   },
   "file_extension": ".py",
   "mimetype": "text/x-python",
   "name": "python",
   "nbconvert_exporter": "python",
   "pygments_lexer": "ipython3",
   "version": "3.8.5"
  }
 },
 "nbformat": 4,
 "nbformat_minor": 4
}
